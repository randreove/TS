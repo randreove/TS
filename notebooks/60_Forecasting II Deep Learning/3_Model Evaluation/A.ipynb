{
  "cells": [
    {
      "cell_type": "markdown",
      "metadata": {
        "id": "view-in-github",
        "colab_type": "text"
      },
      "source": [
        "<a href=\"https://colab.research.google.com/github/randreove/TS/blob/exercises/notebooks/60_Forecasting%20II%20Deep%20Learning/3_Model%20Evaluation/A.ipynb\" target=\"_parent\"><img src=\"https://colab.research.google.com/assets/colab-badge.svg\" alt=\"Open In Colab\"/></a>"
      ]
    },
    {
      "cell_type": "markdown",
      "id": "9ccd9d78-89b6-4095-b778-d8d176b85fc1",
      "metadata": {
        "papermill": {
          "duration": 0.003475,
          "end_time": "2024-05-29T22:41:02.634731",
          "exception": false,
          "start_time": "2024-05-29T22:41:02.631256",
          "status": "completed"
        },
        "tags": [],
        "id": "9ccd9d78-89b6-4095-b778-d8d176b85fc1"
      },
      "source": [
        "# Model Evaluation"
      ]
    },
    {
      "cell_type": "code",
      "source": [
        "!git clone https://github.com/randreove/TS.git"
      ],
      "metadata": {
        "id": "Kj22OcORgCGp",
        "outputId": "3a8bacdc-8f5f-4129-ff86-834251940ddf",
        "colab": {
          "base_uri": "https://localhost:8080/"
        }
      },
      "id": "Kj22OcORgCGp",
      "execution_count": 1,
      "outputs": [
        {
          "output_type": "stream",
          "name": "stdout",
          "text": [
            "Cloning into 'TS'...\n",
            "remote: Enumerating objects: 373, done.\u001b[K\n",
            "remote: Counting objects: 100% (373/373), done.\u001b[K\n",
            "remote: Compressing objects: 100% (287/287), done.\u001b[K\n",
            "remote: Total 373 (delta 105), reused 320 (delta 62), pack-reused 0 (from 0)\u001b[K\n",
            "Receiving objects: 100% (373/373), 27.18 MiB | 12.04 MiB/s, done.\n",
            "Resolving deltas: 100% (105/105), done.\n",
            "Filtering content: 100% (17/17), 142.02 MiB | 31.06 MiB/s, done.\n"
          ]
        }
      ]
    },
    {
      "cell_type": "markdown",
      "id": "c9c0d9bc-3252-49c6-85f7-7bc6fc99bfd1",
      "metadata": {
        "papermill": {
          "duration": 0.002444,
          "end_time": "2024-05-29T22:41:02.640365",
          "exception": false,
          "start_time": "2024-05-29T22:41:02.637921",
          "status": "completed"
        },
        "tags": [],
        "id": "c9c0d9bc-3252-49c6-85f7-7bc6fc99bfd1"
      },
      "source": [
        "## Load Dataset"
      ]
    },
    {
      "cell_type": "code",
      "execution_count": 2,
      "id": "f21d22c7-4441-4d7a-8985-9637d977de79",
      "metadata": {
        "execution": {
          "iopub.execute_input": "2024-05-29T22:41:02.645301Z",
          "iopub.status.busy": "2024-05-29T22:41:02.645112Z",
          "iopub.status.idle": "2024-05-29T22:41:02.765436Z",
          "shell.execute_reply": "2024-05-29T22:41:02.765198Z"
        },
        "papermill": {
          "duration": 0.123912,
          "end_time": "2024-05-29T22:41:02.766238",
          "exception": false,
          "start_time": "2024-05-29T22:41:02.642326",
          "status": "completed"
        },
        "tags": [
          "required",
          "Fixed"
        ],
        "id": "f21d22c7-4441-4d7a-8985-9637d977de79",
        "outputId": "bfdc3556-68eb-4538-9481-ed9491ec42bc",
        "colab": {
          "base_uri": "https://localhost:8080/",
          "height": 455
        }
      },
      "outputs": [
        {
          "output_type": "execute_result",
          "data": {
            "text/plain": [
              "                           Mercado SPOT\n",
              "datetime_utc                           \n",
              "2020-01-01 00:00:00+00:00         38.60\n",
              "2020-01-01 01:00:00+00:00         36.55\n",
              "2020-01-01 02:00:00+00:00         32.32\n",
              "2020-01-01 03:00:00+00:00         30.85\n",
              "2020-01-01 04:00:00+00:00         30.14\n",
              "...                                 ...\n",
              "2023-08-04 17:00:00+00:00         70.00\n",
              "2023-08-04 18:00:00+00:00         86.30\n",
              "2023-08-04 19:00:00+00:00         94.00\n",
              "2023-08-04 20:00:00+00:00         94.00\n",
              "2023-08-04 21:00:00+00:00         91.70\n",
              "\n",
              "[31558 rows x 1 columns]"
            ],
            "text/html": [
              "\n",
              "  <div id=\"df-e72f9fce-47c3-47cb-887e-5252938b5817\" class=\"colab-df-container\">\n",
              "    <div>\n",
              "<style scoped>\n",
              "    .dataframe tbody tr th:only-of-type {\n",
              "        vertical-align: middle;\n",
              "    }\n",
              "\n",
              "    .dataframe tbody tr th {\n",
              "        vertical-align: top;\n",
              "    }\n",
              "\n",
              "    .dataframe thead th {\n",
              "        text-align: right;\n",
              "    }\n",
              "</style>\n",
              "<table border=\"1\" class=\"dataframe\">\n",
              "  <thead>\n",
              "    <tr style=\"text-align: right;\">\n",
              "      <th></th>\n",
              "      <th>Mercado SPOT</th>\n",
              "    </tr>\n",
              "    <tr>\n",
              "      <th>datetime_utc</th>\n",
              "      <th></th>\n",
              "    </tr>\n",
              "  </thead>\n",
              "  <tbody>\n",
              "    <tr>\n",
              "      <th>2020-01-01 00:00:00+00:00</th>\n",
              "      <td>38.60</td>\n",
              "    </tr>\n",
              "    <tr>\n",
              "      <th>2020-01-01 01:00:00+00:00</th>\n",
              "      <td>36.55</td>\n",
              "    </tr>\n",
              "    <tr>\n",
              "      <th>2020-01-01 02:00:00+00:00</th>\n",
              "      <td>32.32</td>\n",
              "    </tr>\n",
              "    <tr>\n",
              "      <th>2020-01-01 03:00:00+00:00</th>\n",
              "      <td>30.85</td>\n",
              "    </tr>\n",
              "    <tr>\n",
              "      <th>2020-01-01 04:00:00+00:00</th>\n",
              "      <td>30.14</td>\n",
              "    </tr>\n",
              "    <tr>\n",
              "      <th>...</th>\n",
              "      <td>...</td>\n",
              "    </tr>\n",
              "    <tr>\n",
              "      <th>2023-08-04 17:00:00+00:00</th>\n",
              "      <td>70.00</td>\n",
              "    </tr>\n",
              "    <tr>\n",
              "      <th>2023-08-04 18:00:00+00:00</th>\n",
              "      <td>86.30</td>\n",
              "    </tr>\n",
              "    <tr>\n",
              "      <th>2023-08-04 19:00:00+00:00</th>\n",
              "      <td>94.00</td>\n",
              "    </tr>\n",
              "    <tr>\n",
              "      <th>2023-08-04 20:00:00+00:00</th>\n",
              "      <td>94.00</td>\n",
              "    </tr>\n",
              "    <tr>\n",
              "      <th>2023-08-04 21:00:00+00:00</th>\n",
              "      <td>91.70</td>\n",
              "    </tr>\n",
              "  </tbody>\n",
              "</table>\n",
              "<p>31558 rows × 1 columns</p>\n",
              "</div>\n",
              "    <div class=\"colab-df-buttons\">\n",
              "\n",
              "  <div class=\"colab-df-container\">\n",
              "    <button class=\"colab-df-convert\" onclick=\"convertToInteractive('df-e72f9fce-47c3-47cb-887e-5252938b5817')\"\n",
              "            title=\"Convert this dataframe to an interactive table.\"\n",
              "            style=\"display:none;\">\n",
              "\n",
              "  <svg xmlns=\"http://www.w3.org/2000/svg\" height=\"24px\" viewBox=\"0 -960 960 960\">\n",
              "    <path d=\"M120-120v-720h720v720H120Zm60-500h600v-160H180v160Zm220 220h160v-160H400v160Zm0 220h160v-160H400v160ZM180-400h160v-160H180v160Zm440 0h160v-160H620v160ZM180-180h160v-160H180v160Zm440 0h160v-160H620v160Z\"/>\n",
              "  </svg>\n",
              "    </button>\n",
              "\n",
              "  <style>\n",
              "    .colab-df-container {\n",
              "      display:flex;\n",
              "      gap: 12px;\n",
              "    }\n",
              "\n",
              "    .colab-df-convert {\n",
              "      background-color: #E8F0FE;\n",
              "      border: none;\n",
              "      border-radius: 50%;\n",
              "      cursor: pointer;\n",
              "      display: none;\n",
              "      fill: #1967D2;\n",
              "      height: 32px;\n",
              "      padding: 0 0 0 0;\n",
              "      width: 32px;\n",
              "    }\n",
              "\n",
              "    .colab-df-convert:hover {\n",
              "      background-color: #E2EBFA;\n",
              "      box-shadow: 0px 1px 2px rgba(60, 64, 67, 0.3), 0px 1px 3px 1px rgba(60, 64, 67, 0.15);\n",
              "      fill: #174EA6;\n",
              "    }\n",
              "\n",
              "    .colab-df-buttons div {\n",
              "      margin-bottom: 4px;\n",
              "    }\n",
              "\n",
              "    [theme=dark] .colab-df-convert {\n",
              "      background-color: #3B4455;\n",
              "      fill: #D2E3FC;\n",
              "    }\n",
              "\n",
              "    [theme=dark] .colab-df-convert:hover {\n",
              "      background-color: #434B5C;\n",
              "      box-shadow: 0px 1px 3px 1px rgba(0, 0, 0, 0.15);\n",
              "      filter: drop-shadow(0px 1px 2px rgba(0, 0, 0, 0.3));\n",
              "      fill: #FFFFFF;\n",
              "    }\n",
              "  </style>\n",
              "\n",
              "    <script>\n",
              "      const buttonEl =\n",
              "        document.querySelector('#df-e72f9fce-47c3-47cb-887e-5252938b5817 button.colab-df-convert');\n",
              "      buttonEl.style.display =\n",
              "        google.colab.kernel.accessAllowed ? 'block' : 'none';\n",
              "\n",
              "      async function convertToInteractive(key) {\n",
              "        const element = document.querySelector('#df-e72f9fce-47c3-47cb-887e-5252938b5817');\n",
              "        const dataTable =\n",
              "          await google.colab.kernel.invokeFunction('convertToInteractive',\n",
              "                                                    [key], {});\n",
              "        if (!dataTable) return;\n",
              "\n",
              "        const docLinkHtml = 'Like what you see? Visit the ' +\n",
              "          '<a target=\"_blank\" href=https://colab.research.google.com/notebooks/data_table.ipynb>data table notebook</a>'\n",
              "          + ' to learn more about interactive tables.';\n",
              "        element.innerHTML = '';\n",
              "        dataTable['output_type'] = 'display_data';\n",
              "        await google.colab.output.renderOutput(dataTable, element);\n",
              "        const docLink = document.createElement('div');\n",
              "        docLink.innerHTML = docLinkHtml;\n",
              "        element.appendChild(docLink);\n",
              "      }\n",
              "    </script>\n",
              "  </div>\n",
              "\n",
              "\n",
              "<div id=\"df-e477ec10-871c-4d4c-8e44-9e6e21dfea63\">\n",
              "  <button class=\"colab-df-quickchart\" onclick=\"quickchart('df-e477ec10-871c-4d4c-8e44-9e6e21dfea63')\"\n",
              "            title=\"Suggest charts\"\n",
              "            style=\"display:none;\">\n",
              "\n",
              "<svg xmlns=\"http://www.w3.org/2000/svg\" height=\"24px\"viewBox=\"0 0 24 24\"\n",
              "     width=\"24px\">\n",
              "    <g>\n",
              "        <path d=\"M19 3H5c-1.1 0-2 .9-2 2v14c0 1.1.9 2 2 2h14c1.1 0 2-.9 2-2V5c0-1.1-.9-2-2-2zM9 17H7v-7h2v7zm4 0h-2V7h2v10zm4 0h-2v-4h2v4z\"/>\n",
              "    </g>\n",
              "</svg>\n",
              "  </button>\n",
              "\n",
              "<style>\n",
              "  .colab-df-quickchart {\n",
              "      --bg-color: #E8F0FE;\n",
              "      --fill-color: #1967D2;\n",
              "      --hover-bg-color: #E2EBFA;\n",
              "      --hover-fill-color: #174EA6;\n",
              "      --disabled-fill-color: #AAA;\n",
              "      --disabled-bg-color: #DDD;\n",
              "  }\n",
              "\n",
              "  [theme=dark] .colab-df-quickchart {\n",
              "      --bg-color: #3B4455;\n",
              "      --fill-color: #D2E3FC;\n",
              "      --hover-bg-color: #434B5C;\n",
              "      --hover-fill-color: #FFFFFF;\n",
              "      --disabled-bg-color: #3B4455;\n",
              "      --disabled-fill-color: #666;\n",
              "  }\n",
              "\n",
              "  .colab-df-quickchart {\n",
              "    background-color: var(--bg-color);\n",
              "    border: none;\n",
              "    border-radius: 50%;\n",
              "    cursor: pointer;\n",
              "    display: none;\n",
              "    fill: var(--fill-color);\n",
              "    height: 32px;\n",
              "    padding: 0;\n",
              "    width: 32px;\n",
              "  }\n",
              "\n",
              "  .colab-df-quickchart:hover {\n",
              "    background-color: var(--hover-bg-color);\n",
              "    box-shadow: 0 1px 2px rgba(60, 64, 67, 0.3), 0 1px 3px 1px rgba(60, 64, 67, 0.15);\n",
              "    fill: var(--button-hover-fill-color);\n",
              "  }\n",
              "\n",
              "  .colab-df-quickchart-complete:disabled,\n",
              "  .colab-df-quickchart-complete:disabled:hover {\n",
              "    background-color: var(--disabled-bg-color);\n",
              "    fill: var(--disabled-fill-color);\n",
              "    box-shadow: none;\n",
              "  }\n",
              "\n",
              "  .colab-df-spinner {\n",
              "    border: 2px solid var(--fill-color);\n",
              "    border-color: transparent;\n",
              "    border-bottom-color: var(--fill-color);\n",
              "    animation:\n",
              "      spin 1s steps(1) infinite;\n",
              "  }\n",
              "\n",
              "  @keyframes spin {\n",
              "    0% {\n",
              "      border-color: transparent;\n",
              "      border-bottom-color: var(--fill-color);\n",
              "      border-left-color: var(--fill-color);\n",
              "    }\n",
              "    20% {\n",
              "      border-color: transparent;\n",
              "      border-left-color: var(--fill-color);\n",
              "      border-top-color: var(--fill-color);\n",
              "    }\n",
              "    30% {\n",
              "      border-color: transparent;\n",
              "      border-left-color: var(--fill-color);\n",
              "      border-top-color: var(--fill-color);\n",
              "      border-right-color: var(--fill-color);\n",
              "    }\n",
              "    40% {\n",
              "      border-color: transparent;\n",
              "      border-right-color: var(--fill-color);\n",
              "      border-top-color: var(--fill-color);\n",
              "    }\n",
              "    60% {\n",
              "      border-color: transparent;\n",
              "      border-right-color: var(--fill-color);\n",
              "    }\n",
              "    80% {\n",
              "      border-color: transparent;\n",
              "      border-right-color: var(--fill-color);\n",
              "      border-bottom-color: var(--fill-color);\n",
              "    }\n",
              "    90% {\n",
              "      border-color: transparent;\n",
              "      border-bottom-color: var(--fill-color);\n",
              "    }\n",
              "  }\n",
              "</style>\n",
              "\n",
              "  <script>\n",
              "    async function quickchart(key) {\n",
              "      const quickchartButtonEl =\n",
              "        document.querySelector('#' + key + ' button');\n",
              "      quickchartButtonEl.disabled = true;  // To prevent multiple clicks.\n",
              "      quickchartButtonEl.classList.add('colab-df-spinner');\n",
              "      try {\n",
              "        const charts = await google.colab.kernel.invokeFunction(\n",
              "            'suggestCharts', [key], {});\n",
              "      } catch (error) {\n",
              "        console.error('Error during call to suggestCharts:', error);\n",
              "      }\n",
              "      quickchartButtonEl.classList.remove('colab-df-spinner');\n",
              "      quickchartButtonEl.classList.add('colab-df-quickchart-complete');\n",
              "    }\n",
              "    (() => {\n",
              "      let quickchartButtonEl =\n",
              "        document.querySelector('#df-e477ec10-871c-4d4c-8e44-9e6e21dfea63 button');\n",
              "      quickchartButtonEl.style.display =\n",
              "        google.colab.kernel.accessAllowed ? 'block' : 'none';\n",
              "    })();\n",
              "  </script>\n",
              "</div>\n",
              "\n",
              "  <div id=\"id_f83273b4-0e02-4751-a063-369f893427ea\">\n",
              "    <style>\n",
              "      .colab-df-generate {\n",
              "        background-color: #E8F0FE;\n",
              "        border: none;\n",
              "        border-radius: 50%;\n",
              "        cursor: pointer;\n",
              "        display: none;\n",
              "        fill: #1967D2;\n",
              "        height: 32px;\n",
              "        padding: 0 0 0 0;\n",
              "        width: 32px;\n",
              "      }\n",
              "\n",
              "      .colab-df-generate:hover {\n",
              "        background-color: #E2EBFA;\n",
              "        box-shadow: 0px 1px 2px rgba(60, 64, 67, 0.3), 0px 1px 3px 1px rgba(60, 64, 67, 0.15);\n",
              "        fill: #174EA6;\n",
              "      }\n",
              "\n",
              "      [theme=dark] .colab-df-generate {\n",
              "        background-color: #3B4455;\n",
              "        fill: #D2E3FC;\n",
              "      }\n",
              "\n",
              "      [theme=dark] .colab-df-generate:hover {\n",
              "        background-color: #434B5C;\n",
              "        box-shadow: 0px 1px 3px 1px rgba(0, 0, 0, 0.15);\n",
              "        filter: drop-shadow(0px 1px 2px rgba(0, 0, 0, 0.3));\n",
              "        fill: #FFFFFF;\n",
              "      }\n",
              "    </style>\n",
              "    <button class=\"colab-df-generate\" onclick=\"generateWithVariable('df')\"\n",
              "            title=\"Generate code using this dataframe.\"\n",
              "            style=\"display:none;\">\n",
              "\n",
              "  <svg xmlns=\"http://www.w3.org/2000/svg\" height=\"24px\"viewBox=\"0 0 24 24\"\n",
              "       width=\"24px\">\n",
              "    <path d=\"M7,19H8.4L18.45,9,17,7.55,7,17.6ZM5,21V16.75L18.45,3.32a2,2,0,0,1,2.83,0l1.4,1.43a1.91,1.91,0,0,1,.58,1.4,1.91,1.91,0,0,1-.58,1.4L9.25,21ZM18.45,9,17,7.55Zm-12,3A5.31,5.31,0,0,0,4.9,8.1,5.31,5.31,0,0,0,1,6.5,5.31,5.31,0,0,0,4.9,4.9,5.31,5.31,0,0,0,6.5,1,5.31,5.31,0,0,0,8.1,4.9,5.31,5.31,0,0,0,12,6.5,5.46,5.46,0,0,0,6.5,12Z\"/>\n",
              "  </svg>\n",
              "    </button>\n",
              "    <script>\n",
              "      (() => {\n",
              "      const buttonEl =\n",
              "        document.querySelector('#id_f83273b4-0e02-4751-a063-369f893427ea button.colab-df-generate');\n",
              "      buttonEl.style.display =\n",
              "        google.colab.kernel.accessAllowed ? 'block' : 'none';\n",
              "\n",
              "      buttonEl.onclick = () => {\n",
              "        google.colab.notebook.generateWithVariable('df');\n",
              "      }\n",
              "      })();\n",
              "    </script>\n",
              "  </div>\n",
              "\n",
              "    </div>\n",
              "  </div>\n"
            ],
            "application/vnd.google.colaboratory.intrinsic+json": {
              "type": "dataframe",
              "variable_name": "df",
              "summary": "{\n  \"name\": \"df\",\n  \"rows\": 31558,\n  \"fields\": [\n    {\n      \"column\": \"datetime_utc\",\n      \"properties\": {\n        \"dtype\": \"date\",\n        \"min\": \"2020-01-01 00:00:00+00:00\",\n        \"max\": \"2023-08-04 21:00:00+00:00\",\n        \"num_unique_values\": 31483,\n        \"samples\": [\n          \"2020-10-25 10:00:00+00:00\",\n          \"2021-05-07 15:00:00+00:00\",\n          \"2023-04-01 12:00:00+00:00\"\n        ],\n        \"semantic_type\": \"\",\n        \"description\": \"\"\n      }\n    },\n    {\n      \"column\": \"Mercado SPOT\",\n      \"properties\": {\n        \"dtype\": \"number\",\n        \"std\": 75.9323407847652,\n        \"min\": 0.0,\n        \"max\": 700.0,\n        \"num_unique_values\": 13454,\n        \"samples\": [\n          51.09,\n          141.07,\n          196.39\n        ],\n        \"semantic_type\": \"\",\n        \"description\": \"\"\n      }\n    }\n  ]\n}"
            }
          },
          "metadata": {},
          "execution_count": 2
        }
      ],
      "source": [
        "import pandas as pd\n",
        "\n",
        "df = pd.read_csv('/content/TS/notebooks/60_Forecasting II Deep Learning/data/precio_mercado_diario.csv', parse_dates=['datetime_utc'], index_col=0)\n",
        "df = df.loc[\"2020\":].copy()\n",
        "df"
      ]
    },
    {
      "cell_type": "markdown",
      "id": "42e29c05-0baf-4942-827d-7359b74de9b8",
      "metadata": {
        "papermill": {
          "duration": 0.001685,
          "end_time": "2024-05-29T22:41:02.769763",
          "exception": false,
          "start_time": "2024-05-29T22:41:02.768078",
          "status": "completed"
        },
        "tags": [],
        "id": "42e29c05-0baf-4942-827d-7359b74de9b8"
      },
      "source": [
        "## Data Preprocessing"
      ]
    },
    {
      "cell_type": "code",
      "execution_count": 3,
      "id": "41917d18-fc4f-42d6-a3d1-c1358b1cf160",
      "metadata": {
        "execution": {
          "iopub.execute_input": "2024-05-29T22:41:02.773666Z",
          "iopub.status.busy": "2024-05-29T22:41:02.773553Z",
          "iopub.status.idle": "2024-05-29T22:41:03.038790Z",
          "shell.execute_reply": "2024-05-29T22:41:03.038475Z"
        },
        "papermill": {
          "duration": 0.268242,
          "end_time": "2024-05-29T22:41:03.039866",
          "exception": false,
          "start_time": "2024-05-29T22:41:02.771624",
          "status": "completed"
        },
        "tags": [],
        "id": "41917d18-fc4f-42d6-a3d1-c1358b1cf160"
      },
      "outputs": [],
      "source": [
        "data_array = df.values"
      ]
    },
    {
      "cell_type": "code",
      "source": [
        "\n",
        "from sklearn.model_selection import train_test_split\n",
        "\n",
        "train, test = train_test_split(data_array, test_size=0.2, shuffle=False)"
      ],
      "metadata": {
        "id": "T7vLHeSRgR1s"
      },
      "id": "T7vLHeSRgR1s",
      "execution_count": 4,
      "outputs": []
    },
    {
      "cell_type": "code",
      "source": [
        "import numpy as np\n",
        "\n",
        "def create_sequences(data, seq_len):\n",
        "  Xs, ys = [], []\n",
        "\n",
        "  for i in range(len(data) - seq_len):\n",
        "    X = data[i:seq_len+i]\n",
        "    Xs.append(X)\n",
        "\n",
        "    y = data[seq_len+i]\n",
        "    ys.append(y)\n",
        "\n",
        "  Xs = np.array(Xs)\n",
        "  ys = np.array(ys)\n",
        "\n",
        "  return Xs, ys\n",
        "\n",
        "X_test, y_test = create_sequences(test, seq_len=24)\n",
        "X_train, y_train = create_sequences(train, seq_len=24)"
      ],
      "metadata": {
        "id": "vN8vWOssgT5Q"
      },
      "id": "vN8vWOssgT5Q",
      "execution_count": 5,
      "outputs": []
    },
    {
      "cell_type": "markdown",
      "id": "7d11665f-3e94-4285-8691-a82c6c1469a2",
      "metadata": {
        "papermill": {
          "duration": 0.001739,
          "end_time": "2024-05-29T22:41:03.043555",
          "exception": false,
          "start_time": "2024-05-29T22:41:03.041816",
          "status": "completed"
        },
        "tags": [],
        "id": "7d11665f-3e94-4285-8691-a82c6c1469a2"
      },
      "source": [
        "## Modelling"
      ]
    },
    {
      "cell_type": "markdown",
      "id": "580adbda-f303-4891-9a35-66a930ad5d15",
      "metadata": {
        "papermill": {
          "duration": 0.001637,
          "end_time": "2024-05-29T22:41:03.046906",
          "exception": false,
          "start_time": "2024-05-29T22:41:03.045269",
          "status": "completed"
        },
        "tags": [],
        "id": "580adbda-f303-4891-9a35-66a930ad5d15"
      },
      "source": [
        "### Design NN Architecture"
      ]
    },
    {
      "cell_type": "code",
      "execution_count": 6,
      "id": "f4613513-d44a-4dae-a60b-7d9bbfea0151",
      "metadata": {
        "execution": {
          "iopub.execute_input": "2024-05-29T22:41:03.051500Z",
          "iopub.status.busy": "2024-05-29T22:41:03.051275Z",
          "iopub.status.idle": "2024-05-29T22:41:04.126425Z",
          "shell.execute_reply": "2024-05-29T22:41:04.125816Z"
        },
        "papermill": {
          "duration": 1.078686,
          "end_time": "2024-05-29T22:41:04.127314",
          "exception": false,
          "start_time": "2024-05-29T22:41:03.048628",
          "status": "completed"
        },
        "tags": [
          "required"
        ],
        "id": "f4613513-d44a-4dae-a60b-7d9bbfea0151"
      },
      "outputs": [],
      "source": [
        "from keras.models import Sequential\n",
        "from keras.layers import LSTM, Dense, Input\n",
        "\n",
        "model = Sequential(layers=[\n",
        "    Input(shape=(X_train.shape[1], X_train.shape[2])),\n",
        "    LSTM(50),\n",
        "    Dense(1)\n",
        "])\n",
        "\n",
        "model.compile(optimizer='adam', loss='mean_squared_error')"
      ]
    },
    {
      "cell_type": "markdown",
      "id": "8696056a-4485-4058-b436-b2dd82d10747",
      "metadata": {
        "papermill": {
          "duration": 0.001818,
          "end_time": "2024-05-29T22:41:04.131061",
          "exception": false,
          "start_time": "2024-05-29T22:41:04.129243",
          "status": "completed"
        },
        "tags": [],
        "id": "8696056a-4485-4058-b436-b2dd82d10747"
      },
      "source": [
        "### Train Model"
      ]
    },
    {
      "cell_type": "code",
      "execution_count": 7,
      "id": "cea05c67-e94f-40f4-ab07-e51f6aa9c3ce",
      "metadata": {
        "execution": {
          "iopub.execute_input": "2024-05-29T22:41:04.135305Z",
          "iopub.status.busy": "2024-05-29T22:41:04.135140Z",
          "iopub.status.idle": "2024-05-29T22:41:37.967797Z",
          "shell.execute_reply": "2024-05-29T22:41:37.967446Z"
        },
        "papermill": {
          "duration": 33.835906,
          "end_time": "2024-05-29T22:41:37.968841",
          "exception": false,
          "start_time": "2024-05-29T22:41:04.132935",
          "status": "completed"
        },
        "tags": [
          "required"
        ],
        "id": "cea05c67-e94f-40f4-ab07-e51f6aa9c3ce"
      },
      "outputs": [],
      "source": [
        "from keras.callbacks import EarlyStopping\n",
        "\n",
        "early_stop = EarlyStopping(monitor='val_loss', mode='min', patience=3)\n",
        "history = model.fit(\n",
        "    X_train, y_train, epochs=50, batch_size=64, verbose=0,\n",
        "    validation_data=(X_test, y_test), callbacks=[early_stop])"
      ]
    },
    {
      "cell_type": "markdown",
      "id": "d81bdb9f-a05f-4048-82ae-35f2107701f2",
      "metadata": {
        "papermill": {
          "duration": 0.001739,
          "end_time": "2024-05-29T22:41:37.972589",
          "exception": false,
          "start_time": "2024-05-29T22:41:37.970850",
          "status": "completed"
        },
        "tags": [],
        "id": "d81bdb9f-a05f-4048-82ae-35f2107701f2"
      },
      "source": [
        "### Calculate Predictions"
      ]
    },
    {
      "cell_type": "code",
      "execution_count": 8,
      "id": "c7ea783d-fe2b-4135-b020-1c111486a624",
      "metadata": {
        "execution": {
          "iopub.execute_input": "2024-05-29T22:41:37.976397Z",
          "iopub.status.busy": "2024-05-29T22:41:37.976278Z",
          "iopub.status.idle": "2024-05-29T22:41:38.297989Z",
          "shell.execute_reply": "2024-05-29T22:41:38.297538Z"
        },
        "papermill": {
          "duration": 0.324625,
          "end_time": "2024-05-29T22:41:38.298856",
          "exception": false,
          "start_time": "2024-05-29T22:41:37.974231",
          "status": "completed"
        },
        "tags": [
          "required"
        ],
        "id": "c7ea783d-fe2b-4135-b020-1c111486a624",
        "outputId": "82aa95db-7946-44d4-b80e-9b7667549b7e",
        "colab": {
          "base_uri": "https://localhost:8080/"
        }
      },
      "outputs": [
        {
          "output_type": "stream",
          "name": "stdout",
          "text": [
            "\u001b[1m197/197\u001b[0m \u001b[32m━━━━━━━━━━━━━━━━━━━━\u001b[0m\u001b[37m\u001b[0m \u001b[1m0s\u001b[0m 2ms/step\n"
          ]
        },
        {
          "output_type": "execute_result",
          "data": {
            "text/plain": [
              "array([[120.791756],\n",
              "       [ 99.07695 ],\n",
              "       [ 83.568214],\n",
              "       ...,\n",
              "       [ 98.34228 ],\n",
              "       [ 95.4168  ],\n",
              "       [ 92.22859 ]], dtype=float32)"
            ]
          },
          "metadata": {},
          "execution_count": 8
        }
      ],
      "source": [
        "y_pred = model.predict(X_test)\n",
        "y_pred"
      ]
    },
    {
      "cell_type": "markdown",
      "id": "3fc1f90c-2ca7-4554-acf8-082b4249a88a",
      "metadata": {
        "papermill": {
          "duration": 0.001733,
          "end_time": "2024-05-29T22:41:38.302709",
          "exception": false,
          "start_time": "2024-05-29T22:41:38.300976",
          "status": "completed"
        },
        "tags": [],
        "id": "3fc1f90c-2ca7-4554-acf8-082b4249a88a"
      },
      "source": [
        "## Comparison: Real Data & Prediction"
      ]
    },
    {
      "cell_type": "markdown",
      "id": "db93d49c-e454-4a67-9c23-c8e63d2f1973",
      "metadata": {
        "papermill": {
          "duration": 0.001597,
          "end_time": "2024-05-29T22:41:38.305905",
          "exception": false,
          "start_time": "2024-05-29T22:41:38.304308",
          "status": "completed"
        },
        "tags": [],
        "id": "db93d49c-e454-4a67-9c23-c8e63d2f1973"
      },
      "source": [
        "### Create DataFrame"
      ]
    },
    {
      "cell_type": "code",
      "source": [
        "!pip install utils"
      ],
      "metadata": {
        "id": "CY_lWs52g4YR",
        "outputId": "96e486b8-e832-4d93-a3c6-1352b321f456",
        "colab": {
          "base_uri": "https://localhost:8080/"
        }
      },
      "id": "CY_lWs52g4YR",
      "execution_count": 10,
      "outputs": [
        {
          "output_type": "stream",
          "name": "stdout",
          "text": [
            "Collecting utils\n",
            "  Downloading utils-1.0.2.tar.gz (13 kB)\n",
            "  Preparing metadata (setup.py) ... \u001b[?25l\u001b[?25hdone\n",
            "Building wheels for collected packages: utils\n",
            "  Building wheel for utils (setup.py) ... \u001b[?25l\u001b[?25hdone\n",
            "  Created wheel for utils: filename=utils-1.0.2-py2.py3-none-any.whl size=13906 sha256=21a6f7c3b233bec75e74c94fb8f07461c0ea67c57a8a261753971cd3ca3e329b\n",
            "  Stored in directory: /root/.cache/pip/wheels/b8/39/f5/9d0ca31dba85773ececf0a7f5469f18810e1c8a8ed9da28ca7\n",
            "Successfully built utils\n",
            "Installing collected packages: utils\n",
            "Successfully installed utils-1.0.2\n"
          ]
        }
      ]
    },
    {
      "cell_type": "code",
      "execution_count": 11,
      "id": "57c5f871",
      "metadata": {
        "execution": {
          "iopub.execute_input": "2024-05-29T22:41:38.309497Z",
          "iopub.status.busy": "2024-05-29T22:41:38.309374Z",
          "iopub.status.idle": "2024-05-29T22:41:38.311105Z",
          "shell.execute_reply": "2024-05-29T22:41:38.310880Z"
        },
        "papermill": {
          "duration": 0.004347,
          "end_time": "2024-05-29T22:41:38.311716",
          "exception": false,
          "start_time": "2024-05-29T22:41:38.307369",
          "status": "completed"
        },
        "tags": [],
        "id": "57c5f871"
      },
      "outputs": [],
      "source": [
        "import utils"
      ]
    },
    {
      "cell_type": "code",
      "source": [
        "dic_pred = {\n",
        "    'y_pred': y_pred\n",
        "}"
      ],
      "metadata": {
        "id": "O-0JxhrigkEZ"
      },
      "id": "O-0JxhrigkEZ",
      "execution_count": 12,
      "outputs": []
    },
    {
      "cell_type": "code",
      "source": [
        "import pandas as pd\n",
        "\n",
        "def process_df_pred(df, y_true, dic_pred):\n",
        "    \"\"\"\n",
        "    Toma un DataFrame original con un índice de fechas más amplio, los valores reales de y_test\n",
        "    y un diccionario de predicciones. Devuelve un DataFrame con el índice de fechas correspondiente\n",
        "    a los valores de y_true y las predicciones.\n",
        "\n",
        "    Parámetros:\n",
        "    - df: DataFrame original con un índice de fechas.\n",
        "    - y_true: Serie o array de valores reales (y_test).\n",
        "    - dic_pred: Diccionario con predicciones, donde la clave es el nombre del modelo y el valor es la Serie o array de predicciones.\n",
        "\n",
        "    Retorna:\n",
        "    - DataFrame con el índice de fechas y columnas de valores reales y predicciones.\n",
        "    \"\"\"\n",
        "    # Asegurarse de que y_true sea 1D\n",
        "    if len(y_true.shape) > 1:\n",
        "        y_true = y_true.ravel()\n",
        "\n",
        "    # Asegurar que cada predicción en dic_pred sea 1D\n",
        "    for model_name in dic_pred:\n",
        "        if len(dic_pred[model_name].shape) > 1:\n",
        "            dic_pred[model_name] = dic_pred[model_name].ravel()\n",
        "\n",
        "    # Suponemos que y_true y dic_pred tienen un índice que coincide con una parte del índice de df\n",
        "    common_index = df.index[-len(y_true):]  # Toma las últimas posiciones para que coincidan con y_true\n",
        "\n",
        "    # Crear un DataFrame base con el índice común y y_true\n",
        "    df_result = pd.DataFrame(index=common_index, data={'y_true': y_true})\n",
        "\n",
        "    # Añadir las predicciones al DataFrame\n",
        "    for model_name, pred in dic_pred.items():\n",
        "        df_result[model_name] = pred\n",
        "\n",
        "    return df_result\n",
        "\n",
        "# Ejemplo de uso:\n",
        "# resultado = process_df_pred(df, y_test, dic_pred)\n"
      ],
      "metadata": {
        "id": "0WSKVVsqiSbZ"
      },
      "id": "0WSKVVsqiSbZ",
      "execution_count": 24,
      "outputs": []
    },
    {
      "cell_type": "code",
      "source": [
        "y_pred"
      ],
      "metadata": {
        "id": "onGUr3JIirEP",
        "outputId": "9db6607b-772f-415e-dc94-4f162445495a",
        "colab": {
          "base_uri": "https://localhost:8080/"
        }
      },
      "id": "onGUr3JIirEP",
      "execution_count": 23,
      "outputs": [
        {
          "output_type": "execute_result",
          "data": {
            "text/plain": [
              "array([[120.791756],\n",
              "       [ 99.07695 ],\n",
              "       [ 83.568214],\n",
              "       ...,\n",
              "       [ 98.34228 ],\n",
              "       [ 95.4168  ],\n",
              "       [ 92.22859 ]], dtype=float32)"
            ]
          },
          "metadata": {},
          "execution_count": 23
        }
      ]
    },
    {
      "cell_type": "code",
      "execution_count": 25,
      "id": "2191a732-709b-4052-b0e6-f2c2fc7c17a8",
      "metadata": {
        "execution": {
          "iopub.execute_input": "2024-05-29T22:41:38.315116Z",
          "iopub.status.busy": "2024-05-29T22:41:38.315018Z",
          "iopub.status.idle": "2024-05-29T22:41:38.400875Z",
          "shell.execute_reply": "2024-05-29T22:41:38.400613Z"
        },
        "papermill": {
          "duration": 0.08841,
          "end_time": "2024-05-29T22:41:38.401642",
          "exception": false,
          "start_time": "2024-05-29T22:41:38.313232",
          "status": "completed"
        },
        "tags": [],
        "id": "2191a732-709b-4052-b0e6-f2c2fc7c17a8",
        "outputId": "500a840a-e2ba-4042-ebeb-8a4d38b42cd6",
        "colab": {
          "base_uri": "https://localhost:8080/",
          "height": 455
        }
      },
      "outputs": [
        {
          "output_type": "execute_result",
          "data": {
            "text/plain": [
              "                           y_true      y_pred\n",
              "datetime_utc                                 \n",
              "2022-11-15 22:00:00+00:00  105.00  120.791756\n",
              "2022-11-15 23:00:00+00:00   90.52   99.076950\n",
              "2022-11-16 00:00:00+00:00   87.00   83.568214\n",
              "2022-11-16 01:00:00+00:00   85.00   80.711655\n",
              "2022-11-16 02:00:00+00:00   84.92   82.414314\n",
              "...                           ...         ...\n",
              "2023-08-04 17:00:00+00:00   70.00   61.712349\n",
              "2023-08-04 18:00:00+00:00   86.30   86.678741\n",
              "2023-08-04 19:00:00+00:00   94.00   98.342278\n",
              "2023-08-04 20:00:00+00:00   94.00   95.416801\n",
              "2023-08-04 21:00:00+00:00   91.70   92.228592\n",
              "\n",
              "[6288 rows x 2 columns]"
            ],
            "text/html": [
              "\n",
              "  <div id=\"df-e98c7a5f-b1cd-459a-9fd2-12973183ff7f\" class=\"colab-df-container\">\n",
              "    <div>\n",
              "<style scoped>\n",
              "    .dataframe tbody tr th:only-of-type {\n",
              "        vertical-align: middle;\n",
              "    }\n",
              "\n",
              "    .dataframe tbody tr th {\n",
              "        vertical-align: top;\n",
              "    }\n",
              "\n",
              "    .dataframe thead th {\n",
              "        text-align: right;\n",
              "    }\n",
              "</style>\n",
              "<table border=\"1\" class=\"dataframe\">\n",
              "  <thead>\n",
              "    <tr style=\"text-align: right;\">\n",
              "      <th></th>\n",
              "      <th>y_true</th>\n",
              "      <th>y_pred</th>\n",
              "    </tr>\n",
              "    <tr>\n",
              "      <th>datetime_utc</th>\n",
              "      <th></th>\n",
              "      <th></th>\n",
              "    </tr>\n",
              "  </thead>\n",
              "  <tbody>\n",
              "    <tr>\n",
              "      <th>2022-11-15 22:00:00+00:00</th>\n",
              "      <td>105.00</td>\n",
              "      <td>120.791756</td>\n",
              "    </tr>\n",
              "    <tr>\n",
              "      <th>2022-11-15 23:00:00+00:00</th>\n",
              "      <td>90.52</td>\n",
              "      <td>99.076950</td>\n",
              "    </tr>\n",
              "    <tr>\n",
              "      <th>2022-11-16 00:00:00+00:00</th>\n",
              "      <td>87.00</td>\n",
              "      <td>83.568214</td>\n",
              "    </tr>\n",
              "    <tr>\n",
              "      <th>2022-11-16 01:00:00+00:00</th>\n",
              "      <td>85.00</td>\n",
              "      <td>80.711655</td>\n",
              "    </tr>\n",
              "    <tr>\n",
              "      <th>2022-11-16 02:00:00+00:00</th>\n",
              "      <td>84.92</td>\n",
              "      <td>82.414314</td>\n",
              "    </tr>\n",
              "    <tr>\n",
              "      <th>...</th>\n",
              "      <td>...</td>\n",
              "      <td>...</td>\n",
              "    </tr>\n",
              "    <tr>\n",
              "      <th>2023-08-04 17:00:00+00:00</th>\n",
              "      <td>70.00</td>\n",
              "      <td>61.712349</td>\n",
              "    </tr>\n",
              "    <tr>\n",
              "      <th>2023-08-04 18:00:00+00:00</th>\n",
              "      <td>86.30</td>\n",
              "      <td>86.678741</td>\n",
              "    </tr>\n",
              "    <tr>\n",
              "      <th>2023-08-04 19:00:00+00:00</th>\n",
              "      <td>94.00</td>\n",
              "      <td>98.342278</td>\n",
              "    </tr>\n",
              "    <tr>\n",
              "      <th>2023-08-04 20:00:00+00:00</th>\n",
              "      <td>94.00</td>\n",
              "      <td>95.416801</td>\n",
              "    </tr>\n",
              "    <tr>\n",
              "      <th>2023-08-04 21:00:00+00:00</th>\n",
              "      <td>91.70</td>\n",
              "      <td>92.228592</td>\n",
              "    </tr>\n",
              "  </tbody>\n",
              "</table>\n",
              "<p>6288 rows × 2 columns</p>\n",
              "</div>\n",
              "    <div class=\"colab-df-buttons\">\n",
              "\n",
              "  <div class=\"colab-df-container\">\n",
              "    <button class=\"colab-df-convert\" onclick=\"convertToInteractive('df-e98c7a5f-b1cd-459a-9fd2-12973183ff7f')\"\n",
              "            title=\"Convert this dataframe to an interactive table.\"\n",
              "            style=\"display:none;\">\n",
              "\n",
              "  <svg xmlns=\"http://www.w3.org/2000/svg\" height=\"24px\" viewBox=\"0 -960 960 960\">\n",
              "    <path d=\"M120-120v-720h720v720H120Zm60-500h600v-160H180v160Zm220 220h160v-160H400v160Zm0 220h160v-160H400v160ZM180-400h160v-160H180v160Zm440 0h160v-160H620v160ZM180-180h160v-160H180v160Zm440 0h160v-160H620v160Z\"/>\n",
              "  </svg>\n",
              "    </button>\n",
              "\n",
              "  <style>\n",
              "    .colab-df-container {\n",
              "      display:flex;\n",
              "      gap: 12px;\n",
              "    }\n",
              "\n",
              "    .colab-df-convert {\n",
              "      background-color: #E8F0FE;\n",
              "      border: none;\n",
              "      border-radius: 50%;\n",
              "      cursor: pointer;\n",
              "      display: none;\n",
              "      fill: #1967D2;\n",
              "      height: 32px;\n",
              "      padding: 0 0 0 0;\n",
              "      width: 32px;\n",
              "    }\n",
              "\n",
              "    .colab-df-convert:hover {\n",
              "      background-color: #E2EBFA;\n",
              "      box-shadow: 0px 1px 2px rgba(60, 64, 67, 0.3), 0px 1px 3px 1px rgba(60, 64, 67, 0.15);\n",
              "      fill: #174EA6;\n",
              "    }\n",
              "\n",
              "    .colab-df-buttons div {\n",
              "      margin-bottom: 4px;\n",
              "    }\n",
              "\n",
              "    [theme=dark] .colab-df-convert {\n",
              "      background-color: #3B4455;\n",
              "      fill: #D2E3FC;\n",
              "    }\n",
              "\n",
              "    [theme=dark] .colab-df-convert:hover {\n",
              "      background-color: #434B5C;\n",
              "      box-shadow: 0px 1px 3px 1px rgba(0, 0, 0, 0.15);\n",
              "      filter: drop-shadow(0px 1px 2px rgba(0, 0, 0, 0.3));\n",
              "      fill: #FFFFFF;\n",
              "    }\n",
              "  </style>\n",
              "\n",
              "    <script>\n",
              "      const buttonEl =\n",
              "        document.querySelector('#df-e98c7a5f-b1cd-459a-9fd2-12973183ff7f button.colab-df-convert');\n",
              "      buttonEl.style.display =\n",
              "        google.colab.kernel.accessAllowed ? 'block' : 'none';\n",
              "\n",
              "      async function convertToInteractive(key) {\n",
              "        const element = document.querySelector('#df-e98c7a5f-b1cd-459a-9fd2-12973183ff7f');\n",
              "        const dataTable =\n",
              "          await google.colab.kernel.invokeFunction('convertToInteractive',\n",
              "                                                    [key], {});\n",
              "        if (!dataTable) return;\n",
              "\n",
              "        const docLinkHtml = 'Like what you see? Visit the ' +\n",
              "          '<a target=\"_blank\" href=https://colab.research.google.com/notebooks/data_table.ipynb>data table notebook</a>'\n",
              "          + ' to learn more about interactive tables.';\n",
              "        element.innerHTML = '';\n",
              "        dataTable['output_type'] = 'display_data';\n",
              "        await google.colab.output.renderOutput(dataTable, element);\n",
              "        const docLink = document.createElement('div');\n",
              "        docLink.innerHTML = docLinkHtml;\n",
              "        element.appendChild(docLink);\n",
              "      }\n",
              "    </script>\n",
              "  </div>\n",
              "\n",
              "\n",
              "<div id=\"df-750268b6-7bca-43e1-9e56-59b7a4167659\">\n",
              "  <button class=\"colab-df-quickchart\" onclick=\"quickchart('df-750268b6-7bca-43e1-9e56-59b7a4167659')\"\n",
              "            title=\"Suggest charts\"\n",
              "            style=\"display:none;\">\n",
              "\n",
              "<svg xmlns=\"http://www.w3.org/2000/svg\" height=\"24px\"viewBox=\"0 0 24 24\"\n",
              "     width=\"24px\">\n",
              "    <g>\n",
              "        <path d=\"M19 3H5c-1.1 0-2 .9-2 2v14c0 1.1.9 2 2 2h14c1.1 0 2-.9 2-2V5c0-1.1-.9-2-2-2zM9 17H7v-7h2v7zm4 0h-2V7h2v10zm4 0h-2v-4h2v4z\"/>\n",
              "    </g>\n",
              "</svg>\n",
              "  </button>\n",
              "\n",
              "<style>\n",
              "  .colab-df-quickchart {\n",
              "      --bg-color: #E8F0FE;\n",
              "      --fill-color: #1967D2;\n",
              "      --hover-bg-color: #E2EBFA;\n",
              "      --hover-fill-color: #174EA6;\n",
              "      --disabled-fill-color: #AAA;\n",
              "      --disabled-bg-color: #DDD;\n",
              "  }\n",
              "\n",
              "  [theme=dark] .colab-df-quickchart {\n",
              "      --bg-color: #3B4455;\n",
              "      --fill-color: #D2E3FC;\n",
              "      --hover-bg-color: #434B5C;\n",
              "      --hover-fill-color: #FFFFFF;\n",
              "      --disabled-bg-color: #3B4455;\n",
              "      --disabled-fill-color: #666;\n",
              "  }\n",
              "\n",
              "  .colab-df-quickchart {\n",
              "    background-color: var(--bg-color);\n",
              "    border: none;\n",
              "    border-radius: 50%;\n",
              "    cursor: pointer;\n",
              "    display: none;\n",
              "    fill: var(--fill-color);\n",
              "    height: 32px;\n",
              "    padding: 0;\n",
              "    width: 32px;\n",
              "  }\n",
              "\n",
              "  .colab-df-quickchart:hover {\n",
              "    background-color: var(--hover-bg-color);\n",
              "    box-shadow: 0 1px 2px rgba(60, 64, 67, 0.3), 0 1px 3px 1px rgba(60, 64, 67, 0.15);\n",
              "    fill: var(--button-hover-fill-color);\n",
              "  }\n",
              "\n",
              "  .colab-df-quickchart-complete:disabled,\n",
              "  .colab-df-quickchart-complete:disabled:hover {\n",
              "    background-color: var(--disabled-bg-color);\n",
              "    fill: var(--disabled-fill-color);\n",
              "    box-shadow: none;\n",
              "  }\n",
              "\n",
              "  .colab-df-spinner {\n",
              "    border: 2px solid var(--fill-color);\n",
              "    border-color: transparent;\n",
              "    border-bottom-color: var(--fill-color);\n",
              "    animation:\n",
              "      spin 1s steps(1) infinite;\n",
              "  }\n",
              "\n",
              "  @keyframes spin {\n",
              "    0% {\n",
              "      border-color: transparent;\n",
              "      border-bottom-color: var(--fill-color);\n",
              "      border-left-color: var(--fill-color);\n",
              "    }\n",
              "    20% {\n",
              "      border-color: transparent;\n",
              "      border-left-color: var(--fill-color);\n",
              "      border-top-color: var(--fill-color);\n",
              "    }\n",
              "    30% {\n",
              "      border-color: transparent;\n",
              "      border-left-color: var(--fill-color);\n",
              "      border-top-color: var(--fill-color);\n",
              "      border-right-color: var(--fill-color);\n",
              "    }\n",
              "    40% {\n",
              "      border-color: transparent;\n",
              "      border-right-color: var(--fill-color);\n",
              "      border-top-color: var(--fill-color);\n",
              "    }\n",
              "    60% {\n",
              "      border-color: transparent;\n",
              "      border-right-color: var(--fill-color);\n",
              "    }\n",
              "    80% {\n",
              "      border-color: transparent;\n",
              "      border-right-color: var(--fill-color);\n",
              "      border-bottom-color: var(--fill-color);\n",
              "    }\n",
              "    90% {\n",
              "      border-color: transparent;\n",
              "      border-bottom-color: var(--fill-color);\n",
              "    }\n",
              "  }\n",
              "</style>\n",
              "\n",
              "  <script>\n",
              "    async function quickchart(key) {\n",
              "      const quickchartButtonEl =\n",
              "        document.querySelector('#' + key + ' button');\n",
              "      quickchartButtonEl.disabled = true;  // To prevent multiple clicks.\n",
              "      quickchartButtonEl.classList.add('colab-df-spinner');\n",
              "      try {\n",
              "        const charts = await google.colab.kernel.invokeFunction(\n",
              "            'suggestCharts', [key], {});\n",
              "      } catch (error) {\n",
              "        console.error('Error during call to suggestCharts:', error);\n",
              "      }\n",
              "      quickchartButtonEl.classList.remove('colab-df-spinner');\n",
              "      quickchartButtonEl.classList.add('colab-df-quickchart-complete');\n",
              "    }\n",
              "    (() => {\n",
              "      let quickchartButtonEl =\n",
              "        document.querySelector('#df-750268b6-7bca-43e1-9e56-59b7a4167659 button');\n",
              "      quickchartButtonEl.style.display =\n",
              "        google.colab.kernel.accessAllowed ? 'block' : 'none';\n",
              "    })();\n",
              "  </script>\n",
              "</div>\n",
              "\n",
              "  <div id=\"id_9e167ca9-6fad-408b-88b8-9566c00181ed\">\n",
              "    <style>\n",
              "      .colab-df-generate {\n",
              "        background-color: #E8F0FE;\n",
              "        border: none;\n",
              "        border-radius: 50%;\n",
              "        cursor: pointer;\n",
              "        display: none;\n",
              "        fill: #1967D2;\n",
              "        height: 32px;\n",
              "        padding: 0 0 0 0;\n",
              "        width: 32px;\n",
              "      }\n",
              "\n",
              "      .colab-df-generate:hover {\n",
              "        background-color: #E2EBFA;\n",
              "        box-shadow: 0px 1px 2px rgba(60, 64, 67, 0.3), 0px 1px 3px 1px rgba(60, 64, 67, 0.15);\n",
              "        fill: #174EA6;\n",
              "      }\n",
              "\n",
              "      [theme=dark] .colab-df-generate {\n",
              "        background-color: #3B4455;\n",
              "        fill: #D2E3FC;\n",
              "      }\n",
              "\n",
              "      [theme=dark] .colab-df-generate:hover {\n",
              "        background-color: #434B5C;\n",
              "        box-shadow: 0px 1px 3px 1px rgba(0, 0, 0, 0.15);\n",
              "        filter: drop-shadow(0px 1px 2px rgba(0, 0, 0, 0.3));\n",
              "        fill: #FFFFFF;\n",
              "      }\n",
              "    </style>\n",
              "    <button class=\"colab-df-generate\" onclick=\"generateWithVariable('df_pred')\"\n",
              "            title=\"Generate code using this dataframe.\"\n",
              "            style=\"display:none;\">\n",
              "\n",
              "  <svg xmlns=\"http://www.w3.org/2000/svg\" height=\"24px\"viewBox=\"0 0 24 24\"\n",
              "       width=\"24px\">\n",
              "    <path d=\"M7,19H8.4L18.45,9,17,7.55,7,17.6ZM5,21V16.75L18.45,3.32a2,2,0,0,1,2.83,0l1.4,1.43a1.91,1.91,0,0,1,.58,1.4,1.91,1.91,0,0,1-.58,1.4L9.25,21ZM18.45,9,17,7.55Zm-12,3A5.31,5.31,0,0,0,4.9,8.1,5.31,5.31,0,0,0,1,6.5,5.31,5.31,0,0,0,4.9,4.9,5.31,5.31,0,0,0,6.5,1,5.31,5.31,0,0,0,8.1,4.9,5.31,5.31,0,0,0,12,6.5,5.46,5.46,0,0,0,6.5,12Z\"/>\n",
              "  </svg>\n",
              "    </button>\n",
              "    <script>\n",
              "      (() => {\n",
              "      const buttonEl =\n",
              "        document.querySelector('#id_9e167ca9-6fad-408b-88b8-9566c00181ed button.colab-df-generate');\n",
              "      buttonEl.style.display =\n",
              "        google.colab.kernel.accessAllowed ? 'block' : 'none';\n",
              "\n",
              "      buttonEl.onclick = () => {\n",
              "        google.colab.notebook.generateWithVariable('df_pred');\n",
              "      }\n",
              "      })();\n",
              "    </script>\n",
              "  </div>\n",
              "\n",
              "    </div>\n",
              "  </div>\n"
            ],
            "application/vnd.google.colaboratory.intrinsic+json": {
              "type": "dataframe",
              "variable_name": "df_pred",
              "summary": "{\n  \"name\": \"df_pred\",\n  \"rows\": 6288,\n  \"fields\": [\n    {\n      \"column\": \"datetime_utc\",\n      \"properties\": {\n        \"dtype\": \"date\",\n        \"min\": \"2022-11-15 22:00:00+00:00\",\n        \"max\": \"2023-08-04 21:00:00+00:00\",\n        \"num_unique_values\": 6288,\n        \"samples\": [\n          \"2023-05-19 23:00:00+00:00\",\n          \"2023-04-17 08:00:00+00:00\",\n          \"2023-07-26 18:00:00+00:00\"\n        ],\n        \"semantic_type\": \"\",\n        \"description\": \"\"\n      }\n    },\n    {\n      \"column\": \"y_true\",\n      \"properties\": {\n        \"dtype\": \"number\",\n        \"std\": 44.99288843398862,\n        \"min\": 0.0,\n        \"max\": 256.68,\n        \"num_unique_values\": 3572,\n        \"samples\": [\n          117.32,\n          137.33,\n          153.12\n        ],\n        \"semantic_type\": \"\",\n        \"description\": \"\"\n      }\n    },\n    {\n      \"column\": \"y_pred\",\n      \"properties\": {\n        \"dtype\": \"float32\",\n        \"num_unique_values\": 6287,\n        \"samples\": [\n          59.993553161621094,\n          73.839599609375,\n          120.86447143554688\n        ],\n        \"semantic_type\": \"\",\n        \"description\": \"\"\n      }\n    }\n  ]\n}"
            }
          },
          "metadata": {},
          "execution_count": 25
        }
      ],
      "source": [
        "df_pred = process_df_pred(df, y_true=y_test, dic_pred=dic_pred)\n",
        "\n",
        "# df_pred = y_test.copy()\n",
        "df_pred"
      ]
    },
    {
      "cell_type": "markdown",
      "id": "c873b4fb-5815-42a7-b054-37218dc37644",
      "metadata": {
        "papermill": {
          "duration": 0.002222,
          "end_time": "2024-05-29T22:41:38.406083",
          "exception": false,
          "start_time": "2024-05-29T22:41:38.403861",
          "status": "completed"
        },
        "tags": [],
        "id": "c873b4fb-5815-42a7-b054-37218dc37644"
      },
      "source": [
        "### Visualize Data"
      ]
    },
    {
      "cell_type": "markdown",
      "id": "b596dac3-ab47-4ddf-8feb-afaa719a4f32",
      "metadata": {
        "papermill": {
          "duration": 0.001854,
          "end_time": "2024-05-29T22:41:38.409892",
          "exception": false,
          "start_time": "2024-05-29T22:41:38.408038",
          "status": "completed"
        },
        "tags": [],
        "id": "b596dac3-ab47-4ddf-8feb-afaa719a4f32"
      },
      "source": [
        "#### All Hours"
      ]
    },
    {
      "cell_type": "code",
      "source": [
        "import matplotlib.pyplot as plt\n",
        "\n",
        "def plot_predictions(df_pred):\n",
        "    \"\"\"\n",
        "    Genera una gráfica de los valores reales y las predicciones.\n",
        "\n",
        "    Parámetros:\n",
        "    - df_pred: DataFrame que contiene la columna 'y_true' con los valores reales y\n",
        "               otras columnas con las predicciones de distintos modelos.\n",
        "    \"\"\"\n",
        "    plt.figure(figsize=(14, 7))\n",
        "\n",
        "    # Graficar la columna de valores reales\n",
        "    plt.plot(df_pred.index, df_pred['y_true'], label='Valores Reales (y_test)', linewidth=2, color='red')\n",
        "\n",
        "    # Graficar cada columna de predicciones\n",
        "    for col in df_pred.columns:\n",
        "        if col != 'y_true':\n",
        "            plt.plot(df_pred.index, df_pred[col], label=f'Predicción: {col}')\n",
        "\n",
        "    plt.title('Comparación de Valores Reales y Predicciones')\n",
        "    plt.xlabel('Fecha')\n",
        "    plt.ylabel('Valores')\n",
        "    plt.legend()\n",
        "    plt.grid(True)\n",
        "    plt.show()\n",
        "\n",
        "# Ejemplo de uso:\n",
        "# plot_predictions(df_pred)\n"
      ],
      "metadata": {
        "id": "172GVrJSjKCU"
      },
      "id": "172GVrJSjKCU",
      "execution_count": 29,
      "outputs": []
    },
    {
      "cell_type": "code",
      "execution_count": 30,
      "id": "2593f3cc-9be3-4d28-9e3e-5f1a1404d078",
      "metadata": {
        "execution": {
          "iopub.execute_input": "2024-05-29T22:41:38.414139Z",
          "iopub.status.busy": "2024-05-29T22:41:38.414002Z",
          "iopub.status.idle": "2024-05-29T22:41:39.859554Z",
          "shell.execute_reply": "2024-05-29T22:41:39.859225Z"
        },
        "papermill": {
          "duration": 1.448623,
          "end_time": "2024-05-29T22:41:39.860320",
          "exception": false,
          "start_time": "2024-05-29T22:41:38.411697",
          "status": "completed"
        },
        "tags": [],
        "id": "2593f3cc-9be3-4d28-9e3e-5f1a1404d078",
        "outputId": "058fe7eb-73aa-47b5-c566-e5282394189e",
        "colab": {
          "base_uri": "https://localhost:8080/",
          "height": 642
        }
      },
      "outputs": [
        {
          "output_type": "display_data",
          "data": {
            "text/plain": [
              "<Figure size 1400x700 with 1 Axes>"
            ],
            "image/png": "[encoded data removed]"
          },
          "metadata": {}
        }
      ],
      "source": [
        "plot_predictions(df_pred)"
      ]
    },
    {
      "cell_type": "markdown",
      "id": "82f4574b-52b0-49ae-88a7-d781d025bf67",
      "metadata": {
        "papermill": {
          "duration": 0.002454,
          "end_time": "2024-05-29T22:41:39.865560",
          "exception": false,
          "start_time": "2024-05-29T22:41:39.863106",
          "status": "completed"
        },
        "tags": [],
        "id": "82f4574b-52b0-49ae-88a7-d781d025bf67"
      },
      "source": [
        "#### Last 2 Days"
      ]
    },
    {
      "cell_type": "code",
      "execution_count": 33,
      "id": "a8f7bc68-37ea-4f1e-93cd-a7fae83f93f8",
      "metadata": {
        "execution": {
          "iopub.execute_input": "2024-05-29T22:41:39.871694Z",
          "iopub.status.busy": "2024-05-29T22:41:39.871552Z",
          "iopub.status.idle": "2024-05-29T22:41:39.876603Z",
          "shell.execute_reply": "2024-05-29T22:41:39.876379Z"
        },
        "papermill": {
          "duration": 0.009313,
          "end_time": "2024-05-29T22:41:39.877268",
          "exception": false,
          "start_time": "2024-05-29T22:41:39.867955",
          "status": "completed"
        },
        "tags": [],
        "id": "a8f7bc68-37ea-4f1e-93cd-a7fae83f93f8"
      },
      "outputs": [],
      "source": [
        "dff = df_pred.loc['2023-08-01':]"
      ]
    },
    {
      "cell_type": "code",
      "execution_count": 34,
      "id": "10d6a299-225d-44dd-beeb-f227c92d1e2f",
      "metadata": {
        "execution": {
          "iopub.execute_input": "2024-05-29T22:41:39.883023Z",
          "iopub.status.busy": "2024-05-29T22:41:39.882929Z",
          "iopub.status.idle": "2024-05-29T22:41:39.927950Z",
          "shell.execute_reply": "2024-05-29T22:41:39.927686Z"
        },
        "papermill": {
          "duration": 0.048505,
          "end_time": "2024-05-29T22:41:39.928843",
          "exception": false,
          "start_time": "2024-05-29T22:41:39.880338",
          "status": "completed"
        },
        "tags": [],
        "id": "10d6a299-225d-44dd-beeb-f227c92d1e2f",
        "outputId": "d90db1ec-70ab-4415-b536-b79e7038929a",
        "colab": {
          "base_uri": "https://localhost:8080/",
          "height": 642
        }
      },
      "outputs": [
        {
          "output_type": "display_data",
          "data": {
            "text/plain": [
              "<Figure size 1400x700 with 1 Axes>"
            ],
            "image/png": "[encoded data removed]"
          },
          "metadata": {}
        }
      ],
      "source": [
        "plot_predictions(dff)"
      ]
    },
    {
      "cell_type": "markdown",
      "id": "5bfda808-909a-41ec-b0b5-94cea2d7a8ed",
      "metadata": {
        "papermill": {
          "duration": 0.00264,
          "end_time": "2024-05-29T22:41:39.934907",
          "exception": false,
          "start_time": "2024-05-29T22:41:39.932267",
          "status": "completed"
        },
        "tags": [],
        "id": "5bfda808-909a-41ec-b0b5-94cea2d7a8ed"
      },
      "source": [
        "## Metrics to Measure Model Error"
      ]
    },
    {
      "cell_type": "markdown",
      "id": "479f150f-7fda-4549-b953-0fce49f6a3f2",
      "metadata": {
        "papermill": {
          "duration": 0.002321,
          "end_time": "2024-05-29T22:41:39.939801",
          "exception": false,
          "start_time": "2024-05-29T22:41:39.937480",
          "status": "completed"
        },
        "tags": [],
        "id": "479f150f-7fda-4549-b953-0fce49f6a3f2"
      },
      "source": [
        "### Mean Squared Error"
      ]
    },
    {
      "cell_type": "code",
      "execution_count": 35,
      "id": "4bce17d0-150e-4a8d-b97f-d1ac119cb74f",
      "metadata": {
        "execution": {
          "iopub.execute_input": "2024-05-29T22:41:39.944842Z",
          "iopub.status.busy": "2024-05-29T22:41:39.944728Z",
          "iopub.status.idle": "2024-05-29T22:41:39.947749Z",
          "shell.execute_reply": "2024-05-29T22:41:39.947543Z"
        },
        "papermill": {
          "duration": 0.006426,
          "end_time": "2024-05-29T22:41:39.948486",
          "exception": false,
          "start_time": "2024-05-29T22:41:39.942060",
          "status": "completed"
        },
        "tags": [],
        "id": "4bce17d0-150e-4a8d-b97f-d1ac119cb74f"
      },
      "outputs": [],
      "source": [
        "df_pred['error'] = df_pred.y_pred - df_pred.y_true"
      ]
    },
    {
      "cell_type": "code",
      "source": [
        "df_pred['error2'] = df_pred.error**2"
      ],
      "metadata": {
        "id": "3dxdp4bhj0gy"
      },
      "id": "3dxdp4bhj0gy",
      "execution_count": 37,
      "outputs": []
    },
    {
      "cell_type": "code",
      "source": [
        "MSE = df_pred.error2.mean()"
      ],
      "metadata": {
        "id": "-sfOmTuSkDHn"
      },
      "id": "-sfOmTuSkDHn",
      "execution_count": 43,
      "outputs": []
    },
    {
      "cell_type": "code",
      "source": [
        "MSE"
      ],
      "metadata": {
        "id": "AXiUK6wdkVKb",
        "outputId": "a613bc8c-3886-4836-b02d-ef1c90fae7d3",
        "colab": {
          "base_uri": "https://localhost:8080/"
        }
      },
      "id": "AXiUK6wdkVKb",
      "execution_count": 46,
      "outputs": [
        {
          "output_type": "execute_result",
          "data": {
            "text/plain": [
              "121.62697256200073"
            ]
          },
          "metadata": {},
          "execution_count": 46
        }
      ]
    },
    {
      "cell_type": "markdown",
      "id": "aa83e81c-61c7-4421-91ba-7cbd051a704c",
      "metadata": {
        "papermill": {
          "duration": 0.002523,
          "end_time": "2024-05-29T22:41:39.953389",
          "exception": false,
          "start_time": "2024-05-29T22:41:39.950866",
          "status": "completed"
        },
        "tags": [],
        "id": "aa83e81c-61c7-4421-91ba-7cbd051a704c"
      },
      "source": [
        "### Mean Absolute Error"
      ]
    },
    {
      "cell_type": "code",
      "execution_count": 38,
      "id": "8c385401-c516-4467-8854-1002e3db99f4",
      "metadata": {
        "execution": {
          "iopub.execute_input": "2024-05-29T22:41:39.958864Z",
          "iopub.status.busy": "2024-05-29T22:41:39.958739Z",
          "iopub.status.idle": "2024-05-29T22:41:39.962406Z",
          "shell.execute_reply": "2024-05-29T22:41:39.962071Z"
        },
        "papermill": {
          "duration": 0.007664,
          "end_time": "2024-05-29T22:41:39.963431",
          "exception": false,
          "start_time": "2024-05-29T22:41:39.955767",
          "status": "completed"
        },
        "tags": [],
        "id": "8c385401-c516-4467-8854-1002e3db99f4"
      },
      "outputs": [],
      "source": [
        "df_pred['error_abs'] = df_pred.error.abs()"
      ]
    },
    {
      "cell_type": "code",
      "source": [
        "MAE = df_pred.error_abs.mean()"
      ],
      "metadata": {
        "id": "tC7XYNxlkXRP"
      },
      "id": "tC7XYNxlkXRP",
      "execution_count": 47,
      "outputs": []
    },
    {
      "cell_type": "code",
      "source": [
        "MAE"
      ],
      "metadata": {
        "id": "0mbzzzpSkbWg",
        "outputId": "8cf4d305-50c7-4812-e9bc-10c484ea2ed8",
        "colab": {
          "base_uri": "https://localhost:8080/"
        }
      },
      "id": "0mbzzzpSkbWg",
      "execution_count": 48,
      "outputs": [
        {
          "output_type": "execute_result",
          "data": {
            "text/plain": [
              "7.338095209330093"
            ]
          },
          "metadata": {},
          "execution_count": 48
        }
      ]
    },
    {
      "cell_type": "markdown",
      "id": "ed39b7e1-81e8-46e0-a108-bc2cbb95e43a",
      "metadata": {
        "papermill": {
          "duration": 0.003328,
          "end_time": "2024-05-29T22:41:39.970158",
          "exception": false,
          "start_time": "2024-05-29T22:41:39.966830",
          "status": "completed"
        },
        "tags": [],
        "id": "ed39b7e1-81e8-46e0-a108-bc2cbb95e43a"
      },
      "source": [
        "### Root Mean Squared Error"
      ]
    },
    {
      "cell_type": "code",
      "execution_count": 41,
      "id": "65f9fa30-5406-4a09-83f9-4a8a3ec4ddb7",
      "metadata": {
        "execution": {
          "iopub.execute_input": "2024-05-29T22:41:39.976290Z",
          "iopub.status.busy": "2024-05-29T22:41:39.976152Z",
          "iopub.status.idle": "2024-05-29T22:41:39.978995Z",
          "shell.execute_reply": "2024-05-29T22:41:39.978578Z"
        },
        "papermill": {
          "duration": 0.006981,
          "end_time": "2024-05-29T22:41:39.980056",
          "exception": false,
          "start_time": "2024-05-29T22:41:39.973075",
          "status": "completed"
        },
        "tags": [],
        "id": "65f9fa30-5406-4a09-83f9-4a8a3ec4ddb7"
      },
      "outputs": [],
      "source": [
        "import numpy as np"
      ]
    },
    {
      "cell_type": "code",
      "source": [
        "RMSE = np.sqrt(MSE)"
      ],
      "metadata": {
        "id": "LwxrE-0VkNyF"
      },
      "id": "LwxrE-0VkNyF",
      "execution_count": 44,
      "outputs": []
    },
    {
      "cell_type": "code",
      "source": [
        "RMSE"
      ],
      "metadata": {
        "id": "lREejJiikNq9",
        "outputId": "8163c9c3-113f-494b-a3c8-e987c161aedf",
        "colab": {
          "base_uri": "https://localhost:8080/"
        }
      },
      "id": "lREejJiikNq9",
      "execution_count": 45,
      "outputs": [
        {
          "output_type": "execute_result",
          "data": {
            "text/plain": [
              "11.028461930931291"
            ]
          },
          "metadata": {},
          "execution_count": 45
        }
      ]
    },
    {
      "cell_type": "markdown",
      "id": "8b462639-e6ab-4749-ae7c-4c7d08f725ea",
      "metadata": {
        "papermill": {
          "duration": 0.002922,
          "end_time": "2024-05-29T22:41:39.986089",
          "exception": false,
          "start_time": "2024-05-29T22:41:39.983167",
          "status": "completed"
        },
        "tags": [],
        "id": "8b462639-e6ab-4749-ae7c-4c7d08f725ea"
      },
      "source": [
        "### Scikit-Learn Metrics"
      ]
    },
    {
      "cell_type": "code",
      "execution_count": null,
      "id": "1009b1e9-361e-48ad-aa0b-a2a7273764e2",
      "metadata": {
        "execution": {
          "iopub.execute_input": "2024-05-29T22:41:39.992080Z",
          "iopub.status.busy": "2024-05-29T22:41:39.991941Z",
          "iopub.status.idle": "2024-05-29T22:41:39.995632Z",
          "shell.execute_reply": "2024-05-29T22:41:39.995320Z"
        },
        "papermill": {
          "duration": 0.007646,
          "end_time": "2024-05-29T22:41:39.996441",
          "exception": false,
          "start_time": "2024-05-29T22:41:39.988795",
          "status": "completed"
        },
        "tags": [],
        "id": "1009b1e9-361e-48ad-aa0b-a2a7273764e2",
        "outputId": "e4a1a1fe-81a5-4e01-a4fe-d245bb626b7a"
      },
      "outputs": [
        {
          "execution_count": null,
          "name": "stderr",
          "output_type": "stream",
          "text": [
            "/Users/sota/miniconda3/envs/work/lib/python3.12/site-packages/sklearn/metrics/_regression.py:483: FutureWarning:\n",
            "\n",
            "'squared' is deprecated in version 1.4 and will be removed in 1.6. To calculate the root mean squared error, use the function'root_mean_squared_error'.\n",
            "\n"
          ]
        }
      ],
      "source": []
    },
    {
      "cell_type": "code",
      "execution_count": null,
      "id": "70041ebc-a69a-44dd-9f8c-e7bf84cab83b",
      "metadata": {
        "execution": {
          "iopub.execute_input": "2024-05-29T22:41:40.002608Z",
          "iopub.status.busy": "2024-05-29T22:41:40.002499Z",
          "iopub.status.idle": "2024-05-29T22:41:40.004485Z",
          "shell.execute_reply": "2024-05-29T22:41:40.004250Z"
        },
        "papermill": {
          "duration": 0.006034,
          "end_time": "2024-05-29T22:41:40.005252",
          "exception": false,
          "start_time": "2024-05-29T22:41:39.999218",
          "status": "completed"
        },
        "tags": [],
        "id": "70041ebc-a69a-44dd-9f8c-e7bf84cab83b",
        "outputId": "f4ff3066-4005-4ac6-9a5d-fef7fc9f60d8"
      },
      "outputs": [
        {
          "data": {
            "text/plain": [
              "7.371508163532227"
            ]
          },
          "execution_count": null,
          "metadata": {},
          "output_type": "execute_result"
        }
      ],
      "source": []
    },
    {
      "cell_type": "code",
      "execution_count": null,
      "id": "56ce2bee-97cc-4cea-b969-b04494ad168e",
      "metadata": {
        "execution": {
          "iopub.execute_input": "2024-05-29T22:41:40.011797Z",
          "iopub.status.busy": "2024-05-29T22:41:40.011668Z",
          "iopub.status.idle": "2024-05-29T22:41:40.013964Z",
          "shell.execute_reply": "2024-05-29T22:41:40.013680Z"
        },
        "papermill": {
          "duration": 0.006676,
          "end_time": "2024-05-29T22:41:40.015005",
          "exception": false,
          "start_time": "2024-05-29T22:41:40.008329",
          "status": "completed"
        },
        "tags": [],
        "id": "56ce2bee-97cc-4cea-b969-b04494ad168e",
        "outputId": "3a6a3e19-d6db-4cb1-e89d-11e4fdccf643"
      },
      "outputs": [
        {
          "data": {
            "text/plain": [
              "126.77113485183527"
            ]
          },
          "execution_count": null,
          "metadata": {},
          "output_type": "execute_result"
        }
      ],
      "source": []
    },
    {
      "cell_type": "code",
      "execution_count": null,
      "id": "f7c0e924-3d6d-4edc-b0f3-d56b06628f78",
      "metadata": {
        "execution": {
          "iopub.execute_input": "2024-05-29T22:41:40.022044Z",
          "iopub.status.busy": "2024-05-29T22:41:40.021924Z",
          "iopub.status.idle": "2024-05-29T22:41:40.024017Z",
          "shell.execute_reply": "2024-05-29T22:41:40.023778Z"
        },
        "papermill": {
          "duration": 0.006473,
          "end_time": "2024-05-29T22:41:40.024735",
          "exception": false,
          "start_time": "2024-05-29T22:41:40.018262",
          "status": "completed"
        },
        "tags": [],
        "id": "f7c0e924-3d6d-4edc-b0f3-d56b06628f78",
        "outputId": "6f579727-d8d5-4501-e90b-bba15a68edd7"
      },
      "outputs": [
        {
          "data": {
            "text/plain": [
              "11.259268841795867"
            ]
          },
          "execution_count": null,
          "metadata": {},
          "output_type": "execute_result"
        }
      ],
      "source": []
    }
  ],
  "metadata": {
    "Author": "Jesús López",
    "Company": "Datons Academy",
    "Copyright": "Copyright 2023, Jesús López",
    "kernelspec": {
      "display_name": "Python 3",
      "name": "python3"
    },
    "language_info": {
      "codemirror_mode": {
        "name": "ipython",
        "version": 3
      },
      "file_extension": ".py",
      "mimetype": "text/x-python",
      "name": "python",
      "nbconvert_exporter": "python",
      "pygments_lexer": "ipython3",
      "version": "3.12.2"
    },
    "papermill": {
      "default_parameters": {},
      "duration": 39.030238,
      "end_time": "2024-05-29T22:41:40.647919",
      "environment_variables": {},
      "exception": null,
      "input_path": "/Users/sota/Library/CloudStorage/Dropbox/2 Business/1 Datons/2 Areas/Courses/22 TS/solutions-new/notebooks/60_Forecasting II Deep Learning/3_Model Evaluation/1.ipynb",
      "output_path": "/Users/sota/Library/CloudStorage/Dropbox/2 Business/1 Datons/2 Areas/Courses/22 TS/solutions-new/notebooks/60_Forecasting II Deep Learning/3_Model Evaluation/1.ipynb",
      "parameters": {},
      "start_time": "2024-05-29T22:41:01.617681",
      "version": "2.5.0"
    },
    "colab": {
      "provenance": [],
      "gpuType": "T4",
      "include_colab_link": true
    },
    "accelerator": "GPU"
  },
  "nbformat": 4,
  "nbformat_minor": 5
}