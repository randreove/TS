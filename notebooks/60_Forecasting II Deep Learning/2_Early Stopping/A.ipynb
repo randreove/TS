{
  "cells": [
    {
      "cell_type": "markdown",
      "metadata": {
        "id": "view-in-github",
        "colab_type": "text"
      },
      "source": [
        "<a href=\"https://colab.research.google.com/github/randreove/TS/blob/exercises/notebooks/60_Forecasting%20II%20Deep%20Learning/2_Early%20Stopping/A.ipynb\" target=\"_parent\"><img src=\"https://colab.research.google.com/assets/colab-badge.svg\" alt=\"Open In Colab\"/></a>"
      ]
    },
    {
      "cell_type": "code",
      "source": [
        "!git clone https://github.com/randreove/TS.git"
      ],
      "metadata": {
        "id": "-8bIvRBXa3vK",
        "outputId": "a999d445-9186-4db0-f125-54e69a7966e2",
        "colab": {
          "base_uri": "https://localhost:8080/"
        }
      },
      "id": "-8bIvRBXa3vK",
      "execution_count": 1,
      "outputs": [
        {
          "output_type": "stream",
          "name": "stdout",
          "text": [
            "Cloning into 'TS'...\n",
            "remote: Enumerating objects: 367, done.\u001b[K\n",
            "remote: Counting objects: 100% (367/367), done.\u001b[K\n",
            "remote: Compressing objects: 100% (282/282), done.\u001b[K\n",
            "remote: Total 367 (delta 101), reused 320 (delta 62), pack-reused 0 (from 0)\u001b[K\n",
            "Receiving objects: 100% (367/367), 27.18 MiB | 11.65 MiB/s, done.\n",
            "Resolving deltas: 100% (101/101), done.\n",
            "Filtering content: 100% (17/17), 142.02 MiB | 46.81 MiB/s, done.\n"
          ]
        }
      ]
    },
    {
      "cell_type": "markdown",
      "id": "6f625ab1",
      "metadata": {
        "papermill": {
          "duration": 0.002757,
          "end_time": "2024-05-29T22:43:45.200553",
          "exception": false,
          "start_time": "2024-05-29T22:43:45.197796",
          "status": "completed"
        },
        "tags": [],
        "id": "6f625ab1"
      },
      "source": [
        "# Data Preprocessing for LSTM"
      ]
    },
    {
      "cell_type": "markdown",
      "id": "84d30e8d",
      "metadata": {
        "papermill": {
          "duration": 0.002064,
          "end_time": "2024-05-29T22:43:45.205341",
          "exception": false,
          "start_time": "2024-05-29T22:43:45.203277",
          "status": "completed"
        },
        "tags": [],
        "id": "84d30e8d"
      },
      "source": [
        "## Load Dataset"
      ]
    },
    {
      "cell_type": "code",
      "execution_count": 2,
      "id": "9a813111",
      "metadata": {
        "execution": {
          "iopub.execute_input": "2024-05-29T22:43:45.212246Z",
          "iopub.status.busy": "2024-05-29T22:43:45.211826Z",
          "iopub.status.idle": "2024-05-29T22:43:45.339244Z",
          "shell.execute_reply": "2024-05-29T22:43:45.338992Z"
        },
        "papermill": {
          "duration": 0.132844,
          "end_time": "2024-05-29T22:43:45.340125",
          "exception": false,
          "start_time": "2024-05-29T22:43:45.207281",
          "status": "completed"
        },
        "tags": [
          "required",
          "Fixed"
        ],
        "id": "9a813111",
        "outputId": "796003b0-f01e-4421-8f8f-50ee00ccf5f6",
        "colab": {
          "base_uri": "https://localhost:8080/",
          "height": 455
        }
      },
      "outputs": [
        {
          "output_type": "execute_result",
          "data": {
            "text/plain": [
              "                           Mercado SPOT\n",
              "datetime_utc                           \n",
              "2020-01-01 00:00:00+00:00         38.60\n",
              "2020-01-01 01:00:00+00:00         36.55\n",
              "2020-01-01 02:00:00+00:00         32.32\n",
              "2020-01-01 03:00:00+00:00         30.85\n",
              "2020-01-01 04:00:00+00:00         30.14\n",
              "...                                 ...\n",
              "2023-08-04 17:00:00+00:00         70.00\n",
              "2023-08-04 18:00:00+00:00         86.30\n",
              "2023-08-04 19:00:00+00:00         94.00\n",
              "2023-08-04 20:00:00+00:00         94.00\n",
              "2023-08-04 21:00:00+00:00         91.70\n",
              "\n",
              "[31558 rows x 1 columns]"
            ],
            "text/html": [
              "\n",
              "  <div id=\"df-48c03865-3fb1-4201-9b01-4d3b5e2c7c46\" class=\"colab-df-container\">\n",
              "    <div>\n",
              "<style scoped>\n",
              "    .dataframe tbody tr th:only-of-type {\n",
              "        vertical-align: middle;\n",
              "    }\n",
              "\n",
              "    .dataframe tbody tr th {\n",
              "        vertical-align: top;\n",
              "    }\n",
              "\n",
              "    .dataframe thead th {\n",
              "        text-align: right;\n",
              "    }\n",
              "</style>\n",
              "<table border=\"1\" class=\"dataframe\">\n",
              "  <thead>\n",
              "    <tr style=\"text-align: right;\">\n",
              "      <th></th>\n",
              "      <th>Mercado SPOT</th>\n",
              "    </tr>\n",
              "    <tr>\n",
              "      <th>datetime_utc</th>\n",
              "      <th></th>\n",
              "    </tr>\n",
              "  </thead>\n",
              "  <tbody>\n",
              "    <tr>\n",
              "      <th>2020-01-01 00:00:00+00:00</th>\n",
              "      <td>38.60</td>\n",
              "    </tr>\n",
              "    <tr>\n",
              "      <th>2020-01-01 01:00:00+00:00</th>\n",
              "      <td>36.55</td>\n",
              "    </tr>\n",
              "    <tr>\n",
              "      <th>2020-01-01 02:00:00+00:00</th>\n",
              "      <td>32.32</td>\n",
              "    </tr>\n",
              "    <tr>\n",
              "      <th>2020-01-01 03:00:00+00:00</th>\n",
              "      <td>30.85</td>\n",
              "    </tr>\n",
              "    <tr>\n",
              "      <th>2020-01-01 04:00:00+00:00</th>\n",
              "      <td>30.14</td>\n",
              "    </tr>\n",
              "    <tr>\n",
              "      <th>...</th>\n",
              "      <td>...</td>\n",
              "    </tr>\n",
              "    <tr>\n",
              "      <th>2023-08-04 17:00:00+00:00</th>\n",
              "      <td>70.00</td>\n",
              "    </tr>\n",
              "    <tr>\n",
              "      <th>2023-08-04 18:00:00+00:00</th>\n",
              "      <td>86.30</td>\n",
              "    </tr>\n",
              "    <tr>\n",
              "      <th>2023-08-04 19:00:00+00:00</th>\n",
              "      <td>94.00</td>\n",
              "    </tr>\n",
              "    <tr>\n",
              "      <th>2023-08-04 20:00:00+00:00</th>\n",
              "      <td>94.00</td>\n",
              "    </tr>\n",
              "    <tr>\n",
              "      <th>2023-08-04 21:00:00+00:00</th>\n",
              "      <td>91.70</td>\n",
              "    </tr>\n",
              "  </tbody>\n",
              "</table>\n",
              "<p>31558 rows × 1 columns</p>\n",
              "</div>\n",
              "    <div class=\"colab-df-buttons\">\n",
              "\n",
              "  <div class=\"colab-df-container\">\n",
              "    <button class=\"colab-df-convert\" onclick=\"convertToInteractive('df-48c03865-3fb1-4201-9b01-4d3b5e2c7c46')\"\n",
              "            title=\"Convert this dataframe to an interactive table.\"\n",
              "            style=\"display:none;\">\n",
              "\n",
              "  <svg xmlns=\"http://www.w3.org/2000/svg\" height=\"24px\" viewBox=\"0 -960 960 960\">\n",
              "    <path d=\"M120-120v-720h720v720H120Zm60-500h600v-160H180v160Zm220 220h160v-160H400v160Zm0 220h160v-160H400v160ZM180-400h160v-160H180v160Zm440 0h160v-160H620v160ZM180-180h160v-160H180v160Zm440 0h160v-160H620v160Z\"/>\n",
              "  </svg>\n",
              "    </button>\n",
              "\n",
              "  <style>\n",
              "    .colab-df-container {\n",
              "      display:flex;\n",
              "      gap: 12px;\n",
              "    }\n",
              "\n",
              "    .colab-df-convert {\n",
              "      background-color: #E8F0FE;\n",
              "      border: none;\n",
              "      border-radius: 50%;\n",
              "      cursor: pointer;\n",
              "      display: none;\n",
              "      fill: #1967D2;\n",
              "      height: 32px;\n",
              "      padding: 0 0 0 0;\n",
              "      width: 32px;\n",
              "    }\n",
              "\n",
              "    .colab-df-convert:hover {\n",
              "      background-color: #E2EBFA;\n",
              "      box-shadow: 0px 1px 2px rgba(60, 64, 67, 0.3), 0px 1px 3px 1px rgba(60, 64, 67, 0.15);\n",
              "      fill: #174EA6;\n",
              "    }\n",
              "\n",
              "    .colab-df-buttons div {\n",
              "      margin-bottom: 4px;\n",
              "    }\n",
              "\n",
              "    [theme=dark] .colab-df-convert {\n",
              "      background-color: #3B4455;\n",
              "      fill: #D2E3FC;\n",
              "    }\n",
              "\n",
              "    [theme=dark] .colab-df-convert:hover {\n",
              "      background-color: #434B5C;\n",
              "      box-shadow: 0px 1px 3px 1px rgba(0, 0, 0, 0.15);\n",
              "      filter: drop-shadow(0px 1px 2px rgba(0, 0, 0, 0.3));\n",
              "      fill: #FFFFFF;\n",
              "    }\n",
              "  </style>\n",
              "\n",
              "    <script>\n",
              "      const buttonEl =\n",
              "        document.querySelector('#df-48c03865-3fb1-4201-9b01-4d3b5e2c7c46 button.colab-df-convert');\n",
              "      buttonEl.style.display =\n",
              "        google.colab.kernel.accessAllowed ? 'block' : 'none';\n",
              "\n",
              "      async function convertToInteractive(key) {\n",
              "        const element = document.querySelector('#df-48c03865-3fb1-4201-9b01-4d3b5e2c7c46');\n",
              "        const dataTable =\n",
              "          await google.colab.kernel.invokeFunction('convertToInteractive',\n",
              "                                                    [key], {});\n",
              "        if (!dataTable) return;\n",
              "\n",
              "        const docLinkHtml = 'Like what you see? Visit the ' +\n",
              "          '<a target=\"_blank\" href=https://colab.research.google.com/notebooks/data_table.ipynb>data table notebook</a>'\n",
              "          + ' to learn more about interactive tables.';\n",
              "        element.innerHTML = '';\n",
              "        dataTable['output_type'] = 'display_data';\n",
              "        await google.colab.output.renderOutput(dataTable, element);\n",
              "        const docLink = document.createElement('div');\n",
              "        docLink.innerHTML = docLinkHtml;\n",
              "        element.appendChild(docLink);\n",
              "      }\n",
              "    </script>\n",
              "  </div>\n",
              "\n",
              "\n",
              "<div id=\"df-3cdb5951-2263-4010-bc93-f97f91a6b321\">\n",
              "  <button class=\"colab-df-quickchart\" onclick=\"quickchart('df-3cdb5951-2263-4010-bc93-f97f91a6b321')\"\n",
              "            title=\"Suggest charts\"\n",
              "            style=\"display:none;\">\n",
              "\n",
              "<svg xmlns=\"http://www.w3.org/2000/svg\" height=\"24px\"viewBox=\"0 0 24 24\"\n",
              "     width=\"24px\">\n",
              "    <g>\n",
              "        <path d=\"M19 3H5c-1.1 0-2 .9-2 2v14c0 1.1.9 2 2 2h14c1.1 0 2-.9 2-2V5c0-1.1-.9-2-2-2zM9 17H7v-7h2v7zm4 0h-2V7h2v10zm4 0h-2v-4h2v4z\"/>\n",
              "    </g>\n",
              "</svg>\n",
              "  </button>\n",
              "\n",
              "<style>\n",
              "  .colab-df-quickchart {\n",
              "      --bg-color: #E8F0FE;\n",
              "      --fill-color: #1967D2;\n",
              "      --hover-bg-color: #E2EBFA;\n",
              "      --hover-fill-color: #174EA6;\n",
              "      --disabled-fill-color: #AAA;\n",
              "      --disabled-bg-color: #DDD;\n",
              "  }\n",
              "\n",
              "  [theme=dark] .colab-df-quickchart {\n",
              "      --bg-color: #3B4455;\n",
              "      --fill-color: #D2E3FC;\n",
              "      --hover-bg-color: #434B5C;\n",
              "      --hover-fill-color: #FFFFFF;\n",
              "      --disabled-bg-color: #3B4455;\n",
              "      --disabled-fill-color: #666;\n",
              "  }\n",
              "\n",
              "  .colab-df-quickchart {\n",
              "    background-color: var(--bg-color);\n",
              "    border: none;\n",
              "    border-radius: 50%;\n",
              "    cursor: pointer;\n",
              "    display: none;\n",
              "    fill: var(--fill-color);\n",
              "    height: 32px;\n",
              "    padding: 0;\n",
              "    width: 32px;\n",
              "  }\n",
              "\n",
              "  .colab-df-quickchart:hover {\n",
              "    background-color: var(--hover-bg-color);\n",
              "    box-shadow: 0 1px 2px rgba(60, 64, 67, 0.3), 0 1px 3px 1px rgba(60, 64, 67, 0.15);\n",
              "    fill: var(--button-hover-fill-color);\n",
              "  }\n",
              "\n",
              "  .colab-df-quickchart-complete:disabled,\n",
              "  .colab-df-quickchart-complete:disabled:hover {\n",
              "    background-color: var(--disabled-bg-color);\n",
              "    fill: var(--disabled-fill-color);\n",
              "    box-shadow: none;\n",
              "  }\n",
              "\n",
              "  .colab-df-spinner {\n",
              "    border: 2px solid var(--fill-color);\n",
              "    border-color: transparent;\n",
              "    border-bottom-color: var(--fill-color);\n",
              "    animation:\n",
              "      spin 1s steps(1) infinite;\n",
              "  }\n",
              "\n",
              "  @keyframes spin {\n",
              "    0% {\n",
              "      border-color: transparent;\n",
              "      border-bottom-color: var(--fill-color);\n",
              "      border-left-color: var(--fill-color);\n",
              "    }\n",
              "    20% {\n",
              "      border-color: transparent;\n",
              "      border-left-color: var(--fill-color);\n",
              "      border-top-color: var(--fill-color);\n",
              "    }\n",
              "    30% {\n",
              "      border-color: transparent;\n",
              "      border-left-color: var(--fill-color);\n",
              "      border-top-color: var(--fill-color);\n",
              "      border-right-color: var(--fill-color);\n",
              "    }\n",
              "    40% {\n",
              "      border-color: transparent;\n",
              "      border-right-color: var(--fill-color);\n",
              "      border-top-color: var(--fill-color);\n",
              "    }\n",
              "    60% {\n",
              "      border-color: transparent;\n",
              "      border-right-color: var(--fill-color);\n",
              "    }\n",
              "    80% {\n",
              "      border-color: transparent;\n",
              "      border-right-color: var(--fill-color);\n",
              "      border-bottom-color: var(--fill-color);\n",
              "    }\n",
              "    90% {\n",
              "      border-color: transparent;\n",
              "      border-bottom-color: var(--fill-color);\n",
              "    }\n",
              "  }\n",
              "</style>\n",
              "\n",
              "  <script>\n",
              "    async function quickchart(key) {\n",
              "      const quickchartButtonEl =\n",
              "        document.querySelector('#' + key + ' button');\n",
              "      quickchartButtonEl.disabled = true;  // To prevent multiple clicks.\n",
              "      quickchartButtonEl.classList.add('colab-df-spinner');\n",
              "      try {\n",
              "        const charts = await google.colab.kernel.invokeFunction(\n",
              "            'suggestCharts', [key], {});\n",
              "      } catch (error) {\n",
              "        console.error('Error during call to suggestCharts:', error);\n",
              "      }\n",
              "      quickchartButtonEl.classList.remove('colab-df-spinner');\n",
              "      quickchartButtonEl.classList.add('colab-df-quickchart-complete');\n",
              "    }\n",
              "    (() => {\n",
              "      let quickchartButtonEl =\n",
              "        document.querySelector('#df-3cdb5951-2263-4010-bc93-f97f91a6b321 button');\n",
              "      quickchartButtonEl.style.display =\n",
              "        google.colab.kernel.accessAllowed ? 'block' : 'none';\n",
              "    })();\n",
              "  </script>\n",
              "</div>\n",
              "\n",
              "  <div id=\"id_76772da5-b5db-45b8-8fcd-2e7d623d3733\">\n",
              "    <style>\n",
              "      .colab-df-generate {\n",
              "        background-color: #E8F0FE;\n",
              "        border: none;\n",
              "        border-radius: 50%;\n",
              "        cursor: pointer;\n",
              "        display: none;\n",
              "        fill: #1967D2;\n",
              "        height: 32px;\n",
              "        padding: 0 0 0 0;\n",
              "        width: 32px;\n",
              "      }\n",
              "\n",
              "      .colab-df-generate:hover {\n",
              "        background-color: #E2EBFA;\n",
              "        box-shadow: 0px 1px 2px rgba(60, 64, 67, 0.3), 0px 1px 3px 1px rgba(60, 64, 67, 0.15);\n",
              "        fill: #174EA6;\n",
              "      }\n",
              "\n",
              "      [theme=dark] .colab-df-generate {\n",
              "        background-color: #3B4455;\n",
              "        fill: #D2E3FC;\n",
              "      }\n",
              "\n",
              "      [theme=dark] .colab-df-generate:hover {\n",
              "        background-color: #434B5C;\n",
              "        box-shadow: 0px 1px 3px 1px rgba(0, 0, 0, 0.15);\n",
              "        filter: drop-shadow(0px 1px 2px rgba(0, 0, 0, 0.3));\n",
              "        fill: #FFFFFF;\n",
              "      }\n",
              "    </style>\n",
              "    <button class=\"colab-df-generate\" onclick=\"generateWithVariable('df')\"\n",
              "            title=\"Generate code using this dataframe.\"\n",
              "            style=\"display:none;\">\n",
              "\n",
              "  <svg xmlns=\"http://www.w3.org/2000/svg\" height=\"24px\"viewBox=\"0 0 24 24\"\n",
              "       width=\"24px\">\n",
              "    <path d=\"M7,19H8.4L18.45,9,17,7.55,7,17.6ZM5,21V16.75L18.45,3.32a2,2,0,0,1,2.83,0l1.4,1.43a1.91,1.91,0,0,1,.58,1.4,1.91,1.91,0,0,1-.58,1.4L9.25,21ZM18.45,9,17,7.55Zm-12,3A5.31,5.31,0,0,0,4.9,8.1,5.31,5.31,0,0,0,1,6.5,5.31,5.31,0,0,0,4.9,4.9,5.31,5.31,0,0,0,6.5,1,5.31,5.31,0,0,0,8.1,4.9,5.31,5.31,0,0,0,12,6.5,5.46,5.46,0,0,0,6.5,12Z\"/>\n",
              "  </svg>\n",
              "    </button>\n",
              "    <script>\n",
              "      (() => {\n",
              "      const buttonEl =\n",
              "        document.querySelector('#id_76772da5-b5db-45b8-8fcd-2e7d623d3733 button.colab-df-generate');\n",
              "      buttonEl.style.display =\n",
              "        google.colab.kernel.accessAllowed ? 'block' : 'none';\n",
              "\n",
              "      buttonEl.onclick = () => {\n",
              "        google.colab.notebook.generateWithVariable('df');\n",
              "      }\n",
              "      })();\n",
              "    </script>\n",
              "  </div>\n",
              "\n",
              "    </div>\n",
              "  </div>\n"
            ],
            "application/vnd.google.colaboratory.intrinsic+json": {
              "type": "dataframe",
              "variable_name": "df",
              "summary": "{\n  \"name\": \"df\",\n  \"rows\": 31558,\n  \"fields\": [\n    {\n      \"column\": \"datetime_utc\",\n      \"properties\": {\n        \"dtype\": \"date\",\n        \"min\": \"2020-01-01 00:00:00+00:00\",\n        \"max\": \"2023-08-04 21:00:00+00:00\",\n        \"num_unique_values\": 31483,\n        \"samples\": [\n          \"2020-10-25 10:00:00+00:00\",\n          \"2021-05-07 15:00:00+00:00\",\n          \"2023-04-01 12:00:00+00:00\"\n        ],\n        \"semantic_type\": \"\",\n        \"description\": \"\"\n      }\n    },\n    {\n      \"column\": \"Mercado SPOT\",\n      \"properties\": {\n        \"dtype\": \"number\",\n        \"std\": 75.9323407847652,\n        \"min\": 0.0,\n        \"max\": 700.0,\n        \"num_unique_values\": 13454,\n        \"samples\": [\n          51.09,\n          141.07,\n          196.39\n        ],\n        \"semantic_type\": \"\",\n        \"description\": \"\"\n      }\n    }\n  ]\n}"
            }
          },
          "metadata": {},
          "execution_count": 2
        }
      ],
      "source": [
        "import pandas as pd\n",
        "\n",
        "df = pd.read_csv('/content/TS/notebooks/60_Forecasting II Deep Learning/data/precio_mercado_diario.csv', parse_dates=['datetime_utc'], index_col=0)\n",
        "df = df.loc[\"2020\":].copy()\n",
        "df"
      ]
    },
    {
      "cell_type": "markdown",
      "id": "01de1142",
      "metadata": {
        "papermill": {
          "duration": 0.001206,
          "end_time": "2024-05-29T22:43:45.342829",
          "exception": false,
          "start_time": "2024-05-29T22:43:45.341623",
          "status": "completed"
        },
        "tags": [],
        "id": "01de1142"
      },
      "source": [
        "## Data Preprocessing"
      ]
    },
    {
      "cell_type": "markdown",
      "id": "65a128d7",
      "metadata": {
        "papermill": {
          "duration": 0.001066,
          "end_time": "2024-05-29T22:43:45.345014",
          "exception": false,
          "start_time": "2024-05-29T22:43:45.343948",
          "status": "completed"
        },
        "tags": [],
        "id": "65a128d7"
      },
      "source": [
        "### Data Numpy Array"
      ]
    },
    {
      "cell_type": "code",
      "execution_count": 3,
      "id": "5cb065b5",
      "metadata": {
        "execution": {
          "iopub.execute_input": "2024-05-29T22:43:45.347476Z",
          "iopub.status.busy": "2024-05-29T22:43:45.347283Z",
          "iopub.status.idle": "2024-05-29T22:43:45.349472Z",
          "shell.execute_reply": "2024-05-29T22:43:45.349249Z"
        },
        "papermill": {
          "duration": 0.004267,
          "end_time": "2024-05-29T22:43:45.350206",
          "exception": false,
          "start_time": "2024-05-29T22:43:45.345939",
          "status": "completed"
        },
        "tags": [],
        "id": "5cb065b5"
      },
      "outputs": [],
      "source": [
        "data_array = df.values"
      ]
    },
    {
      "cell_type": "markdown",
      "id": "01db1980",
      "metadata": {
        "papermill": {
          "duration": 0.001122,
          "end_time": "2024-05-29T22:43:45.352367",
          "exception": false,
          "start_time": "2024-05-29T22:43:45.351245",
          "status": "completed"
        },
        "tags": [],
        "id": "01db1980"
      },
      "source": [
        "### Train Test Split"
      ]
    },
    {
      "cell_type": "code",
      "execution_count": 4,
      "id": "c9e671a6",
      "metadata": {
        "execution": {
          "iopub.execute_input": "2024-05-29T22:43:45.354757Z",
          "iopub.status.busy": "2024-05-29T22:43:45.354667Z",
          "iopub.status.idle": "2024-05-29T22:43:45.602244Z",
          "shell.execute_reply": "2024-05-29T22:43:45.601849Z"
        },
        "papermill": {
          "duration": 0.250125,
          "end_time": "2024-05-29T22:43:45.603484",
          "exception": false,
          "start_time": "2024-05-29T22:43:45.353359",
          "status": "completed"
        },
        "tags": [
          "required"
        ],
        "id": "c9e671a6"
      },
      "outputs": [],
      "source": [
        "from sklearn.model_selection import train_test_split\n",
        "\n",
        "train, test = train_test_split(data_array, test_size=0.2, shuffle=False)"
      ]
    },
    {
      "cell_type": "markdown",
      "id": "0d1c0c3f",
      "metadata": {
        "papermill": {
          "duration": 0.001249,
          "end_time": "2024-05-29T22:43:45.606321",
          "exception": false,
          "start_time": "2024-05-29T22:43:45.605072",
          "status": "completed"
        },
        "tags": [],
        "id": "0d1c0c3f"
      },
      "source": [
        "### Create Sequences"
      ]
    },
    {
      "cell_type": "code",
      "execution_count": 9,
      "id": "46b28bdf",
      "metadata": {
        "execution": {
          "iopub.execute_input": "2024-05-29T22:43:45.609323Z",
          "iopub.status.busy": "2024-05-29T22:43:45.609114Z",
          "iopub.status.idle": "2024-05-29T22:43:45.628330Z",
          "shell.execute_reply": "2024-05-29T22:43:45.628128Z"
        },
        "papermill": {
          "duration": 0.021495,
          "end_time": "2024-05-29T22:43:45.628988",
          "exception": false,
          "start_time": "2024-05-29T22:43:45.607493",
          "status": "completed"
        },
        "tags": [],
        "id": "46b28bdf"
      },
      "outputs": [],
      "source": [
        "import numpy as np\n",
        "\n",
        "def create_sequences(data, seq_len):\n",
        "  Xs, ys = [], []\n",
        "\n",
        "  for i in range(len(data) - seq_len):\n",
        "    X = data[i:seq_len+i]\n",
        "    Xs.append(X)\n",
        "\n",
        "    y = data[seq_len+i]\n",
        "    ys.append(y)\n",
        "\n",
        "  Xs = np.array(Xs)\n",
        "  ys = np.array(ys)\n",
        "\n",
        "  return Xs, ys\n",
        "\n",
        "X_test, y_test = create_sequences(test, seq_len=24)\n",
        "X_train, y_train = create_sequences(train, seq_len=24)\n"
      ]
    },
    {
      "cell_type": "code",
      "execution_count": 10,
      "id": "8d77cfcd",
      "metadata": {
        "execution": {
          "iopub.execute_input": "2024-05-29T22:43:45.631847Z",
          "iopub.status.busy": "2024-05-29T22:43:45.631758Z",
          "iopub.status.idle": "2024-05-29T22:43:45.633643Z",
          "shell.execute_reply": "2024-05-29T22:43:45.633450Z"
        },
        "papermill": {
          "duration": 0.003895,
          "end_time": "2024-05-29T22:43:45.634246",
          "exception": false,
          "start_time": "2024-05-29T22:43:45.630351",
          "status": "completed"
        },
        "tags": [],
        "id": "8d77cfcd",
        "outputId": "f7a32870-66f8-4d37-f193-7e7fb0824ffa",
        "colab": {
          "base_uri": "https://localhost:8080/"
        }
      },
      "outputs": [
        {
          "output_type": "execute_result",
          "data": {
            "text/plain": [
              "(25222, 24, 1)"
            ]
          },
          "metadata": {},
          "execution_count": 10
        }
      ],
      "source": [
        "X_train.shape"
      ]
    },
    {
      "cell_type": "code",
      "execution_count": 11,
      "id": "05faa372",
      "metadata": {
        "execution": {
          "iopub.execute_input": "2024-05-29T22:43:45.636842Z",
          "iopub.status.busy": "2024-05-29T22:43:45.636757Z",
          "iopub.status.idle": "2024-05-29T22:43:45.638621Z",
          "shell.execute_reply": "2024-05-29T22:43:45.638411Z"
        },
        "papermill": {
          "duration": 0.00386,
          "end_time": "2024-05-29T22:43:45.639210",
          "exception": false,
          "start_time": "2024-05-29T22:43:45.635350",
          "status": "completed"
        },
        "tags": [],
        "id": "05faa372",
        "outputId": "76562a06-d03f-4b79-926e-b1436fcbd2c2",
        "colab": {
          "base_uri": "https://localhost:8080/"
        }
      },
      "outputs": [
        {
          "output_type": "execute_result",
          "data": {
            "text/plain": [
              "array([31.98])"
            ]
          },
          "metadata": {},
          "execution_count": 11
        }
      ],
      "source": [
        "y_train[0]"
      ]
    },
    {
      "cell_type": "markdown",
      "id": "050064aa",
      "metadata": {
        "papermill": {
          "duration": 0.001095,
          "end_time": "2024-05-29T22:43:45.641450",
          "exception": false,
          "start_time": "2024-05-29T22:43:45.640355",
          "status": "completed"
        },
        "tags": [],
        "id": "050064aa"
      },
      "source": [
        "## Modelling"
      ]
    },
    {
      "cell_type": "markdown",
      "id": "68099be4",
      "metadata": {
        "papermill": {
          "duration": 0.001069,
          "end_time": "2024-05-29T22:43:45.643626",
          "exception": false,
          "start_time": "2024-05-29T22:43:45.642557",
          "status": "completed"
        },
        "tags": [],
        "id": "68099be4"
      },
      "source": [
        "### Design NN Architecture"
      ]
    },
    {
      "cell_type": "code",
      "execution_count": 12,
      "id": "2a0b56ea",
      "metadata": {
        "execution": {
          "iopub.execute_input": "2024-05-29T22:43:45.646109Z",
          "iopub.status.busy": "2024-05-29T22:43:45.646029Z",
          "iopub.status.idle": "2024-05-29T22:43:46.717975Z",
          "shell.execute_reply": "2024-05-29T22:43:46.717614Z"
        },
        "papermill": {
          "duration": 1.074282,
          "end_time": "2024-05-29T22:43:46.718941",
          "exception": false,
          "start_time": "2024-05-29T22:43:45.644659",
          "status": "completed"
        },
        "tags": [
          "required"
        ],
        "id": "2a0b56ea"
      },
      "outputs": [],
      "source": [
        "from keras.models import Sequential\n",
        "from keras.layers import LSTM, Dense, Input\n",
        "\n",
        "model = Sequential(layers=[\n",
        "    Input(shape=(X_train.shape[1], X_train.shape[2])),\n",
        "    LSTM(units=50),\n",
        "    Dense(units=1)\n",
        "])\n",
        "\n",
        "model.compile(optimizer='adam', loss='mean_squared_error')"
      ]
    },
    {
      "cell_type": "markdown",
      "id": "009897bb",
      "metadata": {
        "papermill": {
          "duration": 0.001374,
          "end_time": "2024-05-29T22:43:46.722080",
          "exception": false,
          "start_time": "2024-05-29T22:43:46.720706",
          "status": "completed"
        },
        "tags": [],
        "id": "009897bb"
      },
      "source": [
        "### Train Model with Early Stopping"
      ]
    },
    {
      "cell_type": "code",
      "source": [
        "from keras.callbacks import EarlyStopping"
      ],
      "metadata": {
        "id": "p6pg9S04d-ZI"
      },
      "id": "p6pg9S04d-ZI",
      "execution_count": 13,
      "outputs": []
    },
    {
      "cell_type": "code",
      "source": [
        "early_stop = EarlyStopping(monitor='val_loss', patience=3)"
      ],
      "metadata": {
        "id": "d3ihCdyFeDGM"
      },
      "id": "d3ihCdyFeDGM",
      "execution_count": 14,
      "outputs": []
    },
    {
      "cell_type": "code",
      "execution_count": 15,
      "id": "1d0f5140",
      "metadata": {
        "execution": {
          "iopub.execute_input": "2024-05-29T22:43:46.725281Z",
          "iopub.status.busy": "2024-05-29T22:43:46.725159Z",
          "iopub.status.idle": "2024-05-29T22:44:15.150290Z",
          "shell.execute_reply": "2024-05-29T22:44:15.150021Z"
        },
        "papermill": {
          "duration": 28.427835,
          "end_time": "2024-05-29T22:44:15.151254",
          "exception": false,
          "start_time": "2024-05-29T22:43:46.723419",
          "status": "completed"
        },
        "tags": [],
        "id": "1d0f5140",
        "outputId": "8768b78d-ae3c-4c96-8251-ddeb97ccdb6c",
        "colab": {
          "base_uri": "https://localhost:8080/"
        }
      },
      "outputs": [
        {
          "output_type": "stream",
          "name": "stdout",
          "text": [
            "Epoch 1/50\n",
            "\u001b[1m789/789\u001b[0m \u001b[32m━━━━━━━━━━━━━━━━━━━━\u001b[0m\u001b[37m\u001b[0m \u001b[1m8s\u001b[0m 6ms/step - loss: 15443.9590 - val_loss: 4616.6572\n",
            "Epoch 2/50\n",
            "\u001b[1m789/789\u001b[0m \u001b[32m━━━━━━━━━━━━━━━━━━━━\u001b[0m\u001b[37m\u001b[0m \u001b[1m9s\u001b[0m 6ms/step - loss: 9810.8398 - val_loss: 2111.3899\n",
            "Epoch 3/50\n",
            "\u001b[1m789/789\u001b[0m \u001b[32m━━━━━━━━━━━━━━━━━━━━\u001b[0m\u001b[37m\u001b[0m \u001b[1m4s\u001b[0m 5ms/step - loss: 6975.1665 - val_loss: 873.5867\n",
            "Epoch 4/50\n",
            "\u001b[1m789/789\u001b[0m \u001b[32m━━━━━━━━━━━━━━━━━━━━\u001b[0m\u001b[37m\u001b[0m \u001b[1m5s\u001b[0m 5ms/step - loss: 4617.0024 - val_loss: 382.8892\n",
            "Epoch 5/50\n",
            "\u001b[1m789/789\u001b[0m \u001b[32m━━━━━━━━━━━━━━━━━━━━\u001b[0m\u001b[37m\u001b[0m \u001b[1m5s\u001b[0m 5ms/step - loss: 3188.6301 - val_loss: 207.9234\n",
            "Epoch 6/50\n",
            "\u001b[1m789/789\u001b[0m \u001b[32m━━━━━━━━━━━━━━━━━━━━\u001b[0m\u001b[37m\u001b[0m \u001b[1m4s\u001b[0m 5ms/step - loss: 2104.6245 - val_loss: 163.0330\n",
            "Epoch 7/50\n",
            "\u001b[1m789/789\u001b[0m \u001b[32m━━━━━━━━━━━━━━━━━━━━\u001b[0m\u001b[37m\u001b[0m \u001b[1m4s\u001b[0m 6ms/step - loss: 1433.6365 - val_loss: 140.4496\n",
            "Epoch 8/50\n",
            "\u001b[1m789/789\u001b[0m \u001b[32m━━━━━━━━━━━━━━━━━━━━\u001b[0m\u001b[37m\u001b[0m \u001b[1m5s\u001b[0m 7ms/step - loss: 1194.3558 - val_loss: 134.0660\n",
            "Epoch 9/50\n",
            "\u001b[1m789/789\u001b[0m \u001b[32m━━━━━━━━━━━━━━━━━━━━\u001b[0m\u001b[37m\u001b[0m \u001b[1m4s\u001b[0m 5ms/step - loss: 799.3307 - val_loss: 132.5888\n",
            "Epoch 10/50\n",
            "\u001b[1m789/789\u001b[0m \u001b[32m━━━━━━━━━━━━━━━━━━━━\u001b[0m\u001b[37m\u001b[0m \u001b[1m4s\u001b[0m 5ms/step - loss: 610.8731 - val_loss: 131.5223\n",
            "Epoch 11/50\n",
            "\u001b[1m789/789\u001b[0m \u001b[32m━━━━━━━━━━━━━━━━━━━━\u001b[0m\u001b[37m\u001b[0m \u001b[1m5s\u001b[0m 5ms/step - loss: 549.1431 - val_loss: 138.6782\n",
            "Epoch 12/50\n",
            "\u001b[1m789/789\u001b[0m \u001b[32m━━━━━━━━━━━━━━━━━━━━\u001b[0m\u001b[37m\u001b[0m \u001b[1m5s\u001b[0m 4ms/step - loss: 400.4751 - val_loss: 134.6689\n",
            "Epoch 13/50\n",
            "\u001b[1m789/789\u001b[0m \u001b[32m━━━━━━━━━━━━━━━━━━━━\u001b[0m\u001b[37m\u001b[0m \u001b[1m6s\u001b[0m 6ms/step - loss: 377.0949 - val_loss: 127.4071\n",
            "Epoch 14/50\n",
            "\u001b[1m789/789\u001b[0m \u001b[32m━━━━━━━━━━━━━━━━━━━━\u001b[0m\u001b[37m\u001b[0m \u001b[1m3s\u001b[0m 4ms/step - loss: 365.2545 - val_loss: 130.8467\n",
            "Epoch 15/50\n",
            "\u001b[1m789/789\u001b[0m \u001b[32m━━━━━━━━━━━━━━━━━━━━\u001b[0m\u001b[37m\u001b[0m \u001b[1m3s\u001b[0m 4ms/step - loss: 288.7341 - val_loss: 138.9260\n",
            "Epoch 16/50\n",
            "\u001b[1m789/789\u001b[0m \u001b[32m━━━━━━━━━━━━━━━━━━━━\u001b[0m\u001b[37m\u001b[0m \u001b[1m5s\u001b[0m 6ms/step - loss: 256.3310 - val_loss: 133.7812\n"
          ]
        },
        {
          "output_type": "execute_result",
          "data": {
            "text/plain": [
              "<keras.src.callbacks.history.History at 0x7cc582354400>"
            ]
          },
          "metadata": {},
          "execution_count": 15
        }
      ],
      "source": [
        "model.fit(\n",
        "    X_train, y_train, validation_data=(X_test, y_test),\n",
        "    epochs=50, verbose=1, callbacks=[early_stop]\n",
        ")"
      ]
    },
    {
      "cell_type": "markdown",
      "id": "d7c98ac6",
      "metadata": {
        "papermill": {
          "duration": 0.001445,
          "end_time": "2024-05-29T22:44:15.154423",
          "exception": false,
          "start_time": "2024-05-29T22:44:15.152978",
          "status": "completed"
        },
        "tags": [],
        "id": "d7c98ac6"
      },
      "source": [
        "### Calculate Predictions"
      ]
    },
    {
      "cell_type": "code",
      "execution_count": 16,
      "id": "c52dd571",
      "metadata": {
        "execution": {
          "iopub.execute_input": "2024-05-29T22:44:15.157815Z",
          "iopub.status.busy": "2024-05-29T22:44:15.157702Z",
          "iopub.status.idle": "2024-05-29T22:44:15.480910Z",
          "shell.execute_reply": "2024-05-29T22:44:15.480645Z"
        },
        "papermill": {
          "duration": 0.325809,
          "end_time": "2024-05-29T22:44:15.481801",
          "exception": false,
          "start_time": "2024-05-29T22:44:15.155992",
          "status": "completed"
        },
        "tags": [],
        "id": "c52dd571",
        "outputId": "0668dcff-583d-4c1c-9c9b-e9ce0ae79c94",
        "colab": {
          "base_uri": "https://localhost:8080/"
        }
      },
      "outputs": [
        {
          "output_type": "stream",
          "name": "stdout",
          "text": [
            "\u001b[1m197/197\u001b[0m \u001b[32m━━━━━━━━━━━━━━━━━━━━\u001b[0m\u001b[37m\u001b[0m \u001b[1m1s\u001b[0m 3ms/step\n"
          ]
        },
        {
          "output_type": "execute_result",
          "data": {
            "text/plain": [
              "array([[122.46165 ],\n",
              "       [103.23145 ],\n",
              "       [ 92.87982 ],\n",
              "       ...,\n",
              "       [ 92.558334],\n",
              "       [ 92.91867 ],\n",
              "       [ 89.9477  ]], dtype=float32)"
            ]
          },
          "metadata": {},
          "execution_count": 16
        }
      ],
      "source": [
        "model.predict(x=X_test)"
      ]
    },
    {
      "cell_type": "code",
      "source": [
        "y_test"
      ],
      "metadata": {
        "id": "wvGMLYlrfJPE",
        "outputId": "2e6f4173-fc09-413b-96d6-b0ea08961ffa",
        "colab": {
          "base_uri": "https://localhost:8080/"
        }
      },
      "id": "wvGMLYlrfJPE",
      "execution_count": 17,
      "outputs": [
        {
          "output_type": "execute_result",
          "data": {
            "text/plain": [
              "array([[105.  ],\n",
              "       [ 90.52],\n",
              "       [ 87.  ],\n",
              "       ...,\n",
              "       [ 94.  ],\n",
              "       [ 94.  ],\n",
              "       [ 91.7 ]])"
            ]
          },
          "metadata": {},
          "execution_count": 17
        }
      ]
    }
  ],
  "metadata": {
    "Author": "Jesús López",
    "Company": "Datons Academy",
    "Copyright": "Copyright 2023, Jesús López",
    "kernelspec": {
      "display_name": "Python 3",
      "name": "python3"
    },
    "language_info": {
      "codemirror_mode": {
        "name": "ipython",
        "version": 3
      },
      "file_extension": ".py",
      "mimetype": "text/x-python",
      "name": "python",
      "nbconvert_exporter": "python",
      "pygments_lexer": "ipython3",
      "version": "3.12.2"
    },
    "papermill": {
      "default_parameters": {},
      "duration": 31.816988,
      "end_time": "2024-05-29T22:44:16.003884",
      "environment_variables": {},
      "exception": null,
      "input_path": "/Users/sota/Library/CloudStorage/Dropbox/2 Business/1 Datons/2 Areas/Courses/22 TS/solutions-new/notebooks/60_Forecasting II Deep Learning/2_Early Stopping/1.ipynb",
      "output_path": "/Users/sota/Library/CloudStorage/Dropbox/2 Business/1 Datons/2 Areas/Courses/22 TS/solutions-new/notebooks/60_Forecasting II Deep Learning/2_Early Stopping/1.ipynb",
      "parameters": {},
      "start_time": "2024-05-29T22:43:44.186896",
      "version": "2.5.0"
    },
    "colab": {
      "provenance": [],
      "gpuType": "T4",
      "include_colab_link": true
    },
    "accelerator": "GPU"
  },
  "nbformat": 4,
  "nbformat_minor": 5
}