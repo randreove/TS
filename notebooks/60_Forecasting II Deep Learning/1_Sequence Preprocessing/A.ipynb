{
  "cells": [
    {
      "cell_type": "markdown",
      "metadata": {
        "id": "view-in-github",
        "colab_type": "text"
      },
      "source": [
        "<a href=\"https://colab.research.google.com/github/randreove/TS/blob/exercises/notebooks/60_Forecasting%20II%20Deep%20Learning/1_Sequence%20Preprocessing/A.ipynb\" target=\"_parent\"><img src=\"https://colab.research.google.com/assets/colab-badge.svg\" alt=\"Open In Colab\"/></a>"
      ]
    },
    {
      "cell_type": "code",
      "source": [
        "!git clone https://github.com/randreove/TS.git"
      ],
      "metadata": {
        "id": "X3Hr8jCNVDWt",
        "outputId": "d3a8f357-aca3-4d73-f7c8-f11627b30d50",
        "colab": {
          "base_uri": "https://localhost:8080/"
        }
      },
      "id": "X3Hr8jCNVDWt",
      "execution_count": 1,
      "outputs": [
        {
          "output_type": "stream",
          "name": "stdout",
          "text": [
            "Cloning into 'TS'...\n",
            "remote: Enumerating objects: 361, done.\u001b[K\n",
            "remote: Counting objects: 100% (361/361), done.\u001b[K\n",
            "remote: Compressing objects: 100% (277/277), done.\u001b[K\n",
            "remote: Total 361 (delta 97), reused 323 (delta 62), pack-reused 0 (from 0)\u001b[K\n",
            "Receiving objects: 100% (361/361), 27.15 MiB | 8.36 MiB/s, done.\n",
            "Resolving deltas: 100% (97/97), done.\n",
            "Updating files: 100% (110/110), done.\n",
            "Filtering content: 100% (17/17), 142.02 MiB | 34.14 MiB/s, done.\n"
          ]
        }
      ]
    },
    {
      "cell_type": "markdown",
      "id": "2392a37d",
      "metadata": {
        "papermill": {
          "duration": 0.002344,
          "end_time": "2024-05-29T22:33:30.070599",
          "exception": false,
          "start_time": "2024-05-29T22:33:30.068255",
          "status": "completed"
        },
        "tags": [],
        "id": "2392a37d"
      },
      "source": [
        "# Data Sequence"
      ]
    },
    {
      "cell_type": "markdown",
      "id": "a55cc0dc",
      "metadata": {
        "papermill": {
          "duration": 0.001475,
          "end_time": "2024-05-29T22:33:30.074242",
          "exception": false,
          "start_time": "2024-05-29T22:33:30.072767",
          "status": "completed"
        },
        "tags": [],
        "id": "a55cc0dc"
      },
      "source": [
        "## Load Dataset"
      ]
    },
    {
      "cell_type": "code",
      "execution_count": 2,
      "id": "073679d2",
      "metadata": {
        "execution": {
          "iopub.execute_input": "2024-05-29T22:33:30.077614Z",
          "iopub.status.busy": "2024-05-29T22:33:30.077412Z",
          "iopub.status.idle": "2024-05-29T22:33:30.202442Z",
          "shell.execute_reply": "2024-05-29T22:33:30.202170Z"
        },
        "papermill": {
          "duration": 0.127806,
          "end_time": "2024-05-29T22:33:30.203239",
          "exception": false,
          "start_time": "2024-05-29T22:33:30.075433",
          "status": "completed"
        },
        "tags": [
          "required",
          "Fixed"
        ],
        "id": "073679d2",
        "outputId": "74c39deb-21c8-49bc-f96e-e5f4a96ee979",
        "colab": {
          "base_uri": "https://localhost:8080/",
          "height": 455
        }
      },
      "outputs": [
        {
          "output_type": "execute_result",
          "data": {
            "text/plain": [
              "                           Mercado SPOT\n",
              "datetime_utc                           \n",
              "2020-01-01 00:00:00+00:00         38.60\n",
              "2020-01-01 01:00:00+00:00         36.55\n",
              "2020-01-01 02:00:00+00:00         32.32\n",
              "2020-01-01 03:00:00+00:00         30.85\n",
              "2020-01-01 04:00:00+00:00         30.14\n",
              "...                                 ...\n",
              "2023-08-04 17:00:00+00:00         70.00\n",
              "2023-08-04 18:00:00+00:00         86.30\n",
              "2023-08-04 19:00:00+00:00         94.00\n",
              "2023-08-04 20:00:00+00:00         94.00\n",
              "2023-08-04 21:00:00+00:00         91.70\n",
              "\n",
              "[31558 rows x 1 columns]"
            ],
            "text/html": [
              "\n",
              "  <div id=\"df-c8a8f8a6-d395-48c1-8218-79788c16156d\" class=\"colab-df-container\">\n",
              "    <div>\n",
              "<style scoped>\n",
              "    .dataframe tbody tr th:only-of-type {\n",
              "        vertical-align: middle;\n",
              "    }\n",
              "\n",
              "    .dataframe tbody tr th {\n",
              "        vertical-align: top;\n",
              "    }\n",
              "\n",
              "    .dataframe thead th {\n",
              "        text-align: right;\n",
              "    }\n",
              "</style>\n",
              "<table border=\"1\" class=\"dataframe\">\n",
              "  <thead>\n",
              "    <tr style=\"text-align: right;\">\n",
              "      <th></th>\n",
              "      <th>Mercado SPOT</th>\n",
              "    </tr>\n",
              "    <tr>\n",
              "      <th>datetime_utc</th>\n",
              "      <th></th>\n",
              "    </tr>\n",
              "  </thead>\n",
              "  <tbody>\n",
              "    <tr>\n",
              "      <th>2020-01-01 00:00:00+00:00</th>\n",
              "      <td>38.60</td>\n",
              "    </tr>\n",
              "    <tr>\n",
              "      <th>2020-01-01 01:00:00+00:00</th>\n",
              "      <td>36.55</td>\n",
              "    </tr>\n",
              "    <tr>\n",
              "      <th>2020-01-01 02:00:00+00:00</th>\n",
              "      <td>32.32</td>\n",
              "    </tr>\n",
              "    <tr>\n",
              "      <th>2020-01-01 03:00:00+00:00</th>\n",
              "      <td>30.85</td>\n",
              "    </tr>\n",
              "    <tr>\n",
              "      <th>2020-01-01 04:00:00+00:00</th>\n",
              "      <td>30.14</td>\n",
              "    </tr>\n",
              "    <tr>\n",
              "      <th>...</th>\n",
              "      <td>...</td>\n",
              "    </tr>\n",
              "    <tr>\n",
              "      <th>2023-08-04 17:00:00+00:00</th>\n",
              "      <td>70.00</td>\n",
              "    </tr>\n",
              "    <tr>\n",
              "      <th>2023-08-04 18:00:00+00:00</th>\n",
              "      <td>86.30</td>\n",
              "    </tr>\n",
              "    <tr>\n",
              "      <th>2023-08-04 19:00:00+00:00</th>\n",
              "      <td>94.00</td>\n",
              "    </tr>\n",
              "    <tr>\n",
              "      <th>2023-08-04 20:00:00+00:00</th>\n",
              "      <td>94.00</td>\n",
              "    </tr>\n",
              "    <tr>\n",
              "      <th>2023-08-04 21:00:00+00:00</th>\n",
              "      <td>91.70</td>\n",
              "    </tr>\n",
              "  </tbody>\n",
              "</table>\n",
              "<p>31558 rows × 1 columns</p>\n",
              "</div>\n",
              "    <div class=\"colab-df-buttons\">\n",
              "\n",
              "  <div class=\"colab-df-container\">\n",
              "    <button class=\"colab-df-convert\" onclick=\"convertToInteractive('df-c8a8f8a6-d395-48c1-8218-79788c16156d')\"\n",
              "            title=\"Convert this dataframe to an interactive table.\"\n",
              "            style=\"display:none;\">\n",
              "\n",
              "  <svg xmlns=\"http://www.w3.org/2000/svg\" height=\"24px\" viewBox=\"0 -960 960 960\">\n",
              "    <path d=\"M120-120v-720h720v720H120Zm60-500h600v-160H180v160Zm220 220h160v-160H400v160Zm0 220h160v-160H400v160ZM180-400h160v-160H180v160Zm440 0h160v-160H620v160ZM180-180h160v-160H180v160Zm440 0h160v-160H620v160Z\"/>\n",
              "  </svg>\n",
              "    </button>\n",
              "\n",
              "  <style>\n",
              "    .colab-df-container {\n",
              "      display:flex;\n",
              "      gap: 12px;\n",
              "    }\n",
              "\n",
              "    .colab-df-convert {\n",
              "      background-color: #E8F0FE;\n",
              "      border: none;\n",
              "      border-radius: 50%;\n",
              "      cursor: pointer;\n",
              "      display: none;\n",
              "      fill: #1967D2;\n",
              "      height: 32px;\n",
              "      padding: 0 0 0 0;\n",
              "      width: 32px;\n",
              "    }\n",
              "\n",
              "    .colab-df-convert:hover {\n",
              "      background-color: #E2EBFA;\n",
              "      box-shadow: 0px 1px 2px rgba(60, 64, 67, 0.3), 0px 1px 3px 1px rgba(60, 64, 67, 0.15);\n",
              "      fill: #174EA6;\n",
              "    }\n",
              "\n",
              "    .colab-df-buttons div {\n",
              "      margin-bottom: 4px;\n",
              "    }\n",
              "\n",
              "    [theme=dark] .colab-df-convert {\n",
              "      background-color: #3B4455;\n",
              "      fill: #D2E3FC;\n",
              "    }\n",
              "\n",
              "    [theme=dark] .colab-df-convert:hover {\n",
              "      background-color: #434B5C;\n",
              "      box-shadow: 0px 1px 3px 1px rgba(0, 0, 0, 0.15);\n",
              "      filter: drop-shadow(0px 1px 2px rgba(0, 0, 0, 0.3));\n",
              "      fill: #FFFFFF;\n",
              "    }\n",
              "  </style>\n",
              "\n",
              "    <script>\n",
              "      const buttonEl =\n",
              "        document.querySelector('#df-c8a8f8a6-d395-48c1-8218-79788c16156d button.colab-df-convert');\n",
              "      buttonEl.style.display =\n",
              "        google.colab.kernel.accessAllowed ? 'block' : 'none';\n",
              "\n",
              "      async function convertToInteractive(key) {\n",
              "        const element = document.querySelector('#df-c8a8f8a6-d395-48c1-8218-79788c16156d');\n",
              "        const dataTable =\n",
              "          await google.colab.kernel.invokeFunction('convertToInteractive',\n",
              "                                                    [key], {});\n",
              "        if (!dataTable) return;\n",
              "\n",
              "        const docLinkHtml = 'Like what you see? Visit the ' +\n",
              "          '<a target=\"_blank\" href=https://colab.research.google.com/notebooks/data_table.ipynb>data table notebook</a>'\n",
              "          + ' to learn more about interactive tables.';\n",
              "        element.innerHTML = '';\n",
              "        dataTable['output_type'] = 'display_data';\n",
              "        await google.colab.output.renderOutput(dataTable, element);\n",
              "        const docLink = document.createElement('div');\n",
              "        docLink.innerHTML = docLinkHtml;\n",
              "        element.appendChild(docLink);\n",
              "      }\n",
              "    </script>\n",
              "  </div>\n",
              "\n",
              "\n",
              "<div id=\"df-53dc200d-b559-4a58-a437-d0633dfc9693\">\n",
              "  <button class=\"colab-df-quickchart\" onclick=\"quickchart('df-53dc200d-b559-4a58-a437-d0633dfc9693')\"\n",
              "            title=\"Suggest charts\"\n",
              "            style=\"display:none;\">\n",
              "\n",
              "<svg xmlns=\"http://www.w3.org/2000/svg\" height=\"24px\"viewBox=\"0 0 24 24\"\n",
              "     width=\"24px\">\n",
              "    <g>\n",
              "        <path d=\"M19 3H5c-1.1 0-2 .9-2 2v14c0 1.1.9 2 2 2h14c1.1 0 2-.9 2-2V5c0-1.1-.9-2-2-2zM9 17H7v-7h2v7zm4 0h-2V7h2v10zm4 0h-2v-4h2v4z\"/>\n",
              "    </g>\n",
              "</svg>\n",
              "  </button>\n",
              "\n",
              "<style>\n",
              "  .colab-df-quickchart {\n",
              "      --bg-color: #E8F0FE;\n",
              "      --fill-color: #1967D2;\n",
              "      --hover-bg-color: #E2EBFA;\n",
              "      --hover-fill-color: #174EA6;\n",
              "      --disabled-fill-color: #AAA;\n",
              "      --disabled-bg-color: #DDD;\n",
              "  }\n",
              "\n",
              "  [theme=dark] .colab-df-quickchart {\n",
              "      --bg-color: #3B4455;\n",
              "      --fill-color: #D2E3FC;\n",
              "      --hover-bg-color: #434B5C;\n",
              "      --hover-fill-color: #FFFFFF;\n",
              "      --disabled-bg-color: #3B4455;\n",
              "      --disabled-fill-color: #666;\n",
              "  }\n",
              "\n",
              "  .colab-df-quickchart {\n",
              "    background-color: var(--bg-color);\n",
              "    border: none;\n",
              "    border-radius: 50%;\n",
              "    cursor: pointer;\n",
              "    display: none;\n",
              "    fill: var(--fill-color);\n",
              "    height: 32px;\n",
              "    padding: 0;\n",
              "    width: 32px;\n",
              "  }\n",
              "\n",
              "  .colab-df-quickchart:hover {\n",
              "    background-color: var(--hover-bg-color);\n",
              "    box-shadow: 0 1px 2px rgba(60, 64, 67, 0.3), 0 1px 3px 1px rgba(60, 64, 67, 0.15);\n",
              "    fill: var(--button-hover-fill-color);\n",
              "  }\n",
              "\n",
              "  .colab-df-quickchart-complete:disabled,\n",
              "  .colab-df-quickchart-complete:disabled:hover {\n",
              "    background-color: var(--disabled-bg-color);\n",
              "    fill: var(--disabled-fill-color);\n",
              "    box-shadow: none;\n",
              "  }\n",
              "\n",
              "  .colab-df-spinner {\n",
              "    border: 2px solid var(--fill-color);\n",
              "    border-color: transparent;\n",
              "    border-bottom-color: var(--fill-color);\n",
              "    animation:\n",
              "      spin 1s steps(1) infinite;\n",
              "  }\n",
              "\n",
              "  @keyframes spin {\n",
              "    0% {\n",
              "      border-color: transparent;\n",
              "      border-bottom-color: var(--fill-color);\n",
              "      border-left-color: var(--fill-color);\n",
              "    }\n",
              "    20% {\n",
              "      border-color: transparent;\n",
              "      border-left-color: var(--fill-color);\n",
              "      border-top-color: var(--fill-color);\n",
              "    }\n",
              "    30% {\n",
              "      border-color: transparent;\n",
              "      border-left-color: var(--fill-color);\n",
              "      border-top-color: var(--fill-color);\n",
              "      border-right-color: var(--fill-color);\n",
              "    }\n",
              "    40% {\n",
              "      border-color: transparent;\n",
              "      border-right-color: var(--fill-color);\n",
              "      border-top-color: var(--fill-color);\n",
              "    }\n",
              "    60% {\n",
              "      border-color: transparent;\n",
              "      border-right-color: var(--fill-color);\n",
              "    }\n",
              "    80% {\n",
              "      border-color: transparent;\n",
              "      border-right-color: var(--fill-color);\n",
              "      border-bottom-color: var(--fill-color);\n",
              "    }\n",
              "    90% {\n",
              "      border-color: transparent;\n",
              "      border-bottom-color: var(--fill-color);\n",
              "    }\n",
              "  }\n",
              "</style>\n",
              "\n",
              "  <script>\n",
              "    async function quickchart(key) {\n",
              "      const quickchartButtonEl =\n",
              "        document.querySelector('#' + key + ' button');\n",
              "      quickchartButtonEl.disabled = true;  // To prevent multiple clicks.\n",
              "      quickchartButtonEl.classList.add('colab-df-spinner');\n",
              "      try {\n",
              "        const charts = await google.colab.kernel.invokeFunction(\n",
              "            'suggestCharts', [key], {});\n",
              "      } catch (error) {\n",
              "        console.error('Error during call to suggestCharts:', error);\n",
              "      }\n",
              "      quickchartButtonEl.classList.remove('colab-df-spinner');\n",
              "      quickchartButtonEl.classList.add('colab-df-quickchart-complete');\n",
              "    }\n",
              "    (() => {\n",
              "      let quickchartButtonEl =\n",
              "        document.querySelector('#df-53dc200d-b559-4a58-a437-d0633dfc9693 button');\n",
              "      quickchartButtonEl.style.display =\n",
              "        google.colab.kernel.accessAllowed ? 'block' : 'none';\n",
              "    })();\n",
              "  </script>\n",
              "</div>\n",
              "\n",
              "  <div id=\"id_b9add555-89e7-4ef6-b731-a322b1bca5fc\">\n",
              "    <style>\n",
              "      .colab-df-generate {\n",
              "        background-color: #E8F0FE;\n",
              "        border: none;\n",
              "        border-radius: 50%;\n",
              "        cursor: pointer;\n",
              "        display: none;\n",
              "        fill: #1967D2;\n",
              "        height: 32px;\n",
              "        padding: 0 0 0 0;\n",
              "        width: 32px;\n",
              "      }\n",
              "\n",
              "      .colab-df-generate:hover {\n",
              "        background-color: #E2EBFA;\n",
              "        box-shadow: 0px 1px 2px rgba(60, 64, 67, 0.3), 0px 1px 3px 1px rgba(60, 64, 67, 0.15);\n",
              "        fill: #174EA6;\n",
              "      }\n",
              "\n",
              "      [theme=dark] .colab-df-generate {\n",
              "        background-color: #3B4455;\n",
              "        fill: #D2E3FC;\n",
              "      }\n",
              "\n",
              "      [theme=dark] .colab-df-generate:hover {\n",
              "        background-color: #434B5C;\n",
              "        box-shadow: 0px 1px 3px 1px rgba(0, 0, 0, 0.15);\n",
              "        filter: drop-shadow(0px 1px 2px rgba(0, 0, 0, 0.3));\n",
              "        fill: #FFFFFF;\n",
              "      }\n",
              "    </style>\n",
              "    <button class=\"colab-df-generate\" onclick=\"generateWithVariable('df')\"\n",
              "            title=\"Generate code using this dataframe.\"\n",
              "            style=\"display:none;\">\n",
              "\n",
              "  <svg xmlns=\"http://www.w3.org/2000/svg\" height=\"24px\"viewBox=\"0 0 24 24\"\n",
              "       width=\"24px\">\n",
              "    <path d=\"M7,19H8.4L18.45,9,17,7.55,7,17.6ZM5,21V16.75L18.45,3.32a2,2,0,0,1,2.83,0l1.4,1.43a1.91,1.91,0,0,1,.58,1.4,1.91,1.91,0,0,1-.58,1.4L9.25,21ZM18.45,9,17,7.55Zm-12,3A5.31,5.31,0,0,0,4.9,8.1,5.31,5.31,0,0,0,1,6.5,5.31,5.31,0,0,0,4.9,4.9,5.31,5.31,0,0,0,6.5,1,5.31,5.31,0,0,0,8.1,4.9,5.31,5.31,0,0,0,12,6.5,5.46,5.46,0,0,0,6.5,12Z\"/>\n",
              "  </svg>\n",
              "    </button>\n",
              "    <script>\n",
              "      (() => {\n",
              "      const buttonEl =\n",
              "        document.querySelector('#id_b9add555-89e7-4ef6-b731-a322b1bca5fc button.colab-df-generate');\n",
              "      buttonEl.style.display =\n",
              "        google.colab.kernel.accessAllowed ? 'block' : 'none';\n",
              "\n",
              "      buttonEl.onclick = () => {\n",
              "        google.colab.notebook.generateWithVariable('df');\n",
              "      }\n",
              "      })();\n",
              "    </script>\n",
              "  </div>\n",
              "\n",
              "    </div>\n",
              "  </div>\n"
            ],
            "application/vnd.google.colaboratory.intrinsic+json": {
              "type": "dataframe",
              "variable_name": "df",
              "summary": "{\n  \"name\": \"df\",\n  \"rows\": 31558,\n  \"fields\": [\n    {\n      \"column\": \"datetime_utc\",\n      \"properties\": {\n        \"dtype\": \"date\",\n        \"min\": \"2020-01-01 00:00:00+00:00\",\n        \"max\": \"2023-08-04 21:00:00+00:00\",\n        \"num_unique_values\": 31483,\n        \"samples\": [\n          \"2020-10-25 10:00:00+00:00\",\n          \"2021-05-07 15:00:00+00:00\",\n          \"2023-04-01 12:00:00+00:00\"\n        ],\n        \"semantic_type\": \"\",\n        \"description\": \"\"\n      }\n    },\n    {\n      \"column\": \"Mercado SPOT\",\n      \"properties\": {\n        \"dtype\": \"number\",\n        \"std\": 75.9323407847652,\n        \"min\": 0.0,\n        \"max\": 700.0,\n        \"num_unique_values\": 13454,\n        \"samples\": [\n          51.09,\n          141.07,\n          196.39\n        ],\n        \"semantic_type\": \"\",\n        \"description\": \"\"\n      }\n    }\n  ]\n}"
            }
          },
          "metadata": {},
          "execution_count": 2
        }
      ],
      "source": [
        "import pandas as pd\n",
        "\n",
        "df = pd.read_csv('/content/TS/notebooks/60_Forecasting II Deep Learning/data/precio_mercado_diario.csv', parse_dates=['datetime_utc'], index_col=0)\n",
        "df = df.loc[\"2020\":].copy()\n",
        "df"
      ]
    },
    {
      "cell_type": "markdown",
      "id": "bcd66a58",
      "metadata": {
        "papermill": {
          "duration": 0.001039,
          "end_time": "2024-05-29T22:33:30.205700",
          "exception": false,
          "start_time": "2024-05-29T22:33:30.204661",
          "status": "completed"
        },
        "tags": [],
        "id": "bcd66a58"
      },
      "source": [
        "## Data Preprocessing"
      ]
    },
    {
      "cell_type": "markdown",
      "id": "79f3b075",
      "metadata": {
        "papermill": {
          "duration": 0.00086,
          "end_time": "2024-05-29T22:33:30.207507",
          "exception": false,
          "start_time": "2024-05-29T22:33:30.206647",
          "status": "completed"
        },
        "tags": [],
        "id": "79f3b075"
      },
      "source": [
        "### Train Test Split"
      ]
    },
    {
      "cell_type": "code",
      "source": [
        "from sklearn.model_selection import train_test_split"
      ],
      "metadata": {
        "id": "Ls1WtZY1VQ-x"
      },
      "id": "Ls1WtZY1VQ-x",
      "execution_count": 3,
      "outputs": []
    },
    {
      "cell_type": "code",
      "source": [
        "train, test = train_test_split(df, shuffle=False, test_size=0.2)"
      ],
      "metadata": {
        "id": "WTYn1CxGVVP8"
      },
      "id": "WTYn1CxGVVP8",
      "execution_count": 4,
      "outputs": []
    },
    {
      "cell_type": "code",
      "source": [
        "import matplotlib.pyplot as plt\n",
        "\n",
        "train['Mercado SPOT'].plot(label='train')\n",
        "test['Mercado SPOT'].plot(label='test')\n",
        "plt.legend()"
      ],
      "metadata": {
        "id": "wt8MeRZgVjeA",
        "outputId": "33b7a2bf-e71c-45f3-f6c9-9e52dc83ed29",
        "colab": {
          "base_uri": "https://localhost:8080/",
          "height": 450
        }
      },
      "id": "wt8MeRZgVjeA",
      "execution_count": 5,
      "outputs": [
        {
          "output_type": "execute_result",
          "data": {
            "text/plain": [
              "<matplotlib.legend.Legend at 0x7de851be7a60>"
            ]
          },
          "metadata": {},
          "execution_count": 5
        },
        {
          "output_type": "display_data",
          "data": {
            "text/plain": [
              "<Figure size 640x480 with 1 Axes>"
            ],
            "image/png": "[encoded data removed]"
          },
          "metadata": {}
        }
      ]
    },
    {
      "cell_type": "code",
      "execution_count": null,
      "id": "36df81a3",
      "metadata": {
        "execution": {
          "iopub.execute_input": "2024-05-29T22:33:30.209630Z",
          "iopub.status.busy": "2024-05-29T22:33:30.209523Z",
          "iopub.status.idle": "2024-05-29T22:33:30.954088Z",
          "shell.execute_reply": "2024-05-29T22:33:30.953437Z"
        },
        "papermill": {
          "duration": 0.747693,
          "end_time": "2024-05-29T22:33:30.955998",
          "exception": false,
          "start_time": "2024-05-29T22:33:30.208305",
          "status": "completed"
        },
        "tags": [],
        "id": "36df81a3",
        "outputId": "321b5315-7958-4315-d337-2018a8026bfd"
      },
      "outputs": [
        {
          "data": {
            "image/png": "[encoded data removed]",
            "text/plain": [
              "<Figure size 640x480 with 1 Axes>"
            ]
          },
          "execution_count": null,
          "metadata": {},
          "output_type": "display_data"
        }
      ],
      "source": []
    },
    {
      "cell_type": "markdown",
      "id": "a04a5636",
      "metadata": {
        "papermill": {
          "duration": 0.003377,
          "end_time": "2024-05-29T22:33:30.962452",
          "exception": false,
          "start_time": "2024-05-29T22:33:30.959075",
          "status": "completed"
        },
        "tags": [],
        "id": "a04a5636"
      },
      "source": [
        "### Create Sequences"
      ]
    },
    {
      "cell_type": "code",
      "source": [
        "import numpy as np"
      ],
      "metadata": {
        "id": "AA40zuzSW7s7"
      },
      "id": "AA40zuzSW7s7",
      "execution_count": 8,
      "outputs": []
    },
    {
      "cell_type": "code",
      "source": [
        "def create_sequences(df, seq_len):\n",
        "  Xs, ys = [], []\n",
        "\n",
        "  for i in range(len(df)-seq_len):\n",
        "    X = df.iloc[0+i:seq_len+i]\n",
        "    Xs.append(X)\n",
        "\n",
        "    y = df.iloc[seq_len+i]\n",
        "    ys.append(y)\n",
        "\n",
        "  Xs = np.array(Xs)\n",
        "  ys = np.array(ys)\n",
        "\n",
        "  return Xs, ys\n"
      ],
      "metadata": {
        "id": "SEfmPrOTV1IL"
      },
      "id": "SEfmPrOTV1IL",
      "execution_count": 6,
      "outputs": []
    },
    {
      "cell_type": "code",
      "source": [
        "X_test, y_test = create_sequences(test, seq_len=24)"
      ],
      "metadata": {
        "id": "1m7GW_4UV3Jm"
      },
      "id": "1m7GW_4UV3Jm",
      "execution_count": 9,
      "outputs": []
    },
    {
      "cell_type": "code",
      "source": [
        "X_train, y_train = create_sequences(train, seq_len=24)"
      ],
      "metadata": {
        "id": "udHcwYj9WAjE"
      },
      "id": "udHcwYj9WAjE",
      "execution_count": 10,
      "outputs": []
    },
    {
      "cell_type": "code",
      "execution_count": null,
      "id": "22b0fb7d",
      "metadata": {
        "execution": {
          "iopub.execute_input": "2024-05-29T22:33:31.870290Z",
          "iopub.status.busy": "2024-05-29T22:33:31.870201Z",
          "iopub.status.idle": "2024-05-29T22:33:33.171356Z",
          "shell.execute_reply": "2024-05-29T22:33:33.171117Z"
        },
        "papermill": {
          "duration": 1.303132,
          "end_time": "2024-05-29T22:33:33.172039",
          "exception": false,
          "start_time": "2024-05-29T22:33:31.868907",
          "status": "completed"
        },
        "tags": [],
        "id": "22b0fb7d",
        "outputId": "091c8bf0-803e-4589-d12b-5b03b17bcf68"
      },
      "outputs": [
        {
          "data": {
            "text/plain": [
              "array([[[ 38.6 ],\n",
              "        [ 36.55],\n",
              "        [ 32.32],\n",
              "        ...,\n",
              "        [ 42.9 ],\n",
              "        [ 37.55],\n",
              "        [ 35.4 ]],\n",
              "\n",
              "       [[ 36.55],\n",
              "        [ 32.32],\n",
              "        [ 30.85],\n",
              "        ...,\n",
              "        [ 37.55],\n",
              "        [ 35.4 ],\n",
              "        [ 31.98]],\n",
              "\n",
              "       [[ 32.32],\n",
              "        [ 30.85],\n",
              "        [ 30.14],\n",
              "        ...,\n",
              "        [ 35.4 ],\n",
              "        [ 31.98],\n",
              "        [ 30.5 ]],\n",
              "\n",
              "       ...,\n",
              "\n",
              "       [[158.26],\n",
              "        [150.8 ],\n",
              "        [155.57],\n",
              "        ...,\n",
              "        [148.67],\n",
              "        [155.48],\n",
              "        [155.63]],\n",
              "\n",
              "       [[150.8 ],\n",
              "        [155.57],\n",
              "        [136.87],\n",
              "        ...,\n",
              "        [155.48],\n",
              "        [155.63],\n",
              "        [159.81]],\n",
              "\n",
              "       [[155.57],\n",
              "        [136.87],\n",
              "        [149.29],\n",
              "        ...,\n",
              "        [155.63],\n",
              "        [159.81],\n",
              "        [148.67]]])"
            ]
          },
          "execution_count": null,
          "metadata": {},
          "output_type": "execute_result"
        }
      ],
      "source": []
    },
    {
      "cell_type": "markdown",
      "id": "8ea5c666",
      "metadata": {
        "papermill": {
          "duration": 0.001441,
          "end_time": "2024-05-29T22:33:33.175074",
          "exception": false,
          "start_time": "2024-05-29T22:33:33.173633",
          "status": "completed"
        },
        "tags": [],
        "id": "8ea5c666"
      },
      "source": [
        "### Build LSTM Model"
      ]
    },
    {
      "cell_type": "code",
      "execution_count": 11,
      "id": "a82098c5",
      "metadata": {
        "execution": {
          "iopub.execute_input": "2024-05-29T22:33:33.178056Z",
          "iopub.status.busy": "2024-05-29T22:33:33.177855Z",
          "iopub.status.idle": "2024-05-29T22:33:34.158187Z",
          "shell.execute_reply": "2024-05-29T22:33:34.157795Z"
        },
        "papermill": {
          "duration": 0.982798,
          "end_time": "2024-05-29T22:33:34.159058",
          "exception": false,
          "start_time": "2024-05-29T22:33:33.176260",
          "status": "completed"
        },
        "tags": [],
        "id": "a82098c5"
      },
      "outputs": [],
      "source": [
        "from keras import layers\n",
        "from keras import Sequential"
      ]
    },
    {
      "cell_type": "code",
      "source": [
        "X_train.shape"
      ],
      "metadata": {
        "id": "u12iFIQ3YJOS",
        "outputId": "48f44750-9f69-466a-ea78-f655ffc7bd3b",
        "colab": {
          "base_uri": "https://localhost:8080/"
        }
      },
      "id": "u12iFIQ3YJOS",
      "execution_count": 12,
      "outputs": [
        {
          "output_type": "execute_result",
          "data": {
            "text/plain": [
              "(25222, 24, 1)"
            ]
          },
          "metadata": {},
          "execution_count": 12
        }
      ]
    },
    {
      "cell_type": "code",
      "source": [
        "model = Sequential(layers=[\n",
        "    layers.Input(shape=(X_train.shape[1], X_train.shape[2])),\n",
        "    layers.LSTM(units=50),\n",
        "    layers.Dense(units=1)\n",
        "])"
      ],
      "metadata": {
        "id": "pBq2JZgyX9Xs"
      },
      "id": "pBq2JZgyX9Xs",
      "execution_count": 13,
      "outputs": []
    },
    {
      "cell_type": "code",
      "source": [
        "model.compile(optimizer='adam', loss='mean_squared_error')"
      ],
      "metadata": {
        "id": "KHxMUAQHZQVW"
      },
      "id": "KHxMUAQHZQVW",
      "execution_count": 14,
      "outputs": []
    },
    {
      "cell_type": "code",
      "source": [
        "model.fit(x=X_train, y=y_train, epochs=50, validation_data=(X_test, y_test))"
      ],
      "metadata": {
        "id": "blFIx959ZZEU",
        "outputId": "f4831d8d-21fd-4b32-d4df-bb15178f01a5",
        "colab": {
          "base_uri": "https://localhost:8080/"
        }
      },
      "id": "blFIx959ZZEU",
      "execution_count": 15,
      "outputs": [
        {
          "output_type": "stream",
          "name": "stdout",
          "text": [
            "Epoch 1/50\n",
            "\u001b[1m789/789\u001b[0m \u001b[32m━━━━━━━━━━━━━━━━━━━━\u001b[0m\u001b[37m\u001b[0m \u001b[1m13s\u001b[0m 7ms/step - loss: 14859.4307 - val_loss: 4011.5515\n",
            "Epoch 2/50\n",
            "\u001b[1m789/789\u001b[0m \u001b[32m━━━━━━━━━━━━━━━━━━━━\u001b[0m\u001b[37m\u001b[0m \u001b[1m4s\u001b[0m 5ms/step - loss: 9244.9150 - val_loss: 1685.2742\n",
            "Epoch 3/50\n",
            "\u001b[1m789/789\u001b[0m \u001b[32m━━━━━━━━━━━━━━━━━━━━\u001b[0m\u001b[37m\u001b[0m \u001b[1m4s\u001b[0m 4ms/step - loss: 6203.0674 - val_loss: 687.7786\n",
            "Epoch 4/50\n",
            "\u001b[1m789/789\u001b[0m \u001b[32m━━━━━━━━━━━━━━━━━━━━\u001b[0m\u001b[37m\u001b[0m \u001b[1m5s\u001b[0m 4ms/step - loss: 4112.1689 - val_loss: 299.1643\n",
            "Epoch 5/50\n",
            "\u001b[1m789/789\u001b[0m \u001b[32m━━━━━━━━━━━━━━━━━━━━\u001b[0m\u001b[37m\u001b[0m \u001b[1m6s\u001b[0m 5ms/step - loss: 2941.2085 - val_loss: 177.1273\n",
            "Epoch 6/50\n",
            "\u001b[1m789/789\u001b[0m \u001b[32m━━━━━━━━━━━━━━━━━━━━\u001b[0m\u001b[37m\u001b[0m \u001b[1m3s\u001b[0m 4ms/step - loss: 1917.3417 - val_loss: 146.3209\n",
            "Epoch 7/50\n",
            "\u001b[1m789/789\u001b[0m \u001b[32m━━━━━━━━━━━━━━━━━━━━\u001b[0m\u001b[37m\u001b[0m \u001b[1m6s\u001b[0m 5ms/step - loss: 1298.1044 - val_loss: 153.6770\n",
            "Epoch 8/50\n",
            "\u001b[1m789/789\u001b[0m \u001b[32m━━━━━━━━━━━━━━━━━━━━\u001b[0m\u001b[37m\u001b[0m \u001b[1m4s\u001b[0m 5ms/step - loss: 999.4688 - val_loss: 139.9244\n",
            "Epoch 9/50\n",
            "\u001b[1m789/789\u001b[0m \u001b[32m━━━━━━━━━━━━━━━━━━━━\u001b[0m\u001b[37m\u001b[0m \u001b[1m4s\u001b[0m 5ms/step - loss: 771.7151 - val_loss: 130.5917\n",
            "Epoch 10/50\n",
            "\u001b[1m789/789\u001b[0m \u001b[32m━━━━━━━━━━━━━━━━━━━━\u001b[0m\u001b[37m\u001b[0m \u001b[1m4s\u001b[0m 5ms/step - loss: 551.9753 - val_loss: 136.0188\n",
            "Epoch 11/50\n",
            "\u001b[1m789/789\u001b[0m \u001b[32m━━━━━━━━━━━━━━━━━━━━\u001b[0m\u001b[37m\u001b[0m \u001b[1m5s\u001b[0m 5ms/step - loss: 555.1011 - val_loss: 136.4311\n",
            "Epoch 12/50\n",
            "\u001b[1m789/789\u001b[0m \u001b[32m━━━━━━━━━━━━━━━━━━━━\u001b[0m\u001b[37m\u001b[0m \u001b[1m4s\u001b[0m 5ms/step - loss: 376.8768 - val_loss: 121.4762\n",
            "Epoch 13/50\n",
            "\u001b[1m789/789\u001b[0m \u001b[32m━━━━━━━━━━━━━━━━━━━━\u001b[0m\u001b[37m\u001b[0m \u001b[1m6s\u001b[0m 6ms/step - loss: 353.5885 - val_loss: 146.1355\n",
            "Epoch 14/50\n",
            "\u001b[1m789/789\u001b[0m \u001b[32m━━━━━━━━━━━━━━━━━━━━\u001b[0m\u001b[37m\u001b[0m \u001b[1m3s\u001b[0m 4ms/step - loss: 377.4452 - val_loss: 138.5004\n",
            "Epoch 15/50\n",
            "\u001b[1m789/789\u001b[0m \u001b[32m━━━━━━━━━━━━━━━━━━━━\u001b[0m\u001b[37m\u001b[0m \u001b[1m5s\u001b[0m 5ms/step - loss: 266.2201 - val_loss: 122.7840\n",
            "Epoch 16/50\n",
            "\u001b[1m789/789\u001b[0m \u001b[32m━━━━━━━━━━━━━━━━━━━━\u001b[0m\u001b[37m\u001b[0m \u001b[1m5s\u001b[0m 7ms/step - loss: 247.0674 - val_loss: 135.1292\n",
            "Epoch 17/50\n",
            "\u001b[1m789/789\u001b[0m \u001b[32m━━━━━━━━━━━━━━━━━━━━\u001b[0m\u001b[37m\u001b[0m \u001b[1m8s\u001b[0m 4ms/step - loss: 245.4247 - val_loss: 131.3435\n",
            "Epoch 18/50\n",
            "\u001b[1m789/789\u001b[0m \u001b[32m━━━━━━━━━━━━━━━━━━━━\u001b[0m\u001b[37m\u001b[0m \u001b[1m5s\u001b[0m 5ms/step - loss: 231.3307 - val_loss: 128.0855\n",
            "Epoch 19/50\n",
            "\u001b[1m789/789\u001b[0m \u001b[32m━━━━━━━━━━━━━━━━━━━━\u001b[0m\u001b[37m\u001b[0m \u001b[1m3s\u001b[0m 4ms/step - loss: 208.9376 - val_loss: 129.2668\n",
            "Epoch 20/50\n",
            "\u001b[1m789/789\u001b[0m \u001b[32m━━━━━━━━━━━━━━━━━━━━\u001b[0m\u001b[37m\u001b[0m \u001b[1m6s\u001b[0m 5ms/step - loss: 193.4312 - val_loss: 142.6517\n",
            "Epoch 21/50\n",
            "\u001b[1m789/789\u001b[0m \u001b[32m━━━━━━━━━━━━━━━━━━━━\u001b[0m\u001b[37m\u001b[0m \u001b[1m4s\u001b[0m 5ms/step - loss: 182.7820 - val_loss: 130.5040\n",
            "Epoch 22/50\n",
            "\u001b[1m789/789\u001b[0m \u001b[32m━━━━━━━━━━━━━━━━━━━━\u001b[0m\u001b[37m\u001b[0m \u001b[1m5s\u001b[0m 5ms/step - loss: 160.7255 - val_loss: 128.9989\n",
            "Epoch 23/50\n",
            "\u001b[1m789/789\u001b[0m \u001b[32m━━━━━━━━━━━━━━━━━━━━\u001b[0m\u001b[37m\u001b[0m \u001b[1m4s\u001b[0m 5ms/step - loss: 161.7680 - val_loss: 122.9153\n",
            "Epoch 24/50\n",
            "\u001b[1m789/789\u001b[0m \u001b[32m━━━━━━━━━━━━━━━━━━━━\u001b[0m\u001b[37m\u001b[0m \u001b[1m4s\u001b[0m 5ms/step - loss: 192.7422 - val_loss: 126.3123\n",
            "Epoch 25/50\n",
            "\u001b[1m789/789\u001b[0m \u001b[32m━━━━━━━━━━━━━━━━━━━━\u001b[0m\u001b[37m\u001b[0m \u001b[1m5s\u001b[0m 4ms/step - loss: 160.5049 - val_loss: 133.3220\n",
            "Epoch 26/50\n",
            "\u001b[1m789/789\u001b[0m \u001b[32m━━━━━━━━━━━━━━━━━━━━\u001b[0m\u001b[37m\u001b[0m \u001b[1m4s\u001b[0m 5ms/step - loss: 162.4130 - val_loss: 129.1241\n",
            "Epoch 27/50\n",
            "\u001b[1m789/789\u001b[0m \u001b[32m━━━━━━━━━━━━━━━━━━━━\u001b[0m\u001b[37m\u001b[0m \u001b[1m4s\u001b[0m 5ms/step - loss: 152.2863 - val_loss: 136.6288\n",
            "Epoch 28/50\n",
            "\u001b[1m789/789\u001b[0m \u001b[32m━━━━━━━━━━━━━━━━━━━━\u001b[0m\u001b[37m\u001b[0m \u001b[1m3s\u001b[0m 4ms/step - loss: 144.9387 - val_loss: 122.5856\n",
            "Epoch 29/50\n",
            "\u001b[1m789/789\u001b[0m \u001b[32m━━━━━━━━━━━━━━━━━━━━\u001b[0m\u001b[37m\u001b[0m \u001b[1m4s\u001b[0m 5ms/step - loss: 134.4151 - val_loss: 132.7771\n",
            "Epoch 30/50\n",
            "\u001b[1m789/789\u001b[0m \u001b[32m━━━━━━━━━━━━━━━━━━━━\u001b[0m\u001b[37m\u001b[0m \u001b[1m5s\u001b[0m 5ms/step - loss: 143.6785 - val_loss: 122.2695\n",
            "Epoch 31/50\n",
            "\u001b[1m789/789\u001b[0m \u001b[32m━━━━━━━━━━━━━━━━━━━━\u001b[0m\u001b[37m\u001b[0m \u001b[1m3s\u001b[0m 4ms/step - loss: 152.5785 - val_loss: 126.4017\n",
            "Epoch 32/50\n",
            "\u001b[1m789/789\u001b[0m \u001b[32m━━━━━━━━━━━━━━━━━━━━\u001b[0m\u001b[37m\u001b[0m \u001b[1m4s\u001b[0m 5ms/step - loss: 157.3559 - val_loss: 125.4729\n",
            "Epoch 33/50\n",
            "\u001b[1m789/789\u001b[0m \u001b[32m━━━━━━━━━━━━━━━━━━━━\u001b[0m\u001b[37m\u001b[0m \u001b[1m4s\u001b[0m 6ms/step - loss: 140.2617 - val_loss: 135.7464\n",
            "Epoch 34/50\n",
            "\u001b[1m789/789\u001b[0m \u001b[32m━━━━━━━━━━━━━━━━━━━━\u001b[0m\u001b[37m\u001b[0m \u001b[1m4s\u001b[0m 5ms/step - loss: 127.6625 - val_loss: 125.1874\n",
            "Epoch 35/50\n",
            "\u001b[1m789/789\u001b[0m \u001b[32m━━━━━━━━━━━━━━━━━━━━\u001b[0m\u001b[37m\u001b[0m \u001b[1m4s\u001b[0m 5ms/step - loss: 153.2178 - val_loss: 119.5654\n",
            "Epoch 36/50\n",
            "\u001b[1m789/789\u001b[0m \u001b[32m━━━━━━━━━━━━━━━━━━━━\u001b[0m\u001b[37m\u001b[0m \u001b[1m6s\u001b[0m 5ms/step - loss: 128.2345 - val_loss: 119.9792\n",
            "Epoch 37/50\n",
            "\u001b[1m789/789\u001b[0m \u001b[32m━━━━━━━━━━━━━━━━━━━━\u001b[0m\u001b[37m\u001b[0m \u001b[1m3s\u001b[0m 4ms/step - loss: 139.8560 - val_loss: 116.3959\n",
            "Epoch 38/50\n",
            "\u001b[1m789/789\u001b[0m \u001b[32m━━━━━━━━━━━━━━━━━━━━\u001b[0m\u001b[37m\u001b[0m \u001b[1m4s\u001b[0m 5ms/step - loss: 167.8729 - val_loss: 123.7636\n",
            "Epoch 39/50\n",
            "\u001b[1m789/789\u001b[0m \u001b[32m━━━━━━━━━━━━━━━━━━━━\u001b[0m\u001b[37m\u001b[0m \u001b[1m4s\u001b[0m 5ms/step - loss: 166.7201 - val_loss: 120.7980\n",
            "Epoch 40/50\n",
            "\u001b[1m789/789\u001b[0m \u001b[32m━━━━━━━━━━━━━━━━━━━━\u001b[0m\u001b[37m\u001b[0m \u001b[1m3s\u001b[0m 4ms/step - loss: 137.3586 - val_loss: 118.5590\n",
            "Epoch 41/50\n",
            "\u001b[1m789/789\u001b[0m \u001b[32m━━━━━━━━━━━━━━━━━━━━\u001b[0m\u001b[37m\u001b[0m \u001b[1m4s\u001b[0m 5ms/step - loss: 121.4500 - val_loss: 119.1384\n",
            "Epoch 42/50\n",
            "\u001b[1m789/789\u001b[0m \u001b[32m━━━━━━━━━━━━━━━━━━━━\u001b[0m\u001b[37m\u001b[0m \u001b[1m4s\u001b[0m 5ms/step - loss: 134.9440 - val_loss: 117.1959\n",
            "Epoch 43/50\n",
            "\u001b[1m789/789\u001b[0m \u001b[32m━━━━━━━━━━━━━━━━━━━━\u001b[0m\u001b[37m\u001b[0m \u001b[1m4s\u001b[0m 5ms/step - loss: 151.7671 - val_loss: 118.1777\n",
            "Epoch 44/50\n",
            "\u001b[1m789/789\u001b[0m \u001b[32m━━━━━━━━━━━━━━━━━━━━\u001b[0m\u001b[37m\u001b[0m \u001b[1m4s\u001b[0m 4ms/step - loss: 143.9229 - val_loss: 122.4298\n",
            "Epoch 45/50\n",
            "\u001b[1m789/789\u001b[0m \u001b[32m━━━━━━━━━━━━━━━━━━━━\u001b[0m\u001b[37m\u001b[0m \u001b[1m4s\u001b[0m 4ms/step - loss: 115.2945 - val_loss: 125.6417\n",
            "Epoch 46/50\n",
            "\u001b[1m789/789\u001b[0m \u001b[32m━━━━━━━━━━━━━━━━━━━━\u001b[0m\u001b[37m\u001b[0m \u001b[1m5s\u001b[0m 4ms/step - loss: 145.8795 - val_loss: 123.5918\n",
            "Epoch 47/50\n",
            "\u001b[1m789/789\u001b[0m \u001b[32m━━━━━━━━━━━━━━━━━━━━\u001b[0m\u001b[37m\u001b[0m \u001b[1m5s\u001b[0m 5ms/step - loss: 137.1663 - val_loss: 123.7337\n",
            "Epoch 48/50\n",
            "\u001b[1m789/789\u001b[0m \u001b[32m━━━━━━━━━━━━━━━━━━━━\u001b[0m\u001b[37m\u001b[0m \u001b[1m4s\u001b[0m 6ms/step - loss: 134.1261 - val_loss: 122.9671\n",
            "Epoch 49/50\n",
            "\u001b[1m789/789\u001b[0m \u001b[32m━━━━━━━━━━━━━━━━━━━━\u001b[0m\u001b[37m\u001b[0m \u001b[1m4s\u001b[0m 4ms/step - loss: 139.0110 - val_loss: 122.6830\n",
            "Epoch 50/50\n",
            "\u001b[1m789/789\u001b[0m \u001b[32m━━━━━━━━━━━━━━━━━━━━\u001b[0m\u001b[37m\u001b[0m \u001b[1m5s\u001b[0m 4ms/step - loss: 135.4014 - val_loss: 127.1726\n"
          ]
        },
        {
          "output_type": "execute_result",
          "data": {
            "text/plain": [
              "<keras.src.callbacks.history.History at 0x7de7f97caa70>"
            ]
          },
          "metadata": {},
          "execution_count": 15
        }
      ]
    }
  ],
  "metadata": {
    "Author": "Jesús López",
    "Company": "Datons Academy",
    "Copyright": "Copyright 2023, Jesús López",
    "kernelspec": {
      "display_name": "Python 3",
      "name": "python3"
    },
    "language_info": {
      "codemirror_mode": {
        "name": "ipython",
        "version": 3
      },
      "file_extension": ".py",
      "mimetype": "text/x-python",
      "name": "python",
      "nbconvert_exporter": "python",
      "pygments_lexer": "ipython3",
      "version": "3.12.2"
    },
    "papermill": {
      "default_parameters": {},
      "duration": 5.591946,
      "end_time": "2024-05-29T22:33:34.679814",
      "environment_variables": {},
      "exception": null,
      "input_path": "/Users/sota/Library/CloudStorage/Dropbox/2 Business/1 Datons/2 Areas/Courses/22 TS/solutions-new/notebooks/60_Forecasting II Deep Learning/1_Sequence Preprocessing/1.ipynb",
      "output_path": "/Users/sota/Library/CloudStorage/Dropbox/2 Business/1 Datons/2 Areas/Courses/22 TS/solutions-new/notebooks/60_Forecasting II Deep Learning/1_Sequence Preprocessing/1.ipynb",
      "parameters": {},
      "start_time": "2024-05-29T22:33:29.087868",
      "version": "2.5.0"
    },
    "colab": {
      "provenance": [],
      "gpuType": "T4",
      "include_colab_link": true
    },
    "accelerator": "GPU"
  },
  "nbformat": 4,
  "nbformat_minor": 5
}