{
 "cells": [
  {
   "cell_type": "markdown",
   "id": "f0a286c6",
   "metadata": {
    "papermill": {
     "duration": 0.003927,
     "end_time": "2024-05-29T22:25:03.867571",
     "exception": false,
     "start_time": "2024-05-29T22:25:03.863644",
     "status": "completed"
    },
    "tags": []
   },
   "source": [
    "# Multivariate Time Series Manipulation & Visualization"
   ]
  },
  {
   "cell_type": "markdown",
   "id": "88a1ee4b",
   "metadata": {
    "papermill": {
     "duration": 0.003321,
     "end_time": "2024-05-29T22:25:03.875547",
     "exception": false,
     "start_time": "2024-05-29T22:25:03.872226",
     "status": "completed"
    },
    "tags": []
   },
   "source": [
    "## Overview"
   ]
  },
  {
   "cell_type": "markdown",
   "id": "0784ec20",
   "metadata": {
    "papermill": {
     "duration": 0.002668,
     "end_time": "2024-05-29T22:25:03.881094",
     "exception": false,
     "start_time": "2024-05-29T22:25:03.878426",
     "status": "completed"
    },
    "tags": []
   },
   "source": [
    "<style>\n",
    "    table.custom-table {\n",
    "        max-width: 1000px;\n",
    "        width: 100%;\n",
    "        margin: 0 auto; /* centers the table on the page */\n",
    "    }\n",
    "\n",
    "    table.custom-table td {\n",
    "        background-color: #fff;\n",
    "    }\n",
    "    \n",
    "    table.custom-table th, table.custom-table td {\n",
    "        text-align: center;\n",
    "        vertical-align: middle;\n",
    "        padding: 5px;\n",
    "        width: 333px; /* distribute the total width equally among three columns */\n",
    "    }\n",
    "\n",
    "    table.custom-table img {\n",
    "        width: 100%;\n",
    "        display: block; /* removes any gap under the image */\n",
    "    }\n",
    "</style>\n",
    "\n",
    "\n",
    "<table class=\"custom-table\">\n",
    "    <thead>\n",
    "        <tr>\n",
    "            <th>Output: Accumulated Generation</th>\n",
    "            <th>Output: Technology Relationship</th>\n",
    "            <th>Input: Hourly Energy Generation</th>\n",
    "        </tr>\n",
    "    </thead>\n",
    "    <tbody>\n",
    "        <tr>\n",
    "            <td>\n",
    "                <img src=\"src/03_output_2.png\" alt=\"Solar Image 1\">\n",
    "            </td>\n",
    "            <td>\n",
    "                <img src=\"src/03_output_1.png\" alt=\"Solar Image 2\">\n",
    "            </td>\n",
    "            <td>\n",
    "                <img src=\"src/03_input.png\" alt=\"Solar Image 3\">\n",
    "            </td>\n",
    "        </tr>\n",
    "    </tbody>\n",
    "</table>\n"
   ]
  },
  {
   "cell_type": "markdown",
   "id": "f22bdafb",
   "metadata": {
    "papermill": {
     "duration": 0.002396,
     "end_time": "2024-05-29T22:25:03.885960",
     "exception": false,
     "start_time": "2024-05-29T22:25:03.883564",
     "status": "completed"
    },
    "tags": []
   },
   "source": [
    "## Data"
   ]
  },
  {
   "cell_type": "code",
   "execution_count": 1,
   "id": "b2a8b1d0",
   "metadata": {
    "execution": {
     "iopub.execute_input": "2024-05-29T22:25:03.891312Z",
     "iopub.status.busy": "2024-05-29T22:25:03.891161Z",
     "iopub.status.idle": "2024-05-29T22:25:03.908007Z",
     "shell.execute_reply": "2024-05-29T22:25:03.907801Z"
    },
    "jupyter": {
     "source_hidden": true
    },
    "papermill": {
     "duration": 0.020497,
     "end_time": "2024-05-29T22:25:03.908866",
     "exception": false,
     "start_time": "2024-05-29T22:25:03.888369",
     "status": "completed"
    },
    "tags": [
     "Fixed"
    ]
   },
   "outputs": [
    {
     "data": {
      "text/html": [
       "<div>\n",
       "<style scoped>\n",
       "    .dataframe tbody tr th:only-of-type {\n",
       "        vertical-align: middle;\n",
       "    }\n",
       "\n",
       "    .dataframe tbody tr th {\n",
       "        vertical-align: top;\n",
       "    }\n",
       "\n",
       "    .dataframe thead th {\n",
       "        text-align: right;\n",
       "    }\n",
       "</style>\n",
       "<table border=\"1\" class=\"dataframe\">\n",
       "  <thead>\n",
       "    <tr style=\"text-align: right;\">\n",
       "      <th></th>\n",
       "      <th>Coal</th>\n",
       "      <th>Cogeneration</th>\n",
       "      <th>Combined Cycle (Gas)</th>\n",
       "      <th>Eolic</th>\n",
       "      <th>Hydraulic</th>\n",
       "      <th>Non-Renewable Residues</th>\n",
       "      <th>Nuclear</th>\n",
       "      <th>Pumped Storage Hydropower</th>\n",
       "      <th>Renewables Other</th>\n",
       "      <th>Solar Photovoltaic</th>\n",
       "      <th>Solar Thermal</th>\n",
       "    </tr>\n",
       "    <tr>\n",
       "      <th>time</th>\n",
       "      <th></th>\n",
       "      <th></th>\n",
       "      <th></th>\n",
       "      <th></th>\n",
       "      <th></th>\n",
       "      <th></th>\n",
       "      <th></th>\n",
       "      <th></th>\n",
       "      <th></th>\n",
       "      <th></th>\n",
       "      <th></th>\n",
       "    </tr>\n",
       "  </thead>\n",
       "  <tbody>\n",
       "    <tr>\n",
       "      <th>2022-09-01 00:00:00</th>\n",
       "      <td>695.00</td>\n",
       "      <td>1155.1</td>\n",
       "      <td>14748.950</td>\n",
       "      <td>4387.050</td>\n",
       "      <td>899.675</td>\n",
       "      <td>273.7</td>\n",
       "      <td>6869.9</td>\n",
       "      <td>201.600</td>\n",
       "      <td>516.600</td>\n",
       "      <td>1.000</td>\n",
       "      <td>287.7</td>\n",
       "    </tr>\n",
       "    <tr>\n",
       "      <th>2022-09-01 01:00:00</th>\n",
       "      <td>750.00</td>\n",
       "      <td>1162.1</td>\n",
       "      <td>14255.600</td>\n",
       "      <td>4008.900</td>\n",
       "      <td>850.200</td>\n",
       "      <td>271.6</td>\n",
       "      <td>6881.9</td>\n",
       "      <td>117.700</td>\n",
       "      <td>514.400</td>\n",
       "      <td>1.000</td>\n",
       "      <td>247.7</td>\n",
       "    </tr>\n",
       "    <tr>\n",
       "      <th>2022-09-01 02:00:00</th>\n",
       "      <td>777.50</td>\n",
       "      <td>1153.9</td>\n",
       "      <td>13644.750</td>\n",
       "      <td>3547.500</td>\n",
       "      <td>798.100</td>\n",
       "      <td>272.6</td>\n",
       "      <td>6873.9</td>\n",
       "      <td>78.000</td>\n",
       "      <td>512.700</td>\n",
       "      <td>1.200</td>\n",
       "      <td>239.7</td>\n",
       "    </tr>\n",
       "    <tr>\n",
       "      <th>2022-09-01 03:00:00</th>\n",
       "      <td>802.50</td>\n",
       "      <td>1146.0</td>\n",
       "      <td>13736.500</td>\n",
       "      <td>3188.650</td>\n",
       "      <td>795.500</td>\n",
       "      <td>273.0</td>\n",
       "      <td>6879.9</td>\n",
       "      <td>78.000</td>\n",
       "      <td>512.500</td>\n",
       "      <td>0.200</td>\n",
       "      <td>209.7</td>\n",
       "    </tr>\n",
       "    <tr>\n",
       "      <th>2022-09-01 04:00:00</th>\n",
       "      <td>816.25</td>\n",
       "      <td>1152.8</td>\n",
       "      <td>13706.825</td>\n",
       "      <td>2594.225</td>\n",
       "      <td>821.600</td>\n",
       "      <td>271.7</td>\n",
       "      <td>6873.9</td>\n",
       "      <td>78.100</td>\n",
       "      <td>513.100</td>\n",
       "      <td>0.400</td>\n",
       "      <td>231.5</td>\n",
       "    </tr>\n",
       "    <tr>\n",
       "      <th>...</th>\n",
       "      <td>...</td>\n",
       "      <td>...</td>\n",
       "      <td>...</td>\n",
       "      <td>...</td>\n",
       "      <td>...</td>\n",
       "      <td>...</td>\n",
       "      <td>...</td>\n",
       "      <td>...</td>\n",
       "      <td>...</td>\n",
       "      <td>...</td>\n",
       "      <td>...</td>\n",
       "    </tr>\n",
       "    <tr>\n",
       "      <th>2023-08-31 19:00:00</th>\n",
       "      <td>472.50</td>\n",
       "      <td>2084.9</td>\n",
       "      <td>9390.275</td>\n",
       "      <td>2780.800</td>\n",
       "      <td>2335.900</td>\n",
       "      <td>228.4</td>\n",
       "      <td>6853.0</td>\n",
       "      <td>1611.600</td>\n",
       "      <td>493.575</td>\n",
       "      <td>5212.173</td>\n",
       "      <td>1691.6</td>\n",
       "    </tr>\n",
       "    <tr>\n",
       "      <th>2023-08-31 20:00:00</th>\n",
       "      <td>455.00</td>\n",
       "      <td>2141.1</td>\n",
       "      <td>10097.725</td>\n",
       "      <td>3072.800</td>\n",
       "      <td>3860.400</td>\n",
       "      <td>230.9</td>\n",
       "      <td>6857.0</td>\n",
       "      <td>1910.850</td>\n",
       "      <td>500.600</td>\n",
       "      <td>861.975</td>\n",
       "      <td>1039.1</td>\n",
       "    </tr>\n",
       "    <tr>\n",
       "      <th>2023-08-31 21:00:00</th>\n",
       "      <td>509.10</td>\n",
       "      <td>2149.1</td>\n",
       "      <td>11359.425</td>\n",
       "      <td>3057.150</td>\n",
       "      <td>3852.325</td>\n",
       "      <td>236.9</td>\n",
       "      <td>6864.0</td>\n",
       "      <td>1343.375</td>\n",
       "      <td>505.100</td>\n",
       "      <td>21.400</td>\n",
       "      <td>668.8</td>\n",
       "    </tr>\n",
       "    <tr>\n",
       "      <th>2023-08-31 22:00:00</th>\n",
       "      <td>477.50</td>\n",
       "      <td>2153.4</td>\n",
       "      <td>10575.375</td>\n",
       "      <td>3057.950</td>\n",
       "      <td>3541.400</td>\n",
       "      <td>239.4</td>\n",
       "      <td>6866.0</td>\n",
       "      <td>946.250</td>\n",
       "      <td>510.700</td>\n",
       "      <td>17.600</td>\n",
       "      <td>607.9</td>\n",
       "    </tr>\n",
       "    <tr>\n",
       "      <th>2023-08-31 23:00:00</th>\n",
       "      <td>500.00</td>\n",
       "      <td>2127.7</td>\n",
       "      <td>9988.875</td>\n",
       "      <td>3028.675</td>\n",
       "      <td>3159.500</td>\n",
       "      <td>240.8</td>\n",
       "      <td>6869.0</td>\n",
       "      <td>334.950</td>\n",
       "      <td>511.900</td>\n",
       "      <td>17.400</td>\n",
       "      <td>619.8</td>\n",
       "    </tr>\n",
       "  </tbody>\n",
       "</table>\n",
       "<p>8759 rows × 11 columns</p>\n",
       "</div>"
      ],
      "text/plain": [
       "                       Coal  Cogeneration  Combined Cycle (Gas)     Eolic  \\\n",
       "time                                                                        \n",
       "2022-09-01 00:00:00  695.00        1155.1             14748.950  4387.050   \n",
       "2022-09-01 01:00:00  750.00        1162.1             14255.600  4008.900   \n",
       "2022-09-01 02:00:00  777.50        1153.9             13644.750  3547.500   \n",
       "2022-09-01 03:00:00  802.50        1146.0             13736.500  3188.650   \n",
       "2022-09-01 04:00:00  816.25        1152.8             13706.825  2594.225   \n",
       "...                     ...           ...                   ...       ...   \n",
       "2023-08-31 19:00:00  472.50        2084.9              9390.275  2780.800   \n",
       "2023-08-31 20:00:00  455.00        2141.1             10097.725  3072.800   \n",
       "2023-08-31 21:00:00  509.10        2149.1             11359.425  3057.150   \n",
       "2023-08-31 22:00:00  477.50        2153.4             10575.375  3057.950   \n",
       "2023-08-31 23:00:00  500.00        2127.7              9988.875  3028.675   \n",
       "\n",
       "                     Hydraulic  Non-Renewable Residues  Nuclear  \\\n",
       "time                                                              \n",
       "2022-09-01 00:00:00    899.675                   273.7   6869.9   \n",
       "2022-09-01 01:00:00    850.200                   271.6   6881.9   \n",
       "2022-09-01 02:00:00    798.100                   272.6   6873.9   \n",
       "2022-09-01 03:00:00    795.500                   273.0   6879.9   \n",
       "2022-09-01 04:00:00    821.600                   271.7   6873.9   \n",
       "...                        ...                     ...      ...   \n",
       "2023-08-31 19:00:00   2335.900                   228.4   6853.0   \n",
       "2023-08-31 20:00:00   3860.400                   230.9   6857.0   \n",
       "2023-08-31 21:00:00   3852.325                   236.9   6864.0   \n",
       "2023-08-31 22:00:00   3541.400                   239.4   6866.0   \n",
       "2023-08-31 23:00:00   3159.500                   240.8   6869.0   \n",
       "\n",
       "                     Pumped Storage Hydropower  Renewables Other  \\\n",
       "time                                                               \n",
       "2022-09-01 00:00:00                    201.600           516.600   \n",
       "2022-09-01 01:00:00                    117.700           514.400   \n",
       "2022-09-01 02:00:00                     78.000           512.700   \n",
       "2022-09-01 03:00:00                     78.000           512.500   \n",
       "2022-09-01 04:00:00                     78.100           513.100   \n",
       "...                                        ...               ...   \n",
       "2023-08-31 19:00:00                   1611.600           493.575   \n",
       "2023-08-31 20:00:00                   1910.850           500.600   \n",
       "2023-08-31 21:00:00                   1343.375           505.100   \n",
       "2023-08-31 22:00:00                    946.250           510.700   \n",
       "2023-08-31 23:00:00                    334.950           511.900   \n",
       "\n",
       "                     Solar Photovoltaic  Solar Thermal  \n",
       "time                                                    \n",
       "2022-09-01 00:00:00               1.000          287.7  \n",
       "2022-09-01 01:00:00               1.000          247.7  \n",
       "2022-09-01 02:00:00               1.200          239.7  \n",
       "2022-09-01 03:00:00               0.200          209.7  \n",
       "2022-09-01 04:00:00               0.400          231.5  \n",
       "...                                 ...            ...  \n",
       "2023-08-31 19:00:00            5212.173         1691.6  \n",
       "2023-08-31 20:00:00             861.975         1039.1  \n",
       "2023-08-31 21:00:00              21.400          668.8  \n",
       "2023-08-31 22:00:00              17.600          607.9  \n",
       "2023-08-31 23:00:00              17.400          619.8  \n",
       "\n",
       "[8759 rows x 11 columns]"
      ]
     },
     "execution_count": 1,
     "metadata": {},
     "output_type": "execute_result"
    }
   ],
   "source": [
    "import warnings\n",
    "warnings.filterwarnings('ignore')\n",
    "\n",
    "import pandas as pd\n",
    "df = pd.read_csv('../../../data/energy_generation_hourly_year.csv', index_col=0, parse_dates=True)\n",
    "df"
   ]
  },
  {
   "cell_type": "code",
   "execution_count": 2,
   "id": "ff358ad1",
   "metadata": {
    "execution": {
     "iopub.execute_input": "2024-05-29T22:25:04.638131Z",
     "iopub.status.busy": "2024-05-29T22:25:04.637789Z",
     "iopub.status.idle": "2024-05-29T22:25:05.006096Z",
     "shell.execute_reply": "2024-05-29T22:25:05.005838Z"
    },
    "jupyter": {
     "source_hidden": true
    },
    "papermill": {
     "duration": 0.371891,
     "end_time": "2024-05-29T22:25:05.006907",
     "exception": false,
     "start_time": "2024-05-29T22:25:04.635016",
     "status": "completed"
    },
    "tags": []
   },
   "outputs": [
    {
     "data": {
      "text/plain": [
       "<Axes: xlabel='time'>"
      ]
     },
     "execution_count": 2,
     "metadata": {},
     "output_type": "execute_result"
    },
    {
     "data": {
      "image/png": "[encoded data removed]",
      "text/plain": [
       "<Figure size 640x480 with 1 Axes>"
      ]
     },
     "metadata": {},
     "output_type": "display_data"
    }
   ],
   "source": [
    "df.plot()"
   ]
  },
  {
   "cell_type": "markdown",
   "id": "89a300ab",
   "metadata": {
    "papermill": {
     "duration": 0.002666,
     "end_time": "2024-05-29T22:25:05.012267",
     "exception": false,
     "start_time": "2024-05-29T22:25:05.009601",
     "status": "completed"
    },
    "tags": []
   },
   "source": [
    "## Resampling the Time\n",
    "- [Date offset `rule` list](https://pandas.pydata.org/docs/user_guide/timeseries.html#dateoffset-objects)\n",
    "- [Pandas plot `kind` list](https://pandas.pydata.org/docs/reference/api/pandas.DataFrame.plot.html)"
   ]
  },
  {
   "cell_type": "markdown",
   "id": "7d05efdf",
   "metadata": {
    "papermill": {
     "duration": 0.002247,
     "end_time": "2024-05-29T22:25:05.017125",
     "exception": false,
     "start_time": "2024-05-29T22:25:05.014878",
     "status": "completed"
    },
    "tags": []
   },
   "source": [
    "### Daily"
   ]
  },
  {
   "cell_type": "code",
   "execution_count": 3,
   "id": "032a77bb",
   "metadata": {
    "execution": {
     "iopub.execute_input": "2024-05-29T22:25:05.022268Z",
     "iopub.status.busy": "2024-05-29T22:25:05.022083Z",
     "iopub.status.idle": "2024-05-29T22:25:05.196114Z",
     "shell.execute_reply": "2024-05-29T22:25:05.195837Z"
    },
    "jupyter": {
     "source_hidden": true
    },
    "papermill": {
     "duration": 0.177655,
     "end_time": "2024-05-29T22:25:05.197004",
     "exception": false,
     "start_time": "2024-05-29T22:25:05.019349",
     "status": "completed"
    },
    "tags": []
   },
   "outputs": [
    {
     "data": {
      "text/plain": [
       "<Axes: xlabel='time'>"
      ]
     },
     "execution_count": 3,
     "metadata": {},
     "output_type": "execute_result"
    },
    {
     "data": {
      "image/png": "[encoded data removed]",
      "text/plain": [
       "<Figure size 640x480 with 1 Axes>"
      ]
     },
     "metadata": {},
     "output_type": "display_data"
    }
   ],
   "source": [
    "df.resample('D').sum().plot()"
   ]
  },
  {
   "cell_type": "markdown",
   "id": "09001fab",
   "metadata": {
    "papermill": {
     "duration": 0.003566,
     "end_time": "2024-05-29T22:25:05.204330",
     "exception": false,
     "start_time": "2024-05-29T22:25:05.200764",
     "status": "completed"
    },
    "tags": []
   },
   "source": [
    "### Monthly"
   ]
  },
  {
   "cell_type": "code",
   "execution_count": 4,
   "id": "e4285a33",
   "metadata": {
    "execution": {
     "iopub.execute_input": "2024-05-29T22:25:05.211252Z",
     "iopub.status.busy": "2024-05-29T22:25:05.211112Z",
     "iopub.status.idle": "2024-05-29T22:25:05.305656Z",
     "shell.execute_reply": "2024-05-29T22:25:05.305359Z"
    },
    "jupyter": {
     "source_hidden": true
    },
    "papermill": {
     "duration": 0.098828,
     "end_time": "2024-05-29T22:25:05.306459",
     "exception": false,
     "start_time": "2024-05-29T22:25:05.207631",
     "status": "completed"
    },
    "tags": []
   },
   "outputs": [
    {
     "data": {
      "text/plain": [
       "<Axes: xlabel='time'>"
      ]
     },
     "execution_count": 4,
     "metadata": {},
     "output_type": "execute_result"
    },
    {
     "data": {
      "image/png": "[encoded data removed]",
      "text/plain": [
       "<Figure size 640x480 with 1 Axes>"
      ]
     },
     "metadata": {},
     "output_type": "display_data"
    }
   ],
   "source": [
    "df.resample('ME').sum().plot()"
   ]
  },
  {
   "cell_type": "code",
   "execution_count": 6,
   "id": "06a3fa2f",
   "metadata": {
    "execution": {
     "iopub.execute_input": "2024-05-29T22:25:05.314296Z",
     "iopub.status.busy": "2024-05-29T22:25:05.314131Z",
     "iopub.status.idle": "2024-05-29T22:25:05.420385Z",
     "shell.execute_reply": "2024-05-29T22:25:05.420086Z"
    },
    "jupyter": {
     "source_hidden": true
    },
    "papermill": {
     "duration": 0.110898,
     "end_time": "2024-05-29T22:25:05.421179",
     "exception": false,
     "start_time": "2024-05-29T22:25:05.310281",
     "status": "completed"
    },
    "tags": []
   },
   "outputs": [
    {
     "data": {
      "text/plain": [
       "<Axes: xlabel='time'>"
      ]
     },
     "execution_count": 6,
     "metadata": {},
     "output_type": "execute_result"
    },
    {
     "data": {
      "image/png": "[encoded data removed]",
      "text/plain": [
       "<Figure size 640x480 with 1 Axes>"
      ]
     },
     "metadata": {},
     "output_type": "display_data"
    }
   ],
   "source": [
    "df.resample('ME').sum().plot.area()"
   ]
  },
  {
   "cell_type": "code",
   "execution_count": 7,
   "id": "f451af7f",
   "metadata": {
    "execution": {
     "iopub.execute_input": "2024-05-29T22:25:05.429629Z",
     "iopub.status.busy": "2024-05-29T22:25:05.429524Z",
     "iopub.status.idle": "2024-05-29T22:25:05.576290Z",
     "shell.execute_reply": "2024-05-29T22:25:05.575996Z"
    },
    "jupyter": {
     "source_hidden": true
    },
    "papermill": {
     "duration": 0.152006,
     "end_time": "2024-05-29T22:25:05.577160",
     "exception": false,
     "start_time": "2024-05-29T22:25:05.425154",
     "status": "completed"
    },
    "tags": []
   },
   "outputs": [
    {
     "data": {
      "text/plain": [
       "<Axes: xlabel='time'>"
      ]
     },
     "execution_count": 7,
     "metadata": {},
     "output_type": "execute_result"
    },
    {
     "data": {
      "image/png": "[encoded data removed]",
      "text/plain": [
       "<Figure size 640x480 with 1 Axes>"
      ]
     },
     "metadata": {},
     "output_type": "display_data"
    }
   ],
   "source": [
    "df.resample('ME').sum().plot.bar()"
   ]
  },
  {
   "cell_type": "markdown",
   "id": "09a53835",
   "metadata": {
    "papermill": {
     "duration": 0.003961,
     "end_time": "2024-05-29T22:25:05.585586",
     "exception": false,
     "start_time": "2024-05-29T22:25:05.581625",
     "status": "completed"
    },
    "tags": []
   },
   "source": [
    "## Visualize Time Series Correlation"
   ]
  },
  {
   "cell_type": "code",
   "execution_count": 10,
   "id": "beef8d56",
   "metadata": {
    "execution": {
     "iopub.execute_input": "2024-05-29T22:25:05.593596Z",
     "iopub.status.busy": "2024-05-29T22:25:05.593471Z",
     "iopub.status.idle": "2024-05-29T22:25:05.599312Z",
     "shell.execute_reply": "2024-05-29T22:25:05.599095Z"
    },
    "jupyter": {
     "source_hidden": true
    },
    "papermill": {
     "duration": 0.010565,
     "end_time": "2024-05-29T22:25:05.600058",
     "exception": false,
     "start_time": "2024-05-29T22:25:05.589493",
     "status": "completed"
    },
    "tags": []
   },
   "outputs": [],
   "source": [
    "df_weekly = df.resample('7D').mean()"
   ]
  },
  {
   "cell_type": "code",
   "execution_count": 12,
   "id": "1921355f",
   "metadata": {
    "execution": {
     "iopub.execute_input": "2024-05-29T22:25:05.608726Z",
     "iopub.status.busy": "2024-05-29T22:25:05.608612Z",
     "iopub.status.idle": "2024-05-29T22:25:05.652203Z",
     "shell.execute_reply": "2024-05-29T22:25:05.651990Z"
    },
    "jupyter": {
     "source_hidden": true
    },
    "papermill": {
     "duration": 0.049071,
     "end_time": "2024-05-29T22:25:05.653047",
     "exception": false,
     "start_time": "2024-05-29T22:25:05.603976",
     "status": "completed"
    },
    "tags": []
   },
   "outputs": [
    {
     "data": {
      "text/plain": [
       "<Axes: xlabel='Coal', ylabel='Eolic'>"
      ]
     },
     "execution_count": 12,
     "metadata": {},
     "output_type": "execute_result"
    },
    {
     "data": {
      "image/png": "[encoded data removed]",
      "text/plain": [
       "<Figure size 640x480 with 1 Axes>"
      ]
     },
     "metadata": {},
     "output_type": "display_data"
    }
   ],
   "source": [
    "df_weekly.plot.scatter(x='Coal', y='Eolic')"
   ]
  },
  {
   "cell_type": "code",
   "execution_count": 13,
   "id": "f07ac929",
   "metadata": {
    "execution": {
     "iopub.execute_input": "2024-05-29T22:25:05.661480Z",
     "iopub.status.busy": "2024-05-29T22:25:05.661383Z",
     "iopub.status.idle": "2024-05-29T22:25:05.704771Z",
     "shell.execute_reply": "2024-05-29T22:25:05.704514Z"
    },
    "jupyter": {
     "source_hidden": true
    },
    "papermill": {
     "duration": 0.04843,
     "end_time": "2024-05-29T22:25:05.705564",
     "exception": false,
     "start_time": "2024-05-29T22:25:05.657134",
     "status": "completed"
    },
    "tags": []
   },
   "outputs": [
    {
     "data": {
      "text/plain": [
       "<Axes: xlabel='Hydraulic', ylabel='Eolic'>"
      ]
     },
     "execution_count": 13,
     "metadata": {},
     "output_type": "execute_result"
    },
    {
     "data": {
      "image/png": "[encoded data removed]",
      "text/plain": [
       "<Figure size 640x480 with 1 Axes>"
      ]
     },
     "metadata": {},
     "output_type": "display_data"
    }
   ],
   "source": [
    "df_weekly.plot.scatter(x='Hydraulic', y='Eolic')"
   ]
  },
  {
   "cell_type": "markdown",
   "id": "683dc36f",
   "metadata": {
    "papermill": {
     "duration": 0.003953,
     "end_time": "2024-05-29T22:25:05.714039",
     "exception": false,
     "start_time": "2024-05-29T22:25:05.710086",
     "status": "completed"
    },
    "tags": []
   },
   "source": [
    "## Correlation Matrix\n",
    "\n",
    "- [Plotly Express Overview](https://plotly.com/python/plotly-express/#overview)"
   ]
  },
  {
   "cell_type": "markdown",
   "id": "6df2f6e2",
   "metadata": {
    "papermill": {
     "duration": 0.003947,
     "end_time": "2024-05-29T22:25:05.721909",
     "exception": false,
     "start_time": "2024-05-29T22:25:05.717962",
     "status": "completed"
    },
    "tags": []
   },
   "source": [
    "### Scatter Matrix"
   ]
  },
  {
   "cell_type": "code",
   "execution_count": 15,
   "id": "5e56cf40",
   "metadata": {
    "execution": {
     "iopub.execute_input": "2024-05-29T22:25:05.730027Z",
     "iopub.status.busy": "2024-05-29T22:25:05.729910Z",
     "iopub.status.idle": "2024-05-29T22:25:06.857265Z",
     "shell.execute_reply": "2024-05-29T22:25:06.856961Z"
    },
    "jupyter": {
     "source_hidden": true
    },
    "papermill": {
     "duration": 1.135982,
     "end_time": "2024-05-29T22:25:06.861663",
     "exception": false,
     "start_time": "2024-05-29T22:25:05.725681",
     "status": "completed"
    },
    "tags": []
   },
   "outputs": [
    {
     "data": {
      "application/vnd.plotly.v1+json": {
       "config": {
        "plotlyServerURL": "https://plot.ly"
       },
       "data": [
        {
         "dimensions": [
          {
           "axis": {
            "matches": true
           },
           "label": "Coal",
           "values": [
            812.7738095238095,
            968.987005952381,
            782.3946547619047,
            957.3909226190475,
            781.7114523809524,
            821.4525238095239,
            611.4479166666666,
            227.10357142857143,
            278.0025297619048,
            401.31041666666664,
            285.12023809523805,
            284.3354166666667,
            928.3364642857143,
            1114.8257678571429,
            1271.6204345238095,
            1302.051488095238,
            487.9547142857143,
            490.4471726190476,
            388.4244047619048,
            372.95714285714286,
            401.8802083333333,
            487.66279761904764,
            712.7455357142857,
            598.5607142857143,
            655.542113095238,
            603.5797619047619,
            689.2985119047619,
            549.7504464285714,
            523.1425595238095,
            480.53233532934127,
            456.8979166666667,
            403.54211309523805,
            313.2142857142857,
            339.57232142857146,
            328.78065476190477,
            307.40565476190477,
            298.61592261904764,
            290.7184523809524,
            380.66566666666665,
            514.8174107142856,
            397.9136904761905,
            405.6364107142857,
            374.76741071428575,
            326.77946428571425,
            372.5783630952381,
            329.05342261904764,
            383.7574404761905,
            545.4864583333334,
            426.7837797619048,
            603.4782321428571,
            649.4533214285714,
            599.3065535714286,
            522.9833333333333
           ]
          },
          {
           "axis": {
            "matches": true
           },
           "label": "Cogeneration",
           "values": [
            1025.5546011904762,
            928.3467380952382,
            1024.7542619047617,
            1166.8605416666667,
            1484.9238928571428,
            1736.920017857143,
            1479.1883511904762,
            1322.3956309523808,
            1519.4510952380954,
            2102.987869047619,
            2080.3985714285714,
            1978.4495535714286,
            1968.8788928571428,
            1806.7610595238095,
            1690.8820595238094,
            1599.682464285714,
            1141.8008035714286,
            1244.6521547619047,
            1758.3261904761905,
            1552.2059702380952,
            1592.4316547619046,
            1852.7025476190477,
            2434.960517857143,
            2574.634327380952,
            2678.4160654761904,
            2589.8099464285715,
            2674.2460654761903,
            2178.0480952380954,
            2554.778875,
            2252.4820778443113,
            1863.352880952381,
            2103.435630952381,
            2146.4648630952383,
            2491.9612559523807,
            2330.2741428571426,
            2288.848023809524,
            2169.4149404761906,
            2292.1647916666666,
            2558.9588214285714,
            2510.5405535714285,
            2496.4486904761907,
            2488.924988095238,
            2390.9009642857145,
            2085.7416785714286,
            2109.8146607142858,
            2078.2848511904763,
            2015.0979226190477,
            1951.674363095238,
            1690.7405654761903,
            1699.8071190476192,
            1792.5986011904763,
            1803.254160714286,
            2059.7710833333335
           ]
          },
          {
           "axis": {
            "matches": true
           },
           "label": "Combined Cycle (Gas)",
           "values": [
            11451.133279761905,
            11524.701541666665,
            10654.792732142858,
            7684.035785714286,
            10170.802333333333,
            12072.864023809523,
            9375.535744047618,
            6455.073815476191,
            5097.695101190477,
            6919.612648809524,
            6325.661964285714,
            3199.5702380952384,
            6490.133285714286,
            10867.089375,
            4857.394541666667,
            3836.1313511904764,
            2495.1647619047617,
            3016.024654761905,
            2957.7385416666666,
            2020.5138928571428,
            2639.127988095238,
            3365.5352202380955,
            4830.009910714286,
            6593.825297619047,
            6701.317803571429,
            5584.027136904762,
            6155.699160714286,
            1970.4676130952382,
            3561.6171904761904,
            2397.1864251497004,
            1750.161636904762,
            2839.689785714286,
            2134.3397321428574,
            4339.748648809524,
            4782.163720238095,
            3741.6076904761903,
            2707.0178452380956,
            3144.153922619048,
            5047.453208333333,
            5706.874107142857,
            5096.634119047619,
            6406.058166666666,
            5642.44619047619,
            4808.024273809524,
            7077.9410654761905,
            6888.8344226190475,
            5145.83544047619,
            4935.727101190477,
            4366.42880952381,
            5307.038083333334,
            7982.458839285714,
            6127.8117202380945,
            6561.120833333333
           ]
          },
          {
           "axis": {
            "matches": true
           },
           "label": "Eolic",
           "values": [
            5143.081583333334,
            5184.599363095238,
            4633.183035714285,
            6293.739095238096,
            4856.702482142857,
            3844.6168630952384,
            6948.647946428571,
            10389.143339285714,
            7466.935636904762,
            7564.26968452381,
            9313.201339285713,
            14579.280797619049,
            7343.494571428571,
            3479.7320238095235,
            10086.346726190477,
            8557.205660714286,
            7209.0037678571425,
            6778.685511904761,
            9050.50857142857,
            11759.049827380954,
            11796.905875,
            10450.007625,
            7585.842785714286,
            6408.426571428572,
            4280.710416666667,
            9630.248803571429,
            8723.504708333334,
            11605.629803571428,
            6205.824291666667,
            8016.869449101797,
            10009.608077380952,
            5187.5269285714285,
            8954.968916666667,
            5187.056654761905,
            5800.441934523809,
            6095.763976190477,
            10152.511857142857,
            8704.0785,
            4385.094089285714,
            2591.6865535714287,
            4332.2015,
            3753.470059523809,
            5341.493952380952,
            5655.755970238095,
            4623.5990357142855,
            5782.467827380952,
            5695.980071428571,
            4957.939708333333,
            7201.496946428571,
            4479.251863095238,
            3951.5472083333334,
            6934.034327380952,
            2901.9488333333334
           ]
          },
          {
           "axis": {
            "matches": true
           },
           "label": "Hydraulic",
           "values": [
            1028.6042857142857,
            1546.5593095238096,
            2386.393601190476,
            1885.0759821428571,
            975.9498809523809,
            822.0901785714285,
            808.3765654761905,
            1339.0941547619047,
            1271.4227083333335,
            1321.5495714285714,
            1425.7252976190478,
            1957.8436547619046,
            3191.163601190476,
            3411.0951428571434,
            3183.4375773809525,
            4594.995035714285,
            4477.282101190476,
            4600.002005952381,
            5031.839136904762,
            5175.999595238095,
            5620.592416666666,
            6047.99300595238,
            4827.807142857143,
            3866.6340773809525,
            3119.0802083333333,
            2993.909077380952,
            3233.1093511904764,
            2746.3901011904763,
            3159.4409523809522,
            2855.769532934132,
            2537.9559404761903,
            2428.8615,
            2211.2500476190476,
            2248.5374583333332,
            2228.793672619048,
            2091.2468095238096,
            1776.6767202380954,
            2004.6949345238095,
            2076.1986369047618,
            2660.992029761905,
            2777.0015297619047,
            2950.3420654761903,
            2310.6721785714285,
            1857.427654761905,
            2001.9399226190476,
            1824.8870119047617,
            1696.6939107142857,
            1542.6985714285713,
            1429.921107142857,
            1409.5606428571427,
            1541.2975416666666,
            1291.4917678571428,
            1678.407625
           ]
          },
          {
           "axis": {
            "matches": true
           },
           "label": "Non-Renewable Residues",
           "values": [
            265.4567976190476,
            259.83462499999996,
            220.91468452380954,
            215.7664166666667,
            283.6074345238095,
            298.1380952380952,
            303.2645357142857,
            239.07559523809522,
            239.6642857142857,
            242.3982142857143,
            222.05535714285716,
            235.3438988095238,
            243.38559523809522,
            253.4047619047619,
            254.23144642857145,
            242.75255952380954,
            251.35447619047622,
            245.32574404761903,
            242.57678571428573,
            223.628375,
            187.87107142857144,
            183.89424404761905,
            258.37465476190476,
            260.239880952381,
            255.14602976190477,
            259.4839285714286,
            265.1872023809524,
            225.66011904761905,
            234.12976190476192,
            224.0435508982036,
            224.0260714285714,
            211.73248809523807,
            149.8375,
            168.78065476190477,
            125.08977976190475,
            109.82797619047618,
            95.27261904761905,
            104.72102976190477,
            204.10892857142858,
            211.37321428571425,
            263.5541666666667,
            278.2690476190476,
            251.84300595238096,
            242.8654761904762,
            258.49583333333334,
            256.2280714285714,
            251.6982142857143,
            255.11369047619047,
            227.02678571428572,
            245.12391071428573,
            239.13273809523812,
            233.90416666666667,
            210.29583333333335
           ]
          },
          {
           "axis": {
            "matches": true
           },
           "label": "Nuclear",
           "values": [
            6890.202380952381,
            6916.328077380953,
            6878.1678571428565,
            6464.255952380952,
            6000.802976190476,
            5951.785714285715,
            5188.291071428572,
            4956.516071428571,
            4952.990029761904,
            5504.400297619048,
            6005.2172619047615,
            6000.7017857142855,
            6323.501523809524,
            6843.815773809524,
            6860.584375,
            7059.8345238095235,
            7061.394791666667,
            6797.756696428572,
            6446.566815476191,
            6761.003571428572,
            7078.666666666667,
            7085.504166666667,
            7087.066071428572,
            7031.5297619047615,
            6993.840476190476,
            6100.107738095238,
            6686.725,
            7016.801041666667,
            7060.143452380953,
            6989.4856287425155,
            6421.785714285715,
            7012.362499999999,
            6551.792559523809,
            5946.360119047619,
            5261.956398809524,
            5066.194196428572,
            4800.504267857143,
            5251.915773809524,
            5073.539285714285,
            5067.866666666667,
            5045.691666666667,
            5563.49161904762,
            6391.525148809523,
            6888.794047619047,
            6893.988095238095,
            6895.940476190476,
            6872.289285714286,
            6888.992857142857,
            6852.143452380953,
            6591.331416666667,
            6738.223613095239,
            6710.843452380952,
            6853.738541666667
           ]
          },
          {
           "axis": {
            "matches": true
           },
           "label": "Pumped Storage Hydropower",
           "values": [
            375.0948392857143,
            358.47454761904766,
            376.12232142857147,
            379.50074404761904,
            462.05129166666666,
            495.60758928571425,
            455.6322172619047,
            387.24523809523805,
            472.2734107142857,
            438.19132142857137,
            308.93869047619046,
            467.86292261904765,
            356.4708333333333,
            371.9048273809524,
            421.59375,
            423.48422619047625,
            689.5848214285714,
            625.8413928571429,
            569.7205357142857,
            668.7352678571428,
            650.6810238095238,
            453.57053571428577,
            395.55535714285713,
            159.57574404761903,
            387.13497023809526,
            322.2011904761905,
            314.00625,
            623.553994047619,
            650.9008452380953,
            692.6361736526945,
            697.2683035714285,
            656.1910535714285,
            597.577244047619,
            542.5595238095239,
            441.53353571428573,
            509.7975238095238,
            598.6834821428571,
            519.5086309523809,
            331.7010654761905,
            373.41309523809525,
            368.7328869047619,
            394.45213095238097,
            388.1648333333334,
            402.8941964285715,
            295.64151785714284,
            453.9837321428572,
            287.65446428571425,
            460.27410714285713,
            614.2679047619048,
            415.7237083333333,
            377.24742261904765,
            446.6014940476191,
            502.8041666666666
           ]
          },
          {
           "axis": {
            "matches": true
           },
           "label": "Renewables Other",
           "values": [
            493.73849404761904,
            473.8812857142857,
            514.9029880952381,
            494.184625,
            502.36469642857145,
            511.61657142857143,
            508.28070238095233,
            471.775,
            526.0821964285714,
            542.4541190476191,
            533.3637797619048,
            479.3968988095238,
            531.6748928571428,
            513.4638571428571,
            503.6984702380952,
            509.9700416666667,
            352.85863095238096,
            342.90267857142857,
            419.64711904761907,
            376.80744642857144,
            387.87622023809524,
            468.330255952381,
            531.1211607142857,
            548.7574523809524,
            543.4041666666666,
            537.8698988095238,
            515.1864345238095,
            400.6320416666667,
            431.30908928571426,
            389.6321377245509,
            284.0036726190476,
            395.42926785714286,
            356.140255952381,
            442.74084523809523,
            474.86084523809524,
            487.65811904761904,
            438.7584166666667,
            442.0676190476191,
            477.67310119047625,
            446.0828452380953,
            447.6742023809524,
            472.80520238095244,
            475.8618988095238,
            449.41402976190477,
            454.6351964285715,
            430.59007142857143,
            445.4764583333333,
            460.71920833333337,
            428.51628571428574,
            500.7517261904762,
            503.0946964285714,
            448.65827976190474,
            473.9429583333333
           ]
          },
          {
           "axis": {
            "matches": true
           },
           "label": "Solar Photovoltaic",
           "values": [
            4142.0445,
            3303.7693988095234,
            3619.457303571429,
            3650.841571428571,
            3641.734952380952,
            3034.168773809524,
            3050.026505952381,
            1886.4351190476189,
            2394.1941964285716,
            2471.0719345238094,
            2014.1305,
            1576.2454702380953,
            2293.0996547619047,
            1647.031994047619,
            951.3579226190476,
            1570.6376488095239,
            2082.7550595238095,
            1909.2460952380952,
            1887.586011904762,
            2053.2307380952384,
            2650.0418035714283,
            3115.8502619047617,
            3176.257261904762,
            3033.9081845238097,
            3237.9436011904763,
            3672.048726190476,
            3273.1534464285714,
            3843.0853035714285,
            4357.260732142857,
            4540.9755389221555,
            4573.108880952381,
            5082.602232142857,
            5115.373773809524,
            5324.819398809524,
            4987.80036904762,
            5841.116303571429,
            5591.766482142857,
            4473.958886904762,
            4459.480494047619,
            4659.481226190476,
            5132.642404761905,
            5395.097785714285,
            5991.072446428571,
            6003.499833333333,
            5891.315880952381,
            6037.054244047619,
            6077.069678571429,
            6384.237202380953,
            5905.037523809524,
            6175.228803571428,
            6056.366720238096,
            5359.106035714286,
            5786.667541666667
           ]
          },
          {
           "axis": {
            "matches": true
           },
           "label": "Solar Thermal",
           "values": [
            797.3052083333333,
            490.11792261904765,
            512.3229166666666,
            687.7196428571428,
            524.2591011904761,
            327.74956547619047,
            327.4776904761905,
            31.717857142857145,
            156.625,
            202.29642857142858,
            170.79464285714286,
            53.06547619047619,
            179.6261904761905,
            97.9279761904762,
            7.17202380952381,
            63.960565476190474,
            183.37738095238097,
            124.60973214285715,
            93.2,
            118.38749999999999,
            247.37470238095236,
            285.4809523809524,
            300.8802083333333,
            235.55119047619047,
            188.5220238095238,
            454.978869047619,
            297.1707321428571,
            491.63887500000004,
            648.818244047619,
            749.9919580838324,
            801.2052976190475,
            956.7559940476191,
            1003.9624821428572,
            925.9968690476189,
            680.1479285714286,
            1009.1297619047618,
            973.3088392857144,
            366.6095357142857,
            404.3873869047619,
            581.0873392857143,
            638.7425833333333,
            856.0193571428572,
            1117.931136904762,
            1103.1565595238094,
            1052.433994047619,
            997.8485773809523,
            1059.8264761904761,
            1159.568619047619,
            1055.8519583333332,
            1042.3847678571428,
            1033.6337023809524,
            905.663369047619,
            932.8006666666666
           ]
          }
         ],
         "hovertemplate": "%{xaxis.title.text}=%{x}<br>%{yaxis.title.text}=%{y}<extra></extra>",
         "legendgroup": "",
         "marker": {
          "color": "#636efa",
          "symbol": "circle"
         },
         "name": "",
         "showlegend": false,
         "type": "splom"
        }
       ],
       "layout": {
        "dragmode": "select",
        "height": 800,
        "legend": {
         "tracegroupgap": 0
        },
        "margin": {
         "t": 60
        },
        "template": {
         "data": {
          "bar": [
           {
            "error_x": {
             "color": "#2a3f5f"
            },
            "error_y": {
             "color": "#2a3f5f"
            },
            "marker": {
             "line": {
              "color": "#E5ECF6",
              "width": 0.5
             },
             "pattern": {
              "fillmode": "overlay",
              "size": 10,
              "solidity": 0.2
             }
            },
            "type": "bar"
           }
          ],
          "barpolar": [
           {
            "marker": {
             "line": {
              "color": "#E5ECF6",
              "width": 0.5
             },
             "pattern": {
              "fillmode": "overlay",
              "size": 10,
              "solidity": 0.2
             }
            },
            "type": "barpolar"
           }
          ],
          "carpet": [
           {
            "aaxis": {
             "endlinecolor": "#2a3f5f",
             "gridcolor": "white",
             "linecolor": "white",
             "minorgridcolor": "white",
             "startlinecolor": "#2a3f5f"
            },
            "baxis": {
             "endlinecolor": "#2a3f5f",
             "gridcolor": "white",
             "linecolor": "white",
             "minorgridcolor": "white",
             "startlinecolor": "#2a3f5f"
            },
            "type": "carpet"
           }
          ],
          "choropleth": [
           {
            "colorbar": {
             "outlinewidth": 0,
             "ticks": ""
            },
            "type": "choropleth"
           }
          ],
          "contour": [
           {
            "colorbar": {
             "outlinewidth": 0,
             "ticks": ""
            },
            "colorscale": [
             [
              0,
              "#0d0887"
             ],
             [
              0.1111111111111111,
              "#46039f"
             ],
             [
              0.2222222222222222,
              "#7201a8"
             ],
             [
              0.3333333333333333,
              "#9c179e"
             ],
             [
              0.4444444444444444,
              "#bd3786"
             ],
             [
              0.5555555555555556,
              "#d8576b"
             ],
             [
              0.6666666666666666,
              "#ed7953"
             ],
             [
              0.7777777777777778,
              "#fb9f3a"
             ],
             [
              0.8888888888888888,
              "#fdca26"
             ],
             [
              1,
              "#f0f921"
             ]
            ],
            "type": "contour"
           }
          ],
          "contourcarpet": [
           {
            "colorbar": {
             "outlinewidth": 0,
             "ticks": ""
            },
            "type": "contourcarpet"
           }
          ],
          "heatmap": [
           {
            "colorbar": {
             "outlinewidth": 0,
             "ticks": ""
            },
            "colorscale": [
             [
              0,
              "#0d0887"
             ],
             [
              0.1111111111111111,
              "#46039f"
             ],
             [
              0.2222222222222222,
              "#7201a8"
             ],
             [
              0.3333333333333333,
              "#9c179e"
             ],
             [
              0.4444444444444444,
              "#bd3786"
             ],
             [
              0.5555555555555556,
              "#d8576b"
             ],
             [
              0.6666666666666666,
              "#ed7953"
             ],
             [
              0.7777777777777778,
              "#fb9f3a"
             ],
             [
              0.8888888888888888,
              "#fdca26"
             ],
             [
              1,
              "#f0f921"
             ]
            ],
            "type": "heatmap"
           }
          ],
          "heatmapgl": [
           {
            "colorbar": {
             "outlinewidth": 0,
             "ticks": ""
            },
            "colorscale": [
             [
              0,
              "#0d0887"
             ],
             [
              0.1111111111111111,
              "#46039f"
             ],
             [
              0.2222222222222222,
              "#7201a8"
             ],
             [
              0.3333333333333333,
              "#9c179e"
             ],
             [
              0.4444444444444444,
              "#bd3786"
             ],
             [
              0.5555555555555556,
              "#d8576b"
             ],
             [
              0.6666666666666666,
              "#ed7953"
             ],
             [
              0.7777777777777778,
              "#fb9f3a"
             ],
             [
              0.8888888888888888,
              "#fdca26"
             ],
             [
              1,
              "#f0f921"
             ]
            ],
            "type": "heatmapgl"
           }
          ],
          "histogram": [
           {
            "marker": {
             "pattern": {
              "fillmode": "overlay",
              "size": 10,
              "solidity": 0.2
             }
            },
            "type": "histogram"
           }
          ],
          "histogram2d": [
           {
            "colorbar": {
             "outlinewidth": 0,
             "ticks": ""
            },
            "colorscale": [
             [
              0,
              "#0d0887"
             ],
             [
              0.1111111111111111,
              "#46039f"
             ],
             [
              0.2222222222222222,
              "#7201a8"
             ],
             [
              0.3333333333333333,
              "#9c179e"
             ],
             [
              0.4444444444444444,
              "#bd3786"
             ],
             [
              0.5555555555555556,
              "#d8576b"
             ],
             [
              0.6666666666666666,
              "#ed7953"
             ],
             [
              0.7777777777777778,
              "#fb9f3a"
             ],
             [
              0.8888888888888888,
              "#fdca26"
             ],
             [
              1,
              "#f0f921"
             ]
            ],
            "type": "histogram2d"
           }
          ],
          "histogram2dcontour": [
           {
            "colorbar": {
             "outlinewidth": 0,
             "ticks": ""
            },
            "colorscale": [
             [
              0,
              "#0d0887"
             ],
             [
              0.1111111111111111,
              "#46039f"
             ],
             [
              0.2222222222222222,
              "#7201a8"
             ],
             [
              0.3333333333333333,
              "#9c179e"
             ],
             [
              0.4444444444444444,
              "#bd3786"
             ],
             [
              0.5555555555555556,
              "#d8576b"
             ],
             [
              0.6666666666666666,
              "#ed7953"
             ],
             [
              0.7777777777777778,
              "#fb9f3a"
             ],
             [
              0.8888888888888888,
              "#fdca26"
             ],
             [
              1,
              "#f0f921"
             ]
            ],
            "type": "histogram2dcontour"
           }
          ],
          "mesh3d": [
           {
            "colorbar": {
             "outlinewidth": 0,
             "ticks": ""
            },
            "type": "mesh3d"
           }
          ],
          "parcoords": [
           {
            "line": {
             "colorbar": {
              "outlinewidth": 0,
              "ticks": ""
             }
            },
            "type": "parcoords"
           }
          ],
          "pie": [
           {
            "automargin": true,
            "type": "pie"
           }
          ],
          "scatter": [
           {
            "fillpattern": {
             "fillmode": "overlay",
             "size": 10,
             "solidity": 0.2
            },
            "type": "scatter"
           }
          ],
          "scatter3d": [
           {
            "line": {
             "colorbar": {
              "outlinewidth": 0,
              "ticks": ""
             }
            },
            "marker": {
             "colorbar": {
              "outlinewidth": 0,
              "ticks": ""
             }
            },
            "type": "scatter3d"
           }
          ],
          "scattercarpet": [
           {
            "marker": {
             "colorbar": {
              "outlinewidth": 0,
              "ticks": ""
             }
            },
            "type": "scattercarpet"
           }
          ],
          "scattergeo": [
           {
            "marker": {
             "colorbar": {
              "outlinewidth": 0,
              "ticks": ""
             }
            },
            "type": "scattergeo"
           }
          ],
          "scattergl": [
           {
            "marker": {
             "colorbar": {
              "outlinewidth": 0,
              "ticks": ""
             }
            },
            "type": "scattergl"
           }
          ],
          "scattermapbox": [
           {
            "marker": {
             "colorbar": {
              "outlinewidth": 0,
              "ticks": ""
             }
            },
            "type": "scattermapbox"
           }
          ],
          "scatterpolar": [
           {
            "marker": {
             "colorbar": {
              "outlinewidth": 0,
              "ticks": ""
             }
            },
            "type": "scatterpolar"
           }
          ],
          "scatterpolargl": [
           {
            "marker": {
             "colorbar": {
              "outlinewidth": 0,
              "ticks": ""
             }
            },
            "type": "scatterpolargl"
           }
          ],
          "scatterternary": [
           {
            "marker": {
             "colorbar": {
              "outlinewidth": 0,
              "ticks": ""
             }
            },
            "type": "scatterternary"
           }
          ],
          "surface": [
           {
            "colorbar": {
             "outlinewidth": 0,
             "ticks": ""
            },
            "colorscale": [
             [
              0,
              "#0d0887"
             ],
             [
              0.1111111111111111,
              "#46039f"
             ],
             [
              0.2222222222222222,
              "#7201a8"
             ],
             [
              0.3333333333333333,
              "#9c179e"
             ],
             [
              0.4444444444444444,
              "#bd3786"
             ],
             [
              0.5555555555555556,
              "#d8576b"
             ],
             [
              0.6666666666666666,
              "#ed7953"
             ],
             [
              0.7777777777777778,
              "#fb9f3a"
             ],
             [
              0.8888888888888888,
              "#fdca26"
             ],
             [
              1,
              "#f0f921"
             ]
            ],
            "type": "surface"
           }
          ],
          "table": [
           {
            "cells": {
             "fill": {
              "color": "#EBF0F8"
             },
             "line": {
              "color": "white"
             }
            },
            "header": {
             "fill": {
              "color": "#C8D4E3"
             },
             "line": {
              "color": "white"
             }
            },
            "type": "table"
           }
          ]
         },
         "layout": {
          "annotationdefaults": {
           "arrowcolor": "#2a3f5f",
           "arrowhead": 0,
           "arrowwidth": 1
          },
          "autotypenumbers": "strict",
          "coloraxis": {
           "colorbar": {
            "outlinewidth": 0,
            "ticks": ""
           }
          },
          "colorscale": {
           "diverging": [
            [
             0,
             "#8e0152"
            ],
            [
             0.1,
             "#c51b7d"
            ],
            [
             0.2,
             "#de77ae"
            ],
            [
             0.3,
             "#f1b6da"
            ],
            [
             0.4,
             "#fde0ef"
            ],
            [
             0.5,
             "#f7f7f7"
            ],
            [
             0.6,
             "#e6f5d0"
            ],
            [
             0.7,
             "#b8e186"
            ],
            [
             0.8,
             "#7fbc41"
            ],
            [
             0.9,
             "#4d9221"
            ],
            [
             1,
             "#276419"
            ]
           ],
           "sequential": [
            [
             0,
             "#0d0887"
            ],
            [
             0.1111111111111111,
             "#46039f"
            ],
            [
             0.2222222222222222,
             "#7201a8"
            ],
            [
             0.3333333333333333,
             "#9c179e"
            ],
            [
             0.4444444444444444,
             "#bd3786"
            ],
            [
             0.5555555555555556,
             "#d8576b"
            ],
            [
             0.6666666666666666,
             "#ed7953"
            ],
            [
             0.7777777777777778,
             "#fb9f3a"
            ],
            [
             0.8888888888888888,
             "#fdca26"
            ],
            [
             1,
             "#f0f921"
            ]
           ],
           "sequentialminus": [
            [
             0,
             "#0d0887"
            ],
            [
             0.1111111111111111,
             "#46039f"
            ],
            [
             0.2222222222222222,
             "#7201a8"
            ],
            [
             0.3333333333333333,
             "#9c179e"
            ],
            [
             0.4444444444444444,
             "#bd3786"
            ],
            [
             0.5555555555555556,
             "#d8576b"
            ],
            [
             0.6666666666666666,
             "#ed7953"
            ],
            [
             0.7777777777777778,
             "#fb9f3a"
            ],
            [
             0.8888888888888888,
             "#fdca26"
            ],
            [
             1,
             "#f0f921"
            ]
           ]
          },
          "colorway": [
           "#636efa",
           "#EF553B",
           "#00cc96",
           "#ab63fa",
           "#FFA15A",
           "#19d3f3",
           "#FF6692",
           "#B6E880",
           "#FF97FF",
           "#FECB52"
          ],
          "font": {
           "color": "#2a3f5f"
          },
          "geo": {
           "bgcolor": "white",
           "lakecolor": "white",
           "landcolor": "#E5ECF6",
           "showlakes": true,
           "showland": true,
           "subunitcolor": "white"
          },
          "hoverlabel": {
           "align": "left"
          },
          "hovermode": "closest",
          "mapbox": {
           "style": "light"
          },
          "paper_bgcolor": "white",
          "plot_bgcolor": "#E5ECF6",
          "polar": {
           "angularaxis": {
            "gridcolor": "white",
            "linecolor": "white",
            "ticks": ""
           },
           "bgcolor": "#E5ECF6",
           "radialaxis": {
            "gridcolor": "white",
            "linecolor": "white",
            "ticks": ""
           }
          },
          "scene": {
           "xaxis": {
            "backgroundcolor": "#E5ECF6",
            "gridcolor": "white",
            "gridwidth": 2,
            "linecolor": "white",
            "showbackground": true,
            "ticks": "",
            "zerolinecolor": "white"
           },
           "yaxis": {
            "backgroundcolor": "#E5ECF6",
            "gridcolor": "white",
            "gridwidth": 2,
            "linecolor": "white",
            "showbackground": true,
            "ticks": "",
            "zerolinecolor": "white"
           },
           "zaxis": {
            "backgroundcolor": "#E5ECF6",
            "gridcolor": "white",
            "gridwidth": 2,
            "linecolor": "white",
            "showbackground": true,
            "ticks": "",
            "zerolinecolor": "white"
           }
          },
          "shapedefaults": {
           "line": {
            "color": "#2a3f5f"
           }
          },
          "ternary": {
           "aaxis": {
            "gridcolor": "white",
            "linecolor": "white",
            "ticks": ""
           },
           "baxis": {
            "gridcolor": "white",
            "linecolor": "white",
            "ticks": ""
           },
           "bgcolor": "#E5ECF6",
           "caxis": {
            "gridcolor": "white",
            "linecolor": "white",
            "ticks": ""
           }
          },
          "title": {
           "x": 0.05
          },
          "xaxis": {
           "automargin": true,
           "gridcolor": "white",
           "linecolor": "white",
           "ticks": "",
           "title": {
            "standoff": 15
           },
           "zerolinecolor": "white",
           "zerolinewidth": 2
          },
          "yaxis": {
           "automargin": true,
           "gridcolor": "white",
           "linecolor": "white",
           "ticks": "",
           "title": {
            "standoff": 15
           },
           "zerolinecolor": "white",
           "zerolinewidth": 2
          }
         }
        },
        "width": 800
       }
      }
     },
     "metadata": {},
     "output_type": "display_data"
    }
   ],
   "source": [
    "import plotly.express as px\n",
    "px.scatter_matrix(df_weekly, height=800, width=800)"
   ]
  },
  {
   "cell_type": "markdown",
   "id": "fe49b016",
   "metadata": {
    "papermill": {
     "duration": 0.008804,
     "end_time": "2024-05-29T22:25:06.879035",
     "exception": false,
     "start_time": "2024-05-29T22:25:06.870231",
     "status": "completed"
    },
    "tags": []
   },
   "source": [
    "### Correlation Heatmap"
   ]
  },
  {
   "cell_type": "code",
   "execution_count": 22,
   "id": "cb0501af",
   "metadata": {
    "execution": {
     "iopub.execute_input": "2024-05-29T22:25:06.896452Z",
     "iopub.status.busy": "2024-05-29T22:25:06.896319Z",
     "iopub.status.idle": "2024-05-29T22:25:06.901414Z",
     "shell.execute_reply": "2024-05-29T22:25:06.901212Z"
    },
    "jupyter": {
     "source_hidden": true
    },
    "papermill": {
     "duration": 0.014309,
     "end_time": "2024-05-29T22:25:06.902033",
     "exception": false,
     "start_time": "2024-05-29T22:25:06.887724",
     "status": "completed"
    },
    "tags": []
   },
   "outputs": [
    {
     "data": {
      "text/html": [
       "<style type=\"text/css\">\n",
       "</style>\n",
       "<table id=\"T_16081\">\n",
       "  <thead>\n",
       "    <tr>\n",
       "      <th class=\"blank level0\" >&nbsp;</th>\n",
       "      <th id=\"T_16081_level0_col0\" class=\"col_heading level0 col0\" >Coal</th>\n",
       "      <th id=\"T_16081_level0_col1\" class=\"col_heading level0 col1\" >Cogeneration</th>\n",
       "      <th id=\"T_16081_level0_col2\" class=\"col_heading level0 col2\" >Combined Cycle (Gas)</th>\n",
       "      <th id=\"T_16081_level0_col3\" class=\"col_heading level0 col3\" >Eolic</th>\n",
       "      <th id=\"T_16081_level0_col4\" class=\"col_heading level0 col4\" >Hydraulic</th>\n",
       "      <th id=\"T_16081_level0_col5\" class=\"col_heading level0 col5\" >Non-Renewable Residues</th>\n",
       "      <th id=\"T_16081_level0_col6\" class=\"col_heading level0 col6\" >Nuclear</th>\n",
       "      <th id=\"T_16081_level0_col7\" class=\"col_heading level0 col7\" >Pumped Storage Hydropower</th>\n",
       "      <th id=\"T_16081_level0_col8\" class=\"col_heading level0 col8\" >Renewables Other</th>\n",
       "      <th id=\"T_16081_level0_col9\" class=\"col_heading level0 col9\" >Solar Photovoltaic</th>\n",
       "      <th id=\"T_16081_level0_col10\" class=\"col_heading level0 col10\" >Solar Thermal</th>\n",
       "    </tr>\n",
       "  </thead>\n",
       "  <tbody>\n",
       "    <tr>\n",
       "      <th id=\"T_16081_level0_row0\" class=\"row_heading level0 row0\" >Coal</th>\n",
       "      <td id=\"T_16081_row0_col0\" class=\"data row0 col0\" >1.000000</td>\n",
       "      <td id=\"T_16081_row0_col1\" class=\"data row0 col1\" >-0.341330</td>\n",
       "      <td id=\"T_16081_row0_col2\" class=\"data row0 col2\" >0.487464</td>\n",
       "      <td id=\"T_16081_row0_col3\" class=\"data row0 col3\" >-0.176352</td>\n",
       "      <td id=\"T_16081_row0_col4\" class=\"data row0 col4\" >0.120366</td>\n",
       "      <td id=\"T_16081_row0_col5\" class=\"data row0 col5\" >0.403748</td>\n",
       "      <td id=\"T_16081_row0_col6\" class=\"data row0 col6\" >0.390050</td>\n",
       "      <td id=\"T_16081_row0_col7\" class=\"data row0 col7\" >-0.269178</td>\n",
       "      <td id=\"T_16081_row0_col8\" class=\"data row0 col8\" >0.389689</td>\n",
       "      <td id=\"T_16081_row0_col9\" class=\"data row0 col9\" >-0.385212</td>\n",
       "      <td id=\"T_16081_row0_col10\" class=\"data row0 col10\" >-0.300069</td>\n",
       "    </tr>\n",
       "    <tr>\n",
       "      <th id=\"T_16081_level0_row1\" class=\"row_heading level0 row1\" >Cogeneration</th>\n",
       "      <td id=\"T_16081_row1_col0\" class=\"data row1 col0\" >-0.341330</td>\n",
       "      <td id=\"T_16081_row1_col1\" class=\"data row1 col1\" >1.000000</td>\n",
       "      <td id=\"T_16081_row1_col2\" class=\"data row1 col2\" >-0.322895</td>\n",
       "      <td id=\"T_16081_row1_col3\" class=\"data row1 col3\" >-0.094021</td>\n",
       "      <td id=\"T_16081_row1_col4\" class=\"data row1 col4\" >0.072920</td>\n",
       "      <td id=\"T_16081_row1_col5\" class=\"data row1 col5\" >-0.208132</td>\n",
       "      <td id=\"T_16081_row1_col6\" class=\"data row1 col6\" >-0.199551</td>\n",
       "      <td id=\"T_16081_row1_col7\" class=\"data row1 col7\" >-0.169225</td>\n",
       "      <td id=\"T_16081_row1_col8\" class=\"data row1 col8\" >0.125703</td>\n",
       "      <td id=\"T_16081_row1_col9\" class=\"data row1 col9\" >0.352743</td>\n",
       "      <td id=\"T_16081_row1_col10\" class=\"data row1 col10\" >0.201751</td>\n",
       "    </tr>\n",
       "    <tr>\n",
       "      <th id=\"T_16081_level0_row2\" class=\"row_heading level0 row2\" >Combined Cycle (Gas)</th>\n",
       "      <td id=\"T_16081_row2_col0\" class=\"data row2 col0\" >0.487464</td>\n",
       "      <td id=\"T_16081_row2_col1\" class=\"data row2 col1\" >-0.322895</td>\n",
       "      <td id=\"T_16081_row2_col2\" class=\"data row2 col2\" >1.000000</td>\n",
       "      <td id=\"T_16081_row2_col3\" class=\"data row2 col3\" >-0.559629</td>\n",
       "      <td id=\"T_16081_row2_col4\" class=\"data row2 col4\" >-0.472859</td>\n",
       "      <td id=\"T_16081_row2_col5\" class=\"data row2 col5\" >0.495032</td>\n",
       "      <td id=\"T_16081_row2_col6\" class=\"data row2 col6\" >-0.028002</td>\n",
       "      <td id=\"T_16081_row2_col7\" class=\"data row2 col7\" >-0.590943</td>\n",
       "      <td id=\"T_16081_row2_col8\" class=\"data row2 col8\" >0.620094</td>\n",
       "      <td id=\"T_16081_row2_col9\" class=\"data row2 col9\" >-0.054335</td>\n",
       "      <td id=\"T_16081_row2_col10\" class=\"data row2 col10\" >-0.031272</td>\n",
       "    </tr>\n",
       "    <tr>\n",
       "      <th id=\"T_16081_level0_row3\" class=\"row_heading level0 row3\" >Eolic</th>\n",
       "      <td id=\"T_16081_row3_col0\" class=\"data row3 col0\" >-0.176352</td>\n",
       "      <td id=\"T_16081_row3_col1\" class=\"data row3 col1\" >-0.094021</td>\n",
       "      <td id=\"T_16081_row3_col2\" class=\"data row3 col2\" >-0.559629</td>\n",
       "      <td id=\"T_16081_row3_col3\" class=\"data row3 col3\" >1.000000</td>\n",
       "      <td id=\"T_16081_row3_col4\" class=\"data row3 col4\" >0.359391</td>\n",
       "      <td id=\"T_16081_row3_col5\" class=\"data row3 col5\" >-0.231582</td>\n",
       "      <td id=\"T_16081_row3_col6\" class=\"data row3 col6\" >0.024881</td>\n",
       "      <td id=\"T_16081_row3_col7\" class=\"data row3 col7\" >0.351755</td>\n",
       "      <td id=\"T_16081_row3_col8\" class=\"data row3 col8\" >-0.255997</td>\n",
       "      <td id=\"T_16081_row3_col9\" class=\"data row3 col9\" >-0.485329</td>\n",
       "      <td id=\"T_16081_row3_col10\" class=\"data row3 col10\" >-0.441440</td>\n",
       "    </tr>\n",
       "    <tr>\n",
       "      <th id=\"T_16081_level0_row4\" class=\"row_heading level0 row4\" >Hydraulic</th>\n",
       "      <td id=\"T_16081_row4_col0\" class=\"data row4 col0\" >0.120366</td>\n",
       "      <td id=\"T_16081_row4_col1\" class=\"data row4 col1\" >0.072920</td>\n",
       "      <td id=\"T_16081_row4_col2\" class=\"data row4 col2\" >-0.472859</td>\n",
       "      <td id=\"T_16081_row4_col3\" class=\"data row4 col3\" >0.359391</td>\n",
       "      <td id=\"T_16081_row4_col4\" class=\"data row4 col4\" >1.000000</td>\n",
       "      <td id=\"T_16081_row4_col5\" class=\"data row4 col5\" >-0.056570</td>\n",
       "      <td id=\"T_16081_row4_col6\" class=\"data row4 col6\" >0.397157</td>\n",
       "      <td id=\"T_16081_row4_col7\" class=\"data row4 col7\" >0.228756</td>\n",
       "      <td id=\"T_16081_row4_col8\" class=\"data row4 col8\" >-0.253956</td>\n",
       "      <td id=\"T_16081_row4_col9\" class=\"data row4 col9\" >-0.440798</td>\n",
       "      <td id=\"T_16081_row4_col10\" class=\"data row4 col10\" >-0.460564</td>\n",
       "    </tr>\n",
       "    <tr>\n",
       "      <th id=\"T_16081_level0_row5\" class=\"row_heading level0 row5\" >Non-Renewable Residues</th>\n",
       "      <td id=\"T_16081_row5_col0\" class=\"data row5 col0\" >0.403748</td>\n",
       "      <td id=\"T_16081_row5_col1\" class=\"data row5 col1\" >-0.208132</td>\n",
       "      <td id=\"T_16081_row5_col2\" class=\"data row5 col2\" >0.495032</td>\n",
       "      <td id=\"T_16081_row5_col3\" class=\"data row5 col3\" >-0.231582</td>\n",
       "      <td id=\"T_16081_row5_col4\" class=\"data row5 col4\" >-0.056570</td>\n",
       "      <td id=\"T_16081_row5_col5\" class=\"data row5 col5\" >1.000000</td>\n",
       "      <td id=\"T_16081_row5_col6\" class=\"data row5 col6\" >0.322821</td>\n",
       "      <td id=\"T_16081_row5_col7\" class=\"data row5 col7\" >-0.332761</td>\n",
       "      <td id=\"T_16081_row5_col8\" class=\"data row5 col8\" >0.275271</td>\n",
       "      <td id=\"T_16081_row5_col9\" class=\"data row5 col9\" >-0.249293</td>\n",
       "      <td id=\"T_16081_row5_col10\" class=\"data row5 col10\" >-0.206852</td>\n",
       "    </tr>\n",
       "    <tr>\n",
       "      <th id=\"T_16081_level0_row6\" class=\"row_heading level0 row6\" >Nuclear</th>\n",
       "      <td id=\"T_16081_row6_col0\" class=\"data row6 col0\" >0.390050</td>\n",
       "      <td id=\"T_16081_row6_col1\" class=\"data row6 col1\" >-0.199551</td>\n",
       "      <td id=\"T_16081_row6_col2\" class=\"data row6 col2\" >-0.028002</td>\n",
       "      <td id=\"T_16081_row6_col3\" class=\"data row6 col3\" >0.024881</td>\n",
       "      <td id=\"T_16081_row6_col4\" class=\"data row6 col4\" >0.397157</td>\n",
       "      <td id=\"T_16081_row6_col5\" class=\"data row6 col5\" >0.322821</td>\n",
       "      <td id=\"T_16081_row6_col6\" class=\"data row6 col6\" >1.000000</td>\n",
       "      <td id=\"T_16081_row6_col7\" class=\"data row6 col7\" >0.114866</td>\n",
       "      <td id=\"T_16081_row6_col8\" class=\"data row6 col8\" >-0.179829</td>\n",
       "      <td id=\"T_16081_row6_col9\" class=\"data row6 col9\" >-0.038945</td>\n",
       "      <td id=\"T_16081_row6_col10\" class=\"data row6 col10\" >0.071226</td>\n",
       "    </tr>\n",
       "    <tr>\n",
       "      <th id=\"T_16081_level0_row7\" class=\"row_heading level0 row7\" >Pumped Storage Hydropower</th>\n",
       "      <td id=\"T_16081_row7_col0\" class=\"data row7 col0\" >-0.269178</td>\n",
       "      <td id=\"T_16081_row7_col1\" class=\"data row7 col1\" >-0.169225</td>\n",
       "      <td id=\"T_16081_row7_col2\" class=\"data row7 col2\" >-0.590943</td>\n",
       "      <td id=\"T_16081_row7_col3\" class=\"data row7 col3\" >0.351755</td>\n",
       "      <td id=\"T_16081_row7_col4\" class=\"data row7 col4\" >0.228756</td>\n",
       "      <td id=\"T_16081_row7_col5\" class=\"data row7 col5\" >-0.332761</td>\n",
       "      <td id=\"T_16081_row7_col6\" class=\"data row7 col6\" >0.114866</td>\n",
       "      <td id=\"T_16081_row7_col7\" class=\"data row7 col7\" >1.000000</td>\n",
       "      <td id=\"T_16081_row7_col8\" class=\"data row7 col8\" >-0.771008</td>\n",
       "      <td id=\"T_16081_row7_col9\" class=\"data row7 col9\" >-0.006017</td>\n",
       "      <td id=\"T_16081_row7_col10\" class=\"data row7 col10\" >0.060263</td>\n",
       "    </tr>\n",
       "    <tr>\n",
       "      <th id=\"T_16081_level0_row8\" class=\"row_heading level0 row8\" >Renewables Other</th>\n",
       "      <td id=\"T_16081_row8_col0\" class=\"data row8 col0\" >0.389689</td>\n",
       "      <td id=\"T_16081_row8_col1\" class=\"data row8 col1\" >0.125703</td>\n",
       "      <td id=\"T_16081_row8_col2\" class=\"data row8 col2\" >0.620094</td>\n",
       "      <td id=\"T_16081_row8_col3\" class=\"data row8 col3\" >-0.255997</td>\n",
       "      <td id=\"T_16081_row8_col4\" class=\"data row8 col4\" >-0.253956</td>\n",
       "      <td id=\"T_16081_row8_col5\" class=\"data row8 col5\" >0.275271</td>\n",
       "      <td id=\"T_16081_row8_col6\" class=\"data row8 col6\" >-0.179829</td>\n",
       "      <td id=\"T_16081_row8_col7\" class=\"data row8 col7\" >-0.771008</td>\n",
       "      <td id=\"T_16081_row8_col8\" class=\"data row8 col8\" >1.000000</td>\n",
       "      <td id=\"T_16081_row8_col9\" class=\"data row8 col9\" >-0.184570</td>\n",
       "      <td id=\"T_16081_row8_col10\" class=\"data row8 col10\" >-0.241586</td>\n",
       "    </tr>\n",
       "    <tr>\n",
       "      <th id=\"T_16081_level0_row9\" class=\"row_heading level0 row9\" >Solar Photovoltaic</th>\n",
       "      <td id=\"T_16081_row9_col0\" class=\"data row9 col0\" >-0.385212</td>\n",
       "      <td id=\"T_16081_row9_col1\" class=\"data row9 col1\" >0.352743</td>\n",
       "      <td id=\"T_16081_row9_col2\" class=\"data row9 col2\" >-0.054335</td>\n",
       "      <td id=\"T_16081_row9_col3\" class=\"data row9 col3\" >-0.485329</td>\n",
       "      <td id=\"T_16081_row9_col4\" class=\"data row9 col4\" >-0.440798</td>\n",
       "      <td id=\"T_16081_row9_col5\" class=\"data row9 col5\" >-0.249293</td>\n",
       "      <td id=\"T_16081_row9_col6\" class=\"data row9 col6\" >-0.038945</td>\n",
       "      <td id=\"T_16081_row9_col7\" class=\"data row9 col7\" >-0.006017</td>\n",
       "      <td id=\"T_16081_row9_col8\" class=\"data row9 col8\" >-0.184570</td>\n",
       "      <td id=\"T_16081_row9_col9\" class=\"data row9 col9\" >1.000000</td>\n",
       "      <td id=\"T_16081_row9_col10\" class=\"data row9 col10\" >0.961043</td>\n",
       "    </tr>\n",
       "    <tr>\n",
       "      <th id=\"T_16081_level0_row10\" class=\"row_heading level0 row10\" >Solar Thermal</th>\n",
       "      <td id=\"T_16081_row10_col0\" class=\"data row10 col0\" >-0.300069</td>\n",
       "      <td id=\"T_16081_row10_col1\" class=\"data row10 col1\" >0.201751</td>\n",
       "      <td id=\"T_16081_row10_col2\" class=\"data row10 col2\" >-0.031272</td>\n",
       "      <td id=\"T_16081_row10_col3\" class=\"data row10 col3\" >-0.441440</td>\n",
       "      <td id=\"T_16081_row10_col4\" class=\"data row10 col4\" >-0.460564</td>\n",
       "      <td id=\"T_16081_row10_col5\" class=\"data row10 col5\" >-0.206852</td>\n",
       "      <td id=\"T_16081_row10_col6\" class=\"data row10 col6\" >0.071226</td>\n",
       "      <td id=\"T_16081_row10_col7\" class=\"data row10 col7\" >0.060263</td>\n",
       "      <td id=\"T_16081_row10_col8\" class=\"data row10 col8\" >-0.241586</td>\n",
       "      <td id=\"T_16081_row10_col9\" class=\"data row10 col9\" >0.961043</td>\n",
       "      <td id=\"T_16081_row10_col10\" class=\"data row10 col10\" >1.000000</td>\n",
       "    </tr>\n",
       "  </tbody>\n",
       "</table>\n"
      ],
      "text/plain": [
       "<pandas.io.formats.style.Styler at 0x234bb224750>"
      ]
     },
     "execution_count": 22,
     "metadata": {},
     "output_type": "execute_result"
    }
   ],
   "source": [
    "dff = df_weekly.corr()\n",
    "dff.style"
   ]
  },
  {
   "cell_type": "code",
   "execution_count": 33,
   "id": "19052c49",
   "metadata": {
    "execution": {
     "iopub.execute_input": "2024-05-29T22:25:06.918748Z",
     "iopub.status.busy": "2024-05-29T22:25:06.918657Z",
     "iopub.status.idle": "2024-05-29T22:25:07.000928Z",
     "shell.execute_reply": "2024-05-29T22:25:07.000478Z"
    },
    "jupyter": {
     "source_hidden": true
    },
    "papermill": {
     "duration": 0.091651,
     "end_time": "2024-05-29T22:25:07.001821",
     "exception": false,
     "start_time": "2024-05-29T22:25:06.910170",
     "status": "completed"
    },
    "tags": []
   },
   "outputs": [
    {
     "data": {
      "application/vnd.plotly.v1+json": {
       "config": {
        "plotlyServerURL": "https://plot.ly"
       },
       "data": [
        {
         "coloraxis": "coloraxis",
         "hovertemplate": "x: %{x}<br>y: %{y}<br>color: %{z}<extra></extra>",
         "name": "0",
         "texttemplate": "%{z:.2f}",
         "type": "heatmap",
         "x": [
          "Coal",
          "Cogeneration",
          "Combined Cycle (Gas)",
          "Eolic",
          "Hydraulic",
          "Non-Renewable Residues",
          "Nuclear",
          "Pumped Storage Hydropower",
          "Renewables Other",
          "Solar Photovoltaic",
          "Solar Thermal"
         ],
         "xaxis": "x",
         "y": [
          "Coal",
          "Cogeneration",
          "Combined Cycle (Gas)",
          "Eolic",
          "Hydraulic",
          "Non-Renewable Residues",
          "Nuclear",
          "Pumped Storage Hydropower",
          "Renewables Other",
          "Solar Photovoltaic",
          "Solar Thermal"
         ],
         "yaxis": "y",
         "z": [
          [
           1,
           -0.34132966975020435,
           0.4874637965950823,
           -0.17635189215635533,
           0.12036630744451683,
           0.4037484672777253,
           0.39005001848224724,
           -0.26917849866502996,
           0.3896886174112503,
           -0.38521154147050085,
           -0.30006926473619994
          ],
          [
           -0.34132966975020435,
           1,
           -0.32289461199801744,
           -0.09402051232571257,
           0.0729197878034031,
           -0.20813150208539977,
           -0.19955132645200088,
           -0.16922463348105782,
           0.1257025975835222,
           0.3527429803847222,
           0.20175085852047586
          ],
          [
           0.4874637965950823,
           -0.32289461199801744,
           1,
           -0.559629262836404,
           -0.47285903629081133,
           0.49503159684875986,
           -0.028002003813148754,
           -0.5909433774369228,
           0.620094154911625,
           -0.054335381625218,
           -0.031272101021260774
          ],
          [
           -0.17635189215635533,
           -0.09402051232571257,
           -0.559629262836404,
           1,
           0.3593914310989001,
           -0.23158216518012437,
           0.024881300413594588,
           0.3517552770295824,
           -0.25599730147751176,
           -0.4853288574163551,
           -0.4414398546191735
          ],
          [
           0.12036630744451683,
           0.0729197878034031,
           -0.47285903629081133,
           0.3593914310989001,
           1,
           -0.05657014659424312,
           0.39715663338238405,
           0.22875644591440522,
           -0.2539557702063725,
           -0.44079764535916166,
           -0.4605638211106061
          ],
          [
           0.4037484672777253,
           -0.20813150208539977,
           0.49503159684875986,
           -0.23158216518012437,
           -0.05657014659424312,
           1,
           0.3228211184239499,
           -0.3327612809125701,
           0.2752711656967222,
           -0.2492929069278001,
           -0.206852083011021
          ],
          [
           0.39005001848224724,
           -0.19955132645200088,
           -0.028002003813148754,
           0.024881300413594588,
           0.39715663338238405,
           0.3228211184239499,
           1,
           0.1148663921954323,
           -0.17982904560475219,
           -0.038945001359235974,
           0.07122597835563578
          ],
          [
           -0.26917849866502996,
           -0.16922463348105782,
           -0.5909433774369228,
           0.3517552770295824,
           0.22875644591440522,
           -0.3327612809125701,
           0.1148663921954323,
           1,
           -0.7710076903168327,
           -0.006017183507218426,
           0.06026287130932342
          ],
          [
           0.3896886174112503,
           0.1257025975835222,
           0.620094154911625,
           -0.25599730147751176,
           -0.2539557702063725,
           0.2752711656967222,
           -0.17982904560475219,
           -0.7710076903168327,
           1,
           -0.18456976348780632,
           -0.24158556684581192
          ],
          [
           -0.38521154147050085,
           0.3527429803847222,
           -0.054335381625218,
           -0.4853288574163551,
           -0.44079764535916166,
           -0.2492929069278001,
           -0.038945001359235974,
           -0.006017183507218426,
           -0.18456976348780632,
           1,
           0.9610432536729234
          ],
          [
           -0.30006926473619994,
           0.20175085852047586,
           -0.031272101021260774,
           -0.4414398546191735,
           -0.4605638211106061,
           -0.206852083011021,
           0.07122597835563578,
           0.06026287130932342,
           -0.24158556684581192,
           0.9610432536729234,
           1
          ]
         ]
        }
       ],
       "layout": {
        "coloraxis": {
         "colorscale": [
          [
           0,
           "rgb(103,0,31)"
          ],
          [
           0.1,
           "rgb(178,24,43)"
          ],
          [
           0.2,
           "rgb(214,96,77)"
          ],
          [
           0.3,
           "rgb(244,165,130)"
          ],
          [
           0.4,
           "rgb(253,219,199)"
          ],
          [
           0.5,
           "rgb(247,247,247)"
          ],
          [
           0.6,
           "rgb(209,229,240)"
          ],
          [
           0.7,
           "rgb(146,197,222)"
          ],
          [
           0.8,
           "rgb(67,147,195)"
          ],
          [
           0.9,
           "rgb(33,102,172)"
          ],
          [
           1,
           "rgb(5,48,97)"
          ]
         ]
        },
        "height": 800,
        "margin": {
         "t": 60
        },
        "template": {
         "data": {
          "bar": [
           {
            "error_x": {
             "color": "#2a3f5f"
            },
            "error_y": {
             "color": "#2a3f5f"
            },
            "marker": {
             "line": {
              "color": "#E5ECF6",
              "width": 0.5
             },
             "pattern": {
              "fillmode": "overlay",
              "size": 10,
              "solidity": 0.2
             }
            },
            "type": "bar"
           }
          ],
          "barpolar": [
           {
            "marker": {
             "line": {
              "color": "#E5ECF6",
              "width": 0.5
             },
             "pattern": {
              "fillmode": "overlay",
              "size": 10,
              "solidity": 0.2
             }
            },
            "type": "barpolar"
           }
          ],
          "carpet": [
           {
            "aaxis": {
             "endlinecolor": "#2a3f5f",
             "gridcolor": "white",
             "linecolor": "white",
             "minorgridcolor": "white",
             "startlinecolor": "#2a3f5f"
            },
            "baxis": {
             "endlinecolor": "#2a3f5f",
             "gridcolor": "white",
             "linecolor": "white",
             "minorgridcolor": "white",
             "startlinecolor": "#2a3f5f"
            },
            "type": "carpet"
           }
          ],
          "choropleth": [
           {
            "colorbar": {
             "outlinewidth": 0,
             "ticks": ""
            },
            "type": "choropleth"
           }
          ],
          "contour": [
           {
            "colorbar": {
             "outlinewidth": 0,
             "ticks": ""
            },
            "colorscale": [
             [
              0,
              "#0d0887"
             ],
             [
              0.1111111111111111,
              "#46039f"
             ],
             [
              0.2222222222222222,
              "#7201a8"
             ],
             [
              0.3333333333333333,
              "#9c179e"
             ],
             [
              0.4444444444444444,
              "#bd3786"
             ],
             [
              0.5555555555555556,
              "#d8576b"
             ],
             [
              0.6666666666666666,
              "#ed7953"
             ],
             [
              0.7777777777777778,
              "#fb9f3a"
             ],
             [
              0.8888888888888888,
              "#fdca26"
             ],
             [
              1,
              "#f0f921"
             ]
            ],
            "type": "contour"
           }
          ],
          "contourcarpet": [
           {
            "colorbar": {
             "outlinewidth": 0,
             "ticks": ""
            },
            "type": "contourcarpet"
           }
          ],
          "heatmap": [
           {
            "colorbar": {
             "outlinewidth": 0,
             "ticks": ""
            },
            "colorscale": [
             [
              0,
              "#0d0887"
             ],
             [
              0.1111111111111111,
              "#46039f"
             ],
             [
              0.2222222222222222,
              "#7201a8"
             ],
             [
              0.3333333333333333,
              "#9c179e"
             ],
             [
              0.4444444444444444,
              "#bd3786"
             ],
             [
              0.5555555555555556,
              "#d8576b"
             ],
             [
              0.6666666666666666,
              "#ed7953"
             ],
             [
              0.7777777777777778,
              "#fb9f3a"
             ],
             [
              0.8888888888888888,
              "#fdca26"
             ],
             [
              1,
              "#f0f921"
             ]
            ],
            "type": "heatmap"
           }
          ],
          "heatmapgl": [
           {
            "colorbar": {
             "outlinewidth": 0,
             "ticks": ""
            },
            "colorscale": [
             [
              0,
              "#0d0887"
             ],
             [
              0.1111111111111111,
              "#46039f"
             ],
             [
              0.2222222222222222,
              "#7201a8"
             ],
             [
              0.3333333333333333,
              "#9c179e"
             ],
             [
              0.4444444444444444,
              "#bd3786"
             ],
             [
              0.5555555555555556,
              "#d8576b"
             ],
             [
              0.6666666666666666,
              "#ed7953"
             ],
             [
              0.7777777777777778,
              "#fb9f3a"
             ],
             [
              0.8888888888888888,
              "#fdca26"
             ],
             [
              1,
              "#f0f921"
             ]
            ],
            "type": "heatmapgl"
           }
          ],
          "histogram": [
           {
            "marker": {
             "pattern": {
              "fillmode": "overlay",
              "size": 10,
              "solidity": 0.2
             }
            },
            "type": "histogram"
           }
          ],
          "histogram2d": [
           {
            "colorbar": {
             "outlinewidth": 0,
             "ticks": ""
            },
            "colorscale": [
             [
              0,
              "#0d0887"
             ],
             [
              0.1111111111111111,
              "#46039f"
             ],
             [
              0.2222222222222222,
              "#7201a8"
             ],
             [
              0.3333333333333333,
              "#9c179e"
             ],
             [
              0.4444444444444444,
              "#bd3786"
             ],
             [
              0.5555555555555556,
              "#d8576b"
             ],
             [
              0.6666666666666666,
              "#ed7953"
             ],
             [
              0.7777777777777778,
              "#fb9f3a"
             ],
             [
              0.8888888888888888,
              "#fdca26"
             ],
             [
              1,
              "#f0f921"
             ]
            ],
            "type": "histogram2d"
           }
          ],
          "histogram2dcontour": [
           {
            "colorbar": {
             "outlinewidth": 0,
             "ticks": ""
            },
            "colorscale": [
             [
              0,
              "#0d0887"
             ],
             [
              0.1111111111111111,
              "#46039f"
             ],
             [
              0.2222222222222222,
              "#7201a8"
             ],
             [
              0.3333333333333333,
              "#9c179e"
             ],
             [
              0.4444444444444444,
              "#bd3786"
             ],
             [
              0.5555555555555556,
              "#d8576b"
             ],
             [
              0.6666666666666666,
              "#ed7953"
             ],
             [
              0.7777777777777778,
              "#fb9f3a"
             ],
             [
              0.8888888888888888,
              "#fdca26"
             ],
             [
              1,
              "#f0f921"
             ]
            ],
            "type": "histogram2dcontour"
           }
          ],
          "mesh3d": [
           {
            "colorbar": {
             "outlinewidth": 0,
             "ticks": ""
            },
            "type": "mesh3d"
           }
          ],
          "parcoords": [
           {
            "line": {
             "colorbar": {
              "outlinewidth": 0,
              "ticks": ""
             }
            },
            "type": "parcoords"
           }
          ],
          "pie": [
           {
            "automargin": true,
            "type": "pie"
           }
          ],
          "scatter": [
           {
            "fillpattern": {
             "fillmode": "overlay",
             "size": 10,
             "solidity": 0.2
            },
            "type": "scatter"
           }
          ],
          "scatter3d": [
           {
            "line": {
             "colorbar": {
              "outlinewidth": 0,
              "ticks": ""
             }
            },
            "marker": {
             "colorbar": {
              "outlinewidth": 0,
              "ticks": ""
             }
            },
            "type": "scatter3d"
           }
          ],
          "scattercarpet": [
           {
            "marker": {
             "colorbar": {
              "outlinewidth": 0,
              "ticks": ""
             }
            },
            "type": "scattercarpet"
           }
          ],
          "scattergeo": [
           {
            "marker": {
             "colorbar": {
              "outlinewidth": 0,
              "ticks": ""
             }
            },
            "type": "scattergeo"
           }
          ],
          "scattergl": [
           {
            "marker": {
             "colorbar": {
              "outlinewidth": 0,
              "ticks": ""
             }
            },
            "type": "scattergl"
           }
          ],
          "scattermapbox": [
           {
            "marker": {
             "colorbar": {
              "outlinewidth": 0,
              "ticks": ""
             }
            },
            "type": "scattermapbox"
           }
          ],
          "scatterpolar": [
           {
            "marker": {
             "colorbar": {
              "outlinewidth": 0,
              "ticks": ""
             }
            },
            "type": "scatterpolar"
           }
          ],
          "scatterpolargl": [
           {
            "marker": {
             "colorbar": {
              "outlinewidth": 0,
              "ticks": ""
             }
            },
            "type": "scatterpolargl"
           }
          ],
          "scatterternary": [
           {
            "marker": {
             "colorbar": {
              "outlinewidth": 0,
              "ticks": ""
             }
            },
            "type": "scatterternary"
           }
          ],
          "surface": [
           {
            "colorbar": {
             "outlinewidth": 0,
             "ticks": ""
            },
            "colorscale": [
             [
              0,
              "#0d0887"
             ],
             [
              0.1111111111111111,
              "#46039f"
             ],
             [
              0.2222222222222222,
              "#7201a8"
             ],
             [
              0.3333333333333333,
              "#9c179e"
             ],
             [
              0.4444444444444444,
              "#bd3786"
             ],
             [
              0.5555555555555556,
              "#d8576b"
             ],
             [
              0.6666666666666666,
              "#ed7953"
             ],
             [
              0.7777777777777778,
              "#fb9f3a"
             ],
             [
              0.8888888888888888,
              "#fdca26"
             ],
             [
              1,
              "#f0f921"
             ]
            ],
            "type": "surface"
           }
          ],
          "table": [
           {
            "cells": {
             "fill": {
              "color": "#EBF0F8"
             },
             "line": {
              "color": "white"
             }
            },
            "header": {
             "fill": {
              "color": "#C8D4E3"
             },
             "line": {
              "color": "white"
             }
            },
            "type": "table"
           }
          ]
         },
         "layout": {
          "annotationdefaults": {
           "arrowcolor": "#2a3f5f",
           "arrowhead": 0,
           "arrowwidth": 1
          },
          "autotypenumbers": "strict",
          "coloraxis": {
           "colorbar": {
            "outlinewidth": 0,
            "ticks": ""
           }
          },
          "colorscale": {
           "diverging": [
            [
             0,
             "#8e0152"
            ],
            [
             0.1,
             "#c51b7d"
            ],
            [
             0.2,
             "#de77ae"
            ],
            [
             0.3,
             "#f1b6da"
            ],
            [
             0.4,
             "#fde0ef"
            ],
            [
             0.5,
             "#f7f7f7"
            ],
            [
             0.6,
             "#e6f5d0"
            ],
            [
             0.7,
             "#b8e186"
            ],
            [
             0.8,
             "#7fbc41"
            ],
            [
             0.9,
             "#4d9221"
            ],
            [
             1,
             "#276419"
            ]
           ],
           "sequential": [
            [
             0,
             "#0d0887"
            ],
            [
             0.1111111111111111,
             "#46039f"
            ],
            [
             0.2222222222222222,
             "#7201a8"
            ],
            [
             0.3333333333333333,
             "#9c179e"
            ],
            [
             0.4444444444444444,
             "#bd3786"
            ],
            [
             0.5555555555555556,
             "#d8576b"
            ],
            [
             0.6666666666666666,
             "#ed7953"
            ],
            [
             0.7777777777777778,
             "#fb9f3a"
            ],
            [
             0.8888888888888888,
             "#fdca26"
            ],
            [
             1,
             "#f0f921"
            ]
           ],
           "sequentialminus": [
            [
             0,
             "#0d0887"
            ],
            [
             0.1111111111111111,
             "#46039f"
            ],
            [
             0.2222222222222222,
             "#7201a8"
            ],
            [
             0.3333333333333333,
             "#9c179e"
            ],
            [
             0.4444444444444444,
             "#bd3786"
            ],
            [
             0.5555555555555556,
             "#d8576b"
            ],
            [
             0.6666666666666666,
             "#ed7953"
            ],
            [
             0.7777777777777778,
             "#fb9f3a"
            ],
            [
             0.8888888888888888,
             "#fdca26"
            ],
            [
             1,
             "#f0f921"
            ]
           ]
          },
          "colorway": [
           "#636efa",
           "#EF553B",
           "#00cc96",
           "#ab63fa",
           "#FFA15A",
           "#19d3f3",
           "#FF6692",
           "#B6E880",
           "#FF97FF",
           "#FECB52"
          ],
          "font": {
           "color": "#2a3f5f"
          },
          "geo": {
           "bgcolor": "white",
           "lakecolor": "white",
           "landcolor": "#E5ECF6",
           "showlakes": true,
           "showland": true,
           "subunitcolor": "white"
          },
          "hoverlabel": {
           "align": "left"
          },
          "hovermode": "closest",
          "mapbox": {
           "style": "light"
          },
          "paper_bgcolor": "white",
          "plot_bgcolor": "#E5ECF6",
          "polar": {
           "angularaxis": {
            "gridcolor": "white",
            "linecolor": "white",
            "ticks": ""
           },
           "bgcolor": "#E5ECF6",
           "radialaxis": {
            "gridcolor": "white",
            "linecolor": "white",
            "ticks": ""
           }
          },
          "scene": {
           "xaxis": {
            "backgroundcolor": "#E5ECF6",
            "gridcolor": "white",
            "gridwidth": 2,
            "linecolor": "white",
            "showbackground": true,
            "ticks": "",
            "zerolinecolor": "white"
           },
           "yaxis": {
            "backgroundcolor": "#E5ECF6",
            "gridcolor": "white",
            "gridwidth": 2,
            "linecolor": "white",
            "showbackground": true,
            "ticks": "",
            "zerolinecolor": "white"
           },
           "zaxis": {
            "backgroundcolor": "#E5ECF6",
            "gridcolor": "white",
            "gridwidth": 2,
            "linecolor": "white",
            "showbackground": true,
            "ticks": "",
            "zerolinecolor": "white"
           }
          },
          "shapedefaults": {
           "line": {
            "color": "#2a3f5f"
           }
          },
          "ternary": {
           "aaxis": {
            "gridcolor": "white",
            "linecolor": "white",
            "ticks": ""
           },
           "baxis": {
            "gridcolor": "white",
            "linecolor": "white",
            "ticks": ""
           },
           "bgcolor": "#E5ECF6",
           "caxis": {
            "gridcolor": "white",
            "linecolor": "white",
            "ticks": ""
           }
          },
          "title": {
           "x": 0.05
          },
          "xaxis": {
           "automargin": true,
           "gridcolor": "white",
           "linecolor": "white",
           "ticks": "",
           "title": {
            "standoff": 15
           },
           "zerolinecolor": "white",
           "zerolinewidth": 2
          },
          "yaxis": {
           "automargin": true,
           "gridcolor": "white",
           "linecolor": "white",
           "ticks": "",
           "title": {
            "standoff": 15
           },
           "zerolinecolor": "white",
           "zerolinewidth": 2
          }
         }
        },
        "width": 800,
        "xaxis": {
         "anchor": "y",
         "constrain": "domain",
         "domain": [
          0,
          1
         ],
         "scaleanchor": "y"
        },
        "yaxis": {
         "anchor": "x",
         "autorange": "reversed",
         "constrain": "domain",
         "domain": [
          0,
          1
         ]
        }
       }
      }
     },
     "metadata": {},
     "output_type": "display_data"
    }
   ],
   "source": [
    "px.imshow(dff, height=800, width=800, text_auto='.2f', color_continuous_scale='RdBu')"
   ]
  },
  {
   "cell_type": "markdown",
   "id": "234e4a43",
   "metadata": {
    "papermill": {
     "duration": 0.009641,
     "end_time": "2024-05-29T22:25:07.110778",
     "exception": false,
     "start_time": "2024-05-29T22:25:07.101137",
     "status": "completed"
    },
    "tags": []
   },
   "source": [
    "## Other Plots"
   ]
  },
  {
   "cell_type": "code",
   "execution_count": 41,
   "id": "7fe7aa3e",
   "metadata": {
    "execution": {
     "iopub.execute_input": "2024-05-29T22:25:07.131268Z",
     "iopub.status.busy": "2024-05-29T22:25:07.131097Z",
     "iopub.status.idle": "2024-05-29T22:25:07.190420Z",
     "shell.execute_reply": "2024-05-29T22:25:07.190149Z"
    },
    "jupyter": {
     "source_hidden": true
    },
    "papermill": {
     "duration": 0.070737,
     "end_time": "2024-05-29T22:25:07.191226",
     "exception": false,
     "start_time": "2024-05-29T22:25:07.120489",
     "status": "completed"
    },
    "tags": []
   },
   "outputs": [
    {
     "data": {
      "application/vnd.plotly.v1+json": {
       "config": {
        "plotlyServerURL": "https://plot.ly"
       },
       "data": [
        {
         "hovertemplate": "variable=Coal<br>time=%{x}<br>value=%{y}<extra></extra>",
         "legendgroup": "Coal",
         "line": {
          "color": "#636efa",
          "dash": "solid"
         },
         "marker": {
          "symbol": "circle"
         },
         "mode": "lines",
         "name": "Coal",
         "orientation": "v",
         "showlegend": true,
         "type": "scatter",
         "x": [
          "2022-09-01T00:00:00",
          "2022-09-08T00:00:00",
          "2022-09-15T00:00:00",
          "2022-09-22T00:00:00",
          "2022-09-29T00:00:00",
          "2022-10-06T00:00:00",
          "2022-10-13T00:00:00",
          "2022-10-20T00:00:00",
          "2022-10-27T00:00:00",
          "2022-11-03T00:00:00",
          "2022-11-10T00:00:00",
          "2022-11-17T00:00:00",
          "2022-11-24T00:00:00",
          "2022-12-01T00:00:00",
          "2022-12-08T00:00:00",
          "2022-12-15T00:00:00",
          "2022-12-22T00:00:00",
          "2022-12-29T00:00:00",
          "2023-01-05T00:00:00",
          "2023-01-12T00:00:00",
          "2023-01-19T00:00:00",
          "2023-01-26T00:00:00",
          "2023-02-02T00:00:00",
          "2023-02-09T00:00:00",
          "2023-02-16T00:00:00",
          "2023-02-23T00:00:00",
          "2023-03-02T00:00:00",
          "2023-03-09T00:00:00",
          "2023-03-16T00:00:00",
          "2023-03-23T00:00:00",
          "2023-03-30T00:00:00",
          "2023-04-06T00:00:00",
          "2023-04-13T00:00:00",
          "2023-04-20T00:00:00",
          "2023-04-27T00:00:00",
          "2023-05-04T00:00:00",
          "2023-05-11T00:00:00",
          "2023-05-18T00:00:00",
          "2023-05-25T00:00:00",
          "2023-06-01T00:00:00",
          "2023-06-08T00:00:00",
          "2023-06-15T00:00:00",
          "2023-06-22T00:00:00",
          "2023-06-29T00:00:00",
          "2023-07-06T00:00:00",
          "2023-07-13T00:00:00",
          "2023-07-20T00:00:00",
          "2023-07-27T00:00:00",
          "2023-08-03T00:00:00",
          "2023-08-10T00:00:00",
          "2023-08-17T00:00:00",
          "2023-08-24T00:00:00",
          "2023-08-31T00:00:00"
         ],
         "xaxis": "x",
         "y": [
          812.7738095238095,
          968.987005952381,
          782.3946547619047,
          957.3909226190475,
          781.7114523809524,
          821.4525238095239,
          611.4479166666666,
          227.10357142857143,
          278.0025297619048,
          401.31041666666664,
          285.12023809523805,
          284.3354166666667,
          928.3364642857143,
          1114.8257678571429,
          1271.6204345238095,
          1302.051488095238,
          487.9547142857143,
          490.4471726190476,
          388.4244047619048,
          372.95714285714286,
          401.8802083333333,
          487.66279761904764,
          712.7455357142857,
          598.5607142857143,
          655.542113095238,
          603.5797619047619,
          689.2985119047619,
          549.7504464285714,
          523.1425595238095,
          480.53233532934127,
          456.8979166666667,
          403.54211309523805,
          313.2142857142857,
          339.57232142857146,
          328.78065476190477,
          307.40565476190477,
          298.61592261904764,
          290.7184523809524,
          380.66566666666665,
          514.8174107142856,
          397.9136904761905,
          405.6364107142857,
          374.76741071428575,
          326.77946428571425,
          372.5783630952381,
          329.05342261904764,
          383.7574404761905,
          545.4864583333334,
          426.7837797619048,
          603.4782321428571,
          649.4533214285714,
          599.3065535714286,
          522.9833333333333
         ],
         "yaxis": "y"
        },
        {
         "hovertemplate": "variable=Cogeneration<br>time=%{x}<br>value=%{y}<extra></extra>",
         "legendgroup": "Cogeneration",
         "line": {
          "color": "#EF553B",
          "dash": "solid"
         },
         "marker": {
          "symbol": "circle"
         },
         "mode": "lines",
         "name": "Cogeneration",
         "orientation": "v",
         "showlegend": true,
         "type": "scatter",
         "x": [
          "2022-09-01T00:00:00",
          "2022-09-08T00:00:00",
          "2022-09-15T00:00:00",
          "2022-09-22T00:00:00",
          "2022-09-29T00:00:00",
          "2022-10-06T00:00:00",
          "2022-10-13T00:00:00",
          "2022-10-20T00:00:00",
          "2022-10-27T00:00:00",
          "2022-11-03T00:00:00",
          "2022-11-10T00:00:00",
          "2022-11-17T00:00:00",
          "2022-11-24T00:00:00",
          "2022-12-01T00:00:00",
          "2022-12-08T00:00:00",
          "2022-12-15T00:00:00",
          "2022-12-22T00:00:00",
          "2022-12-29T00:00:00",
          "2023-01-05T00:00:00",
          "2023-01-12T00:00:00",
          "2023-01-19T00:00:00",
          "2023-01-26T00:00:00",
          "2023-02-02T00:00:00",
          "2023-02-09T00:00:00",
          "2023-02-16T00:00:00",
          "2023-02-23T00:00:00",
          "2023-03-02T00:00:00",
          "2023-03-09T00:00:00",
          "2023-03-16T00:00:00",
          "2023-03-23T00:00:00",
          "2023-03-30T00:00:00",
          "2023-04-06T00:00:00",
          "2023-04-13T00:00:00",
          "2023-04-20T00:00:00",
          "2023-04-27T00:00:00",
          "2023-05-04T00:00:00",
          "2023-05-11T00:00:00",
          "2023-05-18T00:00:00",
          "2023-05-25T00:00:00",
          "2023-06-01T00:00:00",
          "2023-06-08T00:00:00",
          "2023-06-15T00:00:00",
          "2023-06-22T00:00:00",
          "2023-06-29T00:00:00",
          "2023-07-06T00:00:00",
          "2023-07-13T00:00:00",
          "2023-07-20T00:00:00",
          "2023-07-27T00:00:00",
          "2023-08-03T00:00:00",
          "2023-08-10T00:00:00",
          "2023-08-17T00:00:00",
          "2023-08-24T00:00:00",
          "2023-08-31T00:00:00"
         ],
         "xaxis": "x",
         "y": [
          1025.5546011904762,
          928.3467380952382,
          1024.7542619047617,
          1166.8605416666667,
          1484.9238928571428,
          1736.920017857143,
          1479.1883511904762,
          1322.3956309523808,
          1519.4510952380954,
          2102.987869047619,
          2080.3985714285714,
          1978.4495535714286,
          1968.8788928571428,
          1806.7610595238095,
          1690.8820595238094,
          1599.682464285714,
          1141.8008035714286,
          1244.6521547619047,
          1758.3261904761905,
          1552.2059702380952,
          1592.4316547619046,
          1852.7025476190477,
          2434.960517857143,
          2574.634327380952,
          2678.4160654761904,
          2589.8099464285715,
          2674.2460654761903,
          2178.0480952380954,
          2554.778875,
          2252.4820778443113,
          1863.352880952381,
          2103.435630952381,
          2146.4648630952383,
          2491.9612559523807,
          2330.2741428571426,
          2288.848023809524,
          2169.4149404761906,
          2292.1647916666666,
          2558.9588214285714,
          2510.5405535714285,
          2496.4486904761907,
          2488.924988095238,
          2390.9009642857145,
          2085.7416785714286,
          2109.8146607142858,
          2078.2848511904763,
          2015.0979226190477,
          1951.674363095238,
          1690.7405654761903,
          1699.8071190476192,
          1792.5986011904763,
          1803.254160714286,
          2059.7710833333335
         ],
         "yaxis": "y"
        },
        {
         "hovertemplate": "variable=Combined Cycle (Gas)<br>time=%{x}<br>value=%{y}<extra></extra>",
         "legendgroup": "Combined Cycle (Gas)",
         "line": {
          "color": "#00cc96",
          "dash": "solid"
         },
         "marker": {
          "symbol": "circle"
         },
         "mode": "lines",
         "name": "Combined Cycle (Gas)",
         "orientation": "v",
         "showlegend": true,
         "type": "scatter",
         "x": [
          "2022-09-01T00:00:00",
          "2022-09-08T00:00:00",
          "2022-09-15T00:00:00",
          "2022-09-22T00:00:00",
          "2022-09-29T00:00:00",
          "2022-10-06T00:00:00",
          "2022-10-13T00:00:00",
          "2022-10-20T00:00:00",
          "2022-10-27T00:00:00",
          "2022-11-03T00:00:00",
          "2022-11-10T00:00:00",
          "2022-11-17T00:00:00",
          "2022-11-24T00:00:00",
          "2022-12-01T00:00:00",
          "2022-12-08T00:00:00",
          "2022-12-15T00:00:00",
          "2022-12-22T00:00:00",
          "2022-12-29T00:00:00",
          "2023-01-05T00:00:00",
          "2023-01-12T00:00:00",
          "2023-01-19T00:00:00",
          "2023-01-26T00:00:00",
          "2023-02-02T00:00:00",
          "2023-02-09T00:00:00",
          "2023-02-16T00:00:00",
          "2023-02-23T00:00:00",
          "2023-03-02T00:00:00",
          "2023-03-09T00:00:00",
          "2023-03-16T00:00:00",
          "2023-03-23T00:00:00",
          "2023-03-30T00:00:00",
          "2023-04-06T00:00:00",
          "2023-04-13T00:00:00",
          "2023-04-20T00:00:00",
          "2023-04-27T00:00:00",
          "2023-05-04T00:00:00",
          "2023-05-11T00:00:00",
          "2023-05-18T00:00:00",
          "2023-05-25T00:00:00",
          "2023-06-01T00:00:00",
          "2023-06-08T00:00:00",
          "2023-06-15T00:00:00",
          "2023-06-22T00:00:00",
          "2023-06-29T00:00:00",
          "2023-07-06T00:00:00",
          "2023-07-13T00:00:00",
          "2023-07-20T00:00:00",
          "2023-07-27T00:00:00",
          "2023-08-03T00:00:00",
          "2023-08-10T00:00:00",
          "2023-08-17T00:00:00",
          "2023-08-24T00:00:00",
          "2023-08-31T00:00:00"
         ],
         "xaxis": "x",
         "y": [
          11451.133279761905,
          11524.701541666665,
          10654.792732142858,
          7684.035785714286,
          10170.802333333333,
          12072.864023809523,
          9375.535744047618,
          6455.073815476191,
          5097.695101190477,
          6919.612648809524,
          6325.661964285714,
          3199.5702380952384,
          6490.133285714286,
          10867.089375,
          4857.394541666667,
          3836.1313511904764,
          2495.1647619047617,
          3016.024654761905,
          2957.7385416666666,
          2020.5138928571428,
          2639.127988095238,
          3365.5352202380955,
          4830.009910714286,
          6593.825297619047,
          6701.317803571429,
          5584.027136904762,
          6155.699160714286,
          1970.4676130952382,
          3561.6171904761904,
          2397.1864251497004,
          1750.161636904762,
          2839.689785714286,
          2134.3397321428574,
          4339.748648809524,
          4782.163720238095,
          3741.6076904761903,
          2707.0178452380956,
          3144.153922619048,
          5047.453208333333,
          5706.874107142857,
          5096.634119047619,
          6406.058166666666,
          5642.44619047619,
          4808.024273809524,
          7077.9410654761905,
          6888.8344226190475,
          5145.83544047619,
          4935.727101190477,
          4366.42880952381,
          5307.038083333334,
          7982.458839285714,
          6127.8117202380945,
          6561.120833333333
         ],
         "yaxis": "y"
        },
        {
         "hovertemplate": "variable=Eolic<br>time=%{x}<br>value=%{y}<extra></extra>",
         "legendgroup": "Eolic",
         "line": {
          "color": "#ab63fa",
          "dash": "solid"
         },
         "marker": {
          "symbol": "circle"
         },
         "mode": "lines",
         "name": "Eolic",
         "orientation": "v",
         "showlegend": true,
         "type": "scatter",
         "x": [
          "2022-09-01T00:00:00",
          "2022-09-08T00:00:00",
          "2022-09-15T00:00:00",
          "2022-09-22T00:00:00",
          "2022-09-29T00:00:00",
          "2022-10-06T00:00:00",
          "2022-10-13T00:00:00",
          "2022-10-20T00:00:00",
          "2022-10-27T00:00:00",
          "2022-11-03T00:00:00",
          "2022-11-10T00:00:00",
          "2022-11-17T00:00:00",
          "2022-11-24T00:00:00",
          "2022-12-01T00:00:00",
          "2022-12-08T00:00:00",
          "2022-12-15T00:00:00",
          "2022-12-22T00:00:00",
          "2022-12-29T00:00:00",
          "2023-01-05T00:00:00",
          "2023-01-12T00:00:00",
          "2023-01-19T00:00:00",
          "2023-01-26T00:00:00",
          "2023-02-02T00:00:00",
          "2023-02-09T00:00:00",
          "2023-02-16T00:00:00",
          "2023-02-23T00:00:00",
          "2023-03-02T00:00:00",
          "2023-03-09T00:00:00",
          "2023-03-16T00:00:00",
          "2023-03-23T00:00:00",
          "2023-03-30T00:00:00",
          "2023-04-06T00:00:00",
          "2023-04-13T00:00:00",
          "2023-04-20T00:00:00",
          "2023-04-27T00:00:00",
          "2023-05-04T00:00:00",
          "2023-05-11T00:00:00",
          "2023-05-18T00:00:00",
          "2023-05-25T00:00:00",
          "2023-06-01T00:00:00",
          "2023-06-08T00:00:00",
          "2023-06-15T00:00:00",
          "2023-06-22T00:00:00",
          "2023-06-29T00:00:00",
          "2023-07-06T00:00:00",
          "2023-07-13T00:00:00",
          "2023-07-20T00:00:00",
          "2023-07-27T00:00:00",
          "2023-08-03T00:00:00",
          "2023-08-10T00:00:00",
          "2023-08-17T00:00:00",
          "2023-08-24T00:00:00",
          "2023-08-31T00:00:00"
         ],
         "xaxis": "x",
         "y": [
          5143.081583333334,
          5184.599363095238,
          4633.183035714285,
          6293.739095238096,
          4856.702482142857,
          3844.6168630952384,
          6948.647946428571,
          10389.143339285714,
          7466.935636904762,
          7564.26968452381,
          9313.201339285713,
          14579.280797619049,
          7343.494571428571,
          3479.7320238095235,
          10086.346726190477,
          8557.205660714286,
          7209.0037678571425,
          6778.685511904761,
          9050.50857142857,
          11759.049827380954,
          11796.905875,
          10450.007625,
          7585.842785714286,
          6408.426571428572,
          4280.710416666667,
          9630.248803571429,
          8723.504708333334,
          11605.629803571428,
          6205.824291666667,
          8016.869449101797,
          10009.608077380952,
          5187.5269285714285,
          8954.968916666667,
          5187.056654761905,
          5800.441934523809,
          6095.763976190477,
          10152.511857142857,
          8704.0785,
          4385.094089285714,
          2591.6865535714287,
          4332.2015,
          3753.470059523809,
          5341.493952380952,
          5655.755970238095,
          4623.5990357142855,
          5782.467827380952,
          5695.980071428571,
          4957.939708333333,
          7201.496946428571,
          4479.251863095238,
          3951.5472083333334,
          6934.034327380952,
          2901.9488333333334
         ],
         "yaxis": "y"
        },
        {
         "hovertemplate": "variable=Hydraulic<br>time=%{x}<br>value=%{y}<extra></extra>",
         "legendgroup": "Hydraulic",
         "line": {
          "color": "#FFA15A",
          "dash": "solid"
         },
         "marker": {
          "symbol": "circle"
         },
         "mode": "lines",
         "name": "Hydraulic",
         "orientation": "v",
         "showlegend": true,
         "type": "scatter",
         "x": [
          "2022-09-01T00:00:00",
          "2022-09-08T00:00:00",
          "2022-09-15T00:00:00",
          "2022-09-22T00:00:00",
          "2022-09-29T00:00:00",
          "2022-10-06T00:00:00",
          "2022-10-13T00:00:00",
          "2022-10-20T00:00:00",
          "2022-10-27T00:00:00",
          "2022-11-03T00:00:00",
          "2022-11-10T00:00:00",
          "2022-11-17T00:00:00",
          "2022-11-24T00:00:00",
          "2022-12-01T00:00:00",
          "2022-12-08T00:00:00",
          "2022-12-15T00:00:00",
          "2022-12-22T00:00:00",
          "2022-12-29T00:00:00",
          "2023-01-05T00:00:00",
          "2023-01-12T00:00:00",
          "2023-01-19T00:00:00",
          "2023-01-26T00:00:00",
          "2023-02-02T00:00:00",
          "2023-02-09T00:00:00",
          "2023-02-16T00:00:00",
          "2023-02-23T00:00:00",
          "2023-03-02T00:00:00",
          "2023-03-09T00:00:00",
          "2023-03-16T00:00:00",
          "2023-03-23T00:00:00",
          "2023-03-30T00:00:00",
          "2023-04-06T00:00:00",
          "2023-04-13T00:00:00",
          "2023-04-20T00:00:00",
          "2023-04-27T00:00:00",
          "2023-05-04T00:00:00",
          "2023-05-11T00:00:00",
          "2023-05-18T00:00:00",
          "2023-05-25T00:00:00",
          "2023-06-01T00:00:00",
          "2023-06-08T00:00:00",
          "2023-06-15T00:00:00",
          "2023-06-22T00:00:00",
          "2023-06-29T00:00:00",
          "2023-07-06T00:00:00",
          "2023-07-13T00:00:00",
          "2023-07-20T00:00:00",
          "2023-07-27T00:00:00",
          "2023-08-03T00:00:00",
          "2023-08-10T00:00:00",
          "2023-08-17T00:00:00",
          "2023-08-24T00:00:00",
          "2023-08-31T00:00:00"
         ],
         "xaxis": "x",
         "y": [
          1028.6042857142857,
          1546.5593095238096,
          2386.393601190476,
          1885.0759821428571,
          975.9498809523809,
          822.0901785714285,
          808.3765654761905,
          1339.0941547619047,
          1271.4227083333335,
          1321.5495714285714,
          1425.7252976190478,
          1957.8436547619046,
          3191.163601190476,
          3411.0951428571434,
          3183.4375773809525,
          4594.995035714285,
          4477.282101190476,
          4600.002005952381,
          5031.839136904762,
          5175.999595238095,
          5620.592416666666,
          6047.99300595238,
          4827.807142857143,
          3866.6340773809525,
          3119.0802083333333,
          2993.909077380952,
          3233.1093511904764,
          2746.3901011904763,
          3159.4409523809522,
          2855.769532934132,
          2537.9559404761903,
          2428.8615,
          2211.2500476190476,
          2248.5374583333332,
          2228.793672619048,
          2091.2468095238096,
          1776.6767202380954,
          2004.6949345238095,
          2076.1986369047618,
          2660.992029761905,
          2777.0015297619047,
          2950.3420654761903,
          2310.6721785714285,
          1857.427654761905,
          2001.9399226190476,
          1824.8870119047617,
          1696.6939107142857,
          1542.6985714285713,
          1429.921107142857,
          1409.5606428571427,
          1541.2975416666666,
          1291.4917678571428,
          1678.407625
         ],
         "yaxis": "y"
        },
        {
         "hovertemplate": "variable=Non-Renewable Residues<br>time=%{x}<br>value=%{y}<extra></extra>",
         "legendgroup": "Non-Renewable Residues",
         "line": {
          "color": "#19d3f3",
          "dash": "solid"
         },
         "marker": {
          "symbol": "circle"
         },
         "mode": "lines",
         "name": "Non-Renewable Residues",
         "orientation": "v",
         "showlegend": true,
         "type": "scatter",
         "x": [
          "2022-09-01T00:00:00",
          "2022-09-08T00:00:00",
          "2022-09-15T00:00:00",
          "2022-09-22T00:00:00",
          "2022-09-29T00:00:00",
          "2022-10-06T00:00:00",
          "2022-10-13T00:00:00",
          "2022-10-20T00:00:00",
          "2022-10-27T00:00:00",
          "2022-11-03T00:00:00",
          "2022-11-10T00:00:00",
          "2022-11-17T00:00:00",
          "2022-11-24T00:00:00",
          "2022-12-01T00:00:00",
          "2022-12-08T00:00:00",
          "2022-12-15T00:00:00",
          "2022-12-22T00:00:00",
          "2022-12-29T00:00:00",
          "2023-01-05T00:00:00",
          "2023-01-12T00:00:00",
          "2023-01-19T00:00:00",
          "2023-01-26T00:00:00",
          "2023-02-02T00:00:00",
          "2023-02-09T00:00:00",
          "2023-02-16T00:00:00",
          "2023-02-23T00:00:00",
          "2023-03-02T00:00:00",
          "2023-03-09T00:00:00",
          "2023-03-16T00:00:00",
          "2023-03-23T00:00:00",
          "2023-03-30T00:00:00",
          "2023-04-06T00:00:00",
          "2023-04-13T00:00:00",
          "2023-04-20T00:00:00",
          "2023-04-27T00:00:00",
          "2023-05-04T00:00:00",
          "2023-05-11T00:00:00",
          "2023-05-18T00:00:00",
          "2023-05-25T00:00:00",
          "2023-06-01T00:00:00",
          "2023-06-08T00:00:00",
          "2023-06-15T00:00:00",
          "2023-06-22T00:00:00",
          "2023-06-29T00:00:00",
          "2023-07-06T00:00:00",
          "2023-07-13T00:00:00",
          "2023-07-20T00:00:00",
          "2023-07-27T00:00:00",
          "2023-08-03T00:00:00",
          "2023-08-10T00:00:00",
          "2023-08-17T00:00:00",
          "2023-08-24T00:00:00",
          "2023-08-31T00:00:00"
         ],
         "xaxis": "x",
         "y": [
          265.4567976190476,
          259.83462499999996,
          220.91468452380954,
          215.7664166666667,
          283.6074345238095,
          298.1380952380952,
          303.2645357142857,
          239.07559523809522,
          239.6642857142857,
          242.3982142857143,
          222.05535714285716,
          235.3438988095238,
          243.38559523809522,
          253.4047619047619,
          254.23144642857145,
          242.75255952380954,
          251.35447619047622,
          245.32574404761903,
          242.57678571428573,
          223.628375,
          187.87107142857144,
          183.89424404761905,
          258.37465476190476,
          260.239880952381,
          255.14602976190477,
          259.4839285714286,
          265.1872023809524,
          225.66011904761905,
          234.12976190476192,
          224.0435508982036,
          224.0260714285714,
          211.73248809523807,
          149.8375,
          168.78065476190477,
          125.08977976190475,
          109.82797619047618,
          95.27261904761905,
          104.72102976190477,
          204.10892857142858,
          211.37321428571425,
          263.5541666666667,
          278.2690476190476,
          251.84300595238096,
          242.8654761904762,
          258.49583333333334,
          256.2280714285714,
          251.6982142857143,
          255.11369047619047,
          227.02678571428572,
          245.12391071428573,
          239.13273809523812,
          233.90416666666667,
          210.29583333333335
         ],
         "yaxis": "y"
        },
        {
         "hovertemplate": "variable=Nuclear<br>time=%{x}<br>value=%{y}<extra></extra>",
         "legendgroup": "Nuclear",
         "line": {
          "color": "#FF6692",
          "dash": "solid"
         },
         "marker": {
          "symbol": "circle"
         },
         "mode": "lines",
         "name": "Nuclear",
         "orientation": "v",
         "showlegend": true,
         "type": "scatter",
         "x": [
          "2022-09-01T00:00:00",
          "2022-09-08T00:00:00",
          "2022-09-15T00:00:00",
          "2022-09-22T00:00:00",
          "2022-09-29T00:00:00",
          "2022-10-06T00:00:00",
          "2022-10-13T00:00:00",
          "2022-10-20T00:00:00",
          "2022-10-27T00:00:00",
          "2022-11-03T00:00:00",
          "2022-11-10T00:00:00",
          "2022-11-17T00:00:00",
          "2022-11-24T00:00:00",
          "2022-12-01T00:00:00",
          "2022-12-08T00:00:00",
          "2022-12-15T00:00:00",
          "2022-12-22T00:00:00",
          "2022-12-29T00:00:00",
          "2023-01-05T00:00:00",
          "2023-01-12T00:00:00",
          "2023-01-19T00:00:00",
          "2023-01-26T00:00:00",
          "2023-02-02T00:00:00",
          "2023-02-09T00:00:00",
          "2023-02-16T00:00:00",
          "2023-02-23T00:00:00",
          "2023-03-02T00:00:00",
          "2023-03-09T00:00:00",
          "2023-03-16T00:00:00",
          "2023-03-23T00:00:00",
          "2023-03-30T00:00:00",
          "2023-04-06T00:00:00",
          "2023-04-13T00:00:00",
          "2023-04-20T00:00:00",
          "2023-04-27T00:00:00",
          "2023-05-04T00:00:00",
          "2023-05-11T00:00:00",
          "2023-05-18T00:00:00",
          "2023-05-25T00:00:00",
          "2023-06-01T00:00:00",
          "2023-06-08T00:00:00",
          "2023-06-15T00:00:00",
          "2023-06-22T00:00:00",
          "2023-06-29T00:00:00",
          "2023-07-06T00:00:00",
          "2023-07-13T00:00:00",
          "2023-07-20T00:00:00",
          "2023-07-27T00:00:00",
          "2023-08-03T00:00:00",
          "2023-08-10T00:00:00",
          "2023-08-17T00:00:00",
          "2023-08-24T00:00:00",
          "2023-08-31T00:00:00"
         ],
         "xaxis": "x",
         "y": [
          6890.202380952381,
          6916.328077380953,
          6878.1678571428565,
          6464.255952380952,
          6000.802976190476,
          5951.785714285715,
          5188.291071428572,
          4956.516071428571,
          4952.990029761904,
          5504.400297619048,
          6005.2172619047615,
          6000.7017857142855,
          6323.501523809524,
          6843.815773809524,
          6860.584375,
          7059.8345238095235,
          7061.394791666667,
          6797.756696428572,
          6446.566815476191,
          6761.003571428572,
          7078.666666666667,
          7085.504166666667,
          7087.066071428572,
          7031.5297619047615,
          6993.840476190476,
          6100.107738095238,
          6686.725,
          7016.801041666667,
          7060.143452380953,
          6989.4856287425155,
          6421.785714285715,
          7012.362499999999,
          6551.792559523809,
          5946.360119047619,
          5261.956398809524,
          5066.194196428572,
          4800.504267857143,
          5251.915773809524,
          5073.539285714285,
          5067.866666666667,
          5045.691666666667,
          5563.49161904762,
          6391.525148809523,
          6888.794047619047,
          6893.988095238095,
          6895.940476190476,
          6872.289285714286,
          6888.992857142857,
          6852.143452380953,
          6591.331416666667,
          6738.223613095239,
          6710.843452380952,
          6853.738541666667
         ],
         "yaxis": "y"
        },
        {
         "hovertemplate": "variable=Pumped Storage Hydropower<br>time=%{x}<br>value=%{y}<extra></extra>",
         "legendgroup": "Pumped Storage Hydropower",
         "line": {
          "color": "#B6E880",
          "dash": "solid"
         },
         "marker": {
          "symbol": "circle"
         },
         "mode": "lines",
         "name": "Pumped Storage Hydropower",
         "orientation": "v",
         "showlegend": true,
         "type": "scatter",
         "x": [
          "2022-09-01T00:00:00",
          "2022-09-08T00:00:00",
          "2022-09-15T00:00:00",
          "2022-09-22T00:00:00",
          "2022-09-29T00:00:00",
          "2022-10-06T00:00:00",
          "2022-10-13T00:00:00",
          "2022-10-20T00:00:00",
          "2022-10-27T00:00:00",
          "2022-11-03T00:00:00",
          "2022-11-10T00:00:00",
          "2022-11-17T00:00:00",
          "2022-11-24T00:00:00",
          "2022-12-01T00:00:00",
          "2022-12-08T00:00:00",
          "2022-12-15T00:00:00",
          "2022-12-22T00:00:00",
          "2022-12-29T00:00:00",
          "2023-01-05T00:00:00",
          "2023-01-12T00:00:00",
          "2023-01-19T00:00:00",
          "2023-01-26T00:00:00",
          "2023-02-02T00:00:00",
          "2023-02-09T00:00:00",
          "2023-02-16T00:00:00",
          "2023-02-23T00:00:00",
          "2023-03-02T00:00:00",
          "2023-03-09T00:00:00",
          "2023-03-16T00:00:00",
          "2023-03-23T00:00:00",
          "2023-03-30T00:00:00",
          "2023-04-06T00:00:00",
          "2023-04-13T00:00:00",
          "2023-04-20T00:00:00",
          "2023-04-27T00:00:00",
          "2023-05-04T00:00:00",
          "2023-05-11T00:00:00",
          "2023-05-18T00:00:00",
          "2023-05-25T00:00:00",
          "2023-06-01T00:00:00",
          "2023-06-08T00:00:00",
          "2023-06-15T00:00:00",
          "2023-06-22T00:00:00",
          "2023-06-29T00:00:00",
          "2023-07-06T00:00:00",
          "2023-07-13T00:00:00",
          "2023-07-20T00:00:00",
          "2023-07-27T00:00:00",
          "2023-08-03T00:00:00",
          "2023-08-10T00:00:00",
          "2023-08-17T00:00:00",
          "2023-08-24T00:00:00",
          "2023-08-31T00:00:00"
         ],
         "xaxis": "x",
         "y": [
          375.0948392857143,
          358.47454761904766,
          376.12232142857147,
          379.50074404761904,
          462.05129166666666,
          495.60758928571425,
          455.6322172619047,
          387.24523809523805,
          472.2734107142857,
          438.19132142857137,
          308.93869047619046,
          467.86292261904765,
          356.4708333333333,
          371.9048273809524,
          421.59375,
          423.48422619047625,
          689.5848214285714,
          625.8413928571429,
          569.7205357142857,
          668.7352678571428,
          650.6810238095238,
          453.57053571428577,
          395.55535714285713,
          159.57574404761903,
          387.13497023809526,
          322.2011904761905,
          314.00625,
          623.553994047619,
          650.9008452380953,
          692.6361736526945,
          697.2683035714285,
          656.1910535714285,
          597.577244047619,
          542.5595238095239,
          441.53353571428573,
          509.7975238095238,
          598.6834821428571,
          519.5086309523809,
          331.7010654761905,
          373.41309523809525,
          368.7328869047619,
          394.45213095238097,
          388.1648333333334,
          402.8941964285715,
          295.64151785714284,
          453.9837321428572,
          287.65446428571425,
          460.27410714285713,
          614.2679047619048,
          415.7237083333333,
          377.24742261904765,
          446.6014940476191,
          502.8041666666666
         ],
         "yaxis": "y"
        },
        {
         "hovertemplate": "variable=Renewables Other<br>time=%{x}<br>value=%{y}<extra></extra>",
         "legendgroup": "Renewables Other",
         "line": {
          "color": "#FF97FF",
          "dash": "solid"
         },
         "marker": {
          "symbol": "circle"
         },
         "mode": "lines",
         "name": "Renewables Other",
         "orientation": "v",
         "showlegend": true,
         "type": "scatter",
         "x": [
          "2022-09-01T00:00:00",
          "2022-09-08T00:00:00",
          "2022-09-15T00:00:00",
          "2022-09-22T00:00:00",
          "2022-09-29T00:00:00",
          "2022-10-06T00:00:00",
          "2022-10-13T00:00:00",
          "2022-10-20T00:00:00",
          "2022-10-27T00:00:00",
          "2022-11-03T00:00:00",
          "2022-11-10T00:00:00",
          "2022-11-17T00:00:00",
          "2022-11-24T00:00:00",
          "2022-12-01T00:00:00",
          "2022-12-08T00:00:00",
          "2022-12-15T00:00:00",
          "2022-12-22T00:00:00",
          "2022-12-29T00:00:00",
          "2023-01-05T00:00:00",
          "2023-01-12T00:00:00",
          "2023-01-19T00:00:00",
          "2023-01-26T00:00:00",
          "2023-02-02T00:00:00",
          "2023-02-09T00:00:00",
          "2023-02-16T00:00:00",
          "2023-02-23T00:00:00",
          "2023-03-02T00:00:00",
          "2023-03-09T00:00:00",
          "2023-03-16T00:00:00",
          "2023-03-23T00:00:00",
          "2023-03-30T00:00:00",
          "2023-04-06T00:00:00",
          "2023-04-13T00:00:00",
          "2023-04-20T00:00:00",
          "2023-04-27T00:00:00",
          "2023-05-04T00:00:00",
          "2023-05-11T00:00:00",
          "2023-05-18T00:00:00",
          "2023-05-25T00:00:00",
          "2023-06-01T00:00:00",
          "2023-06-08T00:00:00",
          "2023-06-15T00:00:00",
          "2023-06-22T00:00:00",
          "2023-06-29T00:00:00",
          "2023-07-06T00:00:00",
          "2023-07-13T00:00:00",
          "2023-07-20T00:00:00",
          "2023-07-27T00:00:00",
          "2023-08-03T00:00:00",
          "2023-08-10T00:00:00",
          "2023-08-17T00:00:00",
          "2023-08-24T00:00:00",
          "2023-08-31T00:00:00"
         ],
         "xaxis": "x",
         "y": [
          493.73849404761904,
          473.8812857142857,
          514.9029880952381,
          494.184625,
          502.36469642857145,
          511.61657142857143,
          508.28070238095233,
          471.775,
          526.0821964285714,
          542.4541190476191,
          533.3637797619048,
          479.3968988095238,
          531.6748928571428,
          513.4638571428571,
          503.6984702380952,
          509.9700416666667,
          352.85863095238096,
          342.90267857142857,
          419.64711904761907,
          376.80744642857144,
          387.87622023809524,
          468.330255952381,
          531.1211607142857,
          548.7574523809524,
          543.4041666666666,
          537.8698988095238,
          515.1864345238095,
          400.6320416666667,
          431.30908928571426,
          389.6321377245509,
          284.0036726190476,
          395.42926785714286,
          356.140255952381,
          442.74084523809523,
          474.86084523809524,
          487.65811904761904,
          438.7584166666667,
          442.0676190476191,
          477.67310119047625,
          446.0828452380953,
          447.6742023809524,
          472.80520238095244,
          475.8618988095238,
          449.41402976190477,
          454.6351964285715,
          430.59007142857143,
          445.4764583333333,
          460.71920833333337,
          428.51628571428574,
          500.7517261904762,
          503.0946964285714,
          448.65827976190474,
          473.9429583333333
         ],
         "yaxis": "y"
        },
        {
         "hovertemplate": "variable=Solar Photovoltaic<br>time=%{x}<br>value=%{y}<extra></extra>",
         "legendgroup": "Solar Photovoltaic",
         "line": {
          "color": "#FECB52",
          "dash": "solid"
         },
         "marker": {
          "symbol": "circle"
         },
         "mode": "lines",
         "name": "Solar Photovoltaic",
         "orientation": "v",
         "showlegend": true,
         "type": "scatter",
         "x": [
          "2022-09-01T00:00:00",
          "2022-09-08T00:00:00",
          "2022-09-15T00:00:00",
          "2022-09-22T00:00:00",
          "2022-09-29T00:00:00",
          "2022-10-06T00:00:00",
          "2022-10-13T00:00:00",
          "2022-10-20T00:00:00",
          "2022-10-27T00:00:00",
          "2022-11-03T00:00:00",
          "2022-11-10T00:00:00",
          "2022-11-17T00:00:00",
          "2022-11-24T00:00:00",
          "2022-12-01T00:00:00",
          "2022-12-08T00:00:00",
          "2022-12-15T00:00:00",
          "2022-12-22T00:00:00",
          "2022-12-29T00:00:00",
          "2023-01-05T00:00:00",
          "2023-01-12T00:00:00",
          "2023-01-19T00:00:00",
          "2023-01-26T00:00:00",
          "2023-02-02T00:00:00",
          "2023-02-09T00:00:00",
          "2023-02-16T00:00:00",
          "2023-02-23T00:00:00",
          "2023-03-02T00:00:00",
          "2023-03-09T00:00:00",
          "2023-03-16T00:00:00",
          "2023-03-23T00:00:00",
          "2023-03-30T00:00:00",
          "2023-04-06T00:00:00",
          "2023-04-13T00:00:00",
          "2023-04-20T00:00:00",
          "2023-04-27T00:00:00",
          "2023-05-04T00:00:00",
          "2023-05-11T00:00:00",
          "2023-05-18T00:00:00",
          "2023-05-25T00:00:00",
          "2023-06-01T00:00:00",
          "2023-06-08T00:00:00",
          "2023-06-15T00:00:00",
          "2023-06-22T00:00:00",
          "2023-06-29T00:00:00",
          "2023-07-06T00:00:00",
          "2023-07-13T00:00:00",
          "2023-07-20T00:00:00",
          "2023-07-27T00:00:00",
          "2023-08-03T00:00:00",
          "2023-08-10T00:00:00",
          "2023-08-17T00:00:00",
          "2023-08-24T00:00:00",
          "2023-08-31T00:00:00"
         ],
         "xaxis": "x",
         "y": [
          4142.0445,
          3303.7693988095234,
          3619.457303571429,
          3650.841571428571,
          3641.734952380952,
          3034.168773809524,
          3050.026505952381,
          1886.4351190476189,
          2394.1941964285716,
          2471.0719345238094,
          2014.1305,
          1576.2454702380953,
          2293.0996547619047,
          1647.031994047619,
          951.3579226190476,
          1570.6376488095239,
          2082.7550595238095,
          1909.2460952380952,
          1887.586011904762,
          2053.2307380952384,
          2650.0418035714283,
          3115.8502619047617,
          3176.257261904762,
          3033.9081845238097,
          3237.9436011904763,
          3672.048726190476,
          3273.1534464285714,
          3843.0853035714285,
          4357.260732142857,
          4540.9755389221555,
          4573.108880952381,
          5082.602232142857,
          5115.373773809524,
          5324.819398809524,
          4987.80036904762,
          5841.116303571429,
          5591.766482142857,
          4473.958886904762,
          4459.480494047619,
          4659.481226190476,
          5132.642404761905,
          5395.097785714285,
          5991.072446428571,
          6003.499833333333,
          5891.315880952381,
          6037.054244047619,
          6077.069678571429,
          6384.237202380953,
          5905.037523809524,
          6175.228803571428,
          6056.366720238096,
          5359.106035714286,
          5786.667541666667
         ],
         "yaxis": "y"
        },
        {
         "hovertemplate": "variable=Solar Thermal<br>time=%{x}<br>value=%{y}<extra></extra>",
         "legendgroup": "Solar Thermal",
         "line": {
          "color": "#636efa",
          "dash": "solid"
         },
         "marker": {
          "symbol": "circle"
         },
         "mode": "lines",
         "name": "Solar Thermal",
         "orientation": "v",
         "showlegend": true,
         "type": "scatter",
         "x": [
          "2022-09-01T00:00:00",
          "2022-09-08T00:00:00",
          "2022-09-15T00:00:00",
          "2022-09-22T00:00:00",
          "2022-09-29T00:00:00",
          "2022-10-06T00:00:00",
          "2022-10-13T00:00:00",
          "2022-10-20T00:00:00",
          "2022-10-27T00:00:00",
          "2022-11-03T00:00:00",
          "2022-11-10T00:00:00",
          "2022-11-17T00:00:00",
          "2022-11-24T00:00:00",
          "2022-12-01T00:00:00",
          "2022-12-08T00:00:00",
          "2022-12-15T00:00:00",
          "2022-12-22T00:00:00",
          "2022-12-29T00:00:00",
          "2023-01-05T00:00:00",
          "2023-01-12T00:00:00",
          "2023-01-19T00:00:00",
          "2023-01-26T00:00:00",
          "2023-02-02T00:00:00",
          "2023-02-09T00:00:00",
          "2023-02-16T00:00:00",
          "2023-02-23T00:00:00",
          "2023-03-02T00:00:00",
          "2023-03-09T00:00:00",
          "2023-03-16T00:00:00",
          "2023-03-23T00:00:00",
          "2023-03-30T00:00:00",
          "2023-04-06T00:00:00",
          "2023-04-13T00:00:00",
          "2023-04-20T00:00:00",
          "2023-04-27T00:00:00",
          "2023-05-04T00:00:00",
          "2023-05-11T00:00:00",
          "2023-05-18T00:00:00",
          "2023-05-25T00:00:00",
          "2023-06-01T00:00:00",
          "2023-06-08T00:00:00",
          "2023-06-15T00:00:00",
          "2023-06-22T00:00:00",
          "2023-06-29T00:00:00",
          "2023-07-06T00:00:00",
          "2023-07-13T00:00:00",
          "2023-07-20T00:00:00",
          "2023-07-27T00:00:00",
          "2023-08-03T00:00:00",
          "2023-08-10T00:00:00",
          "2023-08-17T00:00:00",
          "2023-08-24T00:00:00",
          "2023-08-31T00:00:00"
         ],
         "xaxis": "x",
         "y": [
          797.3052083333333,
          490.11792261904765,
          512.3229166666666,
          687.7196428571428,
          524.2591011904761,
          327.74956547619047,
          327.4776904761905,
          31.717857142857145,
          156.625,
          202.29642857142858,
          170.79464285714286,
          53.06547619047619,
          179.6261904761905,
          97.9279761904762,
          7.17202380952381,
          63.960565476190474,
          183.37738095238097,
          124.60973214285715,
          93.2,
          118.38749999999999,
          247.37470238095236,
          285.4809523809524,
          300.8802083333333,
          235.55119047619047,
          188.5220238095238,
          454.978869047619,
          297.1707321428571,
          491.63887500000004,
          648.818244047619,
          749.9919580838324,
          801.2052976190475,
          956.7559940476191,
          1003.9624821428572,
          925.9968690476189,
          680.1479285714286,
          1009.1297619047618,
          973.3088392857144,
          366.6095357142857,
          404.3873869047619,
          581.0873392857143,
          638.7425833333333,
          856.0193571428572,
          1117.931136904762,
          1103.1565595238094,
          1052.433994047619,
          997.8485773809523,
          1059.8264761904761,
          1159.568619047619,
          1055.8519583333332,
          1042.3847678571428,
          1033.6337023809524,
          905.663369047619,
          932.8006666666666
         ],
         "yaxis": "y"
        }
       ],
       "layout": {
        "height": 500,
        "legend": {
         "title": {
          "text": "variable"
         },
         "tracegroupgap": 0
        },
        "margin": {
         "t": 60
        },
        "template": {
         "data": {
          "bar": [
           {
            "error_x": {
             "color": "#2a3f5f"
            },
            "error_y": {
             "color": "#2a3f5f"
            },
            "marker": {
             "line": {
              "color": "#E5ECF6",
              "width": 0.5
             },
             "pattern": {
              "fillmode": "overlay",
              "size": 10,
              "solidity": 0.2
             }
            },
            "type": "bar"
           }
          ],
          "barpolar": [
           {
            "marker": {
             "line": {
              "color": "#E5ECF6",
              "width": 0.5
             },
             "pattern": {
              "fillmode": "overlay",
              "size": 10,
              "solidity": 0.2
             }
            },
            "type": "barpolar"
           }
          ],
          "carpet": [
           {
            "aaxis": {
             "endlinecolor": "#2a3f5f",
             "gridcolor": "white",
             "linecolor": "white",
             "minorgridcolor": "white",
             "startlinecolor": "#2a3f5f"
            },
            "baxis": {
             "endlinecolor": "#2a3f5f",
             "gridcolor": "white",
             "linecolor": "white",
             "minorgridcolor": "white",
             "startlinecolor": "#2a3f5f"
            },
            "type": "carpet"
           }
          ],
          "choropleth": [
           {
            "colorbar": {
             "outlinewidth": 0,
             "ticks": ""
            },
            "type": "choropleth"
           }
          ],
          "contour": [
           {
            "colorbar": {
             "outlinewidth": 0,
             "ticks": ""
            },
            "colorscale": [
             [
              0,
              "#0d0887"
             ],
             [
              0.1111111111111111,
              "#46039f"
             ],
             [
              0.2222222222222222,
              "#7201a8"
             ],
             [
              0.3333333333333333,
              "#9c179e"
             ],
             [
              0.4444444444444444,
              "#bd3786"
             ],
             [
              0.5555555555555556,
              "#d8576b"
             ],
             [
              0.6666666666666666,
              "#ed7953"
             ],
             [
              0.7777777777777778,
              "#fb9f3a"
             ],
             [
              0.8888888888888888,
              "#fdca26"
             ],
             [
              1,
              "#f0f921"
             ]
            ],
            "type": "contour"
           }
          ],
          "contourcarpet": [
           {
            "colorbar": {
             "outlinewidth": 0,
             "ticks": ""
            },
            "type": "contourcarpet"
           }
          ],
          "heatmap": [
           {
            "colorbar": {
             "outlinewidth": 0,
             "ticks": ""
            },
            "colorscale": [
             [
              0,
              "#0d0887"
             ],
             [
              0.1111111111111111,
              "#46039f"
             ],
             [
              0.2222222222222222,
              "#7201a8"
             ],
             [
              0.3333333333333333,
              "#9c179e"
             ],
             [
              0.4444444444444444,
              "#bd3786"
             ],
             [
              0.5555555555555556,
              "#d8576b"
             ],
             [
              0.6666666666666666,
              "#ed7953"
             ],
             [
              0.7777777777777778,
              "#fb9f3a"
             ],
             [
              0.8888888888888888,
              "#fdca26"
             ],
             [
              1,
              "#f0f921"
             ]
            ],
            "type": "heatmap"
           }
          ],
          "heatmapgl": [
           {
            "colorbar": {
             "outlinewidth": 0,
             "ticks": ""
            },
            "colorscale": [
             [
              0,
              "#0d0887"
             ],
             [
              0.1111111111111111,
              "#46039f"
             ],
             [
              0.2222222222222222,
              "#7201a8"
             ],
             [
              0.3333333333333333,
              "#9c179e"
             ],
             [
              0.4444444444444444,
              "#bd3786"
             ],
             [
              0.5555555555555556,
              "#d8576b"
             ],
             [
              0.6666666666666666,
              "#ed7953"
             ],
             [
              0.7777777777777778,
              "#fb9f3a"
             ],
             [
              0.8888888888888888,
              "#fdca26"
             ],
             [
              1,
              "#f0f921"
             ]
            ],
            "type": "heatmapgl"
           }
          ],
          "histogram": [
           {
            "marker": {
             "pattern": {
              "fillmode": "overlay",
              "size": 10,
              "solidity": 0.2
             }
            },
            "type": "histogram"
           }
          ],
          "histogram2d": [
           {
            "colorbar": {
             "outlinewidth": 0,
             "ticks": ""
            },
            "colorscale": [
             [
              0,
              "#0d0887"
             ],
             [
              0.1111111111111111,
              "#46039f"
             ],
             [
              0.2222222222222222,
              "#7201a8"
             ],
             [
              0.3333333333333333,
              "#9c179e"
             ],
             [
              0.4444444444444444,
              "#bd3786"
             ],
             [
              0.5555555555555556,
              "#d8576b"
             ],
             [
              0.6666666666666666,
              "#ed7953"
             ],
             [
              0.7777777777777778,
              "#fb9f3a"
             ],
             [
              0.8888888888888888,
              "#fdca26"
             ],
             [
              1,
              "#f0f921"
             ]
            ],
            "type": "histogram2d"
           }
          ],
          "histogram2dcontour": [
           {
            "colorbar": {
             "outlinewidth": 0,
             "ticks": ""
            },
            "colorscale": [
             [
              0,
              "#0d0887"
             ],
             [
              0.1111111111111111,
              "#46039f"
             ],
             [
              0.2222222222222222,
              "#7201a8"
             ],
             [
              0.3333333333333333,
              "#9c179e"
             ],
             [
              0.4444444444444444,
              "#bd3786"
             ],
             [
              0.5555555555555556,
              "#d8576b"
             ],
             [
              0.6666666666666666,
              "#ed7953"
             ],
             [
              0.7777777777777778,
              "#fb9f3a"
             ],
             [
              0.8888888888888888,
              "#fdca26"
             ],
             [
              1,
              "#f0f921"
             ]
            ],
            "type": "histogram2dcontour"
           }
          ],
          "mesh3d": [
           {
            "colorbar": {
             "outlinewidth": 0,
             "ticks": ""
            },
            "type": "mesh3d"
           }
          ],
          "parcoords": [
           {
            "line": {
             "colorbar": {
              "outlinewidth": 0,
              "ticks": ""
             }
            },
            "type": "parcoords"
           }
          ],
          "pie": [
           {
            "automargin": true,
            "type": "pie"
           }
          ],
          "scatter": [
           {
            "fillpattern": {
             "fillmode": "overlay",
             "size": 10,
             "solidity": 0.2
            },
            "type": "scatter"
           }
          ],
          "scatter3d": [
           {
            "line": {
             "colorbar": {
              "outlinewidth": 0,
              "ticks": ""
             }
            },
            "marker": {
             "colorbar": {
              "outlinewidth": 0,
              "ticks": ""
             }
            },
            "type": "scatter3d"
           }
          ],
          "scattercarpet": [
           {
            "marker": {
             "colorbar": {
              "outlinewidth": 0,
              "ticks": ""
             }
            },
            "type": "scattercarpet"
           }
          ],
          "scattergeo": [
           {
            "marker": {
             "colorbar": {
              "outlinewidth": 0,
              "ticks": ""
             }
            },
            "type": "scattergeo"
           }
          ],
          "scattergl": [
           {
            "marker": {
             "colorbar": {
              "outlinewidth": 0,
              "ticks": ""
             }
            },
            "type": "scattergl"
           }
          ],
          "scattermapbox": [
           {
            "marker": {
             "colorbar": {
              "outlinewidth": 0,
              "ticks": ""
             }
            },
            "type": "scattermapbox"
           }
          ],
          "scatterpolar": [
           {
            "marker": {
             "colorbar": {
              "outlinewidth": 0,
              "ticks": ""
             }
            },
            "type": "scatterpolar"
           }
          ],
          "scatterpolargl": [
           {
            "marker": {
             "colorbar": {
              "outlinewidth": 0,
              "ticks": ""
             }
            },
            "type": "scatterpolargl"
           }
          ],
          "scatterternary": [
           {
            "marker": {
             "colorbar": {
              "outlinewidth": 0,
              "ticks": ""
             }
            },
            "type": "scatterternary"
           }
          ],
          "surface": [
           {
            "colorbar": {
             "outlinewidth": 0,
             "ticks": ""
            },
            "colorscale": [
             [
              0,
              "#0d0887"
             ],
             [
              0.1111111111111111,
              "#46039f"
             ],
             [
              0.2222222222222222,
              "#7201a8"
             ],
             [
              0.3333333333333333,
              "#9c179e"
             ],
             [
              0.4444444444444444,
              "#bd3786"
             ],
             [
              0.5555555555555556,
              "#d8576b"
             ],
             [
              0.6666666666666666,
              "#ed7953"
             ],
             [
              0.7777777777777778,
              "#fb9f3a"
             ],
             [
              0.8888888888888888,
              "#fdca26"
             ],
             [
              1,
              "#f0f921"
             ]
            ],
            "type": "surface"
           }
          ],
          "table": [
           {
            "cells": {
             "fill": {
              "color": "#EBF0F8"
             },
             "line": {
              "color": "white"
             }
            },
            "header": {
             "fill": {
              "color": "#C8D4E3"
             },
             "line": {
              "color": "white"
             }
            },
            "type": "table"
           }
          ]
         },
         "layout": {
          "annotationdefaults": {
           "arrowcolor": "#2a3f5f",
           "arrowhead": 0,
           "arrowwidth": 1
          },
          "autotypenumbers": "strict",
          "coloraxis": {
           "colorbar": {
            "outlinewidth": 0,
            "ticks": ""
           }
          },
          "colorscale": {
           "diverging": [
            [
             0,
             "#8e0152"
            ],
            [
             0.1,
             "#c51b7d"
            ],
            [
             0.2,
             "#de77ae"
            ],
            [
             0.3,
             "#f1b6da"
            ],
            [
             0.4,
             "#fde0ef"
            ],
            [
             0.5,
             "#f7f7f7"
            ],
            [
             0.6,
             "#e6f5d0"
            ],
            [
             0.7,
             "#b8e186"
            ],
            [
             0.8,
             "#7fbc41"
            ],
            [
             0.9,
             "#4d9221"
            ],
            [
             1,
             "#276419"
            ]
           ],
           "sequential": [
            [
             0,
             "#0d0887"
            ],
            [
             0.1111111111111111,
             "#46039f"
            ],
            [
             0.2222222222222222,
             "#7201a8"
            ],
            [
             0.3333333333333333,
             "#9c179e"
            ],
            [
             0.4444444444444444,
             "#bd3786"
            ],
            [
             0.5555555555555556,
             "#d8576b"
            ],
            [
             0.6666666666666666,
             "#ed7953"
            ],
            [
             0.7777777777777778,
             "#fb9f3a"
            ],
            [
             0.8888888888888888,
             "#fdca26"
            ],
            [
             1,
             "#f0f921"
            ]
           ],
           "sequentialminus": [
            [
             0,
             "#0d0887"
            ],
            [
             0.1111111111111111,
             "#46039f"
            ],
            [
             0.2222222222222222,
             "#7201a8"
            ],
            [
             0.3333333333333333,
             "#9c179e"
            ],
            [
             0.4444444444444444,
             "#bd3786"
            ],
            [
             0.5555555555555556,
             "#d8576b"
            ],
            [
             0.6666666666666666,
             "#ed7953"
            ],
            [
             0.7777777777777778,
             "#fb9f3a"
            ],
            [
             0.8888888888888888,
             "#fdca26"
            ],
            [
             1,
             "#f0f921"
            ]
           ]
          },
          "colorway": [
           "#636efa",
           "#EF553B",
           "#00cc96",
           "#ab63fa",
           "#FFA15A",
           "#19d3f3",
           "#FF6692",
           "#B6E880",
           "#FF97FF",
           "#FECB52"
          ],
          "font": {
           "color": "#2a3f5f"
          },
          "geo": {
           "bgcolor": "white",
           "lakecolor": "white",
           "landcolor": "#E5ECF6",
           "showlakes": true,
           "showland": true,
           "subunitcolor": "white"
          },
          "hoverlabel": {
           "align": "left"
          },
          "hovermode": "closest",
          "mapbox": {
           "style": "light"
          },
          "paper_bgcolor": "white",
          "plot_bgcolor": "#E5ECF6",
          "polar": {
           "angularaxis": {
            "gridcolor": "white",
            "linecolor": "white",
            "ticks": ""
           },
           "bgcolor": "#E5ECF6",
           "radialaxis": {
            "gridcolor": "white",
            "linecolor": "white",
            "ticks": ""
           }
          },
          "scene": {
           "xaxis": {
            "backgroundcolor": "#E5ECF6",
            "gridcolor": "white",
            "gridwidth": 2,
            "linecolor": "white",
            "showbackground": true,
            "ticks": "",
            "zerolinecolor": "white"
           },
           "yaxis": {
            "backgroundcolor": "#E5ECF6",
            "gridcolor": "white",
            "gridwidth": 2,
            "linecolor": "white",
            "showbackground": true,
            "ticks": "",
            "zerolinecolor": "white"
           },
           "zaxis": {
            "backgroundcolor": "#E5ECF6",
            "gridcolor": "white",
            "gridwidth": 2,
            "linecolor": "white",
            "showbackground": true,
            "ticks": "",
            "zerolinecolor": "white"
           }
          },
          "shapedefaults": {
           "line": {
            "color": "#2a3f5f"
           }
          },
          "ternary": {
           "aaxis": {
            "gridcolor": "white",
            "linecolor": "white",
            "ticks": ""
           },
           "baxis": {
            "gridcolor": "white",
            "linecolor": "white",
            "ticks": ""
           },
           "bgcolor": "#E5ECF6",
           "caxis": {
            "gridcolor": "white",
            "linecolor": "white",
            "ticks": ""
           }
          },
          "title": {
           "x": 0.05
          },
          "xaxis": {
           "automargin": true,
           "gridcolor": "white",
           "linecolor": "white",
           "ticks": "",
           "title": {
            "standoff": 15
           },
           "zerolinecolor": "white",
           "zerolinewidth": 2
          },
          "yaxis": {
           "automargin": true,
           "gridcolor": "white",
           "linecolor": "white",
           "ticks": "",
           "title": {
            "standoff": 15
           },
           "zerolinecolor": "white",
           "zerolinewidth": 2
          }
         }
        },
        "width": 700,
        "xaxis": {
         "anchor": "y",
         "domain": [
          0,
          1
         ],
         "title": {
          "text": "time"
         }
        },
        "yaxis": {
         "anchor": "x",
         "domain": [
          0,
          1
         ],
         "title": {
          "text": "value"
         }
        }
       }
      }
     },
     "metadata": {},
     "output_type": "display_data"
    }
   ],
   "source": [
    "px.line(df_weekly, x=df_weekly.index, y=df_weekly.columns, height=500, width=700)"
   ]
  },
  {
   "cell_type": "code",
   "execution_count": 42,
   "id": "bfc800c0",
   "metadata": {
    "execution": {
     "iopub.execute_input": "2024-05-29T22:25:07.209539Z",
     "iopub.status.busy": "2024-05-29T22:25:07.209401Z",
     "iopub.status.idle": "2024-05-29T22:25:07.256981Z",
     "shell.execute_reply": "2024-05-29T22:25:07.256751Z"
    },
    "jupyter": {
     "source_hidden": true
    },
    "papermill": {
     "duration": 0.057378,
     "end_time": "2024-05-29T22:25:07.257706",
     "exception": false,
     "start_time": "2024-05-29T22:25:07.200328",
     "status": "completed"
    },
    "tags": []
   },
   "outputs": [
    {
     "data": {
      "application/vnd.plotly.v1+json": {
       "config": {
        "plotlyServerURL": "https://plot.ly"
       },
       "data": [
        {
         "fillpattern": {
          "shape": ""
         },
         "hovertemplate": "variable=Coal<br>time=%{x}<br>value=%{y}<extra></extra>",
         "legendgroup": "Coal",
         "line": {
          "color": "#636efa"
         },
         "marker": {
          "symbol": "circle"
         },
         "mode": "lines",
         "name": "Coal",
         "orientation": "v",
         "showlegend": true,
         "stackgroup": "1",
         "type": "scatter",
         "x": [
          "2022-09-01T00:00:00",
          "2022-09-08T00:00:00",
          "2022-09-15T00:00:00",
          "2022-09-22T00:00:00",
          "2022-09-29T00:00:00",
          "2022-10-06T00:00:00",
          "2022-10-13T00:00:00",
          "2022-10-20T00:00:00",
          "2022-10-27T00:00:00",
          "2022-11-03T00:00:00",
          "2022-11-10T00:00:00",
          "2022-11-17T00:00:00",
          "2022-11-24T00:00:00",
          "2022-12-01T00:00:00",
          "2022-12-08T00:00:00",
          "2022-12-15T00:00:00",
          "2022-12-22T00:00:00",
          "2022-12-29T00:00:00",
          "2023-01-05T00:00:00",
          "2023-01-12T00:00:00",
          "2023-01-19T00:00:00",
          "2023-01-26T00:00:00",
          "2023-02-02T00:00:00",
          "2023-02-09T00:00:00",
          "2023-02-16T00:00:00",
          "2023-02-23T00:00:00",
          "2023-03-02T00:00:00",
          "2023-03-09T00:00:00",
          "2023-03-16T00:00:00",
          "2023-03-23T00:00:00",
          "2023-03-30T00:00:00",
          "2023-04-06T00:00:00",
          "2023-04-13T00:00:00",
          "2023-04-20T00:00:00",
          "2023-04-27T00:00:00",
          "2023-05-04T00:00:00",
          "2023-05-11T00:00:00",
          "2023-05-18T00:00:00",
          "2023-05-25T00:00:00",
          "2023-06-01T00:00:00",
          "2023-06-08T00:00:00",
          "2023-06-15T00:00:00",
          "2023-06-22T00:00:00",
          "2023-06-29T00:00:00",
          "2023-07-06T00:00:00",
          "2023-07-13T00:00:00",
          "2023-07-20T00:00:00",
          "2023-07-27T00:00:00",
          "2023-08-03T00:00:00",
          "2023-08-10T00:00:00",
          "2023-08-17T00:00:00",
          "2023-08-24T00:00:00",
          "2023-08-31T00:00:00"
         ],
         "xaxis": "x",
         "y": [
          812.7738095238095,
          968.987005952381,
          782.3946547619047,
          957.3909226190475,
          781.7114523809524,
          821.4525238095239,
          611.4479166666666,
          227.10357142857143,
          278.0025297619048,
          401.31041666666664,
          285.12023809523805,
          284.3354166666667,
          928.3364642857143,
          1114.8257678571429,
          1271.6204345238095,
          1302.051488095238,
          487.9547142857143,
          490.4471726190476,
          388.4244047619048,
          372.95714285714286,
          401.8802083333333,
          487.66279761904764,
          712.7455357142857,
          598.5607142857143,
          655.542113095238,
          603.5797619047619,
          689.2985119047619,
          549.7504464285714,
          523.1425595238095,
          480.53233532934127,
          456.8979166666667,
          403.54211309523805,
          313.2142857142857,
          339.57232142857146,
          328.78065476190477,
          307.40565476190477,
          298.61592261904764,
          290.7184523809524,
          380.66566666666665,
          514.8174107142856,
          397.9136904761905,
          405.6364107142857,
          374.76741071428575,
          326.77946428571425,
          372.5783630952381,
          329.05342261904764,
          383.7574404761905,
          545.4864583333334,
          426.7837797619048,
          603.4782321428571,
          649.4533214285714,
          599.3065535714286,
          522.9833333333333
         ],
         "yaxis": "y"
        },
        {
         "fillpattern": {
          "shape": ""
         },
         "hovertemplate": "variable=Cogeneration<br>time=%{x}<br>value=%{y}<extra></extra>",
         "legendgroup": "Cogeneration",
         "line": {
          "color": "#EF553B"
         },
         "marker": {
          "symbol": "circle"
         },
         "mode": "lines",
         "name": "Cogeneration",
         "orientation": "v",
         "showlegend": true,
         "stackgroup": "1",
         "type": "scatter",
         "x": [
          "2022-09-01T00:00:00",
          "2022-09-08T00:00:00",
          "2022-09-15T00:00:00",
          "2022-09-22T00:00:00",
          "2022-09-29T00:00:00",
          "2022-10-06T00:00:00",
          "2022-10-13T00:00:00",
          "2022-10-20T00:00:00",
          "2022-10-27T00:00:00",
          "2022-11-03T00:00:00",
          "2022-11-10T00:00:00",
          "2022-11-17T00:00:00",
          "2022-11-24T00:00:00",
          "2022-12-01T00:00:00",
          "2022-12-08T00:00:00",
          "2022-12-15T00:00:00",
          "2022-12-22T00:00:00",
          "2022-12-29T00:00:00",
          "2023-01-05T00:00:00",
          "2023-01-12T00:00:00",
          "2023-01-19T00:00:00",
          "2023-01-26T00:00:00",
          "2023-02-02T00:00:00",
          "2023-02-09T00:00:00",
          "2023-02-16T00:00:00",
          "2023-02-23T00:00:00",
          "2023-03-02T00:00:00",
          "2023-03-09T00:00:00",
          "2023-03-16T00:00:00",
          "2023-03-23T00:00:00",
          "2023-03-30T00:00:00",
          "2023-04-06T00:00:00",
          "2023-04-13T00:00:00",
          "2023-04-20T00:00:00",
          "2023-04-27T00:00:00",
          "2023-05-04T00:00:00",
          "2023-05-11T00:00:00",
          "2023-05-18T00:00:00",
          "2023-05-25T00:00:00",
          "2023-06-01T00:00:00",
          "2023-06-08T00:00:00",
          "2023-06-15T00:00:00",
          "2023-06-22T00:00:00",
          "2023-06-29T00:00:00",
          "2023-07-06T00:00:00",
          "2023-07-13T00:00:00",
          "2023-07-20T00:00:00",
          "2023-07-27T00:00:00",
          "2023-08-03T00:00:00",
          "2023-08-10T00:00:00",
          "2023-08-17T00:00:00",
          "2023-08-24T00:00:00",
          "2023-08-31T00:00:00"
         ],
         "xaxis": "x",
         "y": [
          1025.5546011904762,
          928.3467380952382,
          1024.7542619047617,
          1166.8605416666667,
          1484.9238928571428,
          1736.920017857143,
          1479.1883511904762,
          1322.3956309523808,
          1519.4510952380954,
          2102.987869047619,
          2080.3985714285714,
          1978.4495535714286,
          1968.8788928571428,
          1806.7610595238095,
          1690.8820595238094,
          1599.682464285714,
          1141.8008035714286,
          1244.6521547619047,
          1758.3261904761905,
          1552.2059702380952,
          1592.4316547619046,
          1852.7025476190477,
          2434.960517857143,
          2574.634327380952,
          2678.4160654761904,
          2589.8099464285715,
          2674.2460654761903,
          2178.0480952380954,
          2554.778875,
          2252.4820778443113,
          1863.352880952381,
          2103.435630952381,
          2146.4648630952383,
          2491.9612559523807,
          2330.2741428571426,
          2288.848023809524,
          2169.4149404761906,
          2292.1647916666666,
          2558.9588214285714,
          2510.5405535714285,
          2496.4486904761907,
          2488.924988095238,
          2390.9009642857145,
          2085.7416785714286,
          2109.8146607142858,
          2078.2848511904763,
          2015.0979226190477,
          1951.674363095238,
          1690.7405654761903,
          1699.8071190476192,
          1792.5986011904763,
          1803.254160714286,
          2059.7710833333335
         ],
         "yaxis": "y"
        },
        {
         "fillpattern": {
          "shape": ""
         },
         "hovertemplate": "variable=Combined Cycle (Gas)<br>time=%{x}<br>value=%{y}<extra></extra>",
         "legendgroup": "Combined Cycle (Gas)",
         "line": {
          "color": "#00cc96"
         },
         "marker": {
          "symbol": "circle"
         },
         "mode": "lines",
         "name": "Combined Cycle (Gas)",
         "orientation": "v",
         "showlegend": true,
         "stackgroup": "1",
         "type": "scatter",
         "x": [
          "2022-09-01T00:00:00",
          "2022-09-08T00:00:00",
          "2022-09-15T00:00:00",
          "2022-09-22T00:00:00",
          "2022-09-29T00:00:00",
          "2022-10-06T00:00:00",
          "2022-10-13T00:00:00",
          "2022-10-20T00:00:00",
          "2022-10-27T00:00:00",
          "2022-11-03T00:00:00",
          "2022-11-10T00:00:00",
          "2022-11-17T00:00:00",
          "2022-11-24T00:00:00",
          "2022-12-01T00:00:00",
          "2022-12-08T00:00:00",
          "2022-12-15T00:00:00",
          "2022-12-22T00:00:00",
          "2022-12-29T00:00:00",
          "2023-01-05T00:00:00",
          "2023-01-12T00:00:00",
          "2023-01-19T00:00:00",
          "2023-01-26T00:00:00",
          "2023-02-02T00:00:00",
          "2023-02-09T00:00:00",
          "2023-02-16T00:00:00",
          "2023-02-23T00:00:00",
          "2023-03-02T00:00:00",
          "2023-03-09T00:00:00",
          "2023-03-16T00:00:00",
          "2023-03-23T00:00:00",
          "2023-03-30T00:00:00",
          "2023-04-06T00:00:00",
          "2023-04-13T00:00:00",
          "2023-04-20T00:00:00",
          "2023-04-27T00:00:00",
          "2023-05-04T00:00:00",
          "2023-05-11T00:00:00",
          "2023-05-18T00:00:00",
          "2023-05-25T00:00:00",
          "2023-06-01T00:00:00",
          "2023-06-08T00:00:00",
          "2023-06-15T00:00:00",
          "2023-06-22T00:00:00",
          "2023-06-29T00:00:00",
          "2023-07-06T00:00:00",
          "2023-07-13T00:00:00",
          "2023-07-20T00:00:00",
          "2023-07-27T00:00:00",
          "2023-08-03T00:00:00",
          "2023-08-10T00:00:00",
          "2023-08-17T00:00:00",
          "2023-08-24T00:00:00",
          "2023-08-31T00:00:00"
         ],
         "xaxis": "x",
         "y": [
          11451.133279761905,
          11524.701541666665,
          10654.792732142858,
          7684.035785714286,
          10170.802333333333,
          12072.864023809523,
          9375.535744047618,
          6455.073815476191,
          5097.695101190477,
          6919.612648809524,
          6325.661964285714,
          3199.5702380952384,
          6490.133285714286,
          10867.089375,
          4857.394541666667,
          3836.1313511904764,
          2495.1647619047617,
          3016.024654761905,
          2957.7385416666666,
          2020.5138928571428,
          2639.127988095238,
          3365.5352202380955,
          4830.009910714286,
          6593.825297619047,
          6701.317803571429,
          5584.027136904762,
          6155.699160714286,
          1970.4676130952382,
          3561.6171904761904,
          2397.1864251497004,
          1750.161636904762,
          2839.689785714286,
          2134.3397321428574,
          4339.748648809524,
          4782.163720238095,
          3741.6076904761903,
          2707.0178452380956,
          3144.153922619048,
          5047.453208333333,
          5706.874107142857,
          5096.634119047619,
          6406.058166666666,
          5642.44619047619,
          4808.024273809524,
          7077.9410654761905,
          6888.8344226190475,
          5145.83544047619,
          4935.727101190477,
          4366.42880952381,
          5307.038083333334,
          7982.458839285714,
          6127.8117202380945,
          6561.120833333333
         ],
         "yaxis": "y"
        },
        {
         "fillpattern": {
          "shape": ""
         },
         "hovertemplate": "variable=Eolic<br>time=%{x}<br>value=%{y}<extra></extra>",
         "legendgroup": "Eolic",
         "line": {
          "color": "#ab63fa"
         },
         "marker": {
          "symbol": "circle"
         },
         "mode": "lines",
         "name": "Eolic",
         "orientation": "v",
         "showlegend": true,
         "stackgroup": "1",
         "type": "scatter",
         "x": [
          "2022-09-01T00:00:00",
          "2022-09-08T00:00:00",
          "2022-09-15T00:00:00",
          "2022-09-22T00:00:00",
          "2022-09-29T00:00:00",
          "2022-10-06T00:00:00",
          "2022-10-13T00:00:00",
          "2022-10-20T00:00:00",
          "2022-10-27T00:00:00",
          "2022-11-03T00:00:00",
          "2022-11-10T00:00:00",
          "2022-11-17T00:00:00",
          "2022-11-24T00:00:00",
          "2022-12-01T00:00:00",
          "2022-12-08T00:00:00",
          "2022-12-15T00:00:00",
          "2022-12-22T00:00:00",
          "2022-12-29T00:00:00",
          "2023-01-05T00:00:00",
          "2023-01-12T00:00:00",
          "2023-01-19T00:00:00",
          "2023-01-26T00:00:00",
          "2023-02-02T00:00:00",
          "2023-02-09T00:00:00",
          "2023-02-16T00:00:00",
          "2023-02-23T00:00:00",
          "2023-03-02T00:00:00",
          "2023-03-09T00:00:00",
          "2023-03-16T00:00:00",
          "2023-03-23T00:00:00",
          "2023-03-30T00:00:00",
          "2023-04-06T00:00:00",
          "2023-04-13T00:00:00",
          "2023-04-20T00:00:00",
          "2023-04-27T00:00:00",
          "2023-05-04T00:00:00",
          "2023-05-11T00:00:00",
          "2023-05-18T00:00:00",
          "2023-05-25T00:00:00",
          "2023-06-01T00:00:00",
          "2023-06-08T00:00:00",
          "2023-06-15T00:00:00",
          "2023-06-22T00:00:00",
          "2023-06-29T00:00:00",
          "2023-07-06T00:00:00",
          "2023-07-13T00:00:00",
          "2023-07-20T00:00:00",
          "2023-07-27T00:00:00",
          "2023-08-03T00:00:00",
          "2023-08-10T00:00:00",
          "2023-08-17T00:00:00",
          "2023-08-24T00:00:00",
          "2023-08-31T00:00:00"
         ],
         "xaxis": "x",
         "y": [
          5143.081583333334,
          5184.599363095238,
          4633.183035714285,
          6293.739095238096,
          4856.702482142857,
          3844.6168630952384,
          6948.647946428571,
          10389.143339285714,
          7466.935636904762,
          7564.26968452381,
          9313.201339285713,
          14579.280797619049,
          7343.494571428571,
          3479.7320238095235,
          10086.346726190477,
          8557.205660714286,
          7209.0037678571425,
          6778.685511904761,
          9050.50857142857,
          11759.049827380954,
          11796.905875,
          10450.007625,
          7585.842785714286,
          6408.426571428572,
          4280.710416666667,
          9630.248803571429,
          8723.504708333334,
          11605.629803571428,
          6205.824291666667,
          8016.869449101797,
          10009.608077380952,
          5187.5269285714285,
          8954.968916666667,
          5187.056654761905,
          5800.441934523809,
          6095.763976190477,
          10152.511857142857,
          8704.0785,
          4385.094089285714,
          2591.6865535714287,
          4332.2015,
          3753.470059523809,
          5341.493952380952,
          5655.755970238095,
          4623.5990357142855,
          5782.467827380952,
          5695.980071428571,
          4957.939708333333,
          7201.496946428571,
          4479.251863095238,
          3951.5472083333334,
          6934.034327380952,
          2901.9488333333334
         ],
         "yaxis": "y"
        },
        {
         "fillpattern": {
          "shape": ""
         },
         "hovertemplate": "variable=Hydraulic<br>time=%{x}<br>value=%{y}<extra></extra>",
         "legendgroup": "Hydraulic",
         "line": {
          "color": "#FFA15A"
         },
         "marker": {
          "symbol": "circle"
         },
         "mode": "lines",
         "name": "Hydraulic",
         "orientation": "v",
         "showlegend": true,
         "stackgroup": "1",
         "type": "scatter",
         "x": [
          "2022-09-01T00:00:00",
          "2022-09-08T00:00:00",
          "2022-09-15T00:00:00",
          "2022-09-22T00:00:00",
          "2022-09-29T00:00:00",
          "2022-10-06T00:00:00",
          "2022-10-13T00:00:00",
          "2022-10-20T00:00:00",
          "2022-10-27T00:00:00",
          "2022-11-03T00:00:00",
          "2022-11-10T00:00:00",
          "2022-11-17T00:00:00",
          "2022-11-24T00:00:00",
          "2022-12-01T00:00:00",
          "2022-12-08T00:00:00",
          "2022-12-15T00:00:00",
          "2022-12-22T00:00:00",
          "2022-12-29T00:00:00",
          "2023-01-05T00:00:00",
          "2023-01-12T00:00:00",
          "2023-01-19T00:00:00",
          "2023-01-26T00:00:00",
          "2023-02-02T00:00:00",
          "2023-02-09T00:00:00",
          "2023-02-16T00:00:00",
          "2023-02-23T00:00:00",
          "2023-03-02T00:00:00",
          "2023-03-09T00:00:00",
          "2023-03-16T00:00:00",
          "2023-03-23T00:00:00",
          "2023-03-30T00:00:00",
          "2023-04-06T00:00:00",
          "2023-04-13T00:00:00",
          "2023-04-20T00:00:00",
          "2023-04-27T00:00:00",
          "2023-05-04T00:00:00",
          "2023-05-11T00:00:00",
          "2023-05-18T00:00:00",
          "2023-05-25T00:00:00",
          "2023-06-01T00:00:00",
          "2023-06-08T00:00:00",
          "2023-06-15T00:00:00",
          "2023-06-22T00:00:00",
          "2023-06-29T00:00:00",
          "2023-07-06T00:00:00",
          "2023-07-13T00:00:00",
          "2023-07-20T00:00:00",
          "2023-07-27T00:00:00",
          "2023-08-03T00:00:00",
          "2023-08-10T00:00:00",
          "2023-08-17T00:00:00",
          "2023-08-24T00:00:00",
          "2023-08-31T00:00:00"
         ],
         "xaxis": "x",
         "y": [
          1028.6042857142857,
          1546.5593095238096,
          2386.393601190476,
          1885.0759821428571,
          975.9498809523809,
          822.0901785714285,
          808.3765654761905,
          1339.0941547619047,
          1271.4227083333335,
          1321.5495714285714,
          1425.7252976190478,
          1957.8436547619046,
          3191.163601190476,
          3411.0951428571434,
          3183.4375773809525,
          4594.995035714285,
          4477.282101190476,
          4600.002005952381,
          5031.839136904762,
          5175.999595238095,
          5620.592416666666,
          6047.99300595238,
          4827.807142857143,
          3866.6340773809525,
          3119.0802083333333,
          2993.909077380952,
          3233.1093511904764,
          2746.3901011904763,
          3159.4409523809522,
          2855.769532934132,
          2537.9559404761903,
          2428.8615,
          2211.2500476190476,
          2248.5374583333332,
          2228.793672619048,
          2091.2468095238096,
          1776.6767202380954,
          2004.6949345238095,
          2076.1986369047618,
          2660.992029761905,
          2777.0015297619047,
          2950.3420654761903,
          2310.6721785714285,
          1857.427654761905,
          2001.9399226190476,
          1824.8870119047617,
          1696.6939107142857,
          1542.6985714285713,
          1429.921107142857,
          1409.5606428571427,
          1541.2975416666666,
          1291.4917678571428,
          1678.407625
         ],
         "yaxis": "y"
        },
        {
         "fillpattern": {
          "shape": ""
         },
         "hovertemplate": "variable=Non-Renewable Residues<br>time=%{x}<br>value=%{y}<extra></extra>",
         "legendgroup": "Non-Renewable Residues",
         "line": {
          "color": "#19d3f3"
         },
         "marker": {
          "symbol": "circle"
         },
         "mode": "lines",
         "name": "Non-Renewable Residues",
         "orientation": "v",
         "showlegend": true,
         "stackgroup": "1",
         "type": "scatter",
         "x": [
          "2022-09-01T00:00:00",
          "2022-09-08T00:00:00",
          "2022-09-15T00:00:00",
          "2022-09-22T00:00:00",
          "2022-09-29T00:00:00",
          "2022-10-06T00:00:00",
          "2022-10-13T00:00:00",
          "2022-10-20T00:00:00",
          "2022-10-27T00:00:00",
          "2022-11-03T00:00:00",
          "2022-11-10T00:00:00",
          "2022-11-17T00:00:00",
          "2022-11-24T00:00:00",
          "2022-12-01T00:00:00",
          "2022-12-08T00:00:00",
          "2022-12-15T00:00:00",
          "2022-12-22T00:00:00",
          "2022-12-29T00:00:00",
          "2023-01-05T00:00:00",
          "2023-01-12T00:00:00",
          "2023-01-19T00:00:00",
          "2023-01-26T00:00:00",
          "2023-02-02T00:00:00",
          "2023-02-09T00:00:00",
          "2023-02-16T00:00:00",
          "2023-02-23T00:00:00",
          "2023-03-02T00:00:00",
          "2023-03-09T00:00:00",
          "2023-03-16T00:00:00",
          "2023-03-23T00:00:00",
          "2023-03-30T00:00:00",
          "2023-04-06T00:00:00",
          "2023-04-13T00:00:00",
          "2023-04-20T00:00:00",
          "2023-04-27T00:00:00",
          "2023-05-04T00:00:00",
          "2023-05-11T00:00:00",
          "2023-05-18T00:00:00",
          "2023-05-25T00:00:00",
          "2023-06-01T00:00:00",
          "2023-06-08T00:00:00",
          "2023-06-15T00:00:00",
          "2023-06-22T00:00:00",
          "2023-06-29T00:00:00",
          "2023-07-06T00:00:00",
          "2023-07-13T00:00:00",
          "2023-07-20T00:00:00",
          "2023-07-27T00:00:00",
          "2023-08-03T00:00:00",
          "2023-08-10T00:00:00",
          "2023-08-17T00:00:00",
          "2023-08-24T00:00:00",
          "2023-08-31T00:00:00"
         ],
         "xaxis": "x",
         "y": [
          265.4567976190476,
          259.83462499999996,
          220.91468452380954,
          215.7664166666667,
          283.6074345238095,
          298.1380952380952,
          303.2645357142857,
          239.07559523809522,
          239.6642857142857,
          242.3982142857143,
          222.05535714285716,
          235.3438988095238,
          243.38559523809522,
          253.4047619047619,
          254.23144642857145,
          242.75255952380954,
          251.35447619047622,
          245.32574404761903,
          242.57678571428573,
          223.628375,
          187.87107142857144,
          183.89424404761905,
          258.37465476190476,
          260.239880952381,
          255.14602976190477,
          259.4839285714286,
          265.1872023809524,
          225.66011904761905,
          234.12976190476192,
          224.0435508982036,
          224.0260714285714,
          211.73248809523807,
          149.8375,
          168.78065476190477,
          125.08977976190475,
          109.82797619047618,
          95.27261904761905,
          104.72102976190477,
          204.10892857142858,
          211.37321428571425,
          263.5541666666667,
          278.2690476190476,
          251.84300595238096,
          242.8654761904762,
          258.49583333333334,
          256.2280714285714,
          251.6982142857143,
          255.11369047619047,
          227.02678571428572,
          245.12391071428573,
          239.13273809523812,
          233.90416666666667,
          210.29583333333335
         ],
         "yaxis": "y"
        },
        {
         "fillpattern": {
          "shape": ""
         },
         "hovertemplate": "variable=Nuclear<br>time=%{x}<br>value=%{y}<extra></extra>",
         "legendgroup": "Nuclear",
         "line": {
          "color": "#FF6692"
         },
         "marker": {
          "symbol": "circle"
         },
         "mode": "lines",
         "name": "Nuclear",
         "orientation": "v",
         "showlegend": true,
         "stackgroup": "1",
         "type": "scatter",
         "x": [
          "2022-09-01T00:00:00",
          "2022-09-08T00:00:00",
          "2022-09-15T00:00:00",
          "2022-09-22T00:00:00",
          "2022-09-29T00:00:00",
          "2022-10-06T00:00:00",
          "2022-10-13T00:00:00",
          "2022-10-20T00:00:00",
          "2022-10-27T00:00:00",
          "2022-11-03T00:00:00",
          "2022-11-10T00:00:00",
          "2022-11-17T00:00:00",
          "2022-11-24T00:00:00",
          "2022-12-01T00:00:00",
          "2022-12-08T00:00:00",
          "2022-12-15T00:00:00",
          "2022-12-22T00:00:00",
          "2022-12-29T00:00:00",
          "2023-01-05T00:00:00",
          "2023-01-12T00:00:00",
          "2023-01-19T00:00:00",
          "2023-01-26T00:00:00",
          "2023-02-02T00:00:00",
          "2023-02-09T00:00:00",
          "2023-02-16T00:00:00",
          "2023-02-23T00:00:00",
          "2023-03-02T00:00:00",
          "2023-03-09T00:00:00",
          "2023-03-16T00:00:00",
          "2023-03-23T00:00:00",
          "2023-03-30T00:00:00",
          "2023-04-06T00:00:00",
          "2023-04-13T00:00:00",
          "2023-04-20T00:00:00",
          "2023-04-27T00:00:00",
          "2023-05-04T00:00:00",
          "2023-05-11T00:00:00",
          "2023-05-18T00:00:00",
          "2023-05-25T00:00:00",
          "2023-06-01T00:00:00",
          "2023-06-08T00:00:00",
          "2023-06-15T00:00:00",
          "2023-06-22T00:00:00",
          "2023-06-29T00:00:00",
          "2023-07-06T00:00:00",
          "2023-07-13T00:00:00",
          "2023-07-20T00:00:00",
          "2023-07-27T00:00:00",
          "2023-08-03T00:00:00",
          "2023-08-10T00:00:00",
          "2023-08-17T00:00:00",
          "2023-08-24T00:00:00",
          "2023-08-31T00:00:00"
         ],
         "xaxis": "x",
         "y": [
          6890.202380952381,
          6916.328077380953,
          6878.1678571428565,
          6464.255952380952,
          6000.802976190476,
          5951.785714285715,
          5188.291071428572,
          4956.516071428571,
          4952.990029761904,
          5504.400297619048,
          6005.2172619047615,
          6000.7017857142855,
          6323.501523809524,
          6843.815773809524,
          6860.584375,
          7059.8345238095235,
          7061.394791666667,
          6797.756696428572,
          6446.566815476191,
          6761.003571428572,
          7078.666666666667,
          7085.504166666667,
          7087.066071428572,
          7031.5297619047615,
          6993.840476190476,
          6100.107738095238,
          6686.725,
          7016.801041666667,
          7060.143452380953,
          6989.4856287425155,
          6421.785714285715,
          7012.362499999999,
          6551.792559523809,
          5946.360119047619,
          5261.956398809524,
          5066.194196428572,
          4800.504267857143,
          5251.915773809524,
          5073.539285714285,
          5067.866666666667,
          5045.691666666667,
          5563.49161904762,
          6391.525148809523,
          6888.794047619047,
          6893.988095238095,
          6895.940476190476,
          6872.289285714286,
          6888.992857142857,
          6852.143452380953,
          6591.331416666667,
          6738.223613095239,
          6710.843452380952,
          6853.738541666667
         ],
         "yaxis": "y"
        },
        {
         "fillpattern": {
          "shape": ""
         },
         "hovertemplate": "variable=Pumped Storage Hydropower<br>time=%{x}<br>value=%{y}<extra></extra>",
         "legendgroup": "Pumped Storage Hydropower",
         "line": {
          "color": "#B6E880"
         },
         "marker": {
          "symbol": "circle"
         },
         "mode": "lines",
         "name": "Pumped Storage Hydropower",
         "orientation": "v",
         "showlegend": true,
         "stackgroup": "1",
         "type": "scatter",
         "x": [
          "2022-09-01T00:00:00",
          "2022-09-08T00:00:00",
          "2022-09-15T00:00:00",
          "2022-09-22T00:00:00",
          "2022-09-29T00:00:00",
          "2022-10-06T00:00:00",
          "2022-10-13T00:00:00",
          "2022-10-20T00:00:00",
          "2022-10-27T00:00:00",
          "2022-11-03T00:00:00",
          "2022-11-10T00:00:00",
          "2022-11-17T00:00:00",
          "2022-11-24T00:00:00",
          "2022-12-01T00:00:00",
          "2022-12-08T00:00:00",
          "2022-12-15T00:00:00",
          "2022-12-22T00:00:00",
          "2022-12-29T00:00:00",
          "2023-01-05T00:00:00",
          "2023-01-12T00:00:00",
          "2023-01-19T00:00:00",
          "2023-01-26T00:00:00",
          "2023-02-02T00:00:00",
          "2023-02-09T00:00:00",
          "2023-02-16T00:00:00",
          "2023-02-23T00:00:00",
          "2023-03-02T00:00:00",
          "2023-03-09T00:00:00",
          "2023-03-16T00:00:00",
          "2023-03-23T00:00:00",
          "2023-03-30T00:00:00",
          "2023-04-06T00:00:00",
          "2023-04-13T00:00:00",
          "2023-04-20T00:00:00",
          "2023-04-27T00:00:00",
          "2023-05-04T00:00:00",
          "2023-05-11T00:00:00",
          "2023-05-18T00:00:00",
          "2023-05-25T00:00:00",
          "2023-06-01T00:00:00",
          "2023-06-08T00:00:00",
          "2023-06-15T00:00:00",
          "2023-06-22T00:00:00",
          "2023-06-29T00:00:00",
          "2023-07-06T00:00:00",
          "2023-07-13T00:00:00",
          "2023-07-20T00:00:00",
          "2023-07-27T00:00:00",
          "2023-08-03T00:00:00",
          "2023-08-10T00:00:00",
          "2023-08-17T00:00:00",
          "2023-08-24T00:00:00",
          "2023-08-31T00:00:00"
         ],
         "xaxis": "x",
         "y": [
          375.0948392857143,
          358.47454761904766,
          376.12232142857147,
          379.50074404761904,
          462.05129166666666,
          495.60758928571425,
          455.6322172619047,
          387.24523809523805,
          472.2734107142857,
          438.19132142857137,
          308.93869047619046,
          467.86292261904765,
          356.4708333333333,
          371.9048273809524,
          421.59375,
          423.48422619047625,
          689.5848214285714,
          625.8413928571429,
          569.7205357142857,
          668.7352678571428,
          650.6810238095238,
          453.57053571428577,
          395.55535714285713,
          159.57574404761903,
          387.13497023809526,
          322.2011904761905,
          314.00625,
          623.553994047619,
          650.9008452380953,
          692.6361736526945,
          697.2683035714285,
          656.1910535714285,
          597.577244047619,
          542.5595238095239,
          441.53353571428573,
          509.7975238095238,
          598.6834821428571,
          519.5086309523809,
          331.7010654761905,
          373.41309523809525,
          368.7328869047619,
          394.45213095238097,
          388.1648333333334,
          402.8941964285715,
          295.64151785714284,
          453.9837321428572,
          287.65446428571425,
          460.27410714285713,
          614.2679047619048,
          415.7237083333333,
          377.24742261904765,
          446.6014940476191,
          502.8041666666666
         ],
         "yaxis": "y"
        },
        {
         "fillpattern": {
          "shape": ""
         },
         "hovertemplate": "variable=Renewables Other<br>time=%{x}<br>value=%{y}<extra></extra>",
         "legendgroup": "Renewables Other",
         "line": {
          "color": "#FF97FF"
         },
         "marker": {
          "symbol": "circle"
         },
         "mode": "lines",
         "name": "Renewables Other",
         "orientation": "v",
         "showlegend": true,
         "stackgroup": "1",
         "type": "scatter",
         "x": [
          "2022-09-01T00:00:00",
          "2022-09-08T00:00:00",
          "2022-09-15T00:00:00",
          "2022-09-22T00:00:00",
          "2022-09-29T00:00:00",
          "2022-10-06T00:00:00",
          "2022-10-13T00:00:00",
          "2022-10-20T00:00:00",
          "2022-10-27T00:00:00",
          "2022-11-03T00:00:00",
          "2022-11-10T00:00:00",
          "2022-11-17T00:00:00",
          "2022-11-24T00:00:00",
          "2022-12-01T00:00:00",
          "2022-12-08T00:00:00",
          "2022-12-15T00:00:00",
          "2022-12-22T00:00:00",
          "2022-12-29T00:00:00",
          "2023-01-05T00:00:00",
          "2023-01-12T00:00:00",
          "2023-01-19T00:00:00",
          "2023-01-26T00:00:00",
          "2023-02-02T00:00:00",
          "2023-02-09T00:00:00",
          "2023-02-16T00:00:00",
          "2023-02-23T00:00:00",
          "2023-03-02T00:00:00",
          "2023-03-09T00:00:00",
          "2023-03-16T00:00:00",
          "2023-03-23T00:00:00",
          "2023-03-30T00:00:00",
          "2023-04-06T00:00:00",
          "2023-04-13T00:00:00",
          "2023-04-20T00:00:00",
          "2023-04-27T00:00:00",
          "2023-05-04T00:00:00",
          "2023-05-11T00:00:00",
          "2023-05-18T00:00:00",
          "2023-05-25T00:00:00",
          "2023-06-01T00:00:00",
          "2023-06-08T00:00:00",
          "2023-06-15T00:00:00",
          "2023-06-22T00:00:00",
          "2023-06-29T00:00:00",
          "2023-07-06T00:00:00",
          "2023-07-13T00:00:00",
          "2023-07-20T00:00:00",
          "2023-07-27T00:00:00",
          "2023-08-03T00:00:00",
          "2023-08-10T00:00:00",
          "2023-08-17T00:00:00",
          "2023-08-24T00:00:00",
          "2023-08-31T00:00:00"
         ],
         "xaxis": "x",
         "y": [
          493.73849404761904,
          473.8812857142857,
          514.9029880952381,
          494.184625,
          502.36469642857145,
          511.61657142857143,
          508.28070238095233,
          471.775,
          526.0821964285714,
          542.4541190476191,
          533.3637797619048,
          479.3968988095238,
          531.6748928571428,
          513.4638571428571,
          503.6984702380952,
          509.9700416666667,
          352.85863095238096,
          342.90267857142857,
          419.64711904761907,
          376.80744642857144,
          387.87622023809524,
          468.330255952381,
          531.1211607142857,
          548.7574523809524,
          543.4041666666666,
          537.8698988095238,
          515.1864345238095,
          400.6320416666667,
          431.30908928571426,
          389.6321377245509,
          284.0036726190476,
          395.42926785714286,
          356.140255952381,
          442.74084523809523,
          474.86084523809524,
          487.65811904761904,
          438.7584166666667,
          442.0676190476191,
          477.67310119047625,
          446.0828452380953,
          447.6742023809524,
          472.80520238095244,
          475.8618988095238,
          449.41402976190477,
          454.6351964285715,
          430.59007142857143,
          445.4764583333333,
          460.71920833333337,
          428.51628571428574,
          500.7517261904762,
          503.0946964285714,
          448.65827976190474,
          473.9429583333333
         ],
         "yaxis": "y"
        },
        {
         "fillpattern": {
          "shape": ""
         },
         "hovertemplate": "variable=Solar Photovoltaic<br>time=%{x}<br>value=%{y}<extra></extra>",
         "legendgroup": "Solar Photovoltaic",
         "line": {
          "color": "#FECB52"
         },
         "marker": {
          "symbol": "circle"
         },
         "mode": "lines",
         "name": "Solar Photovoltaic",
         "orientation": "v",
         "showlegend": true,
         "stackgroup": "1",
         "type": "scatter",
         "x": [
          "2022-09-01T00:00:00",
          "2022-09-08T00:00:00",
          "2022-09-15T00:00:00",
          "2022-09-22T00:00:00",
          "2022-09-29T00:00:00",
          "2022-10-06T00:00:00",
          "2022-10-13T00:00:00",
          "2022-10-20T00:00:00",
          "2022-10-27T00:00:00",
          "2022-11-03T00:00:00",
          "2022-11-10T00:00:00",
          "2022-11-17T00:00:00",
          "2022-11-24T00:00:00",
          "2022-12-01T00:00:00",
          "2022-12-08T00:00:00",
          "2022-12-15T00:00:00",
          "2022-12-22T00:00:00",
          "2022-12-29T00:00:00",
          "2023-01-05T00:00:00",
          "2023-01-12T00:00:00",
          "2023-01-19T00:00:00",
          "2023-01-26T00:00:00",
          "2023-02-02T00:00:00",
          "2023-02-09T00:00:00",
          "2023-02-16T00:00:00",
          "2023-02-23T00:00:00",
          "2023-03-02T00:00:00",
          "2023-03-09T00:00:00",
          "2023-03-16T00:00:00",
          "2023-03-23T00:00:00",
          "2023-03-30T00:00:00",
          "2023-04-06T00:00:00",
          "2023-04-13T00:00:00",
          "2023-04-20T00:00:00",
          "2023-04-27T00:00:00",
          "2023-05-04T00:00:00",
          "2023-05-11T00:00:00",
          "2023-05-18T00:00:00",
          "2023-05-25T00:00:00",
          "2023-06-01T00:00:00",
          "2023-06-08T00:00:00",
          "2023-06-15T00:00:00",
          "2023-06-22T00:00:00",
          "2023-06-29T00:00:00",
          "2023-07-06T00:00:00",
          "2023-07-13T00:00:00",
          "2023-07-20T00:00:00",
          "2023-07-27T00:00:00",
          "2023-08-03T00:00:00",
          "2023-08-10T00:00:00",
          "2023-08-17T00:00:00",
          "2023-08-24T00:00:00",
          "2023-08-31T00:00:00"
         ],
         "xaxis": "x",
         "y": [
          4142.0445,
          3303.7693988095234,
          3619.457303571429,
          3650.841571428571,
          3641.734952380952,
          3034.168773809524,
          3050.026505952381,
          1886.4351190476189,
          2394.1941964285716,
          2471.0719345238094,
          2014.1305,
          1576.2454702380953,
          2293.0996547619047,
          1647.031994047619,
          951.3579226190476,
          1570.6376488095239,
          2082.7550595238095,
          1909.2460952380952,
          1887.586011904762,
          2053.2307380952384,
          2650.0418035714283,
          3115.8502619047617,
          3176.257261904762,
          3033.9081845238097,
          3237.9436011904763,
          3672.048726190476,
          3273.1534464285714,
          3843.0853035714285,
          4357.260732142857,
          4540.9755389221555,
          4573.108880952381,
          5082.602232142857,
          5115.373773809524,
          5324.819398809524,
          4987.80036904762,
          5841.116303571429,
          5591.766482142857,
          4473.958886904762,
          4459.480494047619,
          4659.481226190476,
          5132.642404761905,
          5395.097785714285,
          5991.072446428571,
          6003.499833333333,
          5891.315880952381,
          6037.054244047619,
          6077.069678571429,
          6384.237202380953,
          5905.037523809524,
          6175.228803571428,
          6056.366720238096,
          5359.106035714286,
          5786.667541666667
         ],
         "yaxis": "y"
        },
        {
         "fillpattern": {
          "shape": ""
         },
         "hovertemplate": "variable=Solar Thermal<br>time=%{x}<br>value=%{y}<extra></extra>",
         "legendgroup": "Solar Thermal",
         "line": {
          "color": "#636efa"
         },
         "marker": {
          "symbol": "circle"
         },
         "mode": "lines",
         "name": "Solar Thermal",
         "orientation": "v",
         "showlegend": true,
         "stackgroup": "1",
         "type": "scatter",
         "x": [
          "2022-09-01T00:00:00",
          "2022-09-08T00:00:00",
          "2022-09-15T00:00:00",
          "2022-09-22T00:00:00",
          "2022-09-29T00:00:00",
          "2022-10-06T00:00:00",
          "2022-10-13T00:00:00",
          "2022-10-20T00:00:00",
          "2022-10-27T00:00:00",
          "2022-11-03T00:00:00",
          "2022-11-10T00:00:00",
          "2022-11-17T00:00:00",
          "2022-11-24T00:00:00",
          "2022-12-01T00:00:00",
          "2022-12-08T00:00:00",
          "2022-12-15T00:00:00",
          "2022-12-22T00:00:00",
          "2022-12-29T00:00:00",
          "2023-01-05T00:00:00",
          "2023-01-12T00:00:00",
          "2023-01-19T00:00:00",
          "2023-01-26T00:00:00",
          "2023-02-02T00:00:00",
          "2023-02-09T00:00:00",
          "2023-02-16T00:00:00",
          "2023-02-23T00:00:00",
          "2023-03-02T00:00:00",
          "2023-03-09T00:00:00",
          "2023-03-16T00:00:00",
          "2023-03-23T00:00:00",
          "2023-03-30T00:00:00",
          "2023-04-06T00:00:00",
          "2023-04-13T00:00:00",
          "2023-04-20T00:00:00",
          "2023-04-27T00:00:00",
          "2023-05-04T00:00:00",
          "2023-05-11T00:00:00",
          "2023-05-18T00:00:00",
          "2023-05-25T00:00:00",
          "2023-06-01T00:00:00",
          "2023-06-08T00:00:00",
          "2023-06-15T00:00:00",
          "2023-06-22T00:00:00",
          "2023-06-29T00:00:00",
          "2023-07-06T00:00:00",
          "2023-07-13T00:00:00",
          "2023-07-20T00:00:00",
          "2023-07-27T00:00:00",
          "2023-08-03T00:00:00",
          "2023-08-10T00:00:00",
          "2023-08-17T00:00:00",
          "2023-08-24T00:00:00",
          "2023-08-31T00:00:00"
         ],
         "xaxis": "x",
         "y": [
          797.3052083333333,
          490.11792261904765,
          512.3229166666666,
          687.7196428571428,
          524.2591011904761,
          327.74956547619047,
          327.4776904761905,
          31.717857142857145,
          156.625,
          202.29642857142858,
          170.79464285714286,
          53.06547619047619,
          179.6261904761905,
          97.9279761904762,
          7.17202380952381,
          63.960565476190474,
          183.37738095238097,
          124.60973214285715,
          93.2,
          118.38749999999999,
          247.37470238095236,
          285.4809523809524,
          300.8802083333333,
          235.55119047619047,
          188.5220238095238,
          454.978869047619,
          297.1707321428571,
          491.63887500000004,
          648.818244047619,
          749.9919580838324,
          801.2052976190475,
          956.7559940476191,
          1003.9624821428572,
          925.9968690476189,
          680.1479285714286,
          1009.1297619047618,
          973.3088392857144,
          366.6095357142857,
          404.3873869047619,
          581.0873392857143,
          638.7425833333333,
          856.0193571428572,
          1117.931136904762,
          1103.1565595238094,
          1052.433994047619,
          997.8485773809523,
          1059.8264761904761,
          1159.568619047619,
          1055.8519583333332,
          1042.3847678571428,
          1033.6337023809524,
          905.663369047619,
          932.8006666666666
         ],
         "yaxis": "y"
        }
       ],
       "layout": {
        "height": 500,
        "legend": {
         "title": {
          "text": "variable"
         },
         "tracegroupgap": 0
        },
        "margin": {
         "t": 60
        },
        "template": {
         "data": {
          "bar": [
           {
            "error_x": {
             "color": "#2a3f5f"
            },
            "error_y": {
             "color": "#2a3f5f"
            },
            "marker": {
             "line": {
              "color": "#E5ECF6",
              "width": 0.5
             },
             "pattern": {
              "fillmode": "overlay",
              "size": 10,
              "solidity": 0.2
             }
            },
            "type": "bar"
           }
          ],
          "barpolar": [
           {
            "marker": {
             "line": {
              "color": "#E5ECF6",
              "width": 0.5
             },
             "pattern": {
              "fillmode": "overlay",
              "size": 10,
              "solidity": 0.2
             }
            },
            "type": "barpolar"
           }
          ],
          "carpet": [
           {
            "aaxis": {
             "endlinecolor": "#2a3f5f",
             "gridcolor": "white",
             "linecolor": "white",
             "minorgridcolor": "white",
             "startlinecolor": "#2a3f5f"
            },
            "baxis": {
             "endlinecolor": "#2a3f5f",
             "gridcolor": "white",
             "linecolor": "white",
             "minorgridcolor": "white",
             "startlinecolor": "#2a3f5f"
            },
            "type": "carpet"
           }
          ],
          "choropleth": [
           {
            "colorbar": {
             "outlinewidth": 0,
             "ticks": ""
            },
            "type": "choropleth"
           }
          ],
          "contour": [
           {
            "colorbar": {
             "outlinewidth": 0,
             "ticks": ""
            },
            "colorscale": [
             [
              0,
              "#0d0887"
             ],
             [
              0.1111111111111111,
              "#46039f"
             ],
             [
              0.2222222222222222,
              "#7201a8"
             ],
             [
              0.3333333333333333,
              "#9c179e"
             ],
             [
              0.4444444444444444,
              "#bd3786"
             ],
             [
              0.5555555555555556,
              "#d8576b"
             ],
             [
              0.6666666666666666,
              "#ed7953"
             ],
             [
              0.7777777777777778,
              "#fb9f3a"
             ],
             [
              0.8888888888888888,
              "#fdca26"
             ],
             [
              1,
              "#f0f921"
             ]
            ],
            "type": "contour"
           }
          ],
          "contourcarpet": [
           {
            "colorbar": {
             "outlinewidth": 0,
             "ticks": ""
            },
            "type": "contourcarpet"
           }
          ],
          "heatmap": [
           {
            "colorbar": {
             "outlinewidth": 0,
             "ticks": ""
            },
            "colorscale": [
             [
              0,
              "#0d0887"
             ],
             [
              0.1111111111111111,
              "#46039f"
             ],
             [
              0.2222222222222222,
              "#7201a8"
             ],
             [
              0.3333333333333333,
              "#9c179e"
             ],
             [
              0.4444444444444444,
              "#bd3786"
             ],
             [
              0.5555555555555556,
              "#d8576b"
             ],
             [
              0.6666666666666666,
              "#ed7953"
             ],
             [
              0.7777777777777778,
              "#fb9f3a"
             ],
             [
              0.8888888888888888,
              "#fdca26"
             ],
             [
              1,
              "#f0f921"
             ]
            ],
            "type": "heatmap"
           }
          ],
          "heatmapgl": [
           {
            "colorbar": {
             "outlinewidth": 0,
             "ticks": ""
            },
            "colorscale": [
             [
              0,
              "#0d0887"
             ],
             [
              0.1111111111111111,
              "#46039f"
             ],
             [
              0.2222222222222222,
              "#7201a8"
             ],
             [
              0.3333333333333333,
              "#9c179e"
             ],
             [
              0.4444444444444444,
              "#bd3786"
             ],
             [
              0.5555555555555556,
              "#d8576b"
             ],
             [
              0.6666666666666666,
              "#ed7953"
             ],
             [
              0.7777777777777778,
              "#fb9f3a"
             ],
             [
              0.8888888888888888,
              "#fdca26"
             ],
             [
              1,
              "#f0f921"
             ]
            ],
            "type": "heatmapgl"
           }
          ],
          "histogram": [
           {
            "marker": {
             "pattern": {
              "fillmode": "overlay",
              "size": 10,
              "solidity": 0.2
             }
            },
            "type": "histogram"
           }
          ],
          "histogram2d": [
           {
            "colorbar": {
             "outlinewidth": 0,
             "ticks": ""
            },
            "colorscale": [
             [
              0,
              "#0d0887"
             ],
             [
              0.1111111111111111,
              "#46039f"
             ],
             [
              0.2222222222222222,
              "#7201a8"
             ],
             [
              0.3333333333333333,
              "#9c179e"
             ],
             [
              0.4444444444444444,
              "#bd3786"
             ],
             [
              0.5555555555555556,
              "#d8576b"
             ],
             [
              0.6666666666666666,
              "#ed7953"
             ],
             [
              0.7777777777777778,
              "#fb9f3a"
             ],
             [
              0.8888888888888888,
              "#fdca26"
             ],
             [
              1,
              "#f0f921"
             ]
            ],
            "type": "histogram2d"
           }
          ],
          "histogram2dcontour": [
           {
            "colorbar": {
             "outlinewidth": 0,
             "ticks": ""
            },
            "colorscale": [
             [
              0,
              "#0d0887"
             ],
             [
              0.1111111111111111,
              "#46039f"
             ],
             [
              0.2222222222222222,
              "#7201a8"
             ],
             [
              0.3333333333333333,
              "#9c179e"
             ],
             [
              0.4444444444444444,
              "#bd3786"
             ],
             [
              0.5555555555555556,
              "#d8576b"
             ],
             [
              0.6666666666666666,
              "#ed7953"
             ],
             [
              0.7777777777777778,
              "#fb9f3a"
             ],
             [
              0.8888888888888888,
              "#fdca26"
             ],
             [
              1,
              "#f0f921"
             ]
            ],
            "type": "histogram2dcontour"
           }
          ],
          "mesh3d": [
           {
            "colorbar": {
             "outlinewidth": 0,
             "ticks": ""
            },
            "type": "mesh3d"
           }
          ],
          "parcoords": [
           {
            "line": {
             "colorbar": {
              "outlinewidth": 0,
              "ticks": ""
             }
            },
            "type": "parcoords"
           }
          ],
          "pie": [
           {
            "automargin": true,
            "type": "pie"
           }
          ],
          "scatter": [
           {
            "fillpattern": {
             "fillmode": "overlay",
             "size": 10,
             "solidity": 0.2
            },
            "type": "scatter"
           }
          ],
          "scatter3d": [
           {
            "line": {
             "colorbar": {
              "outlinewidth": 0,
              "ticks": ""
             }
            },
            "marker": {
             "colorbar": {
              "outlinewidth": 0,
              "ticks": ""
             }
            },
            "type": "scatter3d"
           }
          ],
          "scattercarpet": [
           {
            "marker": {
             "colorbar": {
              "outlinewidth": 0,
              "ticks": ""
             }
            },
            "type": "scattercarpet"
           }
          ],
          "scattergeo": [
           {
            "marker": {
             "colorbar": {
              "outlinewidth": 0,
              "ticks": ""
             }
            },
            "type": "scattergeo"
           }
          ],
          "scattergl": [
           {
            "marker": {
             "colorbar": {
              "outlinewidth": 0,
              "ticks": ""
             }
            },
            "type": "scattergl"
           }
          ],
          "scattermapbox": [
           {
            "marker": {
             "colorbar": {
              "outlinewidth": 0,
              "ticks": ""
             }
            },
            "type": "scattermapbox"
           }
          ],
          "scatterpolar": [
           {
            "marker": {
             "colorbar": {
              "outlinewidth": 0,
              "ticks": ""
             }
            },
            "type": "scatterpolar"
           }
          ],
          "scatterpolargl": [
           {
            "marker": {
             "colorbar": {
              "outlinewidth": 0,
              "ticks": ""
             }
            },
            "type": "scatterpolargl"
           }
          ],
          "scatterternary": [
           {
            "marker": {
             "colorbar": {
              "outlinewidth": 0,
              "ticks": ""
             }
            },
            "type": "scatterternary"
           }
          ],
          "surface": [
           {
            "colorbar": {
             "outlinewidth": 0,
             "ticks": ""
            },
            "colorscale": [
             [
              0,
              "#0d0887"
             ],
             [
              0.1111111111111111,
              "#46039f"
             ],
             [
              0.2222222222222222,
              "#7201a8"
             ],
             [
              0.3333333333333333,
              "#9c179e"
             ],
             [
              0.4444444444444444,
              "#bd3786"
             ],
             [
              0.5555555555555556,
              "#d8576b"
             ],
             [
              0.6666666666666666,
              "#ed7953"
             ],
             [
              0.7777777777777778,
              "#fb9f3a"
             ],
             [
              0.8888888888888888,
              "#fdca26"
             ],
             [
              1,
              "#f0f921"
             ]
            ],
            "type": "surface"
           }
          ],
          "table": [
           {
            "cells": {
             "fill": {
              "color": "#EBF0F8"
             },
             "line": {
              "color": "white"
             }
            },
            "header": {
             "fill": {
              "color": "#C8D4E3"
             },
             "line": {
              "color": "white"
             }
            },
            "type": "table"
           }
          ]
         },
         "layout": {
          "annotationdefaults": {
           "arrowcolor": "#2a3f5f",
           "arrowhead": 0,
           "arrowwidth": 1
          },
          "autotypenumbers": "strict",
          "coloraxis": {
           "colorbar": {
            "outlinewidth": 0,
            "ticks": ""
           }
          },
          "colorscale": {
           "diverging": [
            [
             0,
             "#8e0152"
            ],
            [
             0.1,
             "#c51b7d"
            ],
            [
             0.2,
             "#de77ae"
            ],
            [
             0.3,
             "#f1b6da"
            ],
            [
             0.4,
             "#fde0ef"
            ],
            [
             0.5,
             "#f7f7f7"
            ],
            [
             0.6,
             "#e6f5d0"
            ],
            [
             0.7,
             "#b8e186"
            ],
            [
             0.8,
             "#7fbc41"
            ],
            [
             0.9,
             "#4d9221"
            ],
            [
             1,
             "#276419"
            ]
           ],
           "sequential": [
            [
             0,
             "#0d0887"
            ],
            [
             0.1111111111111111,
             "#46039f"
            ],
            [
             0.2222222222222222,
             "#7201a8"
            ],
            [
             0.3333333333333333,
             "#9c179e"
            ],
            [
             0.4444444444444444,
             "#bd3786"
            ],
            [
             0.5555555555555556,
             "#d8576b"
            ],
            [
             0.6666666666666666,
             "#ed7953"
            ],
            [
             0.7777777777777778,
             "#fb9f3a"
            ],
            [
             0.8888888888888888,
             "#fdca26"
            ],
            [
             1,
             "#f0f921"
            ]
           ],
           "sequentialminus": [
            [
             0,
             "#0d0887"
            ],
            [
             0.1111111111111111,
             "#46039f"
            ],
            [
             0.2222222222222222,
             "#7201a8"
            ],
            [
             0.3333333333333333,
             "#9c179e"
            ],
            [
             0.4444444444444444,
             "#bd3786"
            ],
            [
             0.5555555555555556,
             "#d8576b"
            ],
            [
             0.6666666666666666,
             "#ed7953"
            ],
            [
             0.7777777777777778,
             "#fb9f3a"
            ],
            [
             0.8888888888888888,
             "#fdca26"
            ],
            [
             1,
             "#f0f921"
            ]
           ]
          },
          "colorway": [
           "#636efa",
           "#EF553B",
           "#00cc96",
           "#ab63fa",
           "#FFA15A",
           "#19d3f3",
           "#FF6692",
           "#B6E880",
           "#FF97FF",
           "#FECB52"
          ],
          "font": {
           "color": "#2a3f5f"
          },
          "geo": {
           "bgcolor": "white",
           "lakecolor": "white",
           "landcolor": "#E5ECF6",
           "showlakes": true,
           "showland": true,
           "subunitcolor": "white"
          },
          "hoverlabel": {
           "align": "left"
          },
          "hovermode": "closest",
          "mapbox": {
           "style": "light"
          },
          "paper_bgcolor": "white",
          "plot_bgcolor": "#E5ECF6",
          "polar": {
           "angularaxis": {
            "gridcolor": "white",
            "linecolor": "white",
            "ticks": ""
           },
           "bgcolor": "#E5ECF6",
           "radialaxis": {
            "gridcolor": "white",
            "linecolor": "white",
            "ticks": ""
           }
          },
          "scene": {
           "xaxis": {
            "backgroundcolor": "#E5ECF6",
            "gridcolor": "white",
            "gridwidth": 2,
            "linecolor": "white",
            "showbackground": true,
            "ticks": "",
            "zerolinecolor": "white"
           },
           "yaxis": {
            "backgroundcolor": "#E5ECF6",
            "gridcolor": "white",
            "gridwidth": 2,
            "linecolor": "white",
            "showbackground": true,
            "ticks": "",
            "zerolinecolor": "white"
           },
           "zaxis": {
            "backgroundcolor": "#E5ECF6",
            "gridcolor": "white",
            "gridwidth": 2,
            "linecolor": "white",
            "showbackground": true,
            "ticks": "",
            "zerolinecolor": "white"
           }
          },
          "shapedefaults": {
           "line": {
            "color": "#2a3f5f"
           }
          },
          "ternary": {
           "aaxis": {
            "gridcolor": "white",
            "linecolor": "white",
            "ticks": ""
           },
           "baxis": {
            "gridcolor": "white",
            "linecolor": "white",
            "ticks": ""
           },
           "bgcolor": "#E5ECF6",
           "caxis": {
            "gridcolor": "white",
            "linecolor": "white",
            "ticks": ""
           }
          },
          "title": {
           "x": 0.05
          },
          "xaxis": {
           "automargin": true,
           "gridcolor": "white",
           "linecolor": "white",
           "ticks": "",
           "title": {
            "standoff": 15
           },
           "zerolinecolor": "white",
           "zerolinewidth": 2
          },
          "yaxis": {
           "automargin": true,
           "gridcolor": "white",
           "linecolor": "white",
           "ticks": "",
           "title": {
            "standoff": 15
           },
           "zerolinecolor": "white",
           "zerolinewidth": 2
          }
         }
        },
        "width": 700,
        "xaxis": {
         "anchor": "y",
         "domain": [
          0,
          1
         ],
         "title": {
          "text": "time"
         }
        },
        "yaxis": {
         "anchor": "x",
         "domain": [
          0,
          1
         ],
         "title": {
          "text": "value"
         }
        }
       }
      }
     },
     "metadata": {},
     "output_type": "display_data"
    }
   ],
   "source": [
    "px.area(df_weekly, x=df_weekly.index, y=df_weekly.columns, height=500, width=700)"
   ]
  },
  {
   "cell_type": "code",
   "execution_count": 43,
   "id": "41ea6ede",
   "metadata": {
    "execution": {
     "iopub.execute_input": "2024-05-29T22:25:07.276979Z",
     "iopub.status.busy": "2024-05-29T22:25:07.276857Z",
     "iopub.status.idle": "2024-05-29T22:25:07.347686Z",
     "shell.execute_reply": "2024-05-29T22:25:07.347426Z"
    },
    "jupyter": {
     "source_hidden": true
    },
    "papermill": {
     "duration": 0.081971,
     "end_time": "2024-05-29T22:25:07.348683",
     "exception": false,
     "start_time": "2024-05-29T22:25:07.266712",
     "status": "completed"
    },
    "tags": []
   },
   "outputs": [
    {
     "data": {
      "application/vnd.plotly.v1+json": {
       "config": {
        "plotlyServerURL": "https://plot.ly"
       },
       "data": [
        {
         "alignmentgroup": "True",
         "hovertemplate": "variable=Coal<br>time=%{x}<br>value=%{y}<extra></extra>",
         "legendgroup": "Coal",
         "marker": {
          "color": "#636efa",
          "pattern": {
           "shape": ""
          }
         },
         "name": "Coal",
         "offsetgroup": "Coal",
         "orientation": "v",
         "showlegend": true,
         "textposition": "auto",
         "type": "bar",
         "x": [
          "2022-09-01T00:00:00",
          "2022-09-08T00:00:00",
          "2022-09-15T00:00:00",
          "2022-09-22T00:00:00",
          "2022-09-29T00:00:00",
          "2022-10-06T00:00:00",
          "2022-10-13T00:00:00",
          "2022-10-20T00:00:00",
          "2022-10-27T00:00:00",
          "2022-11-03T00:00:00",
          "2022-11-10T00:00:00",
          "2022-11-17T00:00:00",
          "2022-11-24T00:00:00",
          "2022-12-01T00:00:00",
          "2022-12-08T00:00:00",
          "2022-12-15T00:00:00",
          "2022-12-22T00:00:00",
          "2022-12-29T00:00:00",
          "2023-01-05T00:00:00",
          "2023-01-12T00:00:00",
          "2023-01-19T00:00:00",
          "2023-01-26T00:00:00",
          "2023-02-02T00:00:00",
          "2023-02-09T00:00:00",
          "2023-02-16T00:00:00",
          "2023-02-23T00:00:00",
          "2023-03-02T00:00:00",
          "2023-03-09T00:00:00",
          "2023-03-16T00:00:00",
          "2023-03-23T00:00:00",
          "2023-03-30T00:00:00",
          "2023-04-06T00:00:00",
          "2023-04-13T00:00:00",
          "2023-04-20T00:00:00",
          "2023-04-27T00:00:00",
          "2023-05-04T00:00:00",
          "2023-05-11T00:00:00",
          "2023-05-18T00:00:00",
          "2023-05-25T00:00:00",
          "2023-06-01T00:00:00",
          "2023-06-08T00:00:00",
          "2023-06-15T00:00:00",
          "2023-06-22T00:00:00",
          "2023-06-29T00:00:00",
          "2023-07-06T00:00:00",
          "2023-07-13T00:00:00",
          "2023-07-20T00:00:00",
          "2023-07-27T00:00:00",
          "2023-08-03T00:00:00",
          "2023-08-10T00:00:00",
          "2023-08-17T00:00:00",
          "2023-08-24T00:00:00",
          "2023-08-31T00:00:00"
         ],
         "xaxis": "x",
         "y": [
          812.7738095238095,
          968.987005952381,
          782.3946547619047,
          957.3909226190475,
          781.7114523809524,
          821.4525238095239,
          611.4479166666666,
          227.10357142857143,
          278.0025297619048,
          401.31041666666664,
          285.12023809523805,
          284.3354166666667,
          928.3364642857143,
          1114.8257678571429,
          1271.6204345238095,
          1302.051488095238,
          487.9547142857143,
          490.4471726190476,
          388.4244047619048,
          372.95714285714286,
          401.8802083333333,
          487.66279761904764,
          712.7455357142857,
          598.5607142857143,
          655.542113095238,
          603.5797619047619,
          689.2985119047619,
          549.7504464285714,
          523.1425595238095,
          480.53233532934127,
          456.8979166666667,
          403.54211309523805,
          313.2142857142857,
          339.57232142857146,
          328.78065476190477,
          307.40565476190477,
          298.61592261904764,
          290.7184523809524,
          380.66566666666665,
          514.8174107142856,
          397.9136904761905,
          405.6364107142857,
          374.76741071428575,
          326.77946428571425,
          372.5783630952381,
          329.05342261904764,
          383.7574404761905,
          545.4864583333334,
          426.7837797619048,
          603.4782321428571,
          649.4533214285714,
          599.3065535714286,
          522.9833333333333
         ],
         "yaxis": "y"
        },
        {
         "alignmentgroup": "True",
         "hovertemplate": "variable=Cogeneration<br>time=%{x}<br>value=%{y}<extra></extra>",
         "legendgroup": "Cogeneration",
         "marker": {
          "color": "#EF553B",
          "pattern": {
           "shape": ""
          }
         },
         "name": "Cogeneration",
         "offsetgroup": "Cogeneration",
         "orientation": "v",
         "showlegend": true,
         "textposition": "auto",
         "type": "bar",
         "x": [
          "2022-09-01T00:00:00",
          "2022-09-08T00:00:00",
          "2022-09-15T00:00:00",
          "2022-09-22T00:00:00",
          "2022-09-29T00:00:00",
          "2022-10-06T00:00:00",
          "2022-10-13T00:00:00",
          "2022-10-20T00:00:00",
          "2022-10-27T00:00:00",
          "2022-11-03T00:00:00",
          "2022-11-10T00:00:00",
          "2022-11-17T00:00:00",
          "2022-11-24T00:00:00",
          "2022-12-01T00:00:00",
          "2022-12-08T00:00:00",
          "2022-12-15T00:00:00",
          "2022-12-22T00:00:00",
          "2022-12-29T00:00:00",
          "2023-01-05T00:00:00",
          "2023-01-12T00:00:00",
          "2023-01-19T00:00:00",
          "2023-01-26T00:00:00",
          "2023-02-02T00:00:00",
          "2023-02-09T00:00:00",
          "2023-02-16T00:00:00",
          "2023-02-23T00:00:00",
          "2023-03-02T00:00:00",
          "2023-03-09T00:00:00",
          "2023-03-16T00:00:00",
          "2023-03-23T00:00:00",
          "2023-03-30T00:00:00",
          "2023-04-06T00:00:00",
          "2023-04-13T00:00:00",
          "2023-04-20T00:00:00",
          "2023-04-27T00:00:00",
          "2023-05-04T00:00:00",
          "2023-05-11T00:00:00",
          "2023-05-18T00:00:00",
          "2023-05-25T00:00:00",
          "2023-06-01T00:00:00",
          "2023-06-08T00:00:00",
          "2023-06-15T00:00:00",
          "2023-06-22T00:00:00",
          "2023-06-29T00:00:00",
          "2023-07-06T00:00:00",
          "2023-07-13T00:00:00",
          "2023-07-20T00:00:00",
          "2023-07-27T00:00:00",
          "2023-08-03T00:00:00",
          "2023-08-10T00:00:00",
          "2023-08-17T00:00:00",
          "2023-08-24T00:00:00",
          "2023-08-31T00:00:00"
         ],
         "xaxis": "x",
         "y": [
          1025.5546011904762,
          928.3467380952382,
          1024.7542619047617,
          1166.8605416666667,
          1484.9238928571428,
          1736.920017857143,
          1479.1883511904762,
          1322.3956309523808,
          1519.4510952380954,
          2102.987869047619,
          2080.3985714285714,
          1978.4495535714286,
          1968.8788928571428,
          1806.7610595238095,
          1690.8820595238094,
          1599.682464285714,
          1141.8008035714286,
          1244.6521547619047,
          1758.3261904761905,
          1552.2059702380952,
          1592.4316547619046,
          1852.7025476190477,
          2434.960517857143,
          2574.634327380952,
          2678.4160654761904,
          2589.8099464285715,
          2674.2460654761903,
          2178.0480952380954,
          2554.778875,
          2252.4820778443113,
          1863.352880952381,
          2103.435630952381,
          2146.4648630952383,
          2491.9612559523807,
          2330.2741428571426,
          2288.848023809524,
          2169.4149404761906,
          2292.1647916666666,
          2558.9588214285714,
          2510.5405535714285,
          2496.4486904761907,
          2488.924988095238,
          2390.9009642857145,
          2085.7416785714286,
          2109.8146607142858,
          2078.2848511904763,
          2015.0979226190477,
          1951.674363095238,
          1690.7405654761903,
          1699.8071190476192,
          1792.5986011904763,
          1803.254160714286,
          2059.7710833333335
         ],
         "yaxis": "y"
        },
        {
         "alignmentgroup": "True",
         "hovertemplate": "variable=Combined Cycle (Gas)<br>time=%{x}<br>value=%{y}<extra></extra>",
         "legendgroup": "Combined Cycle (Gas)",
         "marker": {
          "color": "#00cc96",
          "pattern": {
           "shape": ""
          }
         },
         "name": "Combined Cycle (Gas)",
         "offsetgroup": "Combined Cycle (Gas)",
         "orientation": "v",
         "showlegend": true,
         "textposition": "auto",
         "type": "bar",
         "x": [
          "2022-09-01T00:00:00",
          "2022-09-08T00:00:00",
          "2022-09-15T00:00:00",
          "2022-09-22T00:00:00",
          "2022-09-29T00:00:00",
          "2022-10-06T00:00:00",
          "2022-10-13T00:00:00",
          "2022-10-20T00:00:00",
          "2022-10-27T00:00:00",
          "2022-11-03T00:00:00",
          "2022-11-10T00:00:00",
          "2022-11-17T00:00:00",
          "2022-11-24T00:00:00",
          "2022-12-01T00:00:00",
          "2022-12-08T00:00:00",
          "2022-12-15T00:00:00",
          "2022-12-22T00:00:00",
          "2022-12-29T00:00:00",
          "2023-01-05T00:00:00",
          "2023-01-12T00:00:00",
          "2023-01-19T00:00:00",
          "2023-01-26T00:00:00",
          "2023-02-02T00:00:00",
          "2023-02-09T00:00:00",
          "2023-02-16T00:00:00",
          "2023-02-23T00:00:00",
          "2023-03-02T00:00:00",
          "2023-03-09T00:00:00",
          "2023-03-16T00:00:00",
          "2023-03-23T00:00:00",
          "2023-03-30T00:00:00",
          "2023-04-06T00:00:00",
          "2023-04-13T00:00:00",
          "2023-04-20T00:00:00",
          "2023-04-27T00:00:00",
          "2023-05-04T00:00:00",
          "2023-05-11T00:00:00",
          "2023-05-18T00:00:00",
          "2023-05-25T00:00:00",
          "2023-06-01T00:00:00",
          "2023-06-08T00:00:00",
          "2023-06-15T00:00:00",
          "2023-06-22T00:00:00",
          "2023-06-29T00:00:00",
          "2023-07-06T00:00:00",
          "2023-07-13T00:00:00",
          "2023-07-20T00:00:00",
          "2023-07-27T00:00:00",
          "2023-08-03T00:00:00",
          "2023-08-10T00:00:00",
          "2023-08-17T00:00:00",
          "2023-08-24T00:00:00",
          "2023-08-31T00:00:00"
         ],
         "xaxis": "x",
         "y": [
          11451.133279761905,
          11524.701541666665,
          10654.792732142858,
          7684.035785714286,
          10170.802333333333,
          12072.864023809523,
          9375.535744047618,
          6455.073815476191,
          5097.695101190477,
          6919.612648809524,
          6325.661964285714,
          3199.5702380952384,
          6490.133285714286,
          10867.089375,
          4857.394541666667,
          3836.1313511904764,
          2495.1647619047617,
          3016.024654761905,
          2957.7385416666666,
          2020.5138928571428,
          2639.127988095238,
          3365.5352202380955,
          4830.009910714286,
          6593.825297619047,
          6701.317803571429,
          5584.027136904762,
          6155.699160714286,
          1970.4676130952382,
          3561.6171904761904,
          2397.1864251497004,
          1750.161636904762,
          2839.689785714286,
          2134.3397321428574,
          4339.748648809524,
          4782.163720238095,
          3741.6076904761903,
          2707.0178452380956,
          3144.153922619048,
          5047.453208333333,
          5706.874107142857,
          5096.634119047619,
          6406.058166666666,
          5642.44619047619,
          4808.024273809524,
          7077.9410654761905,
          6888.8344226190475,
          5145.83544047619,
          4935.727101190477,
          4366.42880952381,
          5307.038083333334,
          7982.458839285714,
          6127.8117202380945,
          6561.120833333333
         ],
         "yaxis": "y"
        },
        {
         "alignmentgroup": "True",
         "hovertemplate": "variable=Eolic<br>time=%{x}<br>value=%{y}<extra></extra>",
         "legendgroup": "Eolic",
         "marker": {
          "color": "#ab63fa",
          "pattern": {
           "shape": ""
          }
         },
         "name": "Eolic",
         "offsetgroup": "Eolic",
         "orientation": "v",
         "showlegend": true,
         "textposition": "auto",
         "type": "bar",
         "x": [
          "2022-09-01T00:00:00",
          "2022-09-08T00:00:00",
          "2022-09-15T00:00:00",
          "2022-09-22T00:00:00",
          "2022-09-29T00:00:00",
          "2022-10-06T00:00:00",
          "2022-10-13T00:00:00",
          "2022-10-20T00:00:00",
          "2022-10-27T00:00:00",
          "2022-11-03T00:00:00",
          "2022-11-10T00:00:00",
          "2022-11-17T00:00:00",
          "2022-11-24T00:00:00",
          "2022-12-01T00:00:00",
          "2022-12-08T00:00:00",
          "2022-12-15T00:00:00",
          "2022-12-22T00:00:00",
          "2022-12-29T00:00:00",
          "2023-01-05T00:00:00",
          "2023-01-12T00:00:00",
          "2023-01-19T00:00:00",
          "2023-01-26T00:00:00",
          "2023-02-02T00:00:00",
          "2023-02-09T00:00:00",
          "2023-02-16T00:00:00",
          "2023-02-23T00:00:00",
          "2023-03-02T00:00:00",
          "2023-03-09T00:00:00",
          "2023-03-16T00:00:00",
          "2023-03-23T00:00:00",
          "2023-03-30T00:00:00",
          "2023-04-06T00:00:00",
          "2023-04-13T00:00:00",
          "2023-04-20T00:00:00",
          "2023-04-27T00:00:00",
          "2023-05-04T00:00:00",
          "2023-05-11T00:00:00",
          "2023-05-18T00:00:00",
          "2023-05-25T00:00:00",
          "2023-06-01T00:00:00",
          "2023-06-08T00:00:00",
          "2023-06-15T00:00:00",
          "2023-06-22T00:00:00",
          "2023-06-29T00:00:00",
          "2023-07-06T00:00:00",
          "2023-07-13T00:00:00",
          "2023-07-20T00:00:00",
          "2023-07-27T00:00:00",
          "2023-08-03T00:00:00",
          "2023-08-10T00:00:00",
          "2023-08-17T00:00:00",
          "2023-08-24T00:00:00",
          "2023-08-31T00:00:00"
         ],
         "xaxis": "x",
         "y": [
          5143.081583333334,
          5184.599363095238,
          4633.183035714285,
          6293.739095238096,
          4856.702482142857,
          3844.6168630952384,
          6948.647946428571,
          10389.143339285714,
          7466.935636904762,
          7564.26968452381,
          9313.201339285713,
          14579.280797619049,
          7343.494571428571,
          3479.7320238095235,
          10086.346726190477,
          8557.205660714286,
          7209.0037678571425,
          6778.685511904761,
          9050.50857142857,
          11759.049827380954,
          11796.905875,
          10450.007625,
          7585.842785714286,
          6408.426571428572,
          4280.710416666667,
          9630.248803571429,
          8723.504708333334,
          11605.629803571428,
          6205.824291666667,
          8016.869449101797,
          10009.608077380952,
          5187.5269285714285,
          8954.968916666667,
          5187.056654761905,
          5800.441934523809,
          6095.763976190477,
          10152.511857142857,
          8704.0785,
          4385.094089285714,
          2591.6865535714287,
          4332.2015,
          3753.470059523809,
          5341.493952380952,
          5655.755970238095,
          4623.5990357142855,
          5782.467827380952,
          5695.980071428571,
          4957.939708333333,
          7201.496946428571,
          4479.251863095238,
          3951.5472083333334,
          6934.034327380952,
          2901.9488333333334
         ],
         "yaxis": "y"
        },
        {
         "alignmentgroup": "True",
         "hovertemplate": "variable=Hydraulic<br>time=%{x}<br>value=%{y}<extra></extra>",
         "legendgroup": "Hydraulic",
         "marker": {
          "color": "#FFA15A",
          "pattern": {
           "shape": ""
          }
         },
         "name": "Hydraulic",
         "offsetgroup": "Hydraulic",
         "orientation": "v",
         "showlegend": true,
         "textposition": "auto",
         "type": "bar",
         "x": [
          "2022-09-01T00:00:00",
          "2022-09-08T00:00:00",
          "2022-09-15T00:00:00",
          "2022-09-22T00:00:00",
          "2022-09-29T00:00:00",
          "2022-10-06T00:00:00",
          "2022-10-13T00:00:00",
          "2022-10-20T00:00:00",
          "2022-10-27T00:00:00",
          "2022-11-03T00:00:00",
          "2022-11-10T00:00:00",
          "2022-11-17T00:00:00",
          "2022-11-24T00:00:00",
          "2022-12-01T00:00:00",
          "2022-12-08T00:00:00",
          "2022-12-15T00:00:00",
          "2022-12-22T00:00:00",
          "2022-12-29T00:00:00",
          "2023-01-05T00:00:00",
          "2023-01-12T00:00:00",
          "2023-01-19T00:00:00",
          "2023-01-26T00:00:00",
          "2023-02-02T00:00:00",
          "2023-02-09T00:00:00",
          "2023-02-16T00:00:00",
          "2023-02-23T00:00:00",
          "2023-03-02T00:00:00",
          "2023-03-09T00:00:00",
          "2023-03-16T00:00:00",
          "2023-03-23T00:00:00",
          "2023-03-30T00:00:00",
          "2023-04-06T00:00:00",
          "2023-04-13T00:00:00",
          "2023-04-20T00:00:00",
          "2023-04-27T00:00:00",
          "2023-05-04T00:00:00",
          "2023-05-11T00:00:00",
          "2023-05-18T00:00:00",
          "2023-05-25T00:00:00",
          "2023-06-01T00:00:00",
          "2023-06-08T00:00:00",
          "2023-06-15T00:00:00",
          "2023-06-22T00:00:00",
          "2023-06-29T00:00:00",
          "2023-07-06T00:00:00",
          "2023-07-13T00:00:00",
          "2023-07-20T00:00:00",
          "2023-07-27T00:00:00",
          "2023-08-03T00:00:00",
          "2023-08-10T00:00:00",
          "2023-08-17T00:00:00",
          "2023-08-24T00:00:00",
          "2023-08-31T00:00:00"
         ],
         "xaxis": "x",
         "y": [
          1028.6042857142857,
          1546.5593095238096,
          2386.393601190476,
          1885.0759821428571,
          975.9498809523809,
          822.0901785714285,
          808.3765654761905,
          1339.0941547619047,
          1271.4227083333335,
          1321.5495714285714,
          1425.7252976190478,
          1957.8436547619046,
          3191.163601190476,
          3411.0951428571434,
          3183.4375773809525,
          4594.995035714285,
          4477.282101190476,
          4600.002005952381,
          5031.839136904762,
          5175.999595238095,
          5620.592416666666,
          6047.99300595238,
          4827.807142857143,
          3866.6340773809525,
          3119.0802083333333,
          2993.909077380952,
          3233.1093511904764,
          2746.3901011904763,
          3159.4409523809522,
          2855.769532934132,
          2537.9559404761903,
          2428.8615,
          2211.2500476190476,
          2248.5374583333332,
          2228.793672619048,
          2091.2468095238096,
          1776.6767202380954,
          2004.6949345238095,
          2076.1986369047618,
          2660.992029761905,
          2777.0015297619047,
          2950.3420654761903,
          2310.6721785714285,
          1857.427654761905,
          2001.9399226190476,
          1824.8870119047617,
          1696.6939107142857,
          1542.6985714285713,
          1429.921107142857,
          1409.5606428571427,
          1541.2975416666666,
          1291.4917678571428,
          1678.407625
         ],
         "yaxis": "y"
        },
        {
         "alignmentgroup": "True",
         "hovertemplate": "variable=Non-Renewable Residues<br>time=%{x}<br>value=%{y}<extra></extra>",
         "legendgroup": "Non-Renewable Residues",
         "marker": {
          "color": "#19d3f3",
          "pattern": {
           "shape": ""
          }
         },
         "name": "Non-Renewable Residues",
         "offsetgroup": "Non-Renewable Residues",
         "orientation": "v",
         "showlegend": true,
         "textposition": "auto",
         "type": "bar",
         "x": [
          "2022-09-01T00:00:00",
          "2022-09-08T00:00:00",
          "2022-09-15T00:00:00",
          "2022-09-22T00:00:00",
          "2022-09-29T00:00:00",
          "2022-10-06T00:00:00",
          "2022-10-13T00:00:00",
          "2022-10-20T00:00:00",
          "2022-10-27T00:00:00",
          "2022-11-03T00:00:00",
          "2022-11-10T00:00:00",
          "2022-11-17T00:00:00",
          "2022-11-24T00:00:00",
          "2022-12-01T00:00:00",
          "2022-12-08T00:00:00",
          "2022-12-15T00:00:00",
          "2022-12-22T00:00:00",
          "2022-12-29T00:00:00",
          "2023-01-05T00:00:00",
          "2023-01-12T00:00:00",
          "2023-01-19T00:00:00",
          "2023-01-26T00:00:00",
          "2023-02-02T00:00:00",
          "2023-02-09T00:00:00",
          "2023-02-16T00:00:00",
          "2023-02-23T00:00:00",
          "2023-03-02T00:00:00",
          "2023-03-09T00:00:00",
          "2023-03-16T00:00:00",
          "2023-03-23T00:00:00",
          "2023-03-30T00:00:00",
          "2023-04-06T00:00:00",
          "2023-04-13T00:00:00",
          "2023-04-20T00:00:00",
          "2023-04-27T00:00:00",
          "2023-05-04T00:00:00",
          "2023-05-11T00:00:00",
          "2023-05-18T00:00:00",
          "2023-05-25T00:00:00",
          "2023-06-01T00:00:00",
          "2023-06-08T00:00:00",
          "2023-06-15T00:00:00",
          "2023-06-22T00:00:00",
          "2023-06-29T00:00:00",
          "2023-07-06T00:00:00",
          "2023-07-13T00:00:00",
          "2023-07-20T00:00:00",
          "2023-07-27T00:00:00",
          "2023-08-03T00:00:00",
          "2023-08-10T00:00:00",
          "2023-08-17T00:00:00",
          "2023-08-24T00:00:00",
          "2023-08-31T00:00:00"
         ],
         "xaxis": "x",
         "y": [
          265.4567976190476,
          259.83462499999996,
          220.91468452380954,
          215.7664166666667,
          283.6074345238095,
          298.1380952380952,
          303.2645357142857,
          239.07559523809522,
          239.6642857142857,
          242.3982142857143,
          222.05535714285716,
          235.3438988095238,
          243.38559523809522,
          253.4047619047619,
          254.23144642857145,
          242.75255952380954,
          251.35447619047622,
          245.32574404761903,
          242.57678571428573,
          223.628375,
          187.87107142857144,
          183.89424404761905,
          258.37465476190476,
          260.239880952381,
          255.14602976190477,
          259.4839285714286,
          265.1872023809524,
          225.66011904761905,
          234.12976190476192,
          224.0435508982036,
          224.0260714285714,
          211.73248809523807,
          149.8375,
          168.78065476190477,
          125.08977976190475,
          109.82797619047618,
          95.27261904761905,
          104.72102976190477,
          204.10892857142858,
          211.37321428571425,
          263.5541666666667,
          278.2690476190476,
          251.84300595238096,
          242.8654761904762,
          258.49583333333334,
          256.2280714285714,
          251.6982142857143,
          255.11369047619047,
          227.02678571428572,
          245.12391071428573,
          239.13273809523812,
          233.90416666666667,
          210.29583333333335
         ],
         "yaxis": "y"
        },
        {
         "alignmentgroup": "True",
         "hovertemplate": "variable=Nuclear<br>time=%{x}<br>value=%{y}<extra></extra>",
         "legendgroup": "Nuclear",
         "marker": {
          "color": "#FF6692",
          "pattern": {
           "shape": ""
          }
         },
         "name": "Nuclear",
         "offsetgroup": "Nuclear",
         "orientation": "v",
         "showlegend": true,
         "textposition": "auto",
         "type": "bar",
         "x": [
          "2022-09-01T00:00:00",
          "2022-09-08T00:00:00",
          "2022-09-15T00:00:00",
          "2022-09-22T00:00:00",
          "2022-09-29T00:00:00",
          "2022-10-06T00:00:00",
          "2022-10-13T00:00:00",
          "2022-10-20T00:00:00",
          "2022-10-27T00:00:00",
          "2022-11-03T00:00:00",
          "2022-11-10T00:00:00",
          "2022-11-17T00:00:00",
          "2022-11-24T00:00:00",
          "2022-12-01T00:00:00",
          "2022-12-08T00:00:00",
          "2022-12-15T00:00:00",
          "2022-12-22T00:00:00",
          "2022-12-29T00:00:00",
          "2023-01-05T00:00:00",
          "2023-01-12T00:00:00",
          "2023-01-19T00:00:00",
          "2023-01-26T00:00:00",
          "2023-02-02T00:00:00",
          "2023-02-09T00:00:00",
          "2023-02-16T00:00:00",
          "2023-02-23T00:00:00",
          "2023-03-02T00:00:00",
          "2023-03-09T00:00:00",
          "2023-03-16T00:00:00",
          "2023-03-23T00:00:00",
          "2023-03-30T00:00:00",
          "2023-04-06T00:00:00",
          "2023-04-13T00:00:00",
          "2023-04-20T00:00:00",
          "2023-04-27T00:00:00",
          "2023-05-04T00:00:00",
          "2023-05-11T00:00:00",
          "2023-05-18T00:00:00",
          "2023-05-25T00:00:00",
          "2023-06-01T00:00:00",
          "2023-06-08T00:00:00",
          "2023-06-15T00:00:00",
          "2023-06-22T00:00:00",
          "2023-06-29T00:00:00",
          "2023-07-06T00:00:00",
          "2023-07-13T00:00:00",
          "2023-07-20T00:00:00",
          "2023-07-27T00:00:00",
          "2023-08-03T00:00:00",
          "2023-08-10T00:00:00",
          "2023-08-17T00:00:00",
          "2023-08-24T00:00:00",
          "2023-08-31T00:00:00"
         ],
         "xaxis": "x",
         "y": [
          6890.202380952381,
          6916.328077380953,
          6878.1678571428565,
          6464.255952380952,
          6000.802976190476,
          5951.785714285715,
          5188.291071428572,
          4956.516071428571,
          4952.990029761904,
          5504.400297619048,
          6005.2172619047615,
          6000.7017857142855,
          6323.501523809524,
          6843.815773809524,
          6860.584375,
          7059.8345238095235,
          7061.394791666667,
          6797.756696428572,
          6446.566815476191,
          6761.003571428572,
          7078.666666666667,
          7085.504166666667,
          7087.066071428572,
          7031.5297619047615,
          6993.840476190476,
          6100.107738095238,
          6686.725,
          7016.801041666667,
          7060.143452380953,
          6989.4856287425155,
          6421.785714285715,
          7012.362499999999,
          6551.792559523809,
          5946.360119047619,
          5261.956398809524,
          5066.194196428572,
          4800.504267857143,
          5251.915773809524,
          5073.539285714285,
          5067.866666666667,
          5045.691666666667,
          5563.49161904762,
          6391.525148809523,
          6888.794047619047,
          6893.988095238095,
          6895.940476190476,
          6872.289285714286,
          6888.992857142857,
          6852.143452380953,
          6591.331416666667,
          6738.223613095239,
          6710.843452380952,
          6853.738541666667
         ],
         "yaxis": "y"
        },
        {
         "alignmentgroup": "True",
         "hovertemplate": "variable=Pumped Storage Hydropower<br>time=%{x}<br>value=%{y}<extra></extra>",
         "legendgroup": "Pumped Storage Hydropower",
         "marker": {
          "color": "#B6E880",
          "pattern": {
           "shape": ""
          }
         },
         "name": "Pumped Storage Hydropower",
         "offsetgroup": "Pumped Storage Hydropower",
         "orientation": "v",
         "showlegend": true,
         "textposition": "auto",
         "type": "bar",
         "x": [
          "2022-09-01T00:00:00",
          "2022-09-08T00:00:00",
          "2022-09-15T00:00:00",
          "2022-09-22T00:00:00",
          "2022-09-29T00:00:00",
          "2022-10-06T00:00:00",
          "2022-10-13T00:00:00",
          "2022-10-20T00:00:00",
          "2022-10-27T00:00:00",
          "2022-11-03T00:00:00",
          "2022-11-10T00:00:00",
          "2022-11-17T00:00:00",
          "2022-11-24T00:00:00",
          "2022-12-01T00:00:00",
          "2022-12-08T00:00:00",
          "2022-12-15T00:00:00",
          "2022-12-22T00:00:00",
          "2022-12-29T00:00:00",
          "2023-01-05T00:00:00",
          "2023-01-12T00:00:00",
          "2023-01-19T00:00:00",
          "2023-01-26T00:00:00",
          "2023-02-02T00:00:00",
          "2023-02-09T00:00:00",
          "2023-02-16T00:00:00",
          "2023-02-23T00:00:00",
          "2023-03-02T00:00:00",
          "2023-03-09T00:00:00",
          "2023-03-16T00:00:00",
          "2023-03-23T00:00:00",
          "2023-03-30T00:00:00",
          "2023-04-06T00:00:00",
          "2023-04-13T00:00:00",
          "2023-04-20T00:00:00",
          "2023-04-27T00:00:00",
          "2023-05-04T00:00:00",
          "2023-05-11T00:00:00",
          "2023-05-18T00:00:00",
          "2023-05-25T00:00:00",
          "2023-06-01T00:00:00",
          "2023-06-08T00:00:00",
          "2023-06-15T00:00:00",
          "2023-06-22T00:00:00",
          "2023-06-29T00:00:00",
          "2023-07-06T00:00:00",
          "2023-07-13T00:00:00",
          "2023-07-20T00:00:00",
          "2023-07-27T00:00:00",
          "2023-08-03T00:00:00",
          "2023-08-10T00:00:00",
          "2023-08-17T00:00:00",
          "2023-08-24T00:00:00",
          "2023-08-31T00:00:00"
         ],
         "xaxis": "x",
         "y": [
          375.0948392857143,
          358.47454761904766,
          376.12232142857147,
          379.50074404761904,
          462.05129166666666,
          495.60758928571425,
          455.6322172619047,
          387.24523809523805,
          472.2734107142857,
          438.19132142857137,
          308.93869047619046,
          467.86292261904765,
          356.4708333333333,
          371.9048273809524,
          421.59375,
          423.48422619047625,
          689.5848214285714,
          625.8413928571429,
          569.7205357142857,
          668.7352678571428,
          650.6810238095238,
          453.57053571428577,
          395.55535714285713,
          159.57574404761903,
          387.13497023809526,
          322.2011904761905,
          314.00625,
          623.553994047619,
          650.9008452380953,
          692.6361736526945,
          697.2683035714285,
          656.1910535714285,
          597.577244047619,
          542.5595238095239,
          441.53353571428573,
          509.7975238095238,
          598.6834821428571,
          519.5086309523809,
          331.7010654761905,
          373.41309523809525,
          368.7328869047619,
          394.45213095238097,
          388.1648333333334,
          402.8941964285715,
          295.64151785714284,
          453.9837321428572,
          287.65446428571425,
          460.27410714285713,
          614.2679047619048,
          415.7237083333333,
          377.24742261904765,
          446.6014940476191,
          502.8041666666666
         ],
         "yaxis": "y"
        },
        {
         "alignmentgroup": "True",
         "hovertemplate": "variable=Renewables Other<br>time=%{x}<br>value=%{y}<extra></extra>",
         "legendgroup": "Renewables Other",
         "marker": {
          "color": "#FF97FF",
          "pattern": {
           "shape": ""
          }
         },
         "name": "Renewables Other",
         "offsetgroup": "Renewables Other",
         "orientation": "v",
         "showlegend": true,
         "textposition": "auto",
         "type": "bar",
         "x": [
          "2022-09-01T00:00:00",
          "2022-09-08T00:00:00",
          "2022-09-15T00:00:00",
          "2022-09-22T00:00:00",
          "2022-09-29T00:00:00",
          "2022-10-06T00:00:00",
          "2022-10-13T00:00:00",
          "2022-10-20T00:00:00",
          "2022-10-27T00:00:00",
          "2022-11-03T00:00:00",
          "2022-11-10T00:00:00",
          "2022-11-17T00:00:00",
          "2022-11-24T00:00:00",
          "2022-12-01T00:00:00",
          "2022-12-08T00:00:00",
          "2022-12-15T00:00:00",
          "2022-12-22T00:00:00",
          "2022-12-29T00:00:00",
          "2023-01-05T00:00:00",
          "2023-01-12T00:00:00",
          "2023-01-19T00:00:00",
          "2023-01-26T00:00:00",
          "2023-02-02T00:00:00",
          "2023-02-09T00:00:00",
          "2023-02-16T00:00:00",
          "2023-02-23T00:00:00",
          "2023-03-02T00:00:00",
          "2023-03-09T00:00:00",
          "2023-03-16T00:00:00",
          "2023-03-23T00:00:00",
          "2023-03-30T00:00:00",
          "2023-04-06T00:00:00",
          "2023-04-13T00:00:00",
          "2023-04-20T00:00:00",
          "2023-04-27T00:00:00",
          "2023-05-04T00:00:00",
          "2023-05-11T00:00:00",
          "2023-05-18T00:00:00",
          "2023-05-25T00:00:00",
          "2023-06-01T00:00:00",
          "2023-06-08T00:00:00",
          "2023-06-15T00:00:00",
          "2023-06-22T00:00:00",
          "2023-06-29T00:00:00",
          "2023-07-06T00:00:00",
          "2023-07-13T00:00:00",
          "2023-07-20T00:00:00",
          "2023-07-27T00:00:00",
          "2023-08-03T00:00:00",
          "2023-08-10T00:00:00",
          "2023-08-17T00:00:00",
          "2023-08-24T00:00:00",
          "2023-08-31T00:00:00"
         ],
         "xaxis": "x",
         "y": [
          493.73849404761904,
          473.8812857142857,
          514.9029880952381,
          494.184625,
          502.36469642857145,
          511.61657142857143,
          508.28070238095233,
          471.775,
          526.0821964285714,
          542.4541190476191,
          533.3637797619048,
          479.3968988095238,
          531.6748928571428,
          513.4638571428571,
          503.6984702380952,
          509.9700416666667,
          352.85863095238096,
          342.90267857142857,
          419.64711904761907,
          376.80744642857144,
          387.87622023809524,
          468.330255952381,
          531.1211607142857,
          548.7574523809524,
          543.4041666666666,
          537.8698988095238,
          515.1864345238095,
          400.6320416666667,
          431.30908928571426,
          389.6321377245509,
          284.0036726190476,
          395.42926785714286,
          356.140255952381,
          442.74084523809523,
          474.86084523809524,
          487.65811904761904,
          438.7584166666667,
          442.0676190476191,
          477.67310119047625,
          446.0828452380953,
          447.6742023809524,
          472.80520238095244,
          475.8618988095238,
          449.41402976190477,
          454.6351964285715,
          430.59007142857143,
          445.4764583333333,
          460.71920833333337,
          428.51628571428574,
          500.7517261904762,
          503.0946964285714,
          448.65827976190474,
          473.9429583333333
         ],
         "yaxis": "y"
        },
        {
         "alignmentgroup": "True",
         "hovertemplate": "variable=Solar Photovoltaic<br>time=%{x}<br>value=%{y}<extra></extra>",
         "legendgroup": "Solar Photovoltaic",
         "marker": {
          "color": "#FECB52",
          "pattern": {
           "shape": ""
          }
         },
         "name": "Solar Photovoltaic",
         "offsetgroup": "Solar Photovoltaic",
         "orientation": "v",
         "showlegend": true,
         "textposition": "auto",
         "type": "bar",
         "x": [
          "2022-09-01T00:00:00",
          "2022-09-08T00:00:00",
          "2022-09-15T00:00:00",
          "2022-09-22T00:00:00",
          "2022-09-29T00:00:00",
          "2022-10-06T00:00:00",
          "2022-10-13T00:00:00",
          "2022-10-20T00:00:00",
          "2022-10-27T00:00:00",
          "2022-11-03T00:00:00",
          "2022-11-10T00:00:00",
          "2022-11-17T00:00:00",
          "2022-11-24T00:00:00",
          "2022-12-01T00:00:00",
          "2022-12-08T00:00:00",
          "2022-12-15T00:00:00",
          "2022-12-22T00:00:00",
          "2022-12-29T00:00:00",
          "2023-01-05T00:00:00",
          "2023-01-12T00:00:00",
          "2023-01-19T00:00:00",
          "2023-01-26T00:00:00",
          "2023-02-02T00:00:00",
          "2023-02-09T00:00:00",
          "2023-02-16T00:00:00",
          "2023-02-23T00:00:00",
          "2023-03-02T00:00:00",
          "2023-03-09T00:00:00",
          "2023-03-16T00:00:00",
          "2023-03-23T00:00:00",
          "2023-03-30T00:00:00",
          "2023-04-06T00:00:00",
          "2023-04-13T00:00:00",
          "2023-04-20T00:00:00",
          "2023-04-27T00:00:00",
          "2023-05-04T00:00:00",
          "2023-05-11T00:00:00",
          "2023-05-18T00:00:00",
          "2023-05-25T00:00:00",
          "2023-06-01T00:00:00",
          "2023-06-08T00:00:00",
          "2023-06-15T00:00:00",
          "2023-06-22T00:00:00",
          "2023-06-29T00:00:00",
          "2023-07-06T00:00:00",
          "2023-07-13T00:00:00",
          "2023-07-20T00:00:00",
          "2023-07-27T00:00:00",
          "2023-08-03T00:00:00",
          "2023-08-10T00:00:00",
          "2023-08-17T00:00:00",
          "2023-08-24T00:00:00",
          "2023-08-31T00:00:00"
         ],
         "xaxis": "x",
         "y": [
          4142.0445,
          3303.7693988095234,
          3619.457303571429,
          3650.841571428571,
          3641.734952380952,
          3034.168773809524,
          3050.026505952381,
          1886.4351190476189,
          2394.1941964285716,
          2471.0719345238094,
          2014.1305,
          1576.2454702380953,
          2293.0996547619047,
          1647.031994047619,
          951.3579226190476,
          1570.6376488095239,
          2082.7550595238095,
          1909.2460952380952,
          1887.586011904762,
          2053.2307380952384,
          2650.0418035714283,
          3115.8502619047617,
          3176.257261904762,
          3033.9081845238097,
          3237.9436011904763,
          3672.048726190476,
          3273.1534464285714,
          3843.0853035714285,
          4357.260732142857,
          4540.9755389221555,
          4573.108880952381,
          5082.602232142857,
          5115.373773809524,
          5324.819398809524,
          4987.80036904762,
          5841.116303571429,
          5591.766482142857,
          4473.958886904762,
          4459.480494047619,
          4659.481226190476,
          5132.642404761905,
          5395.097785714285,
          5991.072446428571,
          6003.499833333333,
          5891.315880952381,
          6037.054244047619,
          6077.069678571429,
          6384.237202380953,
          5905.037523809524,
          6175.228803571428,
          6056.366720238096,
          5359.106035714286,
          5786.667541666667
         ],
         "yaxis": "y"
        },
        {
         "alignmentgroup": "True",
         "hovertemplate": "variable=Solar Thermal<br>time=%{x}<br>value=%{y}<extra></extra>",
         "legendgroup": "Solar Thermal",
         "marker": {
          "color": "#636efa",
          "pattern": {
           "shape": ""
          }
         },
         "name": "Solar Thermal",
         "offsetgroup": "Solar Thermal",
         "orientation": "v",
         "showlegend": true,
         "textposition": "auto",
         "type": "bar",
         "x": [
          "2022-09-01T00:00:00",
          "2022-09-08T00:00:00",
          "2022-09-15T00:00:00",
          "2022-09-22T00:00:00",
          "2022-09-29T00:00:00",
          "2022-10-06T00:00:00",
          "2022-10-13T00:00:00",
          "2022-10-20T00:00:00",
          "2022-10-27T00:00:00",
          "2022-11-03T00:00:00",
          "2022-11-10T00:00:00",
          "2022-11-17T00:00:00",
          "2022-11-24T00:00:00",
          "2022-12-01T00:00:00",
          "2022-12-08T00:00:00",
          "2022-12-15T00:00:00",
          "2022-12-22T00:00:00",
          "2022-12-29T00:00:00",
          "2023-01-05T00:00:00",
          "2023-01-12T00:00:00",
          "2023-01-19T00:00:00",
          "2023-01-26T00:00:00",
          "2023-02-02T00:00:00",
          "2023-02-09T00:00:00",
          "2023-02-16T00:00:00",
          "2023-02-23T00:00:00",
          "2023-03-02T00:00:00",
          "2023-03-09T00:00:00",
          "2023-03-16T00:00:00",
          "2023-03-23T00:00:00",
          "2023-03-30T00:00:00",
          "2023-04-06T00:00:00",
          "2023-04-13T00:00:00",
          "2023-04-20T00:00:00",
          "2023-04-27T00:00:00",
          "2023-05-04T00:00:00",
          "2023-05-11T00:00:00",
          "2023-05-18T00:00:00",
          "2023-05-25T00:00:00",
          "2023-06-01T00:00:00",
          "2023-06-08T00:00:00",
          "2023-06-15T00:00:00",
          "2023-06-22T00:00:00",
          "2023-06-29T00:00:00",
          "2023-07-06T00:00:00",
          "2023-07-13T00:00:00",
          "2023-07-20T00:00:00",
          "2023-07-27T00:00:00",
          "2023-08-03T00:00:00",
          "2023-08-10T00:00:00",
          "2023-08-17T00:00:00",
          "2023-08-24T00:00:00",
          "2023-08-31T00:00:00"
         ],
         "xaxis": "x",
         "y": [
          797.3052083333333,
          490.11792261904765,
          512.3229166666666,
          687.7196428571428,
          524.2591011904761,
          327.74956547619047,
          327.4776904761905,
          31.717857142857145,
          156.625,
          202.29642857142858,
          170.79464285714286,
          53.06547619047619,
          179.6261904761905,
          97.9279761904762,
          7.17202380952381,
          63.960565476190474,
          183.37738095238097,
          124.60973214285715,
          93.2,
          118.38749999999999,
          247.37470238095236,
          285.4809523809524,
          300.8802083333333,
          235.55119047619047,
          188.5220238095238,
          454.978869047619,
          297.1707321428571,
          491.63887500000004,
          648.818244047619,
          749.9919580838324,
          801.2052976190475,
          956.7559940476191,
          1003.9624821428572,
          925.9968690476189,
          680.1479285714286,
          1009.1297619047618,
          973.3088392857144,
          366.6095357142857,
          404.3873869047619,
          581.0873392857143,
          638.7425833333333,
          856.0193571428572,
          1117.931136904762,
          1103.1565595238094,
          1052.433994047619,
          997.8485773809523,
          1059.8264761904761,
          1159.568619047619,
          1055.8519583333332,
          1042.3847678571428,
          1033.6337023809524,
          905.663369047619,
          932.8006666666666
         ],
         "yaxis": "y"
        }
       ],
       "layout": {
        "barmode": "relative",
        "height": 500,
        "legend": {
         "title": {
          "text": "variable"
         },
         "tracegroupgap": 0
        },
        "margin": {
         "t": 60
        },
        "template": {
         "data": {
          "bar": [
           {
            "error_x": {
             "color": "#2a3f5f"
            },
            "error_y": {
             "color": "#2a3f5f"
            },
            "marker": {
             "line": {
              "color": "#E5ECF6",
              "width": 0.5
             },
             "pattern": {
              "fillmode": "overlay",
              "size": 10,
              "solidity": 0.2
             }
            },
            "type": "bar"
           }
          ],
          "barpolar": [
           {
            "marker": {
             "line": {
              "color": "#E5ECF6",
              "width": 0.5
             },
             "pattern": {
              "fillmode": "overlay",
              "size": 10,
              "solidity": 0.2
             }
            },
            "type": "barpolar"
           }
          ],
          "carpet": [
           {
            "aaxis": {
             "endlinecolor": "#2a3f5f",
             "gridcolor": "white",
             "linecolor": "white",
             "minorgridcolor": "white",
             "startlinecolor": "#2a3f5f"
            },
            "baxis": {
             "endlinecolor": "#2a3f5f",
             "gridcolor": "white",
             "linecolor": "white",
             "minorgridcolor": "white",
             "startlinecolor": "#2a3f5f"
            },
            "type": "carpet"
           }
          ],
          "choropleth": [
           {
            "colorbar": {
             "outlinewidth": 0,
             "ticks": ""
            },
            "type": "choropleth"
           }
          ],
          "contour": [
           {
            "colorbar": {
             "outlinewidth": 0,
             "ticks": ""
            },
            "colorscale": [
             [
              0,
              "#0d0887"
             ],
             [
              0.1111111111111111,
              "#46039f"
             ],
             [
              0.2222222222222222,
              "#7201a8"
             ],
             [
              0.3333333333333333,
              "#9c179e"
             ],
             [
              0.4444444444444444,
              "#bd3786"
             ],
             [
              0.5555555555555556,
              "#d8576b"
             ],
             [
              0.6666666666666666,
              "#ed7953"
             ],
             [
              0.7777777777777778,
              "#fb9f3a"
             ],
             [
              0.8888888888888888,
              "#fdca26"
             ],
             [
              1,
              "#f0f921"
             ]
            ],
            "type": "contour"
           }
          ],
          "contourcarpet": [
           {
            "colorbar": {
             "outlinewidth": 0,
             "ticks": ""
            },
            "type": "contourcarpet"
           }
          ],
          "heatmap": [
           {
            "colorbar": {
             "outlinewidth": 0,
             "ticks": ""
            },
            "colorscale": [
             [
              0,
              "#0d0887"
             ],
             [
              0.1111111111111111,
              "#46039f"
             ],
             [
              0.2222222222222222,
              "#7201a8"
             ],
             [
              0.3333333333333333,
              "#9c179e"
             ],
             [
              0.4444444444444444,
              "#bd3786"
             ],
             [
              0.5555555555555556,
              "#d8576b"
             ],
             [
              0.6666666666666666,
              "#ed7953"
             ],
             [
              0.7777777777777778,
              "#fb9f3a"
             ],
             [
              0.8888888888888888,
              "#fdca26"
             ],
             [
              1,
              "#f0f921"
             ]
            ],
            "type": "heatmap"
           }
          ],
          "heatmapgl": [
           {
            "colorbar": {
             "outlinewidth": 0,
             "ticks": ""
            },
            "colorscale": [
             [
              0,
              "#0d0887"
             ],
             [
              0.1111111111111111,
              "#46039f"
             ],
             [
              0.2222222222222222,
              "#7201a8"
             ],
             [
              0.3333333333333333,
              "#9c179e"
             ],
             [
              0.4444444444444444,
              "#bd3786"
             ],
             [
              0.5555555555555556,
              "#d8576b"
             ],
             [
              0.6666666666666666,
              "#ed7953"
             ],
             [
              0.7777777777777778,
              "#fb9f3a"
             ],
             [
              0.8888888888888888,
              "#fdca26"
             ],
             [
              1,
              "#f0f921"
             ]
            ],
            "type": "heatmapgl"
           }
          ],
          "histogram": [
           {
            "marker": {
             "pattern": {
              "fillmode": "overlay",
              "size": 10,
              "solidity": 0.2
             }
            },
            "type": "histogram"
           }
          ],
          "histogram2d": [
           {
            "colorbar": {
             "outlinewidth": 0,
             "ticks": ""
            },
            "colorscale": [
             [
              0,
              "#0d0887"
             ],
             [
              0.1111111111111111,
              "#46039f"
             ],
             [
              0.2222222222222222,
              "#7201a8"
             ],
             [
              0.3333333333333333,
              "#9c179e"
             ],
             [
              0.4444444444444444,
              "#bd3786"
             ],
             [
              0.5555555555555556,
              "#d8576b"
             ],
             [
              0.6666666666666666,
              "#ed7953"
             ],
             [
              0.7777777777777778,
              "#fb9f3a"
             ],
             [
              0.8888888888888888,
              "#fdca26"
             ],
             [
              1,
              "#f0f921"
             ]
            ],
            "type": "histogram2d"
           }
          ],
          "histogram2dcontour": [
           {
            "colorbar": {
             "outlinewidth": 0,
             "ticks": ""
            },
            "colorscale": [
             [
              0,
              "#0d0887"
             ],
             [
              0.1111111111111111,
              "#46039f"
             ],
             [
              0.2222222222222222,
              "#7201a8"
             ],
             [
              0.3333333333333333,
              "#9c179e"
             ],
             [
              0.4444444444444444,
              "#bd3786"
             ],
             [
              0.5555555555555556,
              "#d8576b"
             ],
             [
              0.6666666666666666,
              "#ed7953"
             ],
             [
              0.7777777777777778,
              "#fb9f3a"
             ],
             [
              0.8888888888888888,
              "#fdca26"
             ],
             [
              1,
              "#f0f921"
             ]
            ],
            "type": "histogram2dcontour"
           }
          ],
          "mesh3d": [
           {
            "colorbar": {
             "outlinewidth": 0,
             "ticks": ""
            },
            "type": "mesh3d"
           }
          ],
          "parcoords": [
           {
            "line": {
             "colorbar": {
              "outlinewidth": 0,
              "ticks": ""
             }
            },
            "type": "parcoords"
           }
          ],
          "pie": [
           {
            "automargin": true,
            "type": "pie"
           }
          ],
          "scatter": [
           {
            "fillpattern": {
             "fillmode": "overlay",
             "size": 10,
             "solidity": 0.2
            },
            "type": "scatter"
           }
          ],
          "scatter3d": [
           {
            "line": {
             "colorbar": {
              "outlinewidth": 0,
              "ticks": ""
             }
            },
            "marker": {
             "colorbar": {
              "outlinewidth": 0,
              "ticks": ""
             }
            },
            "type": "scatter3d"
           }
          ],
          "scattercarpet": [
           {
            "marker": {
             "colorbar": {
              "outlinewidth": 0,
              "ticks": ""
             }
            },
            "type": "scattercarpet"
           }
          ],
          "scattergeo": [
           {
            "marker": {
             "colorbar": {
              "outlinewidth": 0,
              "ticks": ""
             }
            },
            "type": "scattergeo"
           }
          ],
          "scattergl": [
           {
            "marker": {
             "colorbar": {
              "outlinewidth": 0,
              "ticks": ""
             }
            },
            "type": "scattergl"
           }
          ],
          "scattermapbox": [
           {
            "marker": {
             "colorbar": {
              "outlinewidth": 0,
              "ticks": ""
             }
            },
            "type": "scattermapbox"
           }
          ],
          "scatterpolar": [
           {
            "marker": {
             "colorbar": {
              "outlinewidth": 0,
              "ticks": ""
             }
            },
            "type": "scatterpolar"
           }
          ],
          "scatterpolargl": [
           {
            "marker": {
             "colorbar": {
              "outlinewidth": 0,
              "ticks": ""
             }
            },
            "type": "scatterpolargl"
           }
          ],
          "scatterternary": [
           {
            "marker": {
             "colorbar": {
              "outlinewidth": 0,
              "ticks": ""
             }
            },
            "type": "scatterternary"
           }
          ],
          "surface": [
           {
            "colorbar": {
             "outlinewidth": 0,
             "ticks": ""
            },
            "colorscale": [
             [
              0,
              "#0d0887"
             ],
             [
              0.1111111111111111,
              "#46039f"
             ],
             [
              0.2222222222222222,
              "#7201a8"
             ],
             [
              0.3333333333333333,
              "#9c179e"
             ],
             [
              0.4444444444444444,
              "#bd3786"
             ],
             [
              0.5555555555555556,
              "#d8576b"
             ],
             [
              0.6666666666666666,
              "#ed7953"
             ],
             [
              0.7777777777777778,
              "#fb9f3a"
             ],
             [
              0.8888888888888888,
              "#fdca26"
             ],
             [
              1,
              "#f0f921"
             ]
            ],
            "type": "surface"
           }
          ],
          "table": [
           {
            "cells": {
             "fill": {
              "color": "#EBF0F8"
             },
             "line": {
              "color": "white"
             }
            },
            "header": {
             "fill": {
              "color": "#C8D4E3"
             },
             "line": {
              "color": "white"
             }
            },
            "type": "table"
           }
          ]
         },
         "layout": {
          "annotationdefaults": {
           "arrowcolor": "#2a3f5f",
           "arrowhead": 0,
           "arrowwidth": 1
          },
          "autotypenumbers": "strict",
          "coloraxis": {
           "colorbar": {
            "outlinewidth": 0,
            "ticks": ""
           }
          },
          "colorscale": {
           "diverging": [
            [
             0,
             "#8e0152"
            ],
            [
             0.1,
             "#c51b7d"
            ],
            [
             0.2,
             "#de77ae"
            ],
            [
             0.3,
             "#f1b6da"
            ],
            [
             0.4,
             "#fde0ef"
            ],
            [
             0.5,
             "#f7f7f7"
            ],
            [
             0.6,
             "#e6f5d0"
            ],
            [
             0.7,
             "#b8e186"
            ],
            [
             0.8,
             "#7fbc41"
            ],
            [
             0.9,
             "#4d9221"
            ],
            [
             1,
             "#276419"
            ]
           ],
           "sequential": [
            [
             0,
             "#0d0887"
            ],
            [
             0.1111111111111111,
             "#46039f"
            ],
            [
             0.2222222222222222,
             "#7201a8"
            ],
            [
             0.3333333333333333,
             "#9c179e"
            ],
            [
             0.4444444444444444,
             "#bd3786"
            ],
            [
             0.5555555555555556,
             "#d8576b"
            ],
            [
             0.6666666666666666,
             "#ed7953"
            ],
            [
             0.7777777777777778,
             "#fb9f3a"
            ],
            [
             0.8888888888888888,
             "#fdca26"
            ],
            [
             1,
             "#f0f921"
            ]
           ],
           "sequentialminus": [
            [
             0,
             "#0d0887"
            ],
            [
             0.1111111111111111,
             "#46039f"
            ],
            [
             0.2222222222222222,
             "#7201a8"
            ],
            [
             0.3333333333333333,
             "#9c179e"
            ],
            [
             0.4444444444444444,
             "#bd3786"
            ],
            [
             0.5555555555555556,
             "#d8576b"
            ],
            [
             0.6666666666666666,
             "#ed7953"
            ],
            [
             0.7777777777777778,
             "#fb9f3a"
            ],
            [
             0.8888888888888888,
             "#fdca26"
            ],
            [
             1,
             "#f0f921"
            ]
           ]
          },
          "colorway": [
           "#636efa",
           "#EF553B",
           "#00cc96",
           "#ab63fa",
           "#FFA15A",
           "#19d3f3",
           "#FF6692",
           "#B6E880",
           "#FF97FF",
           "#FECB52"
          ],
          "font": {
           "color": "#2a3f5f"
          },
          "geo": {
           "bgcolor": "white",
           "lakecolor": "white",
           "landcolor": "#E5ECF6",
           "showlakes": true,
           "showland": true,
           "subunitcolor": "white"
          },
          "hoverlabel": {
           "align": "left"
          },
          "hovermode": "closest",
          "mapbox": {
           "style": "light"
          },
          "paper_bgcolor": "white",
          "plot_bgcolor": "#E5ECF6",
          "polar": {
           "angularaxis": {
            "gridcolor": "white",
            "linecolor": "white",
            "ticks": ""
           },
           "bgcolor": "#E5ECF6",
           "radialaxis": {
            "gridcolor": "white",
            "linecolor": "white",
            "ticks": ""
           }
          },
          "scene": {
           "xaxis": {
            "backgroundcolor": "#E5ECF6",
            "gridcolor": "white",
            "gridwidth": 2,
            "linecolor": "white",
            "showbackground": true,
            "ticks": "",
            "zerolinecolor": "white"
           },
           "yaxis": {
            "backgroundcolor": "#E5ECF6",
            "gridcolor": "white",
            "gridwidth": 2,
            "linecolor": "white",
            "showbackground": true,
            "ticks": "",
            "zerolinecolor": "white"
           },
           "zaxis": {
            "backgroundcolor": "#E5ECF6",
            "gridcolor": "white",
            "gridwidth": 2,
            "linecolor": "white",
            "showbackground": true,
            "ticks": "",
            "zerolinecolor": "white"
           }
          },
          "shapedefaults": {
           "line": {
            "color": "#2a3f5f"
           }
          },
          "ternary": {
           "aaxis": {
            "gridcolor": "white",
            "linecolor": "white",
            "ticks": ""
           },
           "baxis": {
            "gridcolor": "white",
            "linecolor": "white",
            "ticks": ""
           },
           "bgcolor": "#E5ECF6",
           "caxis": {
            "gridcolor": "white",
            "linecolor": "white",
            "ticks": ""
           }
          },
          "title": {
           "x": 0.05
          },
          "xaxis": {
           "automargin": true,
           "gridcolor": "white",
           "linecolor": "white",
           "ticks": "",
           "title": {
            "standoff": 15
           },
           "zerolinecolor": "white",
           "zerolinewidth": 2
          },
          "yaxis": {
           "automargin": true,
           "gridcolor": "white",
           "linecolor": "white",
           "ticks": "",
           "title": {
            "standoff": 15
           },
           "zerolinecolor": "white",
           "zerolinewidth": 2
          }
         }
        },
        "width": 700,
        "xaxis": {
         "anchor": "y",
         "domain": [
          0,
          1
         ],
         "title": {
          "text": "time"
         }
        },
        "yaxis": {
         "anchor": "x",
         "domain": [
          0,
          1
         ],
         "title": {
          "text": "value"
         }
        }
       }
      }
     },
     "metadata": {},
     "output_type": "display_data"
    }
   ],
   "source": [
    "px.bar(df_weekly, x=df_weekly.index, y=df_weekly.columns, height=500, width=700)"
   ]
  },
  {
   "cell_type": "markdown",
   "id": "064b7546",
   "metadata": {
    "papermill": {
     "duration": 0.009222,
     "end_time": "2024-05-29T22:25:07.367606",
     "exception": false,
     "start_time": "2024-05-29T22:25:07.358384",
     "status": "completed"
    },
    "tags": []
   },
   "source": [
    "## Pivot Tables"
   ]
  },
  {
   "cell_type": "markdown",
   "id": "afc813a2",
   "metadata": {
    "papermill": {
     "duration": 0.010183,
     "end_time": "2024-05-29T22:25:07.391013",
     "exception": false,
     "start_time": "2024-05-29T22:25:07.380830",
     "status": "completed"
    },
    "tags": []
   },
   "source": [
    "### Transform object to DataFrame\n",
    "\n",
    "> Only if you don't have a DataFrame yet."
   ]
  },
  {
   "cell_type": "code",
   "execution_count": null,
   "id": "d5090b61",
   "metadata": {
    "execution": {
     "iopub.execute_input": "2024-05-29T22:25:07.411848Z",
     "iopub.status.busy": "2024-05-29T22:25:07.411715Z",
     "iopub.status.idle": "2024-05-29T22:25:07.416466Z",
     "shell.execute_reply": "2024-05-29T22:25:07.416284Z"
    },
    "jupyter": {
     "source_hidden": true
    },
    "papermill": {
     "duration": 0.016221,
     "end_time": "2024-05-29T22:25:07.417121",
     "exception": false,
     "start_time": "2024-05-29T22:25:07.400900",
     "status": "completed"
    },
    "tags": []
   },
   "outputs": [
    {
     "data": {
      "text/html": [
       "<div>\n",
       "<style scoped>\n",
       "    .dataframe tbody tr th:only-of-type {\n",
       "        vertical-align: middle;\n",
       "    }\n",
       "\n",
       "    .dataframe tbody tr th {\n",
       "        vertical-align: top;\n",
       "    }\n",
       "\n",
       "    .dataframe thead th {\n",
       "        text-align: right;\n",
       "    }\n",
       "</style>\n",
       "<table border=\"1\" class=\"dataframe\">\n",
       "  <thead>\n",
       "    <tr style=\"text-align: right;\">\n",
       "      <th></th>\n",
       "      <th>Coal</th>\n",
       "      <th>Cogeneration</th>\n",
       "      <th>Combined Cycle (Gas)</th>\n",
       "      <th>Eolic</th>\n",
       "      <th>Hydraulic</th>\n",
       "      <th>Non-Renewable Residues</th>\n",
       "      <th>Nuclear</th>\n",
       "      <th>Pumped Storage Hydropower</th>\n",
       "      <th>Renewables Other</th>\n",
       "      <th>Solar Photovoltaic</th>\n",
       "      <th>Solar Thermal</th>\n",
       "    </tr>\n",
       "    <tr>\n",
       "      <th>time</th>\n",
       "      <th></th>\n",
       "      <th></th>\n",
       "      <th></th>\n",
       "      <th></th>\n",
       "      <th></th>\n",
       "      <th></th>\n",
       "      <th></th>\n",
       "      <th></th>\n",
       "      <th></th>\n",
       "      <th></th>\n",
       "      <th></th>\n",
       "    </tr>\n",
       "  </thead>\n",
       "  <tbody>\n",
       "    <tr>\n",
       "      <th>2022-09-01 00:00:00</th>\n",
       "      <td>695.0</td>\n",
       "      <td>1155.1</td>\n",
       "      <td>14748.950</td>\n",
       "      <td>4387.050</td>\n",
       "      <td>899.675</td>\n",
       "      <td>273.7</td>\n",
       "      <td>6869.9</td>\n",
       "      <td>201.60</td>\n",
       "      <td>516.6</td>\n",
       "      <td>1.0</td>\n",
       "      <td>287.7</td>\n",
       "    </tr>\n",
       "    <tr>\n",
       "      <th>2022-09-01 01:00:00</th>\n",
       "      <td>750.0</td>\n",
       "      <td>1162.1</td>\n",
       "      <td>14255.600</td>\n",
       "      <td>4008.900</td>\n",
       "      <td>850.200</td>\n",
       "      <td>271.6</td>\n",
       "      <td>6881.9</td>\n",
       "      <td>117.70</td>\n",
       "      <td>514.4</td>\n",
       "      <td>1.0</td>\n",
       "      <td>247.7</td>\n",
       "    </tr>\n",
       "    <tr>\n",
       "      <th>...</th>\n",
       "      <td>...</td>\n",
       "      <td>...</td>\n",
       "      <td>...</td>\n",
       "      <td>...</td>\n",
       "      <td>...</td>\n",
       "      <td>...</td>\n",
       "      <td>...</td>\n",
       "      <td>...</td>\n",
       "      <td>...</td>\n",
       "      <td>...</td>\n",
       "      <td>...</td>\n",
       "    </tr>\n",
       "    <tr>\n",
       "      <th>2023-08-31 22:00:00</th>\n",
       "      <td>477.5</td>\n",
       "      <td>2153.4</td>\n",
       "      <td>10575.375</td>\n",
       "      <td>3057.950</td>\n",
       "      <td>3541.400</td>\n",
       "      <td>239.4</td>\n",
       "      <td>6866.0</td>\n",
       "      <td>946.25</td>\n",
       "      <td>510.7</td>\n",
       "      <td>17.6</td>\n",
       "      <td>607.9</td>\n",
       "    </tr>\n",
       "    <tr>\n",
       "      <th>2023-08-31 23:00:00</th>\n",
       "      <td>500.0</td>\n",
       "      <td>2127.7</td>\n",
       "      <td>9988.875</td>\n",
       "      <td>3028.675</td>\n",
       "      <td>3159.500</td>\n",
       "      <td>240.8</td>\n",
       "      <td>6869.0</td>\n",
       "      <td>334.95</td>\n",
       "      <td>511.9</td>\n",
       "      <td>17.4</td>\n",
       "      <td>619.8</td>\n",
       "    </tr>\n",
       "  </tbody>\n",
       "</table>\n",
       "<p>8759 rows × 11 columns</p>\n",
       "</div>"
      ],
      "text/plain": [
       "                      Coal  Cogeneration  Combined Cycle (Gas)     Eolic  \\\n",
       "time                                                                       \n",
       "2022-09-01 00:00:00  695.0        1155.1             14748.950  4387.050   \n",
       "2022-09-01 01:00:00  750.0        1162.1             14255.600  4008.900   \n",
       "...                    ...           ...                   ...       ...   \n",
       "2023-08-31 22:00:00  477.5        2153.4             10575.375  3057.950   \n",
       "2023-08-31 23:00:00  500.0        2127.7              9988.875  3028.675   \n",
       "\n",
       "                     Hydraulic  Non-Renewable Residues  Nuclear  \\\n",
       "time                                                              \n",
       "2022-09-01 00:00:00    899.675                   273.7   6869.9   \n",
       "2022-09-01 01:00:00    850.200                   271.6   6881.9   \n",
       "...                        ...                     ...      ...   \n",
       "2023-08-31 22:00:00   3541.400                   239.4   6866.0   \n",
       "2023-08-31 23:00:00   3159.500                   240.8   6869.0   \n",
       "\n",
       "                     Pumped Storage Hydropower  Renewables Other  \\\n",
       "time                                                               \n",
       "2022-09-01 00:00:00                     201.60             516.6   \n",
       "2022-09-01 01:00:00                     117.70             514.4   \n",
       "...                                        ...               ...   \n",
       "2023-08-31 22:00:00                     946.25             510.7   \n",
       "2023-08-31 23:00:00                     334.95             511.9   \n",
       "\n",
       "                     Solar Photovoltaic  Solar Thermal  \n",
       "time                                                    \n",
       "2022-09-01 00:00:00                 1.0          287.7  \n",
       "2022-09-01 01:00:00                 1.0          247.7  \n",
       "...                                 ...            ...  \n",
       "2023-08-31 22:00:00                17.6          607.9  \n",
       "2023-08-31 23:00:00                17.4          619.8  \n",
       "\n",
       "[8759 rows x 11 columns]"
      ]
     },
     "execution_count": null,
     "metadata": {},
     "output_type": "execute_result"
    }
   ],
   "source": []
  },
  {
   "cell_type": "markdown",
   "id": "1146bf8c",
   "metadata": {
    "papermill": {
     "duration": 0.011621,
     "end_time": "2024-05-29T22:25:07.438496",
     "exception": false,
     "start_time": "2024-05-29T22:25:07.426875",
     "status": "completed"
    },
    "tags": []
   },
   "source": [
    "### Time series categories in one column"
   ]
  },
  {
   "cell_type": "code",
   "execution_count": 44,
   "id": "5f1d03ee",
   "metadata": {
    "execution": {
     "iopub.execute_input": "2024-05-29T22:25:07.459557Z",
     "iopub.status.busy": "2024-05-29T22:25:07.459229Z",
     "iopub.status.idle": "2024-05-29T22:25:07.465223Z",
     "shell.execute_reply": "2024-05-29T22:25:07.464975Z"
    },
    "jupyter": {
     "source_hidden": true
    },
    "papermill": {
     "duration": 0.017715,
     "end_time": "2024-05-29T22:25:07.466064",
     "exception": false,
     "start_time": "2024-05-29T22:25:07.448349",
     "status": "completed"
    },
    "tags": []
   },
   "outputs": [
    {
     "data": {
      "text/html": [
       "<div>\n",
       "<style scoped>\n",
       "    .dataframe tbody tr th:only-of-type {\n",
       "        vertical-align: middle;\n",
       "    }\n",
       "\n",
       "    .dataframe tbody tr th {\n",
       "        vertical-align: top;\n",
       "    }\n",
       "\n",
       "    .dataframe thead th {\n",
       "        text-align: right;\n",
       "    }\n",
       "</style>\n",
       "<table border=\"1\" class=\"dataframe\">\n",
       "  <thead>\n",
       "    <tr style=\"text-align: right;\">\n",
       "      <th></th>\n",
       "      <th>technology</th>\n",
       "      <th>generation</th>\n",
       "    </tr>\n",
       "    <tr>\n",
       "      <th>time</th>\n",
       "      <th></th>\n",
       "      <th></th>\n",
       "    </tr>\n",
       "  </thead>\n",
       "  <tbody>\n",
       "    <tr>\n",
       "      <th>2022-09-01 00:00:00</th>\n",
       "      <td>Coal</td>\n",
       "      <td>695.00</td>\n",
       "    </tr>\n",
       "    <tr>\n",
       "      <th>2022-09-01 01:00:00</th>\n",
       "      <td>Coal</td>\n",
       "      <td>750.00</td>\n",
       "    </tr>\n",
       "    <tr>\n",
       "      <th>2022-09-01 02:00:00</th>\n",
       "      <td>Coal</td>\n",
       "      <td>777.50</td>\n",
       "    </tr>\n",
       "    <tr>\n",
       "      <th>2022-09-01 03:00:00</th>\n",
       "      <td>Coal</td>\n",
       "      <td>802.50</td>\n",
       "    </tr>\n",
       "    <tr>\n",
       "      <th>2022-09-01 04:00:00</th>\n",
       "      <td>Coal</td>\n",
       "      <td>816.25</td>\n",
       "    </tr>\n",
       "    <tr>\n",
       "      <th>...</th>\n",
       "      <td>...</td>\n",
       "      <td>...</td>\n",
       "    </tr>\n",
       "    <tr>\n",
       "      <th>2023-08-31 19:00:00</th>\n",
       "      <td>Solar Thermal</td>\n",
       "      <td>1691.60</td>\n",
       "    </tr>\n",
       "    <tr>\n",
       "      <th>2023-08-31 20:00:00</th>\n",
       "      <td>Solar Thermal</td>\n",
       "      <td>1039.10</td>\n",
       "    </tr>\n",
       "    <tr>\n",
       "      <th>2023-08-31 21:00:00</th>\n",
       "      <td>Solar Thermal</td>\n",
       "      <td>668.80</td>\n",
       "    </tr>\n",
       "    <tr>\n",
       "      <th>2023-08-31 22:00:00</th>\n",
       "      <td>Solar Thermal</td>\n",
       "      <td>607.90</td>\n",
       "    </tr>\n",
       "    <tr>\n",
       "      <th>2023-08-31 23:00:00</th>\n",
       "      <td>Solar Thermal</td>\n",
       "      <td>619.80</td>\n",
       "    </tr>\n",
       "  </tbody>\n",
       "</table>\n",
       "<p>96349 rows × 2 columns</p>\n",
       "</div>"
      ],
      "text/plain": [
       "                        technology  generation\n",
       "time                                          \n",
       "2022-09-01 00:00:00           Coal      695.00\n",
       "2022-09-01 01:00:00           Coal      750.00\n",
       "2022-09-01 02:00:00           Coal      777.50\n",
       "2022-09-01 03:00:00           Coal      802.50\n",
       "2022-09-01 04:00:00           Coal      816.25\n",
       "...                            ...         ...\n",
       "2023-08-31 19:00:00  Solar Thermal     1691.60\n",
       "2023-08-31 20:00:00  Solar Thermal     1039.10\n",
       "2023-08-31 21:00:00  Solar Thermal      668.80\n",
       "2023-08-31 22:00:00  Solar Thermal      607.90\n",
       "2023-08-31 23:00:00  Solar Thermal      619.80\n",
       "\n",
       "[96349 rows x 2 columns]"
      ]
     },
     "execution_count": 44,
     "metadata": {},
     "output_type": "execute_result"
    }
   ],
   "source": [
    "dff = df.melt(ignore_index=False, value_name='generation', var_name='technology')\n",
    "dff"
   ]
  },
  {
   "cell_type": "markdown",
   "id": "1e0f6749",
   "metadata": {
    "papermill": {
     "duration": 0.010952,
     "end_time": "2024-05-29T22:25:07.487833",
     "exception": false,
     "start_time": "2024-05-29T22:25:07.476881",
     "status": "completed"
    },
    "tags": []
   },
   "source": [
    "### Create columns with datetime information"
   ]
  },
  {
   "cell_type": "code",
   "execution_count": 45,
   "id": "c7697463",
   "metadata": {
    "execution": {
     "iopub.execute_input": "2024-05-29T22:25:07.510844Z",
     "iopub.status.busy": "2024-05-29T22:25:07.510699Z",
     "iopub.status.idle": "2024-05-29T22:25:07.521153Z",
     "shell.execute_reply": "2024-05-29T22:25:07.520689Z"
    },
    "jupyter": {
     "source_hidden": true
    },
    "papermill": {
     "duration": 0.023788,
     "end_time": "2024-05-29T22:25:07.522642",
     "exception": false,
     "start_time": "2024-05-29T22:25:07.498854",
     "status": "completed"
    },
    "tags": []
   },
   "outputs": [],
   "source": [
    "dff = dff.assign(\n",
    "    year=dff.index.year,\n",
    "    month=dff.index.month,\n",
    "    day=dff.index.day,\n",
    "    hour=dff.index.hour\n",
    ")"
   ]
  },
  {
   "cell_type": "markdown",
   "id": "480cbe9c",
   "metadata": {
    "papermill": {
     "duration": 0.011436,
     "end_time": "2024-05-29T22:25:07.544793",
     "exception": false,
     "start_time": "2024-05-29T22:25:07.533357",
     "status": "completed"
    },
    "tags": []
   },
   "source": [
    "### Process `pivot_table`\n",
    "\n",
    "- Use this methodology."
   ]
  },
  {
   "cell_type": "code",
   "execution_count": 49,
   "id": "17b31915",
   "metadata": {
    "execution": {
     "iopub.execute_input": "2024-05-29T22:25:07.572703Z",
     "iopub.status.busy": "2024-05-29T22:25:07.571612Z",
     "iopub.status.idle": "2024-05-29T22:25:07.591030Z",
     "shell.execute_reply": "2024-05-29T22:25:07.590409Z"
    },
    "jupyter": {
     "source_hidden": true
    },
    "papermill": {
     "duration": 0.034276,
     "end_time": "2024-05-29T22:25:07.591951",
     "exception": false,
     "start_time": "2024-05-29T22:25:07.557675",
     "status": "completed"
    },
    "tags": []
   },
   "outputs": [
    {
     "ename": "KeyError",
     "evalue": "'generation'",
     "output_type": "error",
     "traceback": [
      "\u001b[1;31m---------------------------------------------------------------------------\u001b[0m",
      "\u001b[1;31mKeyError\u001b[0m                                  Traceback (most recent call last)",
      "Cell \u001b[1;32mIn[49], line 1\u001b[0m\n\u001b[1;32m----> 1\u001b[0m dff \u001b[38;5;241m=\u001b[39m \u001b[43mdff\u001b[49m\u001b[38;5;241;43m.\u001b[39;49m\u001b[43mpivot_table\u001b[49m\u001b[43m(\u001b[49m\u001b[43mvalues\u001b[49m\u001b[38;5;241;43m=\u001b[39;49m\u001b[38;5;124;43m'\u001b[39;49m\u001b[38;5;124;43mgeneration\u001b[39;49m\u001b[38;5;124;43m'\u001b[39;49m\u001b[43m,\u001b[49m\u001b[43m \u001b[49m\u001b[43mindex\u001b[49m\u001b[38;5;241;43m=\u001b[39;49m\u001b[38;5;124;43m'\u001b[39;49m\u001b[38;5;124;43mtechnology\u001b[39;49m\u001b[38;5;124;43m'\u001b[39;49m\u001b[43m,\u001b[49m\u001b[43m \u001b[49m\u001b[43mcolumns\u001b[49m\u001b[38;5;241;43m=\u001b[39;49m\u001b[43m[\u001b[49m\u001b[38;5;124;43m'\u001b[39;49m\u001b[38;5;124;43myear\u001b[39;49m\u001b[38;5;124;43m'\u001b[39;49m\u001b[43m,\u001b[49m\u001b[38;5;124;43m'\u001b[39;49m\u001b[38;5;124;43mmonth\u001b[39;49m\u001b[38;5;124;43m'\u001b[39;49m\u001b[43m]\u001b[49m\u001b[43m,\u001b[49m\u001b[43m \u001b[49m\u001b[43maggfunc\u001b[49m\u001b[38;5;241;43m=\u001b[39;49m\u001b[38;5;124;43m'\u001b[39;49m\u001b[38;5;124;43msum\u001b[39;49m\u001b[38;5;124;43m'\u001b[39;49m\u001b[43m)\u001b[49m\n",
      "File \u001b[1;32mc:\\Users\\RafaelAndreo_6gt1g09\\OneDrive - BRUC ENERGY SL\\Documentos\\Formaciones\\Analisis_modelado_sries_temporales\\TS\\.venv\\Lib\\site-packages\\pandas\\core\\frame.py:9509\u001b[0m, in \u001b[0;36mDataFrame.pivot_table\u001b[1;34m(self, values, index, columns, aggfunc, fill_value, margins, dropna, margins_name, observed, sort)\u001b[0m\n\u001b[0;32m   9492\u001b[0m \u001b[38;5;129m@Substitution\u001b[39m(\u001b[38;5;124m\"\u001b[39m\u001b[38;5;124m\"\u001b[39m)\n\u001b[0;32m   9493\u001b[0m \u001b[38;5;129m@Appender\u001b[39m(_shared_docs[\u001b[38;5;124m\"\u001b[39m\u001b[38;5;124mpivot_table\u001b[39m\u001b[38;5;124m\"\u001b[39m])\n\u001b[0;32m   9494\u001b[0m \u001b[38;5;28;01mdef\u001b[39;00m \u001b[38;5;21mpivot_table\u001b[39m(\n\u001b[1;32m   (...)\u001b[0m\n\u001b[0;32m   9505\u001b[0m     sort: \u001b[38;5;28mbool\u001b[39m \u001b[38;5;241m=\u001b[39m \u001b[38;5;28;01mTrue\u001b[39;00m,\n\u001b[0;32m   9506\u001b[0m ) \u001b[38;5;241m-\u001b[39m\u001b[38;5;241m>\u001b[39m DataFrame:\n\u001b[0;32m   9507\u001b[0m     \u001b[38;5;28;01mfrom\u001b[39;00m \u001b[38;5;21;01mpandas\u001b[39;00m\u001b[38;5;21;01m.\u001b[39;00m\u001b[38;5;21;01mcore\u001b[39;00m\u001b[38;5;21;01m.\u001b[39;00m\u001b[38;5;21;01mreshape\u001b[39;00m\u001b[38;5;21;01m.\u001b[39;00m\u001b[38;5;21;01mpivot\u001b[39;00m \u001b[38;5;28;01mimport\u001b[39;00m pivot_table\n\u001b[1;32m-> 9509\u001b[0m     \u001b[38;5;28;01mreturn\u001b[39;00m \u001b[43mpivot_table\u001b[49m\u001b[43m(\u001b[49m\n\u001b[0;32m   9510\u001b[0m \u001b[43m        \u001b[49m\u001b[38;5;28;43mself\u001b[39;49m\u001b[43m,\u001b[49m\n\u001b[0;32m   9511\u001b[0m \u001b[43m        \u001b[49m\u001b[43mvalues\u001b[49m\u001b[38;5;241;43m=\u001b[39;49m\u001b[43mvalues\u001b[49m\u001b[43m,\u001b[49m\n\u001b[0;32m   9512\u001b[0m \u001b[43m        \u001b[49m\u001b[43mindex\u001b[49m\u001b[38;5;241;43m=\u001b[39;49m\u001b[43mindex\u001b[49m\u001b[43m,\u001b[49m\n\u001b[0;32m   9513\u001b[0m \u001b[43m        \u001b[49m\u001b[43mcolumns\u001b[49m\u001b[38;5;241;43m=\u001b[39;49m\u001b[43mcolumns\u001b[49m\u001b[43m,\u001b[49m\n\u001b[0;32m   9514\u001b[0m \u001b[43m        \u001b[49m\u001b[43maggfunc\u001b[49m\u001b[38;5;241;43m=\u001b[39;49m\u001b[43maggfunc\u001b[49m\u001b[43m,\u001b[49m\n\u001b[0;32m   9515\u001b[0m \u001b[43m        \u001b[49m\u001b[43mfill_value\u001b[49m\u001b[38;5;241;43m=\u001b[39;49m\u001b[43mfill_value\u001b[49m\u001b[43m,\u001b[49m\n\u001b[0;32m   9516\u001b[0m \u001b[43m        \u001b[49m\u001b[43mmargins\u001b[49m\u001b[38;5;241;43m=\u001b[39;49m\u001b[43mmargins\u001b[49m\u001b[43m,\u001b[49m\n\u001b[0;32m   9517\u001b[0m \u001b[43m        \u001b[49m\u001b[43mdropna\u001b[49m\u001b[38;5;241;43m=\u001b[39;49m\u001b[43mdropna\u001b[49m\u001b[43m,\u001b[49m\n\u001b[0;32m   9518\u001b[0m \u001b[43m        \u001b[49m\u001b[43mmargins_name\u001b[49m\u001b[38;5;241;43m=\u001b[39;49m\u001b[43mmargins_name\u001b[49m\u001b[43m,\u001b[49m\n\u001b[0;32m   9519\u001b[0m \u001b[43m        \u001b[49m\u001b[43mobserved\u001b[49m\u001b[38;5;241;43m=\u001b[39;49m\u001b[43mobserved\u001b[49m\u001b[43m,\u001b[49m\n\u001b[0;32m   9520\u001b[0m \u001b[43m        \u001b[49m\u001b[43msort\u001b[49m\u001b[38;5;241;43m=\u001b[39;49m\u001b[43msort\u001b[49m\u001b[43m,\u001b[49m\n\u001b[0;32m   9521\u001b[0m \u001b[43m    \u001b[49m\u001b[43m)\u001b[49m\n",
      "File \u001b[1;32mc:\\Users\\RafaelAndreo_6gt1g09\\OneDrive - BRUC ENERGY SL\\Documentos\\Formaciones\\Analisis_modelado_sries_temporales\\TS\\.venv\\Lib\\site-packages\\pandas\\core\\reshape\\pivot.py:102\u001b[0m, in \u001b[0;36mpivot_table\u001b[1;34m(data, values, index, columns, aggfunc, fill_value, margins, dropna, margins_name, observed, sort)\u001b[0m\n\u001b[0;32m     99\u001b[0m     table \u001b[38;5;241m=\u001b[39m concat(pieces, keys\u001b[38;5;241m=\u001b[39mkeys, axis\u001b[38;5;241m=\u001b[39m\u001b[38;5;241m1\u001b[39m)\n\u001b[0;32m    100\u001b[0m     \u001b[38;5;28;01mreturn\u001b[39;00m table\u001b[38;5;241m.\u001b[39m__finalize__(data, method\u001b[38;5;241m=\u001b[39m\u001b[38;5;124m\"\u001b[39m\u001b[38;5;124mpivot_table\u001b[39m\u001b[38;5;124m\"\u001b[39m)\n\u001b[1;32m--> 102\u001b[0m table \u001b[38;5;241m=\u001b[39m \u001b[43m__internal_pivot_table\u001b[49m\u001b[43m(\u001b[49m\n\u001b[0;32m    103\u001b[0m \u001b[43m    \u001b[49m\u001b[43mdata\u001b[49m\u001b[43m,\u001b[49m\n\u001b[0;32m    104\u001b[0m \u001b[43m    \u001b[49m\u001b[43mvalues\u001b[49m\u001b[43m,\u001b[49m\n\u001b[0;32m    105\u001b[0m \u001b[43m    \u001b[49m\u001b[43mindex\u001b[49m\u001b[43m,\u001b[49m\n\u001b[0;32m    106\u001b[0m \u001b[43m    \u001b[49m\u001b[43mcolumns\u001b[49m\u001b[43m,\u001b[49m\n\u001b[0;32m    107\u001b[0m \u001b[43m    \u001b[49m\u001b[43maggfunc\u001b[49m\u001b[43m,\u001b[49m\n\u001b[0;32m    108\u001b[0m \u001b[43m    \u001b[49m\u001b[43mfill_value\u001b[49m\u001b[43m,\u001b[49m\n\u001b[0;32m    109\u001b[0m \u001b[43m    \u001b[49m\u001b[43mmargins\u001b[49m\u001b[43m,\u001b[49m\n\u001b[0;32m    110\u001b[0m \u001b[43m    \u001b[49m\u001b[43mdropna\u001b[49m\u001b[43m,\u001b[49m\n\u001b[0;32m    111\u001b[0m \u001b[43m    \u001b[49m\u001b[43mmargins_name\u001b[49m\u001b[43m,\u001b[49m\n\u001b[0;32m    112\u001b[0m \u001b[43m    \u001b[49m\u001b[43mobserved\u001b[49m\u001b[43m,\u001b[49m\n\u001b[0;32m    113\u001b[0m \u001b[43m    \u001b[49m\u001b[43msort\u001b[49m\u001b[43m,\u001b[49m\n\u001b[0;32m    114\u001b[0m \u001b[43m\u001b[49m\u001b[43m)\u001b[49m\n\u001b[0;32m    115\u001b[0m \u001b[38;5;28;01mreturn\u001b[39;00m table\u001b[38;5;241m.\u001b[39m__finalize__(data, method\u001b[38;5;241m=\u001b[39m\u001b[38;5;124m\"\u001b[39m\u001b[38;5;124mpivot_table\u001b[39m\u001b[38;5;124m\"\u001b[39m)\n",
      "File \u001b[1;32mc:\\Users\\RafaelAndreo_6gt1g09\\OneDrive - BRUC ENERGY SL\\Documentos\\Formaciones\\Analisis_modelado_sries_temporales\\TS\\.venv\\Lib\\site-packages\\pandas\\core\\reshape\\pivot.py:148\u001b[0m, in \u001b[0;36m__internal_pivot_table\u001b[1;34m(data, values, index, columns, aggfunc, fill_value, margins, dropna, margins_name, observed, sort)\u001b[0m\n\u001b[0;32m    146\u001b[0m \u001b[38;5;28;01mfor\u001b[39;00m i \u001b[38;5;129;01min\u001b[39;00m values:\n\u001b[0;32m    147\u001b[0m     \u001b[38;5;28;01mif\u001b[39;00m i \u001b[38;5;129;01mnot\u001b[39;00m \u001b[38;5;129;01min\u001b[39;00m data:\n\u001b[1;32m--> 148\u001b[0m         \u001b[38;5;28;01mraise\u001b[39;00m \u001b[38;5;167;01mKeyError\u001b[39;00m(i)\n\u001b[0;32m    150\u001b[0m to_filter \u001b[38;5;241m=\u001b[39m []\n\u001b[0;32m    151\u001b[0m \u001b[38;5;28;01mfor\u001b[39;00m x \u001b[38;5;129;01min\u001b[39;00m keys \u001b[38;5;241m+\u001b[39m values:\n",
      "\u001b[1;31mKeyError\u001b[0m: 'generation'"
     ]
    }
   ],
   "source": [
    "dff = dff.pivot_table(values='generation', index='technology', columns=['year','month'], aggfunc='sum')"
   ]
  },
  {
   "cell_type": "code",
   "execution_count": 50,
   "id": "e3ad4ce3",
   "metadata": {},
   "outputs": [
    {
     "data": {
      "text/html": [
       "<style type=\"text/css\">\n",
       "</style>\n",
       "<table id=\"T_9e22a\">\n",
       "  <thead>\n",
       "    <tr>\n",
       "      <th class=\"index_name level0\" >year</th>\n",
       "      <th id=\"T_9e22a_level0_col0\" class=\"col_heading level0 col0\" colspan=\"4\">2022</th>\n",
       "      <th id=\"T_9e22a_level0_col4\" class=\"col_heading level0 col4\" colspan=\"8\">2023</th>\n",
       "    </tr>\n",
       "    <tr>\n",
       "      <th class=\"index_name level1\" >month</th>\n",
       "      <th id=\"T_9e22a_level1_col0\" class=\"col_heading level1 col0\" >9</th>\n",
       "      <th id=\"T_9e22a_level1_col1\" class=\"col_heading level1 col1\" >10</th>\n",
       "      <th id=\"T_9e22a_level1_col2\" class=\"col_heading level1 col2\" >11</th>\n",
       "      <th id=\"T_9e22a_level1_col3\" class=\"col_heading level1 col3\" >12</th>\n",
       "      <th id=\"T_9e22a_level1_col4\" class=\"col_heading level1 col4\" >1</th>\n",
       "      <th id=\"T_9e22a_level1_col5\" class=\"col_heading level1 col5\" >2</th>\n",
       "      <th id=\"T_9e22a_level1_col6\" class=\"col_heading level1 col6\" >3</th>\n",
       "      <th id=\"T_9e22a_level1_col7\" class=\"col_heading level1 col7\" >4</th>\n",
       "      <th id=\"T_9e22a_level1_col8\" class=\"col_heading level1 col8\" >5</th>\n",
       "      <th id=\"T_9e22a_level1_col9\" class=\"col_heading level1 col9\" >6</th>\n",
       "      <th id=\"T_9e22a_level1_col10\" class=\"col_heading level1 col10\" >7</th>\n",
       "      <th id=\"T_9e22a_level1_col11\" class=\"col_heading level1 col11\" >8</th>\n",
       "    </tr>\n",
       "    <tr>\n",
       "      <th class=\"index_name level0\" >technology</th>\n",
       "      <th class=\"blank col0\" >&nbsp;</th>\n",
       "      <th class=\"blank col1\" >&nbsp;</th>\n",
       "      <th class=\"blank col2\" >&nbsp;</th>\n",
       "      <th class=\"blank col3\" >&nbsp;</th>\n",
       "      <th class=\"blank col4\" >&nbsp;</th>\n",
       "      <th class=\"blank col5\" >&nbsp;</th>\n",
       "      <th class=\"blank col6\" >&nbsp;</th>\n",
       "      <th class=\"blank col7\" >&nbsp;</th>\n",
       "      <th class=\"blank col8\" >&nbsp;</th>\n",
       "      <th class=\"blank col9\" >&nbsp;</th>\n",
       "      <th class=\"blank col10\" >&nbsp;</th>\n",
       "      <th class=\"blank col11\" >&nbsp;</th>\n",
       "    </tr>\n",
       "  </thead>\n",
       "  <tbody>\n",
       "    <tr>\n",
       "      <th id=\"T_9e22a_level0_row0\" class=\"row_heading level0 row0\" >Coal</th>\n",
       "      <td id=\"T_9e22a_row0_col0\" class=\"data row0 col0\" >639985.519000</td>\n",
       "      <td id=\"T_9e22a_row0_col1\" class=\"data row0 col1\" >389282.273000</td>\n",
       "      <td id=\"T_9e22a_row0_col2\" class=\"data row0 col2\" >338313.851000</td>\n",
       "      <td id=\"T_9e22a_row0_col3\" class=\"data row0 col3\" >725039.354000</td>\n",
       "      <td id=\"T_9e22a_row0_col4\" class=\"data row0 col4\" >321210.350000</td>\n",
       "      <td id=\"T_9e22a_row0_col5\" class=\"data row0 col5\" >431672.925000</td>\n",
       "      <td id=\"T_9e22a_row0_col6\" class=\"data row0 col6\" >414233.325000</td>\n",
       "      <td id=\"T_9e22a_row0_col7\" class=\"data row0 col7\" >254348.325000</td>\n",
       "      <td id=\"T_9e22a_row0_col8\" class=\"data row0 col8\" >247080.557000</td>\n",
       "      <td id=\"T_9e22a_row0_col9\" class=\"data row0 col9\" >300360.567000</td>\n",
       "      <td id=\"T_9e22a_row0_col10\" class=\"data row0 col10\" >287284.165000</td>\n",
       "      <td id=\"T_9e22a_row0_col11\" class=\"data row0 col11\" >421115.277000</td>\n",
       "    </tr>\n",
       "    <tr>\n",
       "      <th id=\"T_9e22a_level0_row1\" class=\"row_heading level0 row1\" >Cogeneration</th>\n",
       "      <td id=\"T_9e22a_row1_col0\" class=\"data row1 col0\" >758832.665000</td>\n",
       "      <td id=\"T_9e22a_row1_col1\" class=\"data row1 col1\" >1117045.451000</td>\n",
       "      <td id=\"T_9e22a_row1_col2\" class=\"data row1 col2\" >1453732.367000</td>\n",
       "      <td id=\"T_9e22a_row1_col3\" class=\"data row1 col3\" >1114179.283000</td>\n",
       "      <td id=\"T_9e22a_row1_col4\" class=\"data row1 col4\" >1222612.611000</td>\n",
       "      <td id=\"T_9e22a_row1_col5\" class=\"data row1 col5\" >1718877.593000</td>\n",
       "      <td id=\"T_9e22a_row1_col6\" class=\"data row1 col6\" >1771577.988000</td>\n",
       "      <td id=\"T_9e22a_row1_col7\" class=\"data row1 col7\" >1590191.493000</td>\n",
       "      <td id=\"T_9e22a_row1_col8\" class=\"data row1 col8\" >1723153.516000</td>\n",
       "      <td id=\"T_9e22a_row1_col9\" class=\"data row1 col9\" >1775275.345000</td>\n",
       "      <td id=\"T_9e22a_row1_col10\" class=\"data row1 col10\" >1513263.491000</td>\n",
       "      <td id=\"T_9e22a_row1_col11\" class=\"data row1 col11\" >1316018.962000</td>\n",
       "    </tr>\n",
       "    <tr>\n",
       "      <th id=\"T_9e22a_level0_row2\" class=\"row_heading level0 row2\" >Combined Cycle (Gas)</th>\n",
       "      <td id=\"T_9e22a_row2_col0\" class=\"data row2 col0\" >7243462.233000</td>\n",
       "      <td id=\"T_9e22a_row2_col1\" class=\"data row2 col1\" >6575178.431000</td>\n",
       "      <td id=\"T_9e22a_row2_col2\" class=\"data row2 col2\" >4228190.235000</td>\n",
       "      <td id=\"T_9e22a_row2_col3\" class=\"data row2 col3\" >3813010.445000</td>\n",
       "      <td id=\"T_9e22a_row2_col4\" class=\"data row2 col4\" >2153531.745000</td>\n",
       "      <td id=\"T_9e22a_row2_col5\" class=\"data row2 col5\" >3882381.006000</td>\n",
       "      <td id=\"T_9e22a_row2_col6\" class=\"data row2 col6\" >2620595.306000</td>\n",
       "      <td id=\"T_9e22a_row2_col7\" class=\"data row2 col7\" >2308295.976000</td>\n",
       "      <td id=\"T_9e22a_row2_col8\" class=\"data row2 col8\" >2748103.121000</td>\n",
       "      <td id=\"T_9e22a_row2_col9\" class=\"data row2 col9\" >4064754.767000</td>\n",
       "      <td id=\"T_9e22a_row2_col10\" class=\"data row2 col10\" >4414524.924000</td>\n",
       "      <td id=\"T_9e22a_row2_col11\" class=\"data row2 col11\" >4360862.082000</td>\n",
       "    </tr>\n",
       "    <tr>\n",
       "      <th id=\"T_9e22a_level0_row3\" class=\"row_heading level0 row3\" >Eolic</th>\n",
       "      <td id=\"T_9e22a_row3_col0\" class=\"data row3 col0\" >4058314.734000</td>\n",
       "      <td id=\"T_9e22a_row3_col1\" class=\"data row3 col1\" >5002114.206000</td>\n",
       "      <td id=\"T_9e22a_row3_col2\" class=\"data row3 col2\" >6657801.544000</td>\n",
       "      <td id=\"T_9e22a_row3_col3\" class=\"data row3 col3\" >5671385.864000</td>\n",
       "      <td id=\"T_9e22a_row3_col4\" class=\"data row3 col4\" >7426712.678000</td>\n",
       "      <td id=\"T_9e22a_row3_col5\" class=\"data row3 col5\" >4700334.703000</td>\n",
       "      <td id=\"T_9e22a_row3_col6\" class=\"data row3 col6\" >6603070.491000</td>\n",
       "      <td id=\"T_9e22a_row3_col7\" class=\"data row3 col7\" >4844750.027000</td>\n",
       "      <td id=\"T_9e22a_row3_col8\" class=\"data row3 col8\" >5370790.331000</td>\n",
       "      <td id=\"T_9e22a_row3_col9\" class=\"data row3 col9\" >3083011.561000</td>\n",
       "      <td id=\"T_9e22a_row3_col10\" class=\"data row3 col10\" >3759950.872000</td>\n",
       "      <td id=\"T_9e22a_row3_col11\" class=\"data row3 col11\" >4197239.743000</td>\n",
       "    </tr>\n",
       "    <tr>\n",
       "      <th id=\"T_9e22a_level0_row4\" class=\"row_heading level0 row4\" >Hydraulic</th>\n",
       "      <td id=\"T_9e22a_row4_col0\" class=\"data row4 col0\" >1196005.549000</td>\n",
       "      <td id=\"T_9e22a_row4_col1\" class=\"data row4 col1\" >765436.701000</td>\n",
       "      <td id=\"T_9e22a_row4_col2\" class=\"data row4 col2\" >1391812.347000</td>\n",
       "      <td id=\"T_9e22a_row4_col3\" class=\"data row4 col3\" >2887101.515000</td>\n",
       "      <td id=\"T_9e22a_row4_col4\" class=\"data row4 col4\" >4041380.886000</td>\n",
       "      <td id=\"T_9e22a_row4_col5\" class=\"data row4 col5\" >2554076.675000</td>\n",
       "      <td id=\"T_9e22a_row4_col6\" class=\"data row4 col6\" >2211987.869000</td>\n",
       "      <td id=\"T_9e22a_row4_col7\" class=\"data row4 col7\" >1698988.674000</td>\n",
       "      <td id=\"T_9e22a_row4_col8\" class=\"data row4 col8\" >1479940.098000</td>\n",
       "      <td id=\"T_9e22a_row4_col9\" class=\"data row4 col9\" >1879424.373000</td>\n",
       "      <td id=\"T_9e22a_row4_col10\" class=\"data row4 col10\" >1345345.479000</td>\n",
       "      <td id=\"T_9e22a_row4_col11\" class=\"data row4 col11\" >1065059.488000</td>\n",
       "    </tr>\n",
       "    <tr>\n",
       "      <th id=\"T_9e22a_level0_row5\" class=\"row_heading level0 row5\" >Non-Renewable Residues</th>\n",
       "      <td id=\"T_9e22a_row5_col0\" class=\"data row5 col0\" >173608.317000</td>\n",
       "      <td id=\"T_9e22a_row5_col1\" class=\"data row5 col1\" >205572.358000</td>\n",
       "      <td id=\"T_9e22a_row5_col2\" class=\"data row5 col2\" >169995.455000</td>\n",
       "      <td id=\"T_9e22a_row5_col3\" class=\"data row5 col3\" >186919.465000</td>\n",
       "      <td id=\"T_9e22a_row5_col4\" class=\"data row5 col4\" >158238.665000</td>\n",
       "      <td id=\"T_9e22a_row5_col5\" class=\"data row5 col5\" >172692.475000</td>\n",
       "      <td id=\"T_9e22a_row5_col6\" class=\"data row5 col6\" >176156.523000</td>\n",
       "      <td id=\"T_9e22a_row5_col7\" class=\"data row5 col7\" >128703.871000</td>\n",
       "      <td id=\"T_9e22a_row5_col8\" class=\"data row5 col8\" >94462.833000</td>\n",
       "      <td id=\"T_9e22a_row5_col9\" class=\"data row5 col9\" >180596.025000</td>\n",
       "      <td id=\"T_9e22a_row5_col10\" class=\"data row5 col10\" >188383.516000</td>\n",
       "      <td id=\"T_9e22a_row5_col11\" class=\"data row5 col11\" >176125.117000</td>\n",
       "    </tr>\n",
       "    <tr>\n",
       "      <th id=\"T_9e22a_level0_row6\" class=\"row_heading level0 row6\" >Nuclear</th>\n",
       "      <td id=\"T_9e22a_row6_col0\" class=\"data row6 col0\" >4848734.117000</td>\n",
       "      <td id=\"T_9e22a_row6_col1\" class=\"data row6 col1\" >4018213.425000</td>\n",
       "      <td id=\"T_9e22a_row6_col2\" class=\"data row6 col2\" >4242623.506000</td>\n",
       "      <td id=\"T_9e22a_row6_col3\" class=\"data row6 col3\" >5160890.875000</td>\n",
       "      <td id=\"T_9e22a_row6_col4\" class=\"data row6 col4\" >5084310.825000</td>\n",
       "      <td id=\"T_9e22a_row6_col5\" class=\"data row6 col5\" >4595234.300000</td>\n",
       "      <td id=\"T_9e22a_row6_col6\" class=\"data row6 col6\" >5105777.575000</td>\n",
       "      <td id=\"T_9e22a_row6_col7\" class=\"data row6 col7\" >4572679.525000</td>\n",
       "      <td id=\"T_9e22a_row6_col8\" class=\"data row6 col8\" >3756453.292000</td>\n",
       "      <td id=\"T_9e22a_row6_col9\" class=\"data row6 col9\" >4037975.917000</td>\n",
       "      <td id=\"T_9e22a_row6_col10\" class=\"data row6 col10\" >5125490.100000</td>\n",
       "      <td id=\"T_9e22a_row6_col11\" class=\"data row6 col11\" >5012412.170000</td>\n",
       "    </tr>\n",
       "    <tr>\n",
       "      <th id=\"T_9e22a_level0_row7\" class=\"row_heading level0 row7\" >Pumped Storage Hydropower</th>\n",
       "      <td id=\"T_9e22a_row7_col0\" class=\"data row7 col0\" >266693.432000</td>\n",
       "      <td id=\"T_9e22a_row7_col1\" class=\"data row7 col1\" >351639.687500</td>\n",
       "      <td id=\"T_9e22a_row7_col2\" class=\"data row7 col2\" >277689.163000</td>\n",
       "      <td id=\"T_9e22a_row7_col3\" class=\"data row7 col3\" >374659.357000</td>\n",
       "      <td id=\"T_9e22a_row7_col4\" class=\"data row7 col4\" >432653.945000</td>\n",
       "      <td id=\"T_9e22a_row7_col5\" class=\"data row7 col5\" >217287.000000</td>\n",
       "      <td id=\"T_9e22a_row7_col6\" class=\"data row7 col6\" >424853.204000</td>\n",
       "      <td id=\"T_9e22a_row7_col7\" class=\"data row7 col7\" >426339.983000</td>\n",
       "      <td id=\"T_9e22a_row7_col8\" class=\"data row7 col8\" >360518.088000</td>\n",
       "      <td id=\"T_9e22a_row7_col9\" class=\"data row7 col9\" >272995.650000</td>\n",
       "      <td id=\"T_9e22a_row7_col10\" class=\"data row7 col10\" >274013.217000</td>\n",
       "      <td id=\"T_9e22a_row7_col11\" class=\"data row7 col11\" >351939.084000</td>\n",
       "    </tr>\n",
       "    <tr>\n",
       "      <th id=\"T_9e22a_level0_row8\" class=\"row_heading level0 row8\" >Renewables Other</th>\n",
       "      <td id=\"T_9e22a_row8_col0\" class=\"data row8 col0\" >353656.073000</td>\n",
       "      <td id=\"T_9e22a_row8_col1\" class=\"data row8 col1\" >375761.705000</td>\n",
       "      <td id=\"T_9e22a_row8_col2\" class=\"data row8 col2\" >376646.552000</td>\n",
       "      <td id=\"T_9e22a_row8_col3\" class=\"data row8 col3\" >335893.488000</td>\n",
       "      <td id=\"T_9e22a_row8_col4\" class=\"data row8 col4\" >302861.605000</td>\n",
       "      <td id=\"T_9e22a_row8_col5\" class=\"data row8 col5\" >362062.750000</td>\n",
       "      <td id=\"T_9e22a_row8_col6\" class=\"data row8 col6\" >317720.598000</td>\n",
       "      <td id=\"T_9e22a_row8_col7\" class=\"data row8 col7\" >282998.420000</td>\n",
       "      <td id=\"T_9e22a_row8_col8\" class=\"data row8 col8\" >342303.780000</td>\n",
       "      <td id=\"T_9e22a_row8_col9\" class=\"data row8 col9\" >332046.054000</td>\n",
       "      <td id=\"T_9e22a_row8_col10\" class=\"data row8 col10\" >332801.973000</td>\n",
       "      <td id=\"T_9e22a_row8_col11\" class=\"data row8 col11\" >348525.661000</td>\n",
       "    </tr>\n",
       "    <tr>\n",
       "      <th id=\"T_9e22a_level0_row9\" class=\"row_heading level0 row9\" >Solar Photovoltaic</th>\n",
       "      <td id=\"T_9e22a_row9_col0\" class=\"data row9 col0\" >2636219.180000</td>\n",
       "      <td id=\"T_9e22a_row9_col1\" class=\"data row9 col1\" >2056758.270000</td>\n",
       "      <td id=\"T_9e22a_row9_col2\" class=\"data row9 col2\" >1535995.490000</td>\n",
       "      <td id=\"T_9e22a_row9_col3\" class=\"data row9 col3\" >1176871.031000</td>\n",
       "      <td id=\"T_9e22a_row9_col4\" class=\"data row9 col4\" >1744956.450000</td>\n",
       "      <td id=\"T_9e22a_row9_col5\" class=\"data row9 col5\" >2181165.122000</td>\n",
       "      <td id=\"T_9e22a_row9_col6\" class=\"data row9 col6\" >2985426.080000</td>\n",
       "      <td id=\"T_9e22a_row9_col7\" class=\"data row9 col7\" >3635891.249000</td>\n",
       "      <td id=\"T_9e22a_row9_col8\" class=\"data row9 col8\" >3803151.814000</td>\n",
       "      <td id=\"T_9e22a_row9_col9\" class=\"data row9 col9\" >3855930.011000</td>\n",
       "      <td id=\"T_9e22a_row9_col10\" class=\"data row9 col10\" >4491017.672000</td>\n",
       "      <td id=\"T_9e22a_row9_col11\" class=\"data row9 col11\" >4403223.582000</td>\n",
       "    </tr>\n",
       "    <tr>\n",
       "      <th id=\"T_9e22a_level0_row10\" class=\"row_heading level0 row10\" >Solar Thermal</th>\n",
       "      <td id=\"T_9e22a_row10_col0\" class=\"data row10 col0\" >443376.236000</td>\n",
       "      <td id=\"T_9e22a_row10_col1\" class=\"data row10 col1\" >192219.608000</td>\n",
       "      <td id=\"T_9e22a_row10_col2\" class=\"data row10 col2\" >113865.200000</td>\n",
       "      <td id=\"T_9e22a_row10_col3\" class=\"data row10 col3\" >67765.475000</td>\n",
       "      <td id=\"T_9e22a_row10_col4\" class=\"data row10 col4\" >129341.585000</td>\n",
       "      <td id=\"T_9e22a_row10_col5\" class=\"data row10 col5\" >189183.825000</td>\n",
       "      <td id=\"T_9e22a_row10_col6\" class=\"data row10 col6\" >416953.986000</td>\n",
       "      <td id=\"T_9e22a_row10_col7\" class=\"data row10 col7\" >645285.245000</td>\n",
       "      <td id=\"T_9e22a_row10_col8\" class=\"data row10 col8\" >518091.793000</td>\n",
       "      <td id=\"T_9e22a_row10_col9\" class=\"data row10 col9\" >581982.910000</td>\n",
       "      <td id=\"T_9e22a_row10_col10\" class=\"data row10 col10\" >800023.053000</td>\n",
       "      <td id=\"T_9e22a_row10_col11\" class=\"data row10 col11\" >757878.191000</td>\n",
       "    </tr>\n",
       "  </tbody>\n",
       "</table>\n"
      ],
      "text/plain": [
       "<pandas.io.formats.style.Styler at 0x234bb6b4350>"
      ]
     },
     "execution_count": 50,
     "metadata": {},
     "output_type": "execute_result"
    }
   ],
   "source": [
    "dff.style"
   ]
  },
  {
   "cell_type": "markdown",
   "id": "8477c380",
   "metadata": {
    "papermill": {
     "duration": 0.012089,
     "end_time": "2024-05-29T22:25:07.615815",
     "exception": false,
     "start_time": "2024-05-29T22:25:07.603726",
     "status": "completed"
    },
    "tags": []
   },
   "source": [
    "### Style DataFrame"
   ]
  },
  {
   "cell_type": "code",
   "execution_count": 55,
   "id": "be3a3f59",
   "metadata": {
    "execution": {
     "iopub.execute_input": "2024-05-29T22:25:07.637923Z",
     "iopub.status.busy": "2024-05-29T22:25:07.637784Z",
     "iopub.status.idle": "2024-05-29T22:25:07.647226Z",
     "shell.execute_reply": "2024-05-29T22:25:07.646878Z"
    },
    "jupyter": {
     "source_hidden": true
    },
    "papermill": {
     "duration": 0.021728,
     "end_time": "2024-05-29T22:25:07.648520",
     "exception": false,
     "start_time": "2024-05-29T22:25:07.626792",
     "status": "completed"
    },
    "tags": []
   },
   "outputs": [
    {
     "data": {
      "text/html": [
       "<style type=\"text/css\">\n",
       "#T_798d0_row0_col0, #T_798d0_row0_col1, #T_798d0_row0_col9, #T_798d0_row1_col10, #T_798d0_row1_col11, #T_798d0_row2_col2, #T_798d0_row2_col3, #T_798d0_row2_col4, #T_798d0_row2_col5, #T_798d0_row2_col6, #T_798d0_row2_col7, #T_798d0_row2_col8 {\n",
       "  background-color: #7f2704;\n",
       "  color: #f1f1f1;\n",
       "}\n",
       "#T_798d0_row0_col2 {\n",
       "  background-color: #f16813;\n",
       "  color: #f1f1f1;\n",
       "}\n",
       "#T_798d0_row0_col3 {\n",
       "  background-color: #e85d0c;\n",
       "  color: #f1f1f1;\n",
       "}\n",
       "#T_798d0_row0_col4 {\n",
       "  background-color: #fdc895;\n",
       "  color: #000000;\n",
       "}\n",
       "#T_798d0_row0_col5 {\n",
       "  background-color: #bd3e02;\n",
       "  color: #f1f1f1;\n",
       "}\n",
       "#T_798d0_row0_col6 {\n",
       "  background-color: #fdad69;\n",
       "  color: #000000;\n",
       "}\n",
       "#T_798d0_row0_col7 {\n",
       "  background-color: #fd974a;\n",
       "  color: #000000;\n",
       "}\n",
       "#T_798d0_row0_col8, #T_798d0_row4_col3 {\n",
       "  background-color: #fd8c3b;\n",
       "  color: #f1f1f1;\n",
       "}\n",
       "#T_798d0_row0_col10 {\n",
       "  background-color: #ad3803;\n",
       "  color: #f1f1f1;\n",
       "}\n",
       "#T_798d0_row0_col11 {\n",
       "  background-color: #a93703;\n",
       "  color: #f1f1f1;\n",
       "}\n",
       "#T_798d0_row1_col0 {\n",
       "  background-color: #ea5f0e;\n",
       "  color: #f1f1f1;\n",
       "}\n",
       "#T_798d0_row1_col1 {\n",
       "  background-color: #f3701b;\n",
       "  color: #f1f1f1;\n",
       "}\n",
       "#T_798d0_row1_col2 {\n",
       "  background-color: #f06712;\n",
       "  color: #f1f1f1;\n",
       "}\n",
       "#T_798d0_row1_col3 {\n",
       "  background-color: #9b3203;\n",
       "  color: #f1f1f1;\n",
       "}\n",
       "#T_798d0_row1_col4 {\n",
       "  background-color: #e75b0b;\n",
       "  color: #f1f1f1;\n",
       "}\n",
       "#T_798d0_row1_col5 {\n",
       "  background-color: #852904;\n",
       "  color: #f1f1f1;\n",
       "}\n",
       "#T_798d0_row1_col6 {\n",
       "  background-color: #d14501;\n",
       "  color: #f1f1f1;\n",
       "}\n",
       "#T_798d0_row1_col7 {\n",
       "  background-color: #902e04;\n",
       "  color: #f1f1f1;\n",
       "}\n",
       "#T_798d0_row1_col8 {\n",
       "  background-color: #e45709;\n",
       "  color: #f1f1f1;\n",
       "}\n",
       "#T_798d0_row1_col9 {\n",
       "  background-color: #802704;\n",
       "  color: #f1f1f1;\n",
       "}\n",
       "#T_798d0_row2_col0 {\n",
       "  background-color: #f87f2c;\n",
       "  color: #f1f1f1;\n",
       "}\n",
       "#T_798d0_row2_col1 {\n",
       "  background-color: #d84801;\n",
       "  color: #f1f1f1;\n",
       "}\n",
       "#T_798d0_row2_col9 {\n",
       "  background-color: #d94801;\n",
       "  color: #f1f1f1;\n",
       "}\n",
       "#T_798d0_row2_col10 {\n",
       "  background-color: #de4e05;\n",
       "  color: #f1f1f1;\n",
       "}\n",
       "#T_798d0_row2_col11 {\n",
       "  background-color: #b83c02;\n",
       "  color: #f1f1f1;\n",
       "}\n",
       "#T_798d0_row3_col0 {\n",
       "  background-color: #fdb576;\n",
       "  color: #000000;\n",
       "}\n",
       "#T_798d0_row3_col1 {\n",
       "  background-color: #fdc590;\n",
       "  color: #000000;\n",
       "}\n",
       "#T_798d0_row3_col2 {\n",
       "  background-color: #fdd6ae;\n",
       "  color: #000000;\n",
       "}\n",
       "#T_798d0_row3_col3 {\n",
       "  background-color: #fdd9b5;\n",
       "  color: #000000;\n",
       "}\n",
       "#T_798d0_row3_col4 {\n",
       "  background-color: #fdd5ad;\n",
       "  color: #000000;\n",
       "}\n",
       "#T_798d0_row3_col5 {\n",
       "  background-color: #fd9c51;\n",
       "  color: #000000;\n",
       "}\n",
       "#T_798d0_row3_col6, #T_798d0_row4_col9 {\n",
       "  background-color: #fd9e54;\n",
       "  color: #000000;\n",
       "}\n",
       "#T_798d0_row3_col7 {\n",
       "  background-color: #da4902;\n",
       "  color: #f1f1f1;\n",
       "}\n",
       "#T_798d0_row3_col8 {\n",
       "  background-color: #e25508;\n",
       "  color: #f1f1f1;\n",
       "}\n",
       "#T_798d0_row3_col9 {\n",
       "  background-color: #8f2d04;\n",
       "  color: #f1f1f1;\n",
       "}\n",
       "#T_798d0_row3_col10, #T_798d0_row3_col11 {\n",
       "  background-color: #a63603;\n",
       "  color: #f1f1f1;\n",
       "}\n",
       "#T_798d0_row4_col0, #T_798d0_row5_col1 {\n",
       "  background-color: #fee2c7;\n",
       "  color: #000000;\n",
       "}\n",
       "#T_798d0_row4_col1 {\n",
       "  background-color: #feebd7;\n",
       "  color: #000000;\n",
       "}\n",
       "#T_798d0_row4_col2 {\n",
       "  background-color: #fddab6;\n",
       "  color: #000000;\n",
       "}\n",
       "#T_798d0_row4_col4 {\n",
       "  background-color: #f98230;\n",
       "  color: #f1f1f1;\n",
       "}\n",
       "#T_798d0_row4_col5 {\n",
       "  background-color: #fb8634;\n",
       "  color: #f1f1f1;\n",
       "}\n",
       "#T_798d0_row4_col6 {\n",
       "  background-color: #fdbe84;\n",
       "  color: #000000;\n",
       "}\n",
       "#T_798d0_row4_col7 {\n",
       "  background-color: #fdb97d;\n",
       "  color: #000000;\n",
       "}\n",
       "#T_798d0_row4_col8 {\n",
       "  background-color: #fdcd9c;\n",
       "  color: #000000;\n",
       "}\n",
       "#T_798d0_row4_col10 {\n",
       "  background-color: #fdd3a9;\n",
       "  color: #000000;\n",
       "}\n",
       "#T_798d0_row4_col11, #T_798d0_row5_col3 {\n",
       "  background-color: #fedcb9;\n",
       "  color: #000000;\n",
       "}\n",
       "#T_798d0_row5_col0 {\n",
       "  background-color: #feebd8;\n",
       "  color: #000000;\n",
       "}\n",
       "#T_798d0_row5_col2 {\n",
       "  background-color: #fdd8b2;\n",
       "  color: #000000;\n",
       "}\n",
       "#T_798d0_row5_col4 {\n",
       "  background-color: #fee2c6;\n",
       "  color: #000000;\n",
       "}\n",
       "#T_798d0_row5_col5 {\n",
       "  background-color: #fdb77a;\n",
       "  color: #000000;\n",
       "}\n",
       "#T_798d0_row5_col6 {\n",
       "  background-color: #fdd1a3;\n",
       "  color: #000000;\n",
       "}\n",
       "#T_798d0_row5_col7, #T_798d0_row5_col8 {\n",
       "  background-color: #fdc088;\n",
       "  color: #000000;\n",
       "}\n",
       "#T_798d0_row5_col9 {\n",
       "  background-color: #fda45d;\n",
       "  color: #000000;\n",
       "}\n",
       "#T_798d0_row5_col10 {\n",
       "  background-color: #fdcb9b;\n",
       "  color: #000000;\n",
       "}\n",
       "#T_798d0_row5_col11 {\n",
       "  background-color: #fdd3a7;\n",
       "  color: #000000;\n",
       "}\n",
       "#T_798d0_row6_col0, #T_798d0_row9_col7 {\n",
       "  background-color: #feeddc;\n",
       "  color: #000000;\n",
       "}\n",
       "#T_798d0_row6_col1, #T_798d0_row6_col8, #T_798d0_row6_col9, #T_798d0_row8_col1, #T_798d0_row8_col10 {\n",
       "  background-color: #fff2e5;\n",
       "  color: #000000;\n",
       "}\n",
       "#T_798d0_row6_col2, #T_798d0_row8_col7 {\n",
       "  background-color: #fff1e4;\n",
       "  color: #000000;\n",
       "}\n",
       "#T_798d0_row6_col3, #T_798d0_row7_col11 {\n",
       "  background-color: #fee7d0;\n",
       "  color: #000000;\n",
       "}\n",
       "#T_798d0_row6_col4, #T_798d0_row6_col7, #T_798d0_row8_col0, #T_798d0_row8_col4, #T_798d0_row9_col1, #T_798d0_row9_col2, #T_798d0_row9_col9 {\n",
       "  background-color: #fff2e6;\n",
       "  color: #000000;\n",
       "}\n",
       "#T_798d0_row6_col5, #T_798d0_row9_col3 {\n",
       "  background-color: #ffeede;\n",
       "  color: #000000;\n",
       "}\n",
       "#T_798d0_row6_col6, #T_798d0_row7_col0, #T_798d0_row7_col6, #T_798d0_row8_col9, #T_798d0_row8_col11, #T_798d0_row9_col6, #T_798d0_row9_col11 {\n",
       "  background-color: #fff1e3;\n",
       "  color: #000000;\n",
       "}\n",
       "#T_798d0_row6_col10, #T_798d0_row8_col6, #T_798d0_row10_col3 {\n",
       "  background-color: #fff3e6;\n",
       "  color: #000000;\n",
       "}\n",
       "#T_798d0_row6_col11, #T_798d0_row8_col3, #T_798d0_row8_col8, #T_798d0_row9_col8 {\n",
       "  background-color: #ffefe0;\n",
       "  color: #000000;\n",
       "}\n",
       "#T_798d0_row7_col1, #T_798d0_row7_col2, #T_798d0_row7_col3, #T_798d0_row7_col4, #T_798d0_row7_col5, #T_798d0_row10_col0, #T_798d0_row10_col1, #T_798d0_row10_col5, #T_798d0_row10_col6, #T_798d0_row10_col7, #T_798d0_row10_col8, #T_798d0_row10_col9, #T_798d0_row10_col10, #T_798d0_row10_col11 {\n",
       "  background-color: #fff5eb;\n",
       "  color: #000000;\n",
       "}\n",
       "#T_798d0_row7_col7 {\n",
       "  background-color: #fee8d2;\n",
       "  color: #000000;\n",
       "}\n",
       "#T_798d0_row7_col8 {\n",
       "  background-color: #feecd9;\n",
       "  color: #000000;\n",
       "}\n",
       "#T_798d0_row7_col9 {\n",
       "  background-color: #fee9d3;\n",
       "  color: #000000;\n",
       "}\n",
       "#T_798d0_row7_col10 {\n",
       "  background-color: #fee6cf;\n",
       "  color: #000000;\n",
       "}\n",
       "#T_798d0_row8_col2, #T_798d0_row8_col5, #T_798d0_row9_col4 {\n",
       "  background-color: #fff0e2;\n",
       "  color: #000000;\n",
       "}\n",
       "#T_798d0_row9_col0 {\n",
       "  background-color: #fff4e8;\n",
       "  color: #000000;\n",
       "}\n",
       "#T_798d0_row9_col5, #T_798d0_row10_col2 {\n",
       "  background-color: #fff4e9;\n",
       "  color: #000000;\n",
       "}\n",
       "#T_798d0_row9_col10 {\n",
       "  background-color: #fff3e7;\n",
       "  color: #000000;\n",
       "}\n",
       "#T_798d0_row10_col4 {\n",
       "  background-color: #fff5ea;\n",
       "  color: #000000;\n",
       "}\n",
       "</style>\n",
       "<table id=\"T_798d0\">\n",
       "  <thead>\n",
       "    <tr>\n",
       "      <th class=\"index_name level0\" >year</th>\n",
       "      <th id=\"T_798d0_level0_col0\" class=\"col_heading level0 col0\" colspan=\"4\">2022</th>\n",
       "      <th id=\"T_798d0_level0_col4\" class=\"col_heading level0 col4\" colspan=\"8\">2023</th>\n",
       "    </tr>\n",
       "    <tr>\n",
       "      <th class=\"index_name level1\" >month</th>\n",
       "      <th id=\"T_798d0_level1_col0\" class=\"col_heading level1 col0\" >9</th>\n",
       "      <th id=\"T_798d0_level1_col1\" class=\"col_heading level1 col1\" >10</th>\n",
       "      <th id=\"T_798d0_level1_col2\" class=\"col_heading level1 col2\" >11</th>\n",
       "      <th id=\"T_798d0_level1_col3\" class=\"col_heading level1 col3\" >12</th>\n",
       "      <th id=\"T_798d0_level1_col4\" class=\"col_heading level1 col4\" >1</th>\n",
       "      <th id=\"T_798d0_level1_col5\" class=\"col_heading level1 col5\" >2</th>\n",
       "      <th id=\"T_798d0_level1_col6\" class=\"col_heading level1 col6\" >3</th>\n",
       "      <th id=\"T_798d0_level1_col7\" class=\"col_heading level1 col7\" >4</th>\n",
       "      <th id=\"T_798d0_level1_col8\" class=\"col_heading level1 col8\" >5</th>\n",
       "      <th id=\"T_798d0_level1_col9\" class=\"col_heading level1 col9\" >6</th>\n",
       "      <th id=\"T_798d0_level1_col10\" class=\"col_heading level1 col10\" >7</th>\n",
       "      <th id=\"T_798d0_level1_col11\" class=\"col_heading level1 col11\" >8</th>\n",
       "    </tr>\n",
       "    <tr>\n",
       "      <th class=\"index_name level0\" >technology</th>\n",
       "      <th class=\"blank col0\" >&nbsp;</th>\n",
       "      <th class=\"blank col1\" >&nbsp;</th>\n",
       "      <th class=\"blank col2\" >&nbsp;</th>\n",
       "      <th class=\"blank col3\" >&nbsp;</th>\n",
       "      <th class=\"blank col4\" >&nbsp;</th>\n",
       "      <th class=\"blank col5\" >&nbsp;</th>\n",
       "      <th class=\"blank col6\" >&nbsp;</th>\n",
       "      <th class=\"blank col7\" >&nbsp;</th>\n",
       "      <th class=\"blank col8\" >&nbsp;</th>\n",
       "      <th class=\"blank col9\" >&nbsp;</th>\n",
       "      <th class=\"blank col10\" >&nbsp;</th>\n",
       "      <th class=\"blank col11\" >&nbsp;</th>\n",
       "    </tr>\n",
       "  </thead>\n",
       "  <tbody>\n",
       "    <tr>\n",
       "      <th id=\"T_798d0_level0_row0\" class=\"row_heading level0 row0\" >Combined Cycle (Gas)</th>\n",
       "      <td id=\"T_798d0_row0_col0\" class=\"data row0 col0\" >7.24</td>\n",
       "      <td id=\"T_798d0_row0_col1\" class=\"data row0 col1\" >6.58</td>\n",
       "      <td id=\"T_798d0_row0_col2\" class=\"data row0 col2\" >4.23</td>\n",
       "      <td id=\"T_798d0_row0_col3\" class=\"data row0 col3\" >3.81</td>\n",
       "      <td id=\"T_798d0_row0_col4\" class=\"data row0 col4\" >2.15</td>\n",
       "      <td id=\"T_798d0_row0_col5\" class=\"data row0 col5\" >3.88</td>\n",
       "      <td id=\"T_798d0_row0_col6\" class=\"data row0 col6\" >2.62</td>\n",
       "      <td id=\"T_798d0_row0_col7\" class=\"data row0 col7\" >2.31</td>\n",
       "      <td id=\"T_798d0_row0_col8\" class=\"data row0 col8\" >2.75</td>\n",
       "      <td id=\"T_798d0_row0_col9\" class=\"data row0 col9\" >4.06</td>\n",
       "      <td id=\"T_798d0_row0_col10\" class=\"data row0 col10\" >4.41</td>\n",
       "      <td id=\"T_798d0_row0_col11\" class=\"data row0 col11\" >4.36</td>\n",
       "    </tr>\n",
       "    <tr>\n",
       "      <th id=\"T_798d0_level0_row1\" class=\"row_heading level0 row1\" >Nuclear</th>\n",
       "      <td id=\"T_798d0_row1_col0\" class=\"data row1 col0\" >4.85</td>\n",
       "      <td id=\"T_798d0_row1_col1\" class=\"data row1 col1\" >4.02</td>\n",
       "      <td id=\"T_798d0_row1_col2\" class=\"data row1 col2\" >4.24</td>\n",
       "      <td id=\"T_798d0_row1_col3\" class=\"data row1 col3\" >5.16</td>\n",
       "      <td id=\"T_798d0_row1_col4\" class=\"data row1 col4\" >5.08</td>\n",
       "      <td id=\"T_798d0_row1_col5\" class=\"data row1 col5\" >4.60</td>\n",
       "      <td id=\"T_798d0_row1_col6\" class=\"data row1 col6\" >5.11</td>\n",
       "      <td id=\"T_798d0_row1_col7\" class=\"data row1 col7\" >4.57</td>\n",
       "      <td id=\"T_798d0_row1_col8\" class=\"data row1 col8\" >3.76</td>\n",
       "      <td id=\"T_798d0_row1_col9\" class=\"data row1 col9\" >4.04</td>\n",
       "      <td id=\"T_798d0_row1_col10\" class=\"data row1 col10\" >5.13</td>\n",
       "      <td id=\"T_798d0_row1_col11\" class=\"data row1 col11\" >5.01</td>\n",
       "    </tr>\n",
       "    <tr>\n",
       "      <th id=\"T_798d0_level0_row2\" class=\"row_heading level0 row2\" >Eolic</th>\n",
       "      <td id=\"T_798d0_row2_col0\" class=\"data row2 col0\" >4.06</td>\n",
       "      <td id=\"T_798d0_row2_col1\" class=\"data row2 col1\" >5.00</td>\n",
       "      <td id=\"T_798d0_row2_col2\" class=\"data row2 col2\" >6.66</td>\n",
       "      <td id=\"T_798d0_row2_col3\" class=\"data row2 col3\" >5.67</td>\n",
       "      <td id=\"T_798d0_row2_col4\" class=\"data row2 col4\" >7.43</td>\n",
       "      <td id=\"T_798d0_row2_col5\" class=\"data row2 col5\" >4.70</td>\n",
       "      <td id=\"T_798d0_row2_col6\" class=\"data row2 col6\" >6.60</td>\n",
       "      <td id=\"T_798d0_row2_col7\" class=\"data row2 col7\" >4.84</td>\n",
       "      <td id=\"T_798d0_row2_col8\" class=\"data row2 col8\" >5.37</td>\n",
       "      <td id=\"T_798d0_row2_col9\" class=\"data row2 col9\" >3.08</td>\n",
       "      <td id=\"T_798d0_row2_col10\" class=\"data row2 col10\" >3.76</td>\n",
       "      <td id=\"T_798d0_row2_col11\" class=\"data row2 col11\" >4.20</td>\n",
       "    </tr>\n",
       "    <tr>\n",
       "      <th id=\"T_798d0_level0_row3\" class=\"row_heading level0 row3\" >Solar Photovoltaic</th>\n",
       "      <td id=\"T_798d0_row3_col0\" class=\"data row3 col0\" >2.64</td>\n",
       "      <td id=\"T_798d0_row3_col1\" class=\"data row3 col1\" >2.06</td>\n",
       "      <td id=\"T_798d0_row3_col2\" class=\"data row3 col2\" >1.54</td>\n",
       "      <td id=\"T_798d0_row3_col3\" class=\"data row3 col3\" >1.18</td>\n",
       "      <td id=\"T_798d0_row3_col4\" class=\"data row3 col4\" >1.74</td>\n",
       "      <td id=\"T_798d0_row3_col5\" class=\"data row3 col5\" >2.18</td>\n",
       "      <td id=\"T_798d0_row3_col6\" class=\"data row3 col6\" >2.99</td>\n",
       "      <td id=\"T_798d0_row3_col7\" class=\"data row3 col7\" >3.64</td>\n",
       "      <td id=\"T_798d0_row3_col8\" class=\"data row3 col8\" >3.80</td>\n",
       "      <td id=\"T_798d0_row3_col9\" class=\"data row3 col9\" >3.86</td>\n",
       "      <td id=\"T_798d0_row3_col10\" class=\"data row3 col10\" >4.49</td>\n",
       "      <td id=\"T_798d0_row3_col11\" class=\"data row3 col11\" >4.40</td>\n",
       "    </tr>\n",
       "    <tr>\n",
       "      <th id=\"T_798d0_level0_row4\" class=\"row_heading level0 row4\" >Hydraulic</th>\n",
       "      <td id=\"T_798d0_row4_col0\" class=\"data row4 col0\" >1.20</td>\n",
       "      <td id=\"T_798d0_row4_col1\" class=\"data row4 col1\" >0.77</td>\n",
       "      <td id=\"T_798d0_row4_col2\" class=\"data row4 col2\" >1.39</td>\n",
       "      <td id=\"T_798d0_row4_col3\" class=\"data row4 col3\" >2.89</td>\n",
       "      <td id=\"T_798d0_row4_col4\" class=\"data row4 col4\" >4.04</td>\n",
       "      <td id=\"T_798d0_row4_col5\" class=\"data row4 col5\" >2.55</td>\n",
       "      <td id=\"T_798d0_row4_col6\" class=\"data row4 col6\" >2.21</td>\n",
       "      <td id=\"T_798d0_row4_col7\" class=\"data row4 col7\" >1.70</td>\n",
       "      <td id=\"T_798d0_row4_col8\" class=\"data row4 col8\" >1.48</td>\n",
       "      <td id=\"T_798d0_row4_col9\" class=\"data row4 col9\" >1.88</td>\n",
       "      <td id=\"T_798d0_row4_col10\" class=\"data row4 col10\" >1.35</td>\n",
       "      <td id=\"T_798d0_row4_col11\" class=\"data row4 col11\" >1.07</td>\n",
       "    </tr>\n",
       "    <tr>\n",
       "      <th id=\"T_798d0_level0_row5\" class=\"row_heading level0 row5\" >Cogeneration</th>\n",
       "      <td id=\"T_798d0_row5_col0\" class=\"data row5 col0\" >0.76</td>\n",
       "      <td id=\"T_798d0_row5_col1\" class=\"data row5 col1\" >1.12</td>\n",
       "      <td id=\"T_798d0_row5_col2\" class=\"data row5 col2\" >1.45</td>\n",
       "      <td id=\"T_798d0_row5_col3\" class=\"data row5 col3\" >1.11</td>\n",
       "      <td id=\"T_798d0_row5_col4\" class=\"data row5 col4\" >1.22</td>\n",
       "      <td id=\"T_798d0_row5_col5\" class=\"data row5 col5\" >1.72</td>\n",
       "      <td id=\"T_798d0_row5_col6\" class=\"data row5 col6\" >1.77</td>\n",
       "      <td id=\"T_798d0_row5_col7\" class=\"data row5 col7\" >1.59</td>\n",
       "      <td id=\"T_798d0_row5_col8\" class=\"data row5 col8\" >1.72</td>\n",
       "      <td id=\"T_798d0_row5_col9\" class=\"data row5 col9\" >1.78</td>\n",
       "      <td id=\"T_798d0_row5_col10\" class=\"data row5 col10\" >1.51</td>\n",
       "      <td id=\"T_798d0_row5_col11\" class=\"data row5 col11\" >1.32</td>\n",
       "    </tr>\n",
       "    <tr>\n",
       "      <th id=\"T_798d0_level0_row6\" class=\"row_heading level0 row6\" >Coal</th>\n",
       "      <td id=\"T_798d0_row6_col0\" class=\"data row6 col0\" >0.64</td>\n",
       "      <td id=\"T_798d0_row6_col1\" class=\"data row6 col1\" >0.39</td>\n",
       "      <td id=\"T_798d0_row6_col2\" class=\"data row6 col2\" >0.34</td>\n",
       "      <td id=\"T_798d0_row6_col3\" class=\"data row6 col3\" >0.73</td>\n",
       "      <td id=\"T_798d0_row6_col4\" class=\"data row6 col4\" >0.32</td>\n",
       "      <td id=\"T_798d0_row6_col5\" class=\"data row6 col5\" >0.43</td>\n",
       "      <td id=\"T_798d0_row6_col6\" class=\"data row6 col6\" >0.41</td>\n",
       "      <td id=\"T_798d0_row6_col7\" class=\"data row6 col7\" >0.25</td>\n",
       "      <td id=\"T_798d0_row6_col8\" class=\"data row6 col8\" >0.25</td>\n",
       "      <td id=\"T_798d0_row6_col9\" class=\"data row6 col9\" >0.30</td>\n",
       "      <td id=\"T_798d0_row6_col10\" class=\"data row6 col10\" >0.29</td>\n",
       "      <td id=\"T_798d0_row6_col11\" class=\"data row6 col11\" >0.42</td>\n",
       "    </tr>\n",
       "    <tr>\n",
       "      <th id=\"T_798d0_level0_row7\" class=\"row_heading level0 row7\" >Solar Thermal</th>\n",
       "      <td id=\"T_798d0_row7_col0\" class=\"data row7 col0\" >0.44</td>\n",
       "      <td id=\"T_798d0_row7_col1\" class=\"data row7 col1\" >0.19</td>\n",
       "      <td id=\"T_798d0_row7_col2\" class=\"data row7 col2\" >0.11</td>\n",
       "      <td id=\"T_798d0_row7_col3\" class=\"data row7 col3\" >0.07</td>\n",
       "      <td id=\"T_798d0_row7_col4\" class=\"data row7 col4\" >0.13</td>\n",
       "      <td id=\"T_798d0_row7_col5\" class=\"data row7 col5\" >0.19</td>\n",
       "      <td id=\"T_798d0_row7_col6\" class=\"data row7 col6\" >0.42</td>\n",
       "      <td id=\"T_798d0_row7_col7\" class=\"data row7 col7\" >0.65</td>\n",
       "      <td id=\"T_798d0_row7_col8\" class=\"data row7 col8\" >0.52</td>\n",
       "      <td id=\"T_798d0_row7_col9\" class=\"data row7 col9\" >0.58</td>\n",
       "      <td id=\"T_798d0_row7_col10\" class=\"data row7 col10\" >0.80</td>\n",
       "      <td id=\"T_798d0_row7_col11\" class=\"data row7 col11\" >0.76</td>\n",
       "    </tr>\n",
       "    <tr>\n",
       "      <th id=\"T_798d0_level0_row8\" class=\"row_heading level0 row8\" >Renewables Other</th>\n",
       "      <td id=\"T_798d0_row8_col0\" class=\"data row8 col0\" >0.35</td>\n",
       "      <td id=\"T_798d0_row8_col1\" class=\"data row8 col1\" >0.38</td>\n",
       "      <td id=\"T_798d0_row8_col2\" class=\"data row8 col2\" >0.38</td>\n",
       "      <td id=\"T_798d0_row8_col3\" class=\"data row8 col3\" >0.34</td>\n",
       "      <td id=\"T_798d0_row8_col4\" class=\"data row8 col4\" >0.30</td>\n",
       "      <td id=\"T_798d0_row8_col5\" class=\"data row8 col5\" >0.36</td>\n",
       "      <td id=\"T_798d0_row8_col6\" class=\"data row8 col6\" >0.32</td>\n",
       "      <td id=\"T_798d0_row8_col7\" class=\"data row8 col7\" >0.28</td>\n",
       "      <td id=\"T_798d0_row8_col8\" class=\"data row8 col8\" >0.34</td>\n",
       "      <td id=\"T_798d0_row8_col9\" class=\"data row8 col9\" >0.33</td>\n",
       "      <td id=\"T_798d0_row8_col10\" class=\"data row8 col10\" >0.33</td>\n",
       "      <td id=\"T_798d0_row8_col11\" class=\"data row8 col11\" >0.35</td>\n",
       "    </tr>\n",
       "    <tr>\n",
       "      <th id=\"T_798d0_level0_row9\" class=\"row_heading level0 row9\" >Pumped Storage Hydropower</th>\n",
       "      <td id=\"T_798d0_row9_col0\" class=\"data row9 col0\" >0.27</td>\n",
       "      <td id=\"T_798d0_row9_col1\" class=\"data row9 col1\" >0.35</td>\n",
       "      <td id=\"T_798d0_row9_col2\" class=\"data row9 col2\" >0.28</td>\n",
       "      <td id=\"T_798d0_row9_col3\" class=\"data row9 col3\" >0.37</td>\n",
       "      <td id=\"T_798d0_row9_col4\" class=\"data row9 col4\" >0.43</td>\n",
       "      <td id=\"T_798d0_row9_col5\" class=\"data row9 col5\" >0.22</td>\n",
       "      <td id=\"T_798d0_row9_col6\" class=\"data row9 col6\" >0.42</td>\n",
       "      <td id=\"T_798d0_row9_col7\" class=\"data row9 col7\" >0.43</td>\n",
       "      <td id=\"T_798d0_row9_col8\" class=\"data row9 col8\" >0.36</td>\n",
       "      <td id=\"T_798d0_row9_col9\" class=\"data row9 col9\" >0.27</td>\n",
       "      <td id=\"T_798d0_row9_col10\" class=\"data row9 col10\" >0.27</td>\n",
       "      <td id=\"T_798d0_row9_col11\" class=\"data row9 col11\" >0.35</td>\n",
       "    </tr>\n",
       "    <tr>\n",
       "      <th id=\"T_798d0_level0_row10\" class=\"row_heading level0 row10\" >Non-Renewable Residues</th>\n",
       "      <td id=\"T_798d0_row10_col0\" class=\"data row10 col0\" >0.17</td>\n",
       "      <td id=\"T_798d0_row10_col1\" class=\"data row10 col1\" >0.21</td>\n",
       "      <td id=\"T_798d0_row10_col2\" class=\"data row10 col2\" >0.17</td>\n",
       "      <td id=\"T_798d0_row10_col3\" class=\"data row10 col3\" >0.19</td>\n",
       "      <td id=\"T_798d0_row10_col4\" class=\"data row10 col4\" >0.16</td>\n",
       "      <td id=\"T_798d0_row10_col5\" class=\"data row10 col5\" >0.17</td>\n",
       "      <td id=\"T_798d0_row10_col6\" class=\"data row10 col6\" >0.18</td>\n",
       "      <td id=\"T_798d0_row10_col7\" class=\"data row10 col7\" >0.13</td>\n",
       "      <td id=\"T_798d0_row10_col8\" class=\"data row10 col8\" >0.09</td>\n",
       "      <td id=\"T_798d0_row10_col9\" class=\"data row10 col9\" >0.18</td>\n",
       "      <td id=\"T_798d0_row10_col10\" class=\"data row10 col10\" >0.19</td>\n",
       "      <td id=\"T_798d0_row10_col11\" class=\"data row10 col11\" >0.18</td>\n",
       "    </tr>\n",
       "  </tbody>\n",
       "</table>\n"
      ],
      "text/plain": [
       "<pandas.io.formats.style.Styler at 0x234bd47ab90>"
      ]
     },
     "execution_count": 55,
     "metadata": {},
     "output_type": "execute_result"
    }
   ],
   "source": [
    "dff.div(1000000).sort_values(by=(2022,9),ascending=False).style.background_gradient(cmap='Oranges').format(precision=2)"
   ]
  },
  {
   "cell_type": "code",
   "execution_count": null,
   "id": "1b0a12e6",
   "metadata": {
    "execution": {
     "iopub.execute_input": "2024-05-29T22:25:07.671318Z",
     "iopub.status.busy": "2024-05-29T22:25:07.671190Z",
     "iopub.status.idle": "2024-05-29T22:25:07.681462Z",
     "shell.execute_reply": "2024-05-29T22:25:07.681221Z"
    },
    "jupyter": {
     "source_hidden": true
    },
    "papermill": {
     "duration": 0.022338,
     "end_time": "2024-05-29T22:25:07.682195",
     "exception": false,
     "start_time": "2024-05-29T22:25:07.659857",
     "status": "completed"
    },
    "tags": []
   },
   "outputs": [
    {
     "data": {
      "text/html": [
       "<style type=\"text/css\">\n",
       "#T_6e824_row0_col0 {\n",
       "  background-color: #f87f2c;\n",
       "  color: #f1f1f1;\n",
       "}\n",
       "#T_6e824_row0_col1 {\n",
       "  background-color: #d84801;\n",
       "  color: #f1f1f1;\n",
       "}\n",
       "#T_6e824_row0_col2, #T_6e824_row0_col3, #T_6e824_row0_col4, #T_6e824_row0_col5, #T_6e824_row0_col6, #T_6e824_row0_col7, #T_6e824_row0_col8, #T_6e824_row1_col10, #T_6e824_row1_col11, #T_6e824_row3_col0, #T_6e824_row3_col1, #T_6e824_row3_col9 {\n",
       "  background-color: #7f2704;\n",
       "  color: #f1f1f1;\n",
       "}\n",
       "#T_6e824_row0_col9 {\n",
       "  background-color: #d94801;\n",
       "  color: #f1f1f1;\n",
       "}\n",
       "#T_6e824_row0_col10 {\n",
       "  background-color: #de4e05;\n",
       "  color: #f1f1f1;\n",
       "}\n",
       "#T_6e824_row0_col11 {\n",
       "  background-color: #b83c02;\n",
       "  color: #f1f1f1;\n",
       "}\n",
       "#T_6e824_row1_col0 {\n",
       "  background-color: #ea5f0e;\n",
       "  color: #f1f1f1;\n",
       "}\n",
       "#T_6e824_row1_col1 {\n",
       "  background-color: #f3701b;\n",
       "  color: #f1f1f1;\n",
       "}\n",
       "#T_6e824_row1_col2 {\n",
       "  background-color: #f06712;\n",
       "  color: #f1f1f1;\n",
       "}\n",
       "#T_6e824_row1_col3 {\n",
       "  background-color: #9b3203;\n",
       "  color: #f1f1f1;\n",
       "}\n",
       "#T_6e824_row1_col4 {\n",
       "  background-color: #e75b0b;\n",
       "  color: #f1f1f1;\n",
       "}\n",
       "#T_6e824_row1_col5 {\n",
       "  background-color: #852904;\n",
       "  color: #f1f1f1;\n",
       "}\n",
       "#T_6e824_row1_col6 {\n",
       "  background-color: #d14501;\n",
       "  color: #f1f1f1;\n",
       "}\n",
       "#T_6e824_row1_col7 {\n",
       "  background-color: #902e04;\n",
       "  color: #f1f1f1;\n",
       "}\n",
       "#T_6e824_row1_col8 {\n",
       "  background-color: #e45709;\n",
       "  color: #f1f1f1;\n",
       "}\n",
       "#T_6e824_row1_col9 {\n",
       "  background-color: #802704;\n",
       "  color: #f1f1f1;\n",
       "}\n",
       "#T_6e824_row2_col0, #T_6e824_row5_col1 {\n",
       "  background-color: #fee2c7;\n",
       "  color: #000000;\n",
       "}\n",
       "#T_6e824_row2_col1 {\n",
       "  background-color: #feebd7;\n",
       "  color: #000000;\n",
       "}\n",
       "#T_6e824_row2_col2 {\n",
       "  background-color: #fddab6;\n",
       "  color: #000000;\n",
       "}\n",
       "#T_6e824_row2_col3, #T_6e824_row3_col8 {\n",
       "  background-color: #fd8c3b;\n",
       "  color: #f1f1f1;\n",
       "}\n",
       "#T_6e824_row2_col4 {\n",
       "  background-color: #f98230;\n",
       "  color: #f1f1f1;\n",
       "}\n",
       "#T_6e824_row2_col5 {\n",
       "  background-color: #fb8634;\n",
       "  color: #f1f1f1;\n",
       "}\n",
       "#T_6e824_row2_col6 {\n",
       "  background-color: #fdbe84;\n",
       "  color: #000000;\n",
       "}\n",
       "#T_6e824_row2_col7 {\n",
       "  background-color: #fdb97d;\n",
       "  color: #000000;\n",
       "}\n",
       "#T_6e824_row2_col8 {\n",
       "  background-color: #fdcd9c;\n",
       "  color: #000000;\n",
       "}\n",
       "#T_6e824_row2_col9, #T_6e824_row4_col6 {\n",
       "  background-color: #fd9e54;\n",
       "  color: #000000;\n",
       "}\n",
       "#T_6e824_row2_col10 {\n",
       "  background-color: #fdd3a9;\n",
       "  color: #000000;\n",
       "}\n",
       "#T_6e824_row2_col11, #T_6e824_row5_col3 {\n",
       "  background-color: #fedcb9;\n",
       "  color: #000000;\n",
       "}\n",
       "#T_6e824_row3_col2 {\n",
       "  background-color: #f16813;\n",
       "  color: #f1f1f1;\n",
       "}\n",
       "#T_6e824_row3_col3 {\n",
       "  background-color: #e85d0c;\n",
       "  color: #f1f1f1;\n",
       "}\n",
       "#T_6e824_row3_col4 {\n",
       "  background-color: #fdc895;\n",
       "  color: #000000;\n",
       "}\n",
       "#T_6e824_row3_col5 {\n",
       "  background-color: #bd3e02;\n",
       "  color: #f1f1f1;\n",
       "}\n",
       "#T_6e824_row3_col6 {\n",
       "  background-color: #fdad69;\n",
       "  color: #000000;\n",
       "}\n",
       "#T_6e824_row3_col7 {\n",
       "  background-color: #fd974a;\n",
       "  color: #000000;\n",
       "}\n",
       "#T_6e824_row3_col10 {\n",
       "  background-color: #ad3803;\n",
       "  color: #f1f1f1;\n",
       "}\n",
       "#T_6e824_row3_col11 {\n",
       "  background-color: #a93703;\n",
       "  color: #f1f1f1;\n",
       "}\n",
       "#T_6e824_row4_col0 {\n",
       "  background-color: #fdb576;\n",
       "  color: #000000;\n",
       "}\n",
       "#T_6e824_row4_col1 {\n",
       "  background-color: #fdc590;\n",
       "  color: #000000;\n",
       "}\n",
       "#T_6e824_row4_col2 {\n",
       "  background-color: #fdd6ae;\n",
       "  color: #000000;\n",
       "}\n",
       "#T_6e824_row4_col3 {\n",
       "  background-color: #fdd9b5;\n",
       "  color: #000000;\n",
       "}\n",
       "#T_6e824_row4_col4 {\n",
       "  background-color: #fdd5ad;\n",
       "  color: #000000;\n",
       "}\n",
       "#T_6e824_row4_col5 {\n",
       "  background-color: #fd9c51;\n",
       "  color: #000000;\n",
       "}\n",
       "#T_6e824_row4_col7 {\n",
       "  background-color: #da4902;\n",
       "  color: #f1f1f1;\n",
       "}\n",
       "#T_6e824_row4_col8 {\n",
       "  background-color: #e25508;\n",
       "  color: #f1f1f1;\n",
       "}\n",
       "#T_6e824_row4_col9 {\n",
       "  background-color: #8f2d04;\n",
       "  color: #f1f1f1;\n",
       "}\n",
       "#T_6e824_row4_col10, #T_6e824_row4_col11 {\n",
       "  background-color: #a63603;\n",
       "  color: #f1f1f1;\n",
       "}\n",
       "#T_6e824_row5_col0 {\n",
       "  background-color: #feebd8;\n",
       "  color: #000000;\n",
       "}\n",
       "#T_6e824_row5_col2 {\n",
       "  background-color: #fdd8b2;\n",
       "  color: #000000;\n",
       "}\n",
       "#T_6e824_row5_col4 {\n",
       "  background-color: #fee2c6;\n",
       "  color: #000000;\n",
       "}\n",
       "#T_6e824_row5_col5 {\n",
       "  background-color: #fdb77a;\n",
       "  color: #000000;\n",
       "}\n",
       "#T_6e824_row5_col6 {\n",
       "  background-color: #fdd1a3;\n",
       "  color: #000000;\n",
       "}\n",
       "#T_6e824_row5_col7, #T_6e824_row5_col8 {\n",
       "  background-color: #fdc088;\n",
       "  color: #000000;\n",
       "}\n",
       "#T_6e824_row5_col9 {\n",
       "  background-color: #fda45d;\n",
       "  color: #000000;\n",
       "}\n",
       "#T_6e824_row5_col10 {\n",
       "  background-color: #fdcb9b;\n",
       "  color: #000000;\n",
       "}\n",
       "#T_6e824_row5_col11 {\n",
       "  background-color: #fdd3a7;\n",
       "  color: #000000;\n",
       "}\n",
       "#T_6e824_row6_col0 {\n",
       "  background-color: #fff4e8;\n",
       "  color: #000000;\n",
       "}\n",
       "#T_6e824_row6_col1, #T_6e824_row6_col2, #T_6e824_row6_col9, #T_6e824_row7_col4, #T_6e824_row7_col7, #T_6e824_row8_col0, #T_6e824_row8_col4 {\n",
       "  background-color: #fff2e6;\n",
       "  color: #000000;\n",
       "}\n",
       "#T_6e824_row6_col3, #T_6e824_row7_col5 {\n",
       "  background-color: #ffeede;\n",
       "  color: #000000;\n",
       "}\n",
       "#T_6e824_row6_col4, #T_6e824_row8_col2, #T_6e824_row8_col5 {\n",
       "  background-color: #fff0e2;\n",
       "  color: #000000;\n",
       "}\n",
       "#T_6e824_row6_col5, #T_6e824_row9_col2 {\n",
       "  background-color: #fff4e9;\n",
       "  color: #000000;\n",
       "}\n",
       "#T_6e824_row6_col6, #T_6e824_row6_col11, #T_6e824_row7_col6, #T_6e824_row8_col9, #T_6e824_row8_col11, #T_6e824_row10_col0, #T_6e824_row10_col6 {\n",
       "  background-color: #fff1e3;\n",
       "  color: #000000;\n",
       "}\n",
       "#T_6e824_row6_col7, #T_6e824_row7_col0 {\n",
       "  background-color: #feeddc;\n",
       "  color: #000000;\n",
       "}\n",
       "#T_6e824_row6_col8, #T_6e824_row7_col11, #T_6e824_row8_col3, #T_6e824_row8_col8 {\n",
       "  background-color: #ffefe0;\n",
       "  color: #000000;\n",
       "}\n",
       "#T_6e824_row6_col10 {\n",
       "  background-color: #fff3e7;\n",
       "  color: #000000;\n",
       "}\n",
       "#T_6e824_row7_col1, #T_6e824_row7_col8, #T_6e824_row7_col9, #T_6e824_row8_col1, #T_6e824_row8_col10 {\n",
       "  background-color: #fff2e5;\n",
       "  color: #000000;\n",
       "}\n",
       "#T_6e824_row7_col2, #T_6e824_row8_col7 {\n",
       "  background-color: #fff1e4;\n",
       "  color: #000000;\n",
       "}\n",
       "#T_6e824_row7_col3, #T_6e824_row10_col11 {\n",
       "  background-color: #fee7d0;\n",
       "  color: #000000;\n",
       "}\n",
       "#T_6e824_row7_col10, #T_6e824_row8_col6, #T_6e824_row9_col3 {\n",
       "  background-color: #fff3e6;\n",
       "  color: #000000;\n",
       "}\n",
       "#T_6e824_row9_col0, #T_6e824_row9_col1, #T_6e824_row9_col5, #T_6e824_row9_col6, #T_6e824_row9_col7, #T_6e824_row9_col8, #T_6e824_row9_col9, #T_6e824_row9_col10, #T_6e824_row9_col11, #T_6e824_row10_col1, #T_6e824_row10_col2, #T_6e824_row10_col3, #T_6e824_row10_col4, #T_6e824_row10_col5 {\n",
       "  background-color: #fff5eb;\n",
       "  color: #000000;\n",
       "}\n",
       "#T_6e824_row9_col4 {\n",
       "  background-color: #fff5ea;\n",
       "  color: #000000;\n",
       "}\n",
       "#T_6e824_row10_col7 {\n",
       "  background-color: #fee8d2;\n",
       "  color: #000000;\n",
       "}\n",
       "#T_6e824_row10_col8 {\n",
       "  background-color: #feecd9;\n",
       "  color: #000000;\n",
       "}\n",
       "#T_6e824_row10_col9 {\n",
       "  background-color: #fee9d3;\n",
       "  color: #000000;\n",
       "}\n",
       "#T_6e824_row10_col10 {\n",
       "  background-color: #fee6cf;\n",
       "  color: #000000;\n",
       "}\n",
       "</style>\n",
       "<table id=\"T_6e824\">\n",
       "  <thead>\n",
       "    <tr>\n",
       "      <th class=\"index_name level0\" >year</th>\n",
       "      <th id=\"T_6e824_level0_col0\" class=\"col_heading level0 col0\" colspan=\"4\">2022</th>\n",
       "      <th id=\"T_6e824_level0_col4\" class=\"col_heading level0 col4\" colspan=\"8\">2023</th>\n",
       "    </tr>\n",
       "    <tr>\n",
       "      <th class=\"index_name level1\" >month</th>\n",
       "      <th id=\"T_6e824_level1_col0\" class=\"col_heading level1 col0\" >9</th>\n",
       "      <th id=\"T_6e824_level1_col1\" class=\"col_heading level1 col1\" >10</th>\n",
       "      <th id=\"T_6e824_level1_col2\" class=\"col_heading level1 col2\" >11</th>\n",
       "      <th id=\"T_6e824_level1_col3\" class=\"col_heading level1 col3\" >12</th>\n",
       "      <th id=\"T_6e824_level1_col4\" class=\"col_heading level1 col4\" >1</th>\n",
       "      <th id=\"T_6e824_level1_col5\" class=\"col_heading level1 col5\" >2</th>\n",
       "      <th id=\"T_6e824_level1_col6\" class=\"col_heading level1 col6\" >3</th>\n",
       "      <th id=\"T_6e824_level1_col7\" class=\"col_heading level1 col7\" >4</th>\n",
       "      <th id=\"T_6e824_level1_col8\" class=\"col_heading level1 col8\" >5</th>\n",
       "      <th id=\"T_6e824_level1_col9\" class=\"col_heading level1 col9\" >6</th>\n",
       "      <th id=\"T_6e824_level1_col10\" class=\"col_heading level1 col10\" >7</th>\n",
       "      <th id=\"T_6e824_level1_col11\" class=\"col_heading level1 col11\" >8</th>\n",
       "    </tr>\n",
       "    <tr>\n",
       "      <th class=\"index_name level0\" >technology</th>\n",
       "      <th class=\"blank col0\" >&nbsp;</th>\n",
       "      <th class=\"blank col1\" >&nbsp;</th>\n",
       "      <th class=\"blank col2\" >&nbsp;</th>\n",
       "      <th class=\"blank col3\" >&nbsp;</th>\n",
       "      <th class=\"blank col4\" >&nbsp;</th>\n",
       "      <th class=\"blank col5\" >&nbsp;</th>\n",
       "      <th class=\"blank col6\" >&nbsp;</th>\n",
       "      <th class=\"blank col7\" >&nbsp;</th>\n",
       "      <th class=\"blank col8\" >&nbsp;</th>\n",
       "      <th class=\"blank col9\" >&nbsp;</th>\n",
       "      <th class=\"blank col10\" >&nbsp;</th>\n",
       "      <th class=\"blank col11\" >&nbsp;</th>\n",
       "    </tr>\n",
       "  </thead>\n",
       "  <tbody>\n",
       "    <tr>\n",
       "      <th id=\"T_6e824_level0_row0\" class=\"row_heading level0 row0\" >Eolic</th>\n",
       "      <td id=\"T_6e824_row0_col0\" class=\"data row0 col0\" >4.06</td>\n",
       "      <td id=\"T_6e824_row0_col1\" class=\"data row0 col1\" >5.00</td>\n",
       "      <td id=\"T_6e824_row0_col2\" class=\"data row0 col2\" >6.66</td>\n",
       "      <td id=\"T_6e824_row0_col3\" class=\"data row0 col3\" >5.67</td>\n",
       "      <td id=\"T_6e824_row0_col4\" class=\"data row0 col4\" >7.43</td>\n",
       "      <td id=\"T_6e824_row0_col5\" class=\"data row0 col5\" >4.70</td>\n",
       "      <td id=\"T_6e824_row0_col6\" class=\"data row0 col6\" >6.60</td>\n",
       "      <td id=\"T_6e824_row0_col7\" class=\"data row0 col7\" >4.84</td>\n",
       "      <td id=\"T_6e824_row0_col8\" class=\"data row0 col8\" >5.37</td>\n",
       "      <td id=\"T_6e824_row0_col9\" class=\"data row0 col9\" >3.08</td>\n",
       "      <td id=\"T_6e824_row0_col10\" class=\"data row0 col10\" >3.76</td>\n",
       "      <td id=\"T_6e824_row0_col11\" class=\"data row0 col11\" >4.20</td>\n",
       "    </tr>\n",
       "    <tr>\n",
       "      <th id=\"T_6e824_level0_row1\" class=\"row_heading level0 row1\" >Nuclear</th>\n",
       "      <td id=\"T_6e824_row1_col0\" class=\"data row1 col0\" >4.85</td>\n",
       "      <td id=\"T_6e824_row1_col1\" class=\"data row1 col1\" >4.02</td>\n",
       "      <td id=\"T_6e824_row1_col2\" class=\"data row1 col2\" >4.24</td>\n",
       "      <td id=\"T_6e824_row1_col3\" class=\"data row1 col3\" >5.16</td>\n",
       "      <td id=\"T_6e824_row1_col4\" class=\"data row1 col4\" >5.08</td>\n",
       "      <td id=\"T_6e824_row1_col5\" class=\"data row1 col5\" >4.60</td>\n",
       "      <td id=\"T_6e824_row1_col6\" class=\"data row1 col6\" >5.11</td>\n",
       "      <td id=\"T_6e824_row1_col7\" class=\"data row1 col7\" >4.57</td>\n",
       "      <td id=\"T_6e824_row1_col8\" class=\"data row1 col8\" >3.76</td>\n",
       "      <td id=\"T_6e824_row1_col9\" class=\"data row1 col9\" >4.04</td>\n",
       "      <td id=\"T_6e824_row1_col10\" class=\"data row1 col10\" >5.13</td>\n",
       "      <td id=\"T_6e824_row1_col11\" class=\"data row1 col11\" >5.01</td>\n",
       "    </tr>\n",
       "    <tr>\n",
       "      <th id=\"T_6e824_level0_row2\" class=\"row_heading level0 row2\" >Hydraulic</th>\n",
       "      <td id=\"T_6e824_row2_col0\" class=\"data row2 col0\" >1.20</td>\n",
       "      <td id=\"T_6e824_row2_col1\" class=\"data row2 col1\" >0.77</td>\n",
       "      <td id=\"T_6e824_row2_col2\" class=\"data row2 col2\" >1.39</td>\n",
       "      <td id=\"T_6e824_row2_col3\" class=\"data row2 col3\" >2.89</td>\n",
       "      <td id=\"T_6e824_row2_col4\" class=\"data row2 col4\" >4.04</td>\n",
       "      <td id=\"T_6e824_row2_col5\" class=\"data row2 col5\" >2.55</td>\n",
       "      <td id=\"T_6e824_row2_col6\" class=\"data row2 col6\" >2.21</td>\n",
       "      <td id=\"T_6e824_row2_col7\" class=\"data row2 col7\" >1.70</td>\n",
       "      <td id=\"T_6e824_row2_col8\" class=\"data row2 col8\" >1.48</td>\n",
       "      <td id=\"T_6e824_row2_col9\" class=\"data row2 col9\" >1.88</td>\n",
       "      <td id=\"T_6e824_row2_col10\" class=\"data row2 col10\" >1.35</td>\n",
       "      <td id=\"T_6e824_row2_col11\" class=\"data row2 col11\" >1.07</td>\n",
       "    </tr>\n",
       "    <tr>\n",
       "      <th id=\"T_6e824_level0_row3\" class=\"row_heading level0 row3\" >Combined Cycle (Gas)</th>\n",
       "      <td id=\"T_6e824_row3_col0\" class=\"data row3 col0\" >7.24</td>\n",
       "      <td id=\"T_6e824_row3_col1\" class=\"data row3 col1\" >6.58</td>\n",
       "      <td id=\"T_6e824_row3_col2\" class=\"data row3 col2\" >4.23</td>\n",
       "      <td id=\"T_6e824_row3_col3\" class=\"data row3 col3\" >3.81</td>\n",
       "      <td id=\"T_6e824_row3_col4\" class=\"data row3 col4\" >2.15</td>\n",
       "      <td id=\"T_6e824_row3_col5\" class=\"data row3 col5\" >3.88</td>\n",
       "      <td id=\"T_6e824_row3_col6\" class=\"data row3 col6\" >2.62</td>\n",
       "      <td id=\"T_6e824_row3_col7\" class=\"data row3 col7\" >2.31</td>\n",
       "      <td id=\"T_6e824_row3_col8\" class=\"data row3 col8\" >2.75</td>\n",
       "      <td id=\"T_6e824_row3_col9\" class=\"data row3 col9\" >4.06</td>\n",
       "      <td id=\"T_6e824_row3_col10\" class=\"data row3 col10\" >4.41</td>\n",
       "      <td id=\"T_6e824_row3_col11\" class=\"data row3 col11\" >4.36</td>\n",
       "    </tr>\n",
       "    <tr>\n",
       "      <th id=\"T_6e824_level0_row4\" class=\"row_heading level0 row4\" >Solar Photovoltaic</th>\n",
       "      <td id=\"T_6e824_row4_col0\" class=\"data row4 col0\" >2.64</td>\n",
       "      <td id=\"T_6e824_row4_col1\" class=\"data row4 col1\" >2.06</td>\n",
       "      <td id=\"T_6e824_row4_col2\" class=\"data row4 col2\" >1.54</td>\n",
       "      <td id=\"T_6e824_row4_col3\" class=\"data row4 col3\" >1.18</td>\n",
       "      <td id=\"T_6e824_row4_col4\" class=\"data row4 col4\" >1.74</td>\n",
       "      <td id=\"T_6e824_row4_col5\" class=\"data row4 col5\" >2.18</td>\n",
       "      <td id=\"T_6e824_row4_col6\" class=\"data row4 col6\" >2.99</td>\n",
       "      <td id=\"T_6e824_row4_col7\" class=\"data row4 col7\" >3.64</td>\n",
       "      <td id=\"T_6e824_row4_col8\" class=\"data row4 col8\" >3.80</td>\n",
       "      <td id=\"T_6e824_row4_col9\" class=\"data row4 col9\" >3.86</td>\n",
       "      <td id=\"T_6e824_row4_col10\" class=\"data row4 col10\" >4.49</td>\n",
       "      <td id=\"T_6e824_row4_col11\" class=\"data row4 col11\" >4.40</td>\n",
       "    </tr>\n",
       "    <tr>\n",
       "      <th id=\"T_6e824_level0_row5\" class=\"row_heading level0 row5\" >Cogeneration</th>\n",
       "      <td id=\"T_6e824_row5_col0\" class=\"data row5 col0\" >0.76</td>\n",
       "      <td id=\"T_6e824_row5_col1\" class=\"data row5 col1\" >1.12</td>\n",
       "      <td id=\"T_6e824_row5_col2\" class=\"data row5 col2\" >1.45</td>\n",
       "      <td id=\"T_6e824_row5_col3\" class=\"data row5 col3\" >1.11</td>\n",
       "      <td id=\"T_6e824_row5_col4\" class=\"data row5 col4\" >1.22</td>\n",
       "      <td id=\"T_6e824_row5_col5\" class=\"data row5 col5\" >1.72</td>\n",
       "      <td id=\"T_6e824_row5_col6\" class=\"data row5 col6\" >1.77</td>\n",
       "      <td id=\"T_6e824_row5_col7\" class=\"data row5 col7\" >1.59</td>\n",
       "      <td id=\"T_6e824_row5_col8\" class=\"data row5 col8\" >1.72</td>\n",
       "      <td id=\"T_6e824_row5_col9\" class=\"data row5 col9\" >1.78</td>\n",
       "      <td id=\"T_6e824_row5_col10\" class=\"data row5 col10\" >1.51</td>\n",
       "      <td id=\"T_6e824_row5_col11\" class=\"data row5 col11\" >1.32</td>\n",
       "    </tr>\n",
       "    <tr>\n",
       "      <th id=\"T_6e824_level0_row6\" class=\"row_heading level0 row6\" >Pumped Storage Hydropower</th>\n",
       "      <td id=\"T_6e824_row6_col0\" class=\"data row6 col0\" >0.27</td>\n",
       "      <td id=\"T_6e824_row6_col1\" class=\"data row6 col1\" >0.35</td>\n",
       "      <td id=\"T_6e824_row6_col2\" class=\"data row6 col2\" >0.28</td>\n",
       "      <td id=\"T_6e824_row6_col3\" class=\"data row6 col3\" >0.37</td>\n",
       "      <td id=\"T_6e824_row6_col4\" class=\"data row6 col4\" >0.43</td>\n",
       "      <td id=\"T_6e824_row6_col5\" class=\"data row6 col5\" >0.22</td>\n",
       "      <td id=\"T_6e824_row6_col6\" class=\"data row6 col6\" >0.42</td>\n",
       "      <td id=\"T_6e824_row6_col7\" class=\"data row6 col7\" >0.43</td>\n",
       "      <td id=\"T_6e824_row6_col8\" class=\"data row6 col8\" >0.36</td>\n",
       "      <td id=\"T_6e824_row6_col9\" class=\"data row6 col9\" >0.27</td>\n",
       "      <td id=\"T_6e824_row6_col10\" class=\"data row6 col10\" >0.27</td>\n",
       "      <td id=\"T_6e824_row6_col11\" class=\"data row6 col11\" >0.35</td>\n",
       "    </tr>\n",
       "    <tr>\n",
       "      <th id=\"T_6e824_level0_row7\" class=\"row_heading level0 row7\" >Coal</th>\n",
       "      <td id=\"T_6e824_row7_col0\" class=\"data row7 col0\" >0.64</td>\n",
       "      <td id=\"T_6e824_row7_col1\" class=\"data row7 col1\" >0.39</td>\n",
       "      <td id=\"T_6e824_row7_col2\" class=\"data row7 col2\" >0.34</td>\n",
       "      <td id=\"T_6e824_row7_col3\" class=\"data row7 col3\" >0.73</td>\n",
       "      <td id=\"T_6e824_row7_col4\" class=\"data row7 col4\" >0.32</td>\n",
       "      <td id=\"T_6e824_row7_col5\" class=\"data row7 col5\" >0.43</td>\n",
       "      <td id=\"T_6e824_row7_col6\" class=\"data row7 col6\" >0.41</td>\n",
       "      <td id=\"T_6e824_row7_col7\" class=\"data row7 col7\" >0.25</td>\n",
       "      <td id=\"T_6e824_row7_col8\" class=\"data row7 col8\" >0.25</td>\n",
       "      <td id=\"T_6e824_row7_col9\" class=\"data row7 col9\" >0.30</td>\n",
       "      <td id=\"T_6e824_row7_col10\" class=\"data row7 col10\" >0.29</td>\n",
       "      <td id=\"T_6e824_row7_col11\" class=\"data row7 col11\" >0.42</td>\n",
       "    </tr>\n",
       "    <tr>\n",
       "      <th id=\"T_6e824_level0_row8\" class=\"row_heading level0 row8\" >Renewables Other</th>\n",
       "      <td id=\"T_6e824_row8_col0\" class=\"data row8 col0\" >0.35</td>\n",
       "      <td id=\"T_6e824_row8_col1\" class=\"data row8 col1\" >0.38</td>\n",
       "      <td id=\"T_6e824_row8_col2\" class=\"data row8 col2\" >0.38</td>\n",
       "      <td id=\"T_6e824_row8_col3\" class=\"data row8 col3\" >0.34</td>\n",
       "      <td id=\"T_6e824_row8_col4\" class=\"data row8 col4\" >0.30</td>\n",
       "      <td id=\"T_6e824_row8_col5\" class=\"data row8 col5\" >0.36</td>\n",
       "      <td id=\"T_6e824_row8_col6\" class=\"data row8 col6\" >0.32</td>\n",
       "      <td id=\"T_6e824_row8_col7\" class=\"data row8 col7\" >0.28</td>\n",
       "      <td id=\"T_6e824_row8_col8\" class=\"data row8 col8\" >0.34</td>\n",
       "      <td id=\"T_6e824_row8_col9\" class=\"data row8 col9\" >0.33</td>\n",
       "      <td id=\"T_6e824_row8_col10\" class=\"data row8 col10\" >0.33</td>\n",
       "      <td id=\"T_6e824_row8_col11\" class=\"data row8 col11\" >0.35</td>\n",
       "    </tr>\n",
       "    <tr>\n",
       "      <th id=\"T_6e824_level0_row9\" class=\"row_heading level0 row9\" >Non-Renewable Residues</th>\n",
       "      <td id=\"T_6e824_row9_col0\" class=\"data row9 col0\" >0.17</td>\n",
       "      <td id=\"T_6e824_row9_col1\" class=\"data row9 col1\" >0.21</td>\n",
       "      <td id=\"T_6e824_row9_col2\" class=\"data row9 col2\" >0.17</td>\n",
       "      <td id=\"T_6e824_row9_col3\" class=\"data row9 col3\" >0.19</td>\n",
       "      <td id=\"T_6e824_row9_col4\" class=\"data row9 col4\" >0.16</td>\n",
       "      <td id=\"T_6e824_row9_col5\" class=\"data row9 col5\" >0.17</td>\n",
       "      <td id=\"T_6e824_row9_col6\" class=\"data row9 col6\" >0.18</td>\n",
       "      <td id=\"T_6e824_row9_col7\" class=\"data row9 col7\" >0.13</td>\n",
       "      <td id=\"T_6e824_row9_col8\" class=\"data row9 col8\" >0.09</td>\n",
       "      <td id=\"T_6e824_row9_col9\" class=\"data row9 col9\" >0.18</td>\n",
       "      <td id=\"T_6e824_row9_col10\" class=\"data row9 col10\" >0.19</td>\n",
       "      <td id=\"T_6e824_row9_col11\" class=\"data row9 col11\" >0.18</td>\n",
       "    </tr>\n",
       "    <tr>\n",
       "      <th id=\"T_6e824_level0_row10\" class=\"row_heading level0 row10\" >Solar Thermal</th>\n",
       "      <td id=\"T_6e824_row10_col0\" class=\"data row10 col0\" >0.44</td>\n",
       "      <td id=\"T_6e824_row10_col1\" class=\"data row10 col1\" >0.19</td>\n",
       "      <td id=\"T_6e824_row10_col2\" class=\"data row10 col2\" >0.11</td>\n",
       "      <td id=\"T_6e824_row10_col3\" class=\"data row10 col3\" >0.07</td>\n",
       "      <td id=\"T_6e824_row10_col4\" class=\"data row10 col4\" >0.13</td>\n",
       "      <td id=\"T_6e824_row10_col5\" class=\"data row10 col5\" >0.19</td>\n",
       "      <td id=\"T_6e824_row10_col6\" class=\"data row10 col6\" >0.42</td>\n",
       "      <td id=\"T_6e824_row10_col7\" class=\"data row10 col7\" >0.65</td>\n",
       "      <td id=\"T_6e824_row10_col8\" class=\"data row10 col8\" >0.52</td>\n",
       "      <td id=\"T_6e824_row10_col9\" class=\"data row10 col9\" >0.58</td>\n",
       "      <td id=\"T_6e824_row10_col10\" class=\"data row10 col10\" >0.80</td>\n",
       "      <td id=\"T_6e824_row10_col11\" class=\"data row10 col11\" >0.76</td>\n",
       "    </tr>\n",
       "  </tbody>\n",
       "</table>\n"
      ],
      "text/plain": [
       "<pandas.io.formats.style.Styler at 0x17250b110>"
      ]
     },
     "execution_count": null,
     "metadata": {},
     "output_type": "execute_result"
    }
   ],
   "source": []
  }
 ],
 "metadata": {
  "kernelspec": {
   "display_name": ".venv",
   "language": "python",
   "name": "python3"
  },
  "language_info": {
   "codemirror_mode": {
    "name": "ipython",
    "version": 3
   },
   "file_extension": ".py",
   "mimetype": "text/x-python",
   "name": "python",
   "nbconvert_exporter": "python",
   "pygments_lexer": "ipython3",
   "version": "3.11.9"
  },
  "papermill": {
   "default_parameters": {},
   "duration": 5.611724,
   "end_time": "2024-05-29T22:25:08.537421",
   "environment_variables": {},
   "exception": null,
   "input_path": "/Users/sota/Library/CloudStorage/Dropbox/2 Business/1 Datons/2 Areas/Courses/22 TS/solutions-new/notebooks/10_Preprocessing & DataViz/3_Multivariate/1.ipynb",
   "output_path": "/Users/sota/Library/CloudStorage/Dropbox/2 Business/1 Datons/2 Areas/Courses/22 TS/solutions-new/notebooks/10_Preprocessing & DataViz/3_Multivariate/1.ipynb",
   "parameters": {},
   "start_time": "2024-05-29T22:25:02.925697",
   "version": "2.5.0"
  }
 },
 "nbformat": 4,
 "nbformat_minor": 5
}
