{
 "cells": [
  {
   "cell_type": "markdown",
   "id": "bdbeddd7",
   "metadata": {
    "papermill": {
     "duration": 0.004328,
     "end_time": "2024-05-29T22:25:09.650137",
     "exception": false,
     "start_time": "2024-05-29T22:25:09.645809",
     "status": "completed"
    },
    "tags": []
   },
   "source": [
    "# Univariate Time Series Manipulation & Visualization"
   ]
  },
  {
   "cell_type": "markdown",
   "id": "251fcc85",
   "metadata": {
    "papermill": {
     "duration": 0.002842,
     "end_time": "2024-05-29T22:25:09.656683",
     "exception": false,
     "start_time": "2024-05-29T22:25:09.653841",
     "status": "completed"
    },
    "tags": []
   },
   "source": [
    "## Overview"
   ]
  },
  {
   "cell_type": "markdown",
   "id": "03fb8b95",
   "metadata": {
    "papermill": {
     "duration": 0.002974,
     "end_time": "2024-05-29T22:25:09.662216",
     "exception": false,
     "start_time": "2024-05-29T22:25:09.659242",
     "status": "completed"
    },
    "tags": []
   },
   "source": [
    "<style>\n",
    "    table.custom-table {\n",
    "        max-width: 1000px;\n",
    "        width: 100%;\n",
    "        margin: 0 auto; /* centers the table on the page */\n",
    "    }\n",
    "\n",
    "    table.custom-table td {\n",
    "        background-color: #fff;\n",
    "    }\n",
    "\n",
    "    table.custom-table th, table.custom-table td {\n",
    "        text-align: center;\n",
    "        vertical-align: middle;\n",
    "        padding: 5px;\n",
    "        width: 500px; /* distribute the total width equally among three columns */\n",
    "    }\n",
    "\n",
    "    table.custom-table img {\n",
    "        width: 100%;\n",
    "        display: block; /* removes any gap under the image */\n",
    "    }\n",
    "</style>\n",
    "\n",
    "\n",
    "<table class=\"custom-table\">\n",
    "    <thead>\n",
    "        <tr>\n",
    "            <th>Output: Total Solar Energy Generation (Hour-Month) </th>\n",
    "            <th>Input: Hourly Solar Energy Generation</th>\n",
    "        </tr>\n",
    "    </thead>\n",
    "    <tbody>\n",
    "        <tr>\n",
    "            <td>\n",
    "                <img src=\"src/01_output.png\">\n",
    "            </td>\n",
    "            <td>\n",
    "                <img src=\"src/01_input.png\">\n",
    "            </td>\n",
    "        </tr>\n",
    "    </tbody>\n",
    "</table>\n"
   ]
  },
  {
   "cell_type": "markdown",
   "id": "e006db23",
   "metadata": {
    "papermill": {
     "duration": 0.002003,
     "end_time": "2024-05-29T22:25:09.666727",
     "exception": false,
     "start_time": "2024-05-29T22:25:09.664724",
     "status": "completed"
    },
    "tags": []
   },
   "source": [
    "## Data"
   ]
  },
  {
   "cell_type": "code",
   "execution_count": null,
   "id": "3154131a",
   "metadata": {
    "execution": {
     "iopub.execute_input": "2024-05-29T22:25:09.671328Z",
     "iopub.status.busy": "2024-05-29T22:25:09.671157Z",
     "iopub.status.idle": "2024-05-29T22:25:09.691726Z",
     "shell.execute_reply": "2024-05-29T22:25:09.691193Z"
    },
    "jupyter": {
     "source_hidden": true
    },
    "papermill": {
     "duration": 0.024257,
     "end_time": "2024-05-29T22:25:09.692831",
     "exception": false,
     "start_time": "2024-05-29T22:25:09.668574",
     "status": "completed"
    },
    "tags": [
     "Fixed"
    ]
   },
   "outputs": [
    {
     "data": {
      "text/html": [
       "<div>\n",
       "<style scoped>\n",
       "    .dataframe tbody tr th:only-of-type {\n",
       "        vertical-align: middle;\n",
       "    }\n",
       "\n",
       "    .dataframe tbody tr th {\n",
       "        vertical-align: top;\n",
       "    }\n",
       "\n",
       "    .dataframe thead th {\n",
       "        text-align: right;\n",
       "    }\n",
       "</style>\n",
       "<table border=\"1\" class=\"dataframe\">\n",
       "  <thead>\n",
       "    <tr style=\"text-align: right;\">\n",
       "      <th></th>\n",
       "      <th>Coal</th>\n",
       "      <th>Cogeneration</th>\n",
       "      <th>Combined Cycle (Gas)</th>\n",
       "      <th>Eolic</th>\n",
       "      <th>Hydraulic</th>\n",
       "      <th>Non-Renewable Residues</th>\n",
       "      <th>Nuclear</th>\n",
       "      <th>Pumped Storage Hydropower</th>\n",
       "      <th>Renewables Other</th>\n",
       "      <th>Solar Photovoltaic</th>\n",
       "      <th>Solar Thermal</th>\n",
       "    </tr>\n",
       "    <tr>\n",
       "      <th>time</th>\n",
       "      <th></th>\n",
       "      <th></th>\n",
       "      <th></th>\n",
       "      <th></th>\n",
       "      <th></th>\n",
       "      <th></th>\n",
       "      <th></th>\n",
       "      <th></th>\n",
       "      <th></th>\n",
       "      <th></th>\n",
       "      <th></th>\n",
       "    </tr>\n",
       "  </thead>\n",
       "  <tbody>\n",
       "    <tr>\n",
       "      <th>2022-09-01 00:00:00</th>\n",
       "      <td>695.0</td>\n",
       "      <td>1155.1</td>\n",
       "      <td>14748.950</td>\n",
       "      <td>4387.050</td>\n",
       "      <td>899.675</td>\n",
       "      <td>273.7</td>\n",
       "      <td>6869.9</td>\n",
       "      <td>201.60</td>\n",
       "      <td>516.6</td>\n",
       "      <td>1.0</td>\n",
       "      <td>287.7</td>\n",
       "    </tr>\n",
       "    <tr>\n",
       "      <th>2022-09-01 01:00:00</th>\n",
       "      <td>750.0</td>\n",
       "      <td>1162.1</td>\n",
       "      <td>14255.600</td>\n",
       "      <td>4008.900</td>\n",
       "      <td>850.200</td>\n",
       "      <td>271.6</td>\n",
       "      <td>6881.9</td>\n",
       "      <td>117.70</td>\n",
       "      <td>514.4</td>\n",
       "      <td>1.0</td>\n",
       "      <td>247.7</td>\n",
       "    </tr>\n",
       "    <tr>\n",
       "      <th>...</th>\n",
       "      <td>...</td>\n",
       "      <td>...</td>\n",
       "      <td>...</td>\n",
       "      <td>...</td>\n",
       "      <td>...</td>\n",
       "      <td>...</td>\n",
       "      <td>...</td>\n",
       "      <td>...</td>\n",
       "      <td>...</td>\n",
       "      <td>...</td>\n",
       "      <td>...</td>\n",
       "    </tr>\n",
       "    <tr>\n",
       "      <th>2023-08-31 22:00:00</th>\n",
       "      <td>477.5</td>\n",
       "      <td>2153.4</td>\n",
       "      <td>10575.375</td>\n",
       "      <td>3057.950</td>\n",
       "      <td>3541.400</td>\n",
       "      <td>239.4</td>\n",
       "      <td>6866.0</td>\n",
       "      <td>946.25</td>\n",
       "      <td>510.7</td>\n",
       "      <td>17.6</td>\n",
       "      <td>607.9</td>\n",
       "    </tr>\n",
       "    <tr>\n",
       "      <th>2023-08-31 23:00:00</th>\n",
       "      <td>500.0</td>\n",
       "      <td>2127.7</td>\n",
       "      <td>9988.875</td>\n",
       "      <td>3028.675</td>\n",
       "      <td>3159.500</td>\n",
       "      <td>240.8</td>\n",
       "      <td>6869.0</td>\n",
       "      <td>334.95</td>\n",
       "      <td>511.9</td>\n",
       "      <td>17.4</td>\n",
       "      <td>619.8</td>\n",
       "    </tr>\n",
       "  </tbody>\n",
       "</table>\n",
       "<p>8759 rows × 11 columns</p>\n",
       "</div>"
      ],
      "text/plain": [
       "                      Coal  Cogeneration  Combined Cycle (Gas)     Eolic  \\\n",
       "time                                                                       \n",
       "2022-09-01 00:00:00  695.0        1155.1             14748.950  4387.050   \n",
       "2022-09-01 01:00:00  750.0        1162.1             14255.600  4008.900   \n",
       "...                    ...           ...                   ...       ...   \n",
       "2023-08-31 22:00:00  477.5        2153.4             10575.375  3057.950   \n",
       "2023-08-31 23:00:00  500.0        2127.7              9988.875  3028.675   \n",
       "\n",
       "                     Hydraulic  Non-Renewable Residues  Nuclear  \\\n",
       "time                                                              \n",
       "2022-09-01 00:00:00    899.675                   273.7   6869.9   \n",
       "2022-09-01 01:00:00    850.200                   271.6   6881.9   \n",
       "...                        ...                     ...      ...   \n",
       "2023-08-31 22:00:00   3541.400                   239.4   6866.0   \n",
       "2023-08-31 23:00:00   3159.500                   240.8   6869.0   \n",
       "\n",
       "                     Pumped Storage Hydropower  Renewables Other  \\\n",
       "time                                                               \n",
       "2022-09-01 00:00:00                     201.60             516.6   \n",
       "2022-09-01 01:00:00                     117.70             514.4   \n",
       "...                                        ...               ...   \n",
       "2023-08-31 22:00:00                     946.25             510.7   \n",
       "2023-08-31 23:00:00                     334.95             511.9   \n",
       "\n",
       "                     Solar Photovoltaic  Solar Thermal  \n",
       "time                                                    \n",
       "2022-09-01 00:00:00                 1.0          287.7  \n",
       "2022-09-01 01:00:00                 1.0          247.7  \n",
       "...                                 ...            ...  \n",
       "2023-08-31 22:00:00                17.6          607.9  \n",
       "2023-08-31 23:00:00                17.4          619.8  \n",
       "\n",
       "[8759 rows x 11 columns]"
      ]
     },
     "execution_count": 1,
     "metadata": {},
     "output_type": "execute_result"
    }
   ],
   "source": [
    "import pandas as pd\n",
    "\n",
    "df = pd.read_csv('../../../data/energy_generation_hourly_year.csv', index_col=0, parse_dates=True)\n",
    "df\n",
    "# adsf"
   ]
  },
  {
   "cell_type": "code",
   "execution_count": null,
   "id": "f3c647c7",
   "metadata": {
    "execution": {
     "iopub.execute_input": "2024-05-29T22:25:09.697574Z",
     "iopub.status.busy": "2024-05-29T22:25:09.697431Z",
     "iopub.status.idle": "2024-05-29T22:25:09.700331Z",
     "shell.execute_reply": "2024-05-29T22:25:09.700074Z"
    },
    "jupyter": {
     "source_hidden": true
    },
    "papermill": {
     "duration": 0.005956,
     "end_time": "2024-05-29T22:25:09.701051",
     "exception": false,
     "start_time": "2024-05-29T22:25:09.695095",
     "status": "completed"
    },
    "tags": []
   },
   "outputs": [
    {
     "data": {
      "text/plain": [
       "time\n",
       "2022-09-01 00:00:00     1.0\n",
       "2022-09-01 01:00:00     1.0\n",
       "                       ... \n",
       "2023-08-31 22:00:00    17.6\n",
       "2023-08-31 23:00:00    17.4\n",
       "Name: Solar Photovoltaic, Length: 8759, dtype: float64"
      ]
     },
     "execution_count": null,
     "metadata": {},
     "output_type": "execute_result"
    }
   ],
   "source": []
  },
  {
   "cell_type": "code",
   "execution_count": null,
   "id": "95e67c25",
   "metadata": {
    "execution": {
     "iopub.execute_input": "2024-05-29T22:25:10.433143Z",
     "iopub.status.busy": "2024-05-29T22:25:10.432704Z",
     "iopub.status.idle": "2024-05-29T22:25:10.538958Z",
     "shell.execute_reply": "2024-05-29T22:25:10.538286Z"
    },
    "jupyter": {
     "source_hidden": true
    },
    "papermill": {
     "duration": 0.110478,
     "end_time": "2024-05-29T22:25:10.541128",
     "exception": false,
     "start_time": "2024-05-29T22:25:10.430650",
     "status": "completed"
    },
    "tags": []
   },
   "outputs": [
    {
     "data": {
      "text/plain": [
       "<Axes: xlabel='time'>"
      ]
     },
     "execution_count": null,
     "metadata": {},
     "output_type": "execute_result"
    },
    {
     "data": {
      "image/png": "[encoded data removed]",
      "text/plain": [
       "<Figure size 640x480 with 1 Axes>"
      ]
     },
     "metadata": {},
     "output_type": "display_data"
    }
   ],
   "source": []
  },
  {
   "cell_type": "markdown",
   "id": "606b4a3a",
   "metadata": {
    "papermill": {
     "duration": 0.00525,
     "end_time": "2024-05-29T22:25:10.551022",
     "exception": false,
     "start_time": "2024-05-29T22:25:10.545772",
     "status": "completed"
    },
    "tags": []
   },
   "source": [
    "## Resampling the Time\n",
    "- [Date offset `rule` list](https://pandas.pydata.org/docs/user_guide/timeseries.html#dateoffset-objects)\n",
    "- [Pandas plot `kind` list](https://pandas.pydata.org/docs/reference/api/pandas.DataFrame.plot.html)"
   ]
  },
  {
   "cell_type": "markdown",
   "id": "f5a1eccf",
   "metadata": {
    "papermill": {
     "duration": 0.004436,
     "end_time": "2024-05-29T22:25:10.559527",
     "exception": false,
     "start_time": "2024-05-29T22:25:10.555091",
     "status": "completed"
    },
    "tags": []
   },
   "source": [
    "### Daily"
   ]
  },
  {
   "cell_type": "code",
   "execution_count": null,
   "id": "05c59c07",
   "metadata": {
    "execution": {
     "iopub.execute_input": "2024-05-29T22:25:10.568430Z",
     "iopub.status.busy": "2024-05-29T22:25:10.568204Z",
     "iopub.status.idle": "2024-05-29T22:25:10.696576Z",
     "shell.execute_reply": "2024-05-29T22:25:10.695865Z"
    },
    "jupyter": {
     "source_hidden": true
    },
    "papermill": {
     "duration": 0.1345,
     "end_time": "2024-05-29T22:25:10.697938",
     "exception": false,
     "start_time": "2024-05-29T22:25:10.563438",
     "status": "completed"
    },
    "tags": []
   },
   "outputs": [
    {
     "data": {
      "text/plain": [
       "<Axes: xlabel='time'>"
      ]
     },
     "execution_count": null,
     "metadata": {},
     "output_type": "execute_result"
    },
    {
     "data": {
      "image/png": "[encoded data removed]",
      "text/plain": [
       "<Figure size 640x480 with 1 Axes>"
      ]
     },
     "metadata": {},
     "output_type": "display_data"
    }
   ],
   "source": []
  },
  {
   "cell_type": "markdown",
   "id": "cc22f6c0",
   "metadata": {
    "papermill": {
     "duration": 0.010979,
     "end_time": "2024-05-29T22:25:10.713966",
     "exception": false,
     "start_time": "2024-05-29T22:25:10.702987",
     "status": "completed"
    },
    "tags": []
   },
   "source": [
    "### Monthly"
   ]
  },
  {
   "cell_type": "code",
   "execution_count": null,
   "id": "0f3895e7",
   "metadata": {
    "execution": {
     "iopub.execute_input": "2024-05-29T22:25:10.719109Z",
     "iopub.status.busy": "2024-05-29T22:25:10.718868Z",
     "iopub.status.idle": "2024-05-29T22:25:10.773202Z",
     "shell.execute_reply": "2024-05-29T22:25:10.772966Z"
    },
    "jupyter": {
     "source_hidden": true
    },
    "papermill": {
     "duration": 0.058101,
     "end_time": "2024-05-29T22:25:10.774187",
     "exception": false,
     "start_time": "2024-05-29T22:25:10.716086",
     "status": "completed"
    },
    "tags": []
   },
   "outputs": [
    {
     "name": "stderr",
     "output_type": "stream",
     "text": [
      "/var/folders/89/hqh4vvhn24q2xc8ph93krqz80000gn/T/ipykernel_34264/3693444446.py:1: FutureWarning: 'M' is deprecated and will be removed in a future version, please use 'ME' instead.\n",
      "  s_solar.resample(rule='M').sum().plot()\n"
     ]
    },
    {
     "data": {
      "text/plain": [
       "<Axes: xlabel='time'>"
      ]
     },
     "execution_count": null,
     "metadata": {},
     "output_type": "execute_result"
    },
    {
     "data": {
      "image/png": "[encoded data removed]",
      "text/plain": [
       "<Figure size 640x480 with 1 Axes>"
      ]
     },
     "metadata": {},
     "output_type": "display_data"
    }
   ],
   "source": []
  },
  {
   "cell_type": "code",
   "execution_count": null,
   "id": "164ac25e",
   "metadata": {
    "execution": {
     "iopub.execute_input": "2024-05-29T22:25:10.779799Z",
     "iopub.status.busy": "2024-05-29T22:25:10.779691Z",
     "iopub.status.idle": "2024-05-29T22:25:10.829438Z",
     "shell.execute_reply": "2024-05-29T22:25:10.829206Z"
    },
    "jupyter": {
     "source_hidden": true
    },
    "papermill": {
     "duration": 0.053499,
     "end_time": "2024-05-29T22:25:10.830236",
     "exception": false,
     "start_time": "2024-05-29T22:25:10.776737",
     "status": "completed"
    },
    "tags": []
   },
   "outputs": [
    {
     "name": "stderr",
     "output_type": "stream",
     "text": [
      "/var/folders/89/hqh4vvhn24q2xc8ph93krqz80000gn/T/ipykernel_34264/3198584979.py:1: FutureWarning: 'M' is deprecated and will be removed in a future version, please use 'ME' instead.\n",
      "  s_solar.resample(rule='M').sum().plot(kind='area')\n"
     ]
    },
    {
     "data": {
      "text/plain": [
       "<Axes: xlabel='time'>"
      ]
     },
     "execution_count": null,
     "metadata": {},
     "output_type": "execute_result"
    },
    {
     "data": {
      "image/png": "[encoded data removed]",
      "text/plain": [
       "<Figure size 640x480 with 1 Axes>"
      ]
     },
     "metadata": {},
     "output_type": "display_data"
    }
   ],
   "source": []
  },
  {
   "cell_type": "code",
   "execution_count": null,
   "id": "bead3df6",
   "metadata": {
    "execution": {
     "iopub.execute_input": "2024-05-29T22:25:10.835833Z",
     "iopub.status.busy": "2024-05-29T22:25:10.835733Z",
     "iopub.status.idle": "2024-05-29T22:25:10.889942Z",
     "shell.execute_reply": "2024-05-29T22:25:10.889593Z"
    },
    "jupyter": {
     "source_hidden": true
    },
    "papermill": {
     "duration": 0.057744,
     "end_time": "2024-05-29T22:25:10.890767",
     "exception": false,
     "start_time": "2024-05-29T22:25:10.833023",
     "status": "completed"
    },
    "tags": []
   },
   "outputs": [
    {
     "name": "stderr",
     "output_type": "stream",
     "text": [
      "/var/folders/89/hqh4vvhn24q2xc8ph93krqz80000gn/T/ipykernel_34264/1467952099.py:1: FutureWarning: 'M' is deprecated and will be removed in a future version, please use 'ME' instead.\n",
      "  s_solar.resample(rule='M').sum().plot(kind='bar');\n"
     ]
    },
    {
     "data": {
      "image/png": "[encoded data removed]",
      "text/plain": [
       "<Figure size 640x480 with 1 Axes>"
      ]
     },
     "metadata": {},
     "output_type": "display_data"
    }
   ],
   "source": []
  },
  {
   "cell_type": "markdown",
   "id": "336597c1",
   "metadata": {
    "papermill": {
     "duration": 0.002119,
     "end_time": "2024-05-29T22:25:10.895654",
     "exception": false,
     "start_time": "2024-05-29T22:25:10.893535",
     "status": "completed"
    },
    "tags": []
   },
   "source": [
    "## Pivot Tables"
   ]
  },
  {
   "cell_type": "markdown",
   "id": "790c3c75",
   "metadata": {
    "papermill": {
     "duration": 0.002335,
     "end_time": "2024-05-29T22:25:10.900220",
     "exception": false,
     "start_time": "2024-05-29T22:25:10.897885",
     "status": "completed"
    },
    "tags": []
   },
   "source": [
    "### Transform object to DataFrame\n",
    "\n",
    "> Only if you don't have a DataFrame yet."
   ]
  },
  {
   "cell_type": "code",
   "execution_count": null,
   "id": "6a4e2974",
   "metadata": {
    "execution": {
     "iopub.execute_input": "2024-05-29T22:25:10.904893Z",
     "iopub.status.busy": "2024-05-29T22:25:10.904776Z",
     "iopub.status.idle": "2024-05-29T22:25:10.908214Z",
     "shell.execute_reply": "2024-05-29T22:25:10.907981Z"
    },
    "jupyter": {
     "source_hidden": true
    },
    "papermill": {
     "duration": 0.006565,
     "end_time": "2024-05-29T22:25:10.908839",
     "exception": false,
     "start_time": "2024-05-29T22:25:10.902274",
     "status": "completed"
    },
    "tags": []
   },
   "outputs": [
    {
     "data": {
      "text/html": [
       "<div>\n",
       "<style scoped>\n",
       "    .dataframe tbody tr th:only-of-type {\n",
       "        vertical-align: middle;\n",
       "    }\n",
       "\n",
       "    .dataframe tbody tr th {\n",
       "        vertical-align: top;\n",
       "    }\n",
       "\n",
       "    .dataframe thead th {\n",
       "        text-align: right;\n",
       "    }\n",
       "</style>\n",
       "<table border=\"1\" class=\"dataframe\">\n",
       "  <thead>\n",
       "    <tr style=\"text-align: right;\">\n",
       "      <th></th>\n",
       "      <th>Solar Photovoltaic</th>\n",
       "    </tr>\n",
       "    <tr>\n",
       "      <th>time</th>\n",
       "      <th></th>\n",
       "    </tr>\n",
       "  </thead>\n",
       "  <tbody>\n",
       "    <tr>\n",
       "      <th>2022-09-01 00:00:00</th>\n",
       "      <td>1.0</td>\n",
       "    </tr>\n",
       "    <tr>\n",
       "      <th>2022-09-01 01:00:00</th>\n",
       "      <td>1.0</td>\n",
       "    </tr>\n",
       "    <tr>\n",
       "      <th>...</th>\n",
       "      <td>...</td>\n",
       "    </tr>\n",
       "    <tr>\n",
       "      <th>2023-08-31 22:00:00</th>\n",
       "      <td>17.6</td>\n",
       "    </tr>\n",
       "    <tr>\n",
       "      <th>2023-08-31 23:00:00</th>\n",
       "      <td>17.4</td>\n",
       "    </tr>\n",
       "  </tbody>\n",
       "</table>\n",
       "<p>8759 rows × 1 columns</p>\n",
       "</div>"
      ],
      "text/plain": [
       "                     Solar Photovoltaic\n",
       "time                                   \n",
       "2022-09-01 00:00:00                 1.0\n",
       "2022-09-01 01:00:00                 1.0\n",
       "...                                 ...\n",
       "2023-08-31 22:00:00                17.6\n",
       "2023-08-31 23:00:00                17.4\n",
       "\n",
       "[8759 rows x 1 columns]"
      ]
     },
     "execution_count": null,
     "metadata": {},
     "output_type": "execute_result"
    }
   ],
   "source": []
  },
  {
   "cell_type": "markdown",
   "id": "b8541fce",
   "metadata": {
    "papermill": {
     "duration": 0.002125,
     "end_time": "2024-05-29T22:25:10.913267",
     "exception": false,
     "start_time": "2024-05-29T22:25:10.911142",
     "status": "completed"
    },
    "tags": []
   },
   "source": [
    "### Create columns with datetime information"
   ]
  },
  {
   "cell_type": "code",
   "execution_count": null,
   "id": "4eb30c21",
   "metadata": {
    "execution": {
     "iopub.execute_input": "2024-05-29T22:25:10.917804Z",
     "iopub.status.busy": "2024-05-29T22:25:10.917713Z",
     "iopub.status.idle": "2024-05-29T22:25:10.922275Z",
     "shell.execute_reply": "2024-05-29T22:25:10.922075Z"
    },
    "jupyter": {
     "source_hidden": true
    },
    "papermill": {
     "duration": 0.007771,
     "end_time": "2024-05-29T22:25:10.923058",
     "exception": false,
     "start_time": "2024-05-29T22:25:10.915287",
     "status": "completed"
    },
    "tags": []
   },
   "outputs": [
    {
     "data": {
      "text/html": [
       "<div>\n",
       "<style scoped>\n",
       "    .dataframe tbody tr th:only-of-type {\n",
       "        vertical-align: middle;\n",
       "    }\n",
       "\n",
       "    .dataframe tbody tr th {\n",
       "        vertical-align: top;\n",
       "    }\n",
       "\n",
       "    .dataframe thead th {\n",
       "        text-align: right;\n",
       "    }\n",
       "</style>\n",
       "<table border=\"1\" class=\"dataframe\">\n",
       "  <thead>\n",
       "    <tr style=\"text-align: right;\">\n",
       "      <th></th>\n",
       "      <th>Solar Photovoltaic</th>\n",
       "      <th>year</th>\n",
       "      <th>month</th>\n",
       "      <th>day</th>\n",
       "      <th>hour</th>\n",
       "    </tr>\n",
       "    <tr>\n",
       "      <th>time</th>\n",
       "      <th></th>\n",
       "      <th></th>\n",
       "      <th></th>\n",
       "      <th></th>\n",
       "      <th></th>\n",
       "    </tr>\n",
       "  </thead>\n",
       "  <tbody>\n",
       "    <tr>\n",
       "      <th>2022-09-01 00:00:00</th>\n",
       "      <td>1.0</td>\n",
       "      <td>2022</td>\n",
       "      <td>9</td>\n",
       "      <td>1</td>\n",
       "      <td>0</td>\n",
       "    </tr>\n",
       "    <tr>\n",
       "      <th>2022-09-01 01:00:00</th>\n",
       "      <td>1.0</td>\n",
       "      <td>2022</td>\n",
       "      <td>9</td>\n",
       "      <td>1</td>\n",
       "      <td>1</td>\n",
       "    </tr>\n",
       "    <tr>\n",
       "      <th>...</th>\n",
       "      <td>...</td>\n",
       "      <td>...</td>\n",
       "      <td>...</td>\n",
       "      <td>...</td>\n",
       "      <td>...</td>\n",
       "    </tr>\n",
       "    <tr>\n",
       "      <th>2023-08-31 22:00:00</th>\n",
       "      <td>17.6</td>\n",
       "      <td>2023</td>\n",
       "      <td>8</td>\n",
       "      <td>31</td>\n",
       "      <td>22</td>\n",
       "    </tr>\n",
       "    <tr>\n",
       "      <th>2023-08-31 23:00:00</th>\n",
       "      <td>17.4</td>\n",
       "      <td>2023</td>\n",
       "      <td>8</td>\n",
       "      <td>31</td>\n",
       "      <td>23</td>\n",
       "    </tr>\n",
       "  </tbody>\n",
       "</table>\n",
       "<p>8759 rows × 5 columns</p>\n",
       "</div>"
      ],
      "text/plain": [
       "                     Solar Photovoltaic  year  month  day  hour\n",
       "time                                                           \n",
       "2022-09-01 00:00:00                 1.0  2022      9    1     0\n",
       "2022-09-01 01:00:00                 1.0  2022      9    1     1\n",
       "...                                 ...   ...    ...  ...   ...\n",
       "2023-08-31 22:00:00                17.6  2023      8   31    22\n",
       "2023-08-31 23:00:00                17.4  2023      8   31    23\n",
       "\n",
       "[8759 rows x 5 columns]"
      ]
     },
     "execution_count": null,
     "metadata": {},
     "output_type": "execute_result"
    }
   ],
   "source": []
  },
  {
   "cell_type": "markdown",
   "id": "d83da104",
   "metadata": {
    "papermill": {
     "duration": 0.002306,
     "end_time": "2024-05-29T22:25:10.928062",
     "exception": false,
     "start_time": "2024-05-29T22:25:10.925756",
     "status": "completed"
    },
    "tags": []
   },
   "source": [
    "### Process `pivot_table`\n",
    "\n",
    "- Use this methodology."
   ]
  },
  {
   "cell_type": "code",
   "execution_count": null,
   "id": "d585e2b7",
   "metadata": {
    "execution": {
     "iopub.execute_input": "2024-05-29T22:25:10.932904Z",
     "iopub.status.busy": "2024-05-29T22:25:10.932808Z",
     "iopub.status.idle": "2024-05-29T22:25:10.937065Z",
     "shell.execute_reply": "2024-05-29T22:25:10.936869Z"
    },
    "jupyter": {
     "source_hidden": true
    },
    "papermill": {
     "duration": 0.00752,
     "end_time": "2024-05-29T22:25:10.937731",
     "exception": false,
     "start_time": "2024-05-29T22:25:10.930211",
     "status": "completed"
    },
    "tags": []
   },
   "outputs": [],
   "source": []
  },
  {
   "cell_type": "markdown",
   "id": "9122f17f",
   "metadata": {
    "papermill": {
     "duration": 0.002287,
     "end_time": "2024-05-29T22:25:10.942548",
     "exception": false,
     "start_time": "2024-05-29T22:25:10.940261",
     "status": "completed"
    },
    "tags": []
   },
   "source": [
    "### Style DataFrame"
   ]
  },
  {
   "cell_type": "code",
   "execution_count": null,
   "id": "4add61f1",
   "metadata": {
    "execution": {
     "iopub.execute_input": "2024-05-29T22:25:10.947495Z",
     "iopub.status.busy": "2024-05-29T22:25:10.947398Z",
     "iopub.status.idle": "2024-05-29T22:25:10.949998Z",
     "shell.execute_reply": "2024-05-29T22:25:10.949832Z"
    },
    "jupyter": {
     "source_hidden": true
    },
    "papermill": {
     "duration": 0.005806,
     "end_time": "2024-05-29T22:25:10.950624",
     "exception": false,
     "start_time": "2024-05-29T22:25:10.944818",
     "status": "completed"
    },
    "tags": []
   },
   "outputs": [],
   "source": []
  }
 ],
 "metadata": {
  "kernelspec": {
   "display_name": "Python 3 (ipykernel)",
   "language": "python",
   "name": "python3"
  },
  "language_info": {
   "codemirror_mode": {
    "name": "ipython",
    "version": 3
   },
   "file_extension": ".py",
   "mimetype": "text/x-python",
   "name": "python",
   "nbconvert_exporter": "python",
   "pygments_lexer": "ipython3",
   "version": "3.12.2"
  },
  "papermill": {
   "default_parameters": {},
   "duration": 2.992742,
   "end_time": "2024-05-29T22:25:11.742873",
   "environment_variables": {},
   "exception": null,
   "input_path": "/Users/sota/Library/CloudStorage/Dropbox/2 Business/1 Datons/2 Areas/Courses/22 TS/solutions-new/notebooks/10_Preprocessing & DataViz/1_Univariate/1.ipynb",
   "output_path": "/Users/sota/Library/CloudStorage/Dropbox/2 Business/1 Datons/2 Areas/Courses/22 TS/solutions-new/notebooks/10_Preprocessing & DataViz/1_Univariate/1.ipynb",
   "parameters": {},
   "start_time": "2024-05-29T22:25:08.750131",
   "version": "2.5.0"
  },
  "toc-autonumbering": true,
  "toc-showcode": false,
  "toc-showmarkdowntxt": false
 },
 "nbformat": 4,
 "nbformat_minor": 5
}
